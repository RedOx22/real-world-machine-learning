{
  "nbformat": 4,
  "nbformat_minor": 0,
  "metadata": {
    "colab": {
      "name": "Credit-Risk-Eda-Exercise.ipynb",
      "provenance": [],
      "collapsed_sections": [
        "I6NQ5elQizGq",
        "_wJl9duYjjRG",
        "Nkb9CwdtkFRw"
      ],
      "authorship_tag": "ABX9TyN7Wn1rzM+orJpiWSoCngH8",
      "include_colab_link": true
    },
    "kernelspec": {
      "name": "python3",
      "display_name": "Python 3"
    }
  },
  "cells": [
    {
      "cell_type": "markdown",
      "metadata": {
        "id": "view-in-github",
        "colab_type": "text"
      },
      "source": [
        "<a href=\"https://colab.research.google.com/github/thimotyb/real-world-machine-learning/blob/python3/Credit_Risk_Eda_Exercise.ipynb\" target=\"_parent\"><img src=\"https://colab.research.google.com/assets/colab-badge.svg\" alt=\"Open In Colab\"/></a>"
      ]
    },
    {
      "cell_type": "markdown",
      "metadata": {
        "id": "n8U95BNQdeQU"
      },
      "source": [
        "**Data**\n",
        "\n",
        "The data is provided by Home Credit, a service dedicated to provided lines of credit (loans) to the unbanked population. Predicting whether or not a client will repay a loan or have difficulty is a critical business need, and Home Credit is hosting this competition on Kaggle to see what sort of models the machine learning community can develop to help them in this task.\n",
        "\n",
        "There are 7 different sources of data:\n",
        "\n",
        "**application_train/application_test:** the main training and testing data with information about each loan application at Home Credit. Every loan has its own row and is identified by the feature SK_ID_CURR. The training application data comes with the TARGET indicating 0: the loan was repaid or 1: the loan was not repaid.\n",
        "\n",
        "bureau: data concerning client's previous credits from other financial institutions. Each previous credit has its own row in bureau, but one loan in the application data can have multiple previous credits.\n",
        "\n",
        "bureau_balance: monthly data about the previous credits in bureau. Each row is one month of a previous credit, and a single previous credit can have multiple rows, one for each month of the credit length.\n",
        "\n",
        "previous_application: previous applications for loans at Home Credit of clients who have loans in the application data. Each current loan in the application data can have multiple previous loans. Each previous application has one row and is ident\n",
        "ified by the feature SK_ID_PREV.\n",
        "\n",
        "POS_CASH_BALANCE: monthly data about previous point of sale or cash loans clients have had with Home Credit. Each row is one month of a previous point of sale or cash loan, and a single previous loan can have many rows.\n",
        "credit_card_balance: monthly data about previous credit cards clients have had with Home Credit. Each row is one month of a credit card balance, and a single credit card can have many rows.\n",
        "\n",
        "installments_payment: payment history for previous loans at Home Credit. There is one row for every made payment and one row for every missed payment."
      ]
    },
    {
      "cell_type": "markdown",
      "metadata": {
        "id": "snKz0wtHgiYW"
      },
      "source": [
        "<img src='http://wp.thimoty.it/wp-content/uploads/2020/10/home_credit.png'>"
      ]
    },
    {
      "cell_type": "markdown",
      "metadata": {
        "id": "p6qfkNh6gP82"
      },
      "source": [
        "Column Description File: [link text](http://wp.thimoty.it/wp-content/uploads/2020/10/HomeCredit_columns_description.csv [link text](https://))"
      ]
    },
    {
      "cell_type": "markdown",
      "metadata": {
        "id": "xdjGYepSg1a4"
      },
      "source": [
        "Application Train CSV File (Zipped): http://wp.thimoty.it/wp-content/uploads/2020/10/application_train.csv.zip"
      ]
    },
    {
      "cell_type": "markdown",
      "metadata": {
        "id": "pJsLSKyWhnkf"
      },
      "source": [
        "Bureau CSV File (Zipped): http://wp.thimoty.it/wp-content/uploads/2020/10/bureau.csv.zip"
      ]
    },
    {
      "cell_type": "markdown",
      "metadata": {
        "id": "N5GZfrKKhqTZ"
      },
      "source": [
        "Bureau Balance CSV File (Zipped):"
      ]
    },
    {
      "cell_type": "markdown",
      "metadata": {
        "id": "I6NQ5elQizGq"
      },
      "source": [
        "### Passo 1. Scaricare su file system locale e dezippare i file"
      ]
    },
    {
      "cell_type": "code",
      "metadata": {
        "id": "xuqL9KLxi4_E"
      },
      "source": [
        ""
      ],
      "execution_count": null,
      "outputs": []
    },
    {
      "cell_type": "markdown",
      "metadata": {
        "id": "ST8-Iqo6i6Gd"
      },
      "source": [
        "### Passo 2. Importare le librerie di analisi dati "
      ]
    },
    {
      "cell_type": "code",
      "metadata": {
        "id": "hZAL1yxrjOZm"
      },
      "source": [
        ""
      ],
      "execution_count": null,
      "outputs": []
    },
    {
      "cell_type": "markdown",
      "metadata": {
        "id": "8gwxltUajSc5"
      },
      "source": [
        "### Passo 3. Importare in pandas dataframe Application"
      ]
    },
    {
      "cell_type": "code",
      "metadata": {
        "id": "JINBTrIHjiYB"
      },
      "source": [
        ""
      ],
      "execution_count": null,
      "outputs": []
    },
    {
      "cell_type": "markdown",
      "metadata": {
        "id": "_wJl9duYjjRG"
      },
      "source": [
        "### Passo 4. Esaminare e plottare la distribuzione della variabile Target"
      ]
    },
    {
      "cell_type": "code",
      "metadata": {
        "id": "aEuxQSb_kENI"
      },
      "source": [
        ""
      ],
      "execution_count": null,
      "outputs": []
    },
    {
      "cell_type": "markdown",
      "metadata": {
        "id": "Nkb9CwdtkFRw"
      },
      "source": [
        "### Passo 5. Esaminare i valori mancanti di ciascuna colonna, contare i valori mancanti di ciascuna colonna e rappresentarne la percentuale rispetto ai valori validi"
      ]
    },
    {
      "cell_type": "code",
      "metadata": {
        "id": "S0McCFx0kVwO"
      },
      "source": [
        ""
      ],
      "execution_count": null,
      "outputs": []
    },
    {
      "cell_type": "markdown",
      "metadata": {
        "id": "MKuQbhq-kXAc"
      },
      "source": [
        "## Passo 6. Determinare i tipi delle colonne e contare i valori categorici unici presenti in ciascuna colonna"
      ]
    },
    {
      "cell_type": "code",
      "metadata": {
        "id": "bwxZfJzfkh6Q"
      },
      "source": [
        ""
      ],
      "execution_count": null,
      "outputs": []
    },
    {
      "cell_type": "markdown",
      "metadata": {
        "id": "_m79uWAPkjDN"
      },
      "source": [
        "# Passo 7. Codificare in One Hot Encoding i valori categorici. Valutare le mutate dimensioni del dataframe\n"
      ]
    },
    {
      "cell_type": "code",
      "metadata": {
        "id": "kJWUPpl7k7wl"
      },
      "source": [
        ""
      ],
      "execution_count": null,
      "outputs": []
    },
    {
      "cell_type": "markdown",
      "metadata": {
        "id": "K-MWtbuKk8zs"
      },
      "source": [
        "### Passo 8. Verificare la presenza di anomalie/outlier nei dati. Verificare DAYS_BIRTH e DAYS_EMPLOYED"
      ]
    },
    {
      "cell_type": "code",
      "metadata": {
        "id": "JUOjDyEflMxv"
      },
      "source": [
        ""
      ],
      "execution_count": null,
      "outputs": []
    },
    {
      "cell_type": "markdown",
      "metadata": {
        "id": "gjevFaXklOAV"
      },
      "source": [
        "### Passo 9. Usando la variabile target, valutare se le osservazioni anomale si distinguono nell'esito da quelle nominali"
      ]
    },
    {
      "cell_type": "code",
      "metadata": {
        "id": "zTVUn3PyliSN"
      },
      "source": [
        ""
      ],
      "execution_count": null,
      "outputs": []
    },
    {
      "cell_type": "markdown",
      "metadata": {
        "id": "46W923PJljlA"
      },
      "source": [
        "## Passo 10. Spostare i valori anomali in una colonna apposita, e ripulire le colonne DAYS_EMPLOYED anomale con Nan. Rivalutare la distribuzione di DAYS_EMPLOYED"
      ]
    },
    {
      "cell_type": "code",
      "metadata": {
        "id": "GjmEuwJlmCHQ"
      },
      "source": [
        ""
      ],
      "execution_count": null,
      "outputs": []
    },
    {
      "cell_type": "markdown",
      "metadata": {
        "id": "JLXrjzGdmCno"
      },
      "source": [
        "### Passo 11. Valutare le correlazioni di Pearson tra ciascuna caratteristica e la caratteristica target. Ordinarle in modo discendente."
      ]
    },
    {
      "cell_type": "code",
      "metadata": {
        "id": "TELxOXGcmJJQ"
      },
      "source": [
        ""
      ],
      "execution_count": null,
      "outputs": []
    },
    {
      "cell_type": "markdown",
      "metadata": {
        "id": "_FODNgxBmKDK"
      },
      "source": [
        "### Passo 12. Plottare le distribuzioni delle caratteristiche meglio correlate (almeno l'età del richiedente)"
      ]
    },
    {
      "cell_type": "code",
      "metadata": {
        "id": "fzfHCdVVmkoR"
      },
      "source": [
        ""
      ],
      "execution_count": null,
      "outputs": []
    },
    {
      "cell_type": "markdown",
      "metadata": {
        "id": "Xg-vUVfKmtEm"
      },
      "source": [
        "### Passo 13. Visualizzare con un diagramma a scelta la relazione tra il default nel rimborso del debito e l'età nei dati di train"
      ]
    },
    {
      "cell_type": "code",
      "metadata": {
        "id": "RSCb7OjsmzmC"
      },
      "source": [
        ""
      ],
      "execution_count": null,
      "outputs": []
    },
    {
      "cell_type": "markdown",
      "metadata": {
        "id": "L6UzAkH7m0sC"
      },
      "source": [
        "### Passo 14. Valutare le correlazioni con il target delle variabili EXT_SOURCE_x. Discutere con delle visualizzazioni (es. Density Plot, Heatmap)"
      ]
    },
    {
      "cell_type": "code",
      "metadata": {
        "id": "BhognIoTnDrq"
      },
      "source": [
        ""
      ],
      "execution_count": null,
      "outputs": []
    },
    {
      "cell_type": "markdown",
      "metadata": {
        "id": "I1lez-tmnH0-"
      },
      "source": [
        "### Passo 15. Effettuare la valutazione con un Pair Plot di Seaborn."
      ]
    },
    {
      "cell_type": "code",
      "metadata": {
        "id": "ugIk4P3_nL36"
      },
      "source": [
        ""
      ],
      "execution_count": null,
      "outputs": []
    },
    {
      "cell_type": "markdown",
      "metadata": {
        "id": "8qwHpIr7nStp"
      },
      "source": [
        "### Passo 16. Creare delle nuove caratteristiche tramite funzioni polinomiali, usando le caratteristiche EXT_SOURCE"
      ]
    },
    {
      "cell_type": "code",
      "metadata": {
        "id": "3UlpSTkMnY0P"
      },
      "source": [
        ""
      ],
      "execution_count": null,
      "outputs": []
    },
    {
      "cell_type": "markdown",
      "metadata": {
        "id": "GpabS702naFd"
      },
      "source": [
        "Passo 17. Creare delle nuove caratteristiche di \"Dominio Applicativo\", ad es. \n",
        "<ul>\n",
        "<li>CREDIT_INCOME_PERCENT: the percentage of the credit amount relative to a client's income\n",
        "<li>ANNUITY_INCOME_PERCENT: the percentage of the loan annuity relative to a client's income\n",
        "<li>CREDIT_TERM: the length of the payment in months (since the annuity is the monthly amount due\n",
        "<li>DAYS_EMPLOYED_PERCENT: the percentage of the days employed relative to the client's age\n",
        "</ul>"
      ]
    },
    {
      "cell_type": "markdown",
      "metadata": {
        "id": "7Bcd7VmVnxgD"
      },
      "source": [
        "## Passo 18. Visualizzare l'importanza delle nuove variabili rispetto al target (es. Density Plot)"
      ]
    },
    {
      "cell_type": "code",
      "metadata": {
        "id": "VLEAxyvon1mf"
      },
      "source": [
        ""
      ],
      "execution_count": null,
      "outputs": []
    }
  ]
}