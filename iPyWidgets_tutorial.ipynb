{
  "nbformat": 4,
  "nbformat_minor": 0,
  "metadata": {
    "colab": {
      "name": "iPyWidgets_tutorial.ipynb",
      "provenance": [],
      "authorship_tag": "ABX9TyNJB/Jf0p6T7sNY25DsE/j/",
      "include_colab_link": true
    },
    "kernelspec": {
      "name": "python3",
      "display_name": "Python 3"
    },
    "language_info": {
      "name": "python"
    },
    "widgets": {
      "application/vnd.jupyter.widget-state+json": {
        "d86dbc9d2b4d4d6394c520bdb332bc78": {
          "model_module": "@jupyter-widgets/controls",
          "model_name": "IntSliderModel",
          "state": {
            "_view_name": "IntSliderView",
            "style": "IPY_MODEL_701186b38d4d4ae68ead15a19e4f78f4",
            "_dom_classes": [],
            "description": "Slider:",
            "step": 1,
            "_model_name": "IntSliderModel",
            "orientation": "horizontal",
            "max": 10,
            "_view_module": "@jupyter-widgets/controls",
            "_model_module_version": "1.5.0",
            "value": 5,
            "_view_count": null,
            "disabled": false,
            "_view_module_version": "1.5.0",
            "min": 0,
            "continuous_update": true,
            "readout_format": "d",
            "description_tooltip": null,
            "readout": true,
            "_model_module": "@jupyter-widgets/controls",
            "layout": "IPY_MODEL_1a857efaac31430c983e8df5548a8d40"
          }
        },
        "701186b38d4d4ae68ead15a19e4f78f4": {
          "model_module": "@jupyter-widgets/controls",
          "model_name": "SliderStyleModel",
          "state": {
            "_view_name": "StyleView",
            "handle_color": null,
            "_model_name": "SliderStyleModel",
            "description_width": "",
            "_view_module": "@jupyter-widgets/base",
            "_model_module_version": "1.5.0",
            "_view_count": null,
            "_view_module_version": "1.2.0",
            "_model_module": "@jupyter-widgets/controls"
          }
        },
        "1a857efaac31430c983e8df5548a8d40": {
          "model_module": "@jupyter-widgets/base",
          "model_name": "LayoutModel",
          "state": {
            "_view_name": "LayoutView",
            "grid_template_rows": null,
            "right": null,
            "justify_content": null,
            "_view_module": "@jupyter-widgets/base",
            "overflow": null,
            "_model_module_version": "1.2.0",
            "_view_count": null,
            "flex_flow": null,
            "width": null,
            "min_width": null,
            "border": null,
            "align_items": null,
            "bottom": null,
            "_model_module": "@jupyter-widgets/base",
            "top": null,
            "grid_column": null,
            "overflow_y": null,
            "overflow_x": null,
            "grid_auto_flow": null,
            "grid_area": null,
            "grid_template_columns": null,
            "flex": null,
            "_model_name": "LayoutModel",
            "justify_items": null,
            "grid_row": null,
            "max_height": null,
            "align_content": null,
            "visibility": null,
            "align_self": null,
            "height": null,
            "min_height": null,
            "padding": null,
            "grid_auto_rows": null,
            "grid_gap": null,
            "max_width": null,
            "order": null,
            "_view_module_version": "1.2.0",
            "grid_template_areas": null,
            "object_position": null,
            "object_fit": null,
            "grid_auto_columns": null,
            "margin": null,
            "display": null,
            "left": null
          }
        },
        "885f0681700943ff815dfacc2def9c90": {
          "model_module": "@jupyter-widgets/controls",
          "model_name": "IntSliderModel",
          "state": {
            "_view_name": "IntSliderView",
            "style": "IPY_MODEL_0cb6cb571fb648d1aa1dd59b909d096e",
            "_dom_classes": [],
            "description": "",
            "step": 1,
            "_model_name": "IntSliderModel",
            "orientation": "horizontal",
            "max": 100,
            "_view_module": "@jupyter-widgets/controls",
            "_model_module_version": "1.5.0",
            "value": 1,
            "_view_count": null,
            "disabled": false,
            "_view_module_version": "1.5.0",
            "min": 0,
            "continuous_update": true,
            "readout_format": "d",
            "description_tooltip": null,
            "readout": true,
            "_model_module": "@jupyter-widgets/controls",
            "layout": "IPY_MODEL_1f3c7955cde64b63ac11eee458f71e8a"
          }
        },
        "0cb6cb571fb648d1aa1dd59b909d096e": {
          "model_module": "@jupyter-widgets/controls",
          "model_name": "SliderStyleModel",
          "state": {
            "_view_name": "StyleView",
            "handle_color": null,
            "_model_name": "SliderStyleModel",
            "description_width": "",
            "_view_module": "@jupyter-widgets/base",
            "_model_module_version": "1.5.0",
            "_view_count": null,
            "_view_module_version": "1.2.0",
            "_model_module": "@jupyter-widgets/controls"
          }
        },
        "1f3c7955cde64b63ac11eee458f71e8a": {
          "model_module": "@jupyter-widgets/base",
          "model_name": "LayoutModel",
          "state": {
            "_view_name": "LayoutView",
            "grid_template_rows": null,
            "right": null,
            "justify_content": null,
            "_view_module": "@jupyter-widgets/base",
            "overflow": null,
            "_model_module_version": "1.2.0",
            "_view_count": null,
            "flex_flow": null,
            "width": null,
            "min_width": null,
            "border": null,
            "align_items": null,
            "bottom": null,
            "_model_module": "@jupyter-widgets/base",
            "top": null,
            "grid_column": null,
            "overflow_y": null,
            "overflow_x": null,
            "grid_auto_flow": null,
            "grid_area": null,
            "grid_template_columns": null,
            "flex": null,
            "_model_name": "LayoutModel",
            "justify_items": null,
            "grid_row": null,
            "max_height": null,
            "align_content": null,
            "visibility": null,
            "align_self": null,
            "height": null,
            "min_height": null,
            "padding": null,
            "grid_auto_rows": null,
            "grid_gap": null,
            "max_width": null,
            "order": null,
            "_view_module_version": "1.2.0",
            "grid_template_areas": null,
            "object_position": null,
            "object_fit": null,
            "grid_auto_columns": null,
            "margin": null,
            "display": null,
            "left": null
          }
        },
        "e34b567e6efe4b0d92d643a16a373397": {
          "model_module": "@jupyter-widgets/controls",
          "model_name": "IntSliderModel",
          "state": {
            "_view_name": "IntSliderView",
            "style": "IPY_MODEL_d14586fb76cb4b8a976d41945bf13fc4",
            "_dom_classes": [],
            "description": "",
            "step": 1,
            "_model_name": "IntSliderModel",
            "orientation": "horizontal",
            "max": 100,
            "_view_module": "@jupyter-widgets/controls",
            "_model_module_version": "1.5.0",
            "value": 36,
            "_view_count": null,
            "disabled": false,
            "_view_module_version": "1.5.0",
            "min": 0,
            "continuous_update": true,
            "readout_format": "d",
            "description_tooltip": null,
            "readout": true,
            "_model_module": "@jupyter-widgets/controls",
            "layout": "IPY_MODEL_0ba8647675d74ee3a6636f295c806374"
          }
        },
        "d14586fb76cb4b8a976d41945bf13fc4": {
          "model_module": "@jupyter-widgets/controls",
          "model_name": "SliderStyleModel",
          "state": {
            "_view_name": "StyleView",
            "handle_color": null,
            "_model_name": "SliderStyleModel",
            "description_width": "",
            "_view_module": "@jupyter-widgets/base",
            "_model_module_version": "1.5.0",
            "_view_count": null,
            "_view_module_version": "1.2.0",
            "_model_module": "@jupyter-widgets/controls"
          }
        },
        "0ba8647675d74ee3a6636f295c806374": {
          "model_module": "@jupyter-widgets/base",
          "model_name": "LayoutModel",
          "state": {
            "_view_name": "LayoutView",
            "grid_template_rows": null,
            "right": null,
            "justify_content": null,
            "_view_module": "@jupyter-widgets/base",
            "overflow": null,
            "_model_module_version": "1.2.0",
            "_view_count": null,
            "flex_flow": null,
            "width": null,
            "min_width": null,
            "border": null,
            "align_items": null,
            "bottom": null,
            "_model_module": "@jupyter-widgets/base",
            "top": null,
            "grid_column": null,
            "overflow_y": null,
            "overflow_x": null,
            "grid_auto_flow": null,
            "grid_area": null,
            "grid_template_columns": null,
            "flex": null,
            "_model_name": "LayoutModel",
            "justify_items": null,
            "grid_row": null,
            "max_height": null,
            "align_content": null,
            "visibility": null,
            "align_self": null,
            "height": null,
            "min_height": null,
            "padding": null,
            "grid_auto_rows": null,
            "grid_gap": null,
            "max_width": null,
            "order": null,
            "_view_module_version": "1.2.0",
            "grid_template_areas": null,
            "object_position": null,
            "object_fit": null,
            "grid_auto_columns": null,
            "margin": null,
            "display": null,
            "left": null
          }
        },
        "335f3417365940ba8a7fb6b0f820967e": {
          "model_module": "@jupyter-widgets/controls",
          "model_name": "IntTextModel",
          "state": {
            "_view_name": "IntTextView",
            "style": "IPY_MODEL_520a75dd0f1a48168f7cd0ad53b1b53b",
            "_dom_classes": [],
            "description": "",
            "_model_name": "IntTextModel",
            "_view_module": "@jupyter-widgets/controls",
            "_model_module_version": "1.5.0",
            "value": 36,
            "_view_count": null,
            "disabled": false,
            "_view_module_version": "1.5.0",
            "continuous_update": false,
            "step": 1,
            "description_tooltip": null,
            "_model_module": "@jupyter-widgets/controls",
            "layout": "IPY_MODEL_058d35c8d40c42c29e93c0f87ed48b51"
          }
        },
        "520a75dd0f1a48168f7cd0ad53b1b53b": {
          "model_module": "@jupyter-widgets/controls",
          "model_name": "DescriptionStyleModel",
          "state": {
            "_view_name": "StyleView",
            "_model_name": "DescriptionStyleModel",
            "description_width": "",
            "_view_module": "@jupyter-widgets/base",
            "_model_module_version": "1.5.0",
            "_view_count": null,
            "_view_module_version": "1.2.0",
            "_model_module": "@jupyter-widgets/controls"
          }
        },
        "058d35c8d40c42c29e93c0f87ed48b51": {
          "model_module": "@jupyter-widgets/base",
          "model_name": "LayoutModel",
          "state": {
            "_view_name": "LayoutView",
            "grid_template_rows": null,
            "right": null,
            "justify_content": null,
            "_view_module": "@jupyter-widgets/base",
            "overflow": null,
            "_model_module_version": "1.2.0",
            "_view_count": null,
            "flex_flow": null,
            "width": null,
            "min_width": null,
            "border": null,
            "align_items": null,
            "bottom": null,
            "_model_module": "@jupyter-widgets/base",
            "top": null,
            "grid_column": null,
            "overflow_y": null,
            "overflow_x": null,
            "grid_auto_flow": null,
            "grid_area": null,
            "grid_template_columns": null,
            "flex": null,
            "_model_name": "LayoutModel",
            "justify_items": null,
            "grid_row": null,
            "max_height": null,
            "align_content": null,
            "visibility": null,
            "align_self": null,
            "height": null,
            "min_height": null,
            "padding": null,
            "grid_auto_rows": null,
            "grid_gap": null,
            "max_width": null,
            "order": null,
            "_view_module_version": "1.2.0",
            "grid_template_areas": null,
            "object_position": null,
            "object_fit": null,
            "grid_auto_columns": null,
            "margin": null,
            "display": null,
            "left": null
          }
        },
        "58b1545d755f491abb89293584fea7c6": {
          "model_module": "@jupyter-widgets/controls",
          "model_name": "ButtonModel",
          "state": {
            "_view_name": "ButtonView",
            "style": "IPY_MODEL_fb31d853e89645508edf98de3094e02a",
            "_dom_classes": [],
            "description": "Medium",
            "_model_name": "ButtonModel",
            "button_style": "",
            "_view_module": "@jupyter-widgets/controls",
            "_model_module_version": "1.5.0",
            "tooltip": "",
            "_view_count": null,
            "disabled": false,
            "_view_module_version": "1.5.0",
            "layout": "IPY_MODEL_38bc04387d234cbfbe177c781f94c8f3",
            "_model_module": "@jupyter-widgets/controls",
            "icon": ""
          }
        },
        "fb31d853e89645508edf98de3094e02a": {
          "model_module": "@jupyter-widgets/controls",
          "model_name": "ButtonStyleModel",
          "state": {
            "_view_name": "StyleView",
            "_model_name": "ButtonStyleModel",
            "_view_module": "@jupyter-widgets/base",
            "_model_module_version": "1.5.0",
            "_view_count": null,
            "button_color": null,
            "font_weight": "",
            "_view_module_version": "1.2.0",
            "_model_module": "@jupyter-widgets/controls"
          }
        },
        "38bc04387d234cbfbe177c781f94c8f3": {
          "model_module": "@jupyter-widgets/base",
          "model_name": "LayoutModel",
          "state": {
            "_view_name": "LayoutView",
            "grid_template_rows": null,
            "right": null,
            "justify_content": null,
            "_view_module": "@jupyter-widgets/base",
            "overflow": null,
            "_model_module_version": "1.2.0",
            "_view_count": null,
            "flex_flow": null,
            "width": null,
            "min_width": null,
            "border": null,
            "align_items": null,
            "bottom": null,
            "_model_module": "@jupyter-widgets/base",
            "top": null,
            "grid_column": null,
            "overflow_y": null,
            "overflow_x": null,
            "grid_auto_flow": null,
            "grid_area": null,
            "grid_template_columns": null,
            "flex": null,
            "_model_name": "LayoutModel",
            "justify_items": null,
            "grid_row": null,
            "max_height": null,
            "align_content": null,
            "visibility": null,
            "align_self": null,
            "height": null,
            "min_height": null,
            "padding": null,
            "grid_auto_rows": null,
            "grid_gap": null,
            "max_width": null,
            "order": null,
            "_view_module_version": "1.2.0",
            "grid_template_areas": null,
            "object_position": null,
            "object_fit": null,
            "grid_auto_columns": null,
            "margin": null,
            "display": null,
            "left": null
          }
        },
        "11f616d29f30403e8228d49897536af2": {
          "model_module": "@jupyter-widgets/controls",
          "model_name": "DropdownModel",
          "state": {
            "_options_labels": [
              "ALL",
              "2002",
              "2003",
              "2004",
              "2005",
              "2006",
              "2007",
              "2008",
              "2009",
              "2010",
              "2011",
              "2012",
              "2013",
              "2014",
              "2015",
              "2016",
              "2017",
              "2018",
              "2019",
              "2020P"
            ],
            "_view_name": "DropdownView",
            "style": "IPY_MODEL_64b2c60a71b749b5a30a8ab7929fc159",
            "_dom_classes": [],
            "description": "",
            "_model_name": "DropdownModel",
            "index": 4,
            "_view_module": "@jupyter-widgets/controls",
            "_model_module_version": "1.5.0",
            "_view_count": null,
            "disabled": false,
            "_view_module_version": "1.5.0",
            "description_tooltip": null,
            "_model_module": "@jupyter-widgets/controls",
            "layout": "IPY_MODEL_eade5f600fef45cdb9b2d46416d46422"
          }
        },
        "64b2c60a71b749b5a30a8ab7929fc159": {
          "model_module": "@jupyter-widgets/controls",
          "model_name": "DescriptionStyleModel",
          "state": {
            "_view_name": "StyleView",
            "_model_name": "DescriptionStyleModel",
            "description_width": "",
            "_view_module": "@jupyter-widgets/base",
            "_model_module_version": "1.5.0",
            "_view_count": null,
            "_view_module_version": "1.2.0",
            "_model_module": "@jupyter-widgets/controls"
          }
        },
        "eade5f600fef45cdb9b2d46416d46422": {
          "model_module": "@jupyter-widgets/base",
          "model_name": "LayoutModel",
          "state": {
            "_view_name": "LayoutView",
            "grid_template_rows": null,
            "right": null,
            "justify_content": null,
            "_view_module": "@jupyter-widgets/base",
            "overflow": null,
            "_model_module_version": "1.2.0",
            "_view_count": null,
            "flex_flow": null,
            "width": null,
            "min_width": null,
            "border": null,
            "align_items": null,
            "bottom": null,
            "_model_module": "@jupyter-widgets/base",
            "top": null,
            "grid_column": null,
            "overflow_y": null,
            "overflow_x": null,
            "grid_auto_flow": null,
            "grid_area": null,
            "grid_template_columns": null,
            "flex": null,
            "_model_name": "LayoutModel",
            "justify_items": null,
            "grid_row": null,
            "max_height": null,
            "align_content": null,
            "visibility": null,
            "align_self": null,
            "height": null,
            "min_height": null,
            "padding": null,
            "grid_auto_rows": null,
            "grid_gap": null,
            "max_width": null,
            "order": null,
            "_view_module_version": "1.2.0",
            "grid_template_areas": null,
            "object_position": null,
            "object_fit": null,
            "grid_auto_columns": null,
            "margin": null,
            "display": null,
            "left": null
          }
        }
      }
    }
  },
  "cells": [
    {
      "cell_type": "markdown",
      "metadata": {
        "id": "view-in-github",
        "colab_type": "text"
      },
      "source": [
        "<a href=\"https://colab.research.google.com/github/thimotyb/real-world-machine-learning/blob/master/iPyWidgets_tutorial.ipynb\" target=\"_parent\"><img src=\"https://colab.research.google.com/assets/colab-badge.svg\" alt=\"Open In Colab\"/></a>"
      ]
    },
    {
      "cell_type": "markdown",
      "metadata": {
        "id": "Rh4Mx90mwVIQ"
      },
      "source": [
        "# iPyWidgets\n",
        "\n",
        "Sources:\n",
        "\n",
        "\n",
        "1.   https://ipywidgets.readthedocs.io/en/latest/examples/Widget%20Basics.html\n",
        "2.   https://towardsdatascience.com/bring-your-jupyter-notebook-to-life-with-interactive-widgets-bc12e03f0916\n",
        "\n",
        "\n",
        "\n"
      ]
    },
    {
      "cell_type": "code",
      "metadata": {
        "colab": {
          "base_uri": "https://localhost:8080/"
        },
        "id": "2fi__-FJwQbB",
        "outputId": "eab6e1fe-205e-40e6-acdd-11abfff3cc2f"
      },
      "source": [
        "!pip install ipywidgets\n",
        "!jupyter nbextension enable --py widgetsnbextension"
      ],
      "execution_count": 1,
      "outputs": [
        {
          "output_type": "stream",
          "text": [
            "Requirement already satisfied: ipywidgets in /usr/local/lib/python3.7/dist-packages (7.6.3)\n",
            "Requirement already satisfied: nbformat>=4.2.0 in /usr/local/lib/python3.7/dist-packages (from ipywidgets) (5.1.3)\n",
            "Requirement already satisfied: ipython>=4.0.0; python_version >= \"3.3\" in /usr/local/lib/python3.7/dist-packages (from ipywidgets) (5.5.0)\n",
            "Requirement already satisfied: traitlets>=4.3.1 in /usr/local/lib/python3.7/dist-packages (from ipywidgets) (5.0.5)\n",
            "Requirement already satisfied: ipykernel>=4.5.1 in /usr/local/lib/python3.7/dist-packages (from ipywidgets) (4.10.1)\n",
            "Requirement already satisfied: widgetsnbextension~=3.5.0 in /usr/local/lib/python3.7/dist-packages (from ipywidgets) (3.5.1)\n",
            "Requirement already satisfied: jupyterlab-widgets>=1.0.0; python_version >= \"3.6\" in /usr/local/lib/python3.7/dist-packages (from ipywidgets) (1.0.0)\n",
            "Requirement already satisfied: jsonschema!=2.5.0,>=2.4 in /usr/local/lib/python3.7/dist-packages (from nbformat>=4.2.0->ipywidgets) (2.6.0)\n",
            "Requirement already satisfied: ipython-genutils in /usr/local/lib/python3.7/dist-packages (from nbformat>=4.2.0->ipywidgets) (0.2.0)\n",
            "Requirement already satisfied: jupyter-core in /usr/local/lib/python3.7/dist-packages (from nbformat>=4.2.0->ipywidgets) (4.7.1)\n",
            "Requirement already satisfied: pickleshare in /usr/local/lib/python3.7/dist-packages (from ipython>=4.0.0; python_version >= \"3.3\"->ipywidgets) (0.7.5)\n",
            "Requirement already satisfied: setuptools>=18.5 in /usr/local/lib/python3.7/dist-packages (from ipython>=4.0.0; python_version >= \"3.3\"->ipywidgets) (57.0.0)\n",
            "Requirement already satisfied: pexpect; sys_platform != \"win32\" in /usr/local/lib/python3.7/dist-packages (from ipython>=4.0.0; python_version >= \"3.3\"->ipywidgets) (4.8.0)\n",
            "Requirement already satisfied: pygments in /usr/local/lib/python3.7/dist-packages (from ipython>=4.0.0; python_version >= \"3.3\"->ipywidgets) (2.6.1)\n",
            "Requirement already satisfied: decorator in /usr/local/lib/python3.7/dist-packages (from ipython>=4.0.0; python_version >= \"3.3\"->ipywidgets) (4.4.2)\n",
            "Requirement already satisfied: simplegeneric>0.8 in /usr/local/lib/python3.7/dist-packages (from ipython>=4.0.0; python_version >= \"3.3\"->ipywidgets) (0.8.1)\n",
            "Requirement already satisfied: prompt-toolkit<2.0.0,>=1.0.4 in /usr/local/lib/python3.7/dist-packages (from ipython>=4.0.0; python_version >= \"3.3\"->ipywidgets) (1.0.18)\n",
            "Requirement already satisfied: jupyter-client in /usr/local/lib/python3.7/dist-packages (from ipykernel>=4.5.1->ipywidgets) (5.3.5)\n",
            "Requirement already satisfied: tornado>=4.0 in /usr/local/lib/python3.7/dist-packages (from ipykernel>=4.5.1->ipywidgets) (5.1.1)\n",
            "Requirement already satisfied: notebook>=4.4.1 in /usr/local/lib/python3.7/dist-packages (from widgetsnbextension~=3.5.0->ipywidgets) (5.3.1)\n",
            "Requirement already satisfied: ptyprocess>=0.5 in /usr/local/lib/python3.7/dist-packages (from pexpect; sys_platform != \"win32\"->ipython>=4.0.0; python_version >= \"3.3\"->ipywidgets) (0.7.0)\n",
            "Requirement already satisfied: wcwidth in /usr/local/lib/python3.7/dist-packages (from prompt-toolkit<2.0.0,>=1.0.4->ipython>=4.0.0; python_version >= \"3.3\"->ipywidgets) (0.2.5)\n",
            "Requirement already satisfied: six>=1.9.0 in /usr/local/lib/python3.7/dist-packages (from prompt-toolkit<2.0.0,>=1.0.4->ipython>=4.0.0; python_version >= \"3.3\"->ipywidgets) (1.15.0)\n",
            "Requirement already satisfied: python-dateutil>=2.1 in /usr/local/lib/python3.7/dist-packages (from jupyter-client->ipykernel>=4.5.1->ipywidgets) (2.8.1)\n",
            "Requirement already satisfied: pyzmq>=13 in /usr/local/lib/python3.7/dist-packages (from jupyter-client->ipykernel>=4.5.1->ipywidgets) (22.1.0)\n",
            "Requirement already satisfied: nbconvert in /usr/local/lib/python3.7/dist-packages (from notebook>=4.4.1->widgetsnbextension~=3.5.0->ipywidgets) (5.6.1)\n",
            "Requirement already satisfied: jinja2 in /usr/local/lib/python3.7/dist-packages (from notebook>=4.4.1->widgetsnbextension~=3.5.0->ipywidgets) (2.11.3)\n",
            "Requirement already satisfied: Send2Trash in /usr/local/lib/python3.7/dist-packages (from notebook>=4.4.1->widgetsnbextension~=3.5.0->ipywidgets) (1.5.0)\n",
            "Requirement already satisfied: terminado>=0.8.1 in /usr/local/lib/python3.7/dist-packages (from notebook>=4.4.1->widgetsnbextension~=3.5.0->ipywidgets) (0.10.1)\n",
            "Requirement already satisfied: bleach in /usr/local/lib/python3.7/dist-packages (from nbconvert->notebook>=4.4.1->widgetsnbextension~=3.5.0->ipywidgets) (3.3.0)\n",
            "Requirement already satisfied: mistune<2,>=0.8.1 in /usr/local/lib/python3.7/dist-packages (from nbconvert->notebook>=4.4.1->widgetsnbextension~=3.5.0->ipywidgets) (0.8.4)\n",
            "Requirement already satisfied: pandocfilters>=1.4.1 in /usr/local/lib/python3.7/dist-packages (from nbconvert->notebook>=4.4.1->widgetsnbextension~=3.5.0->ipywidgets) (1.4.3)\n",
            "Requirement already satisfied: testpath in /usr/local/lib/python3.7/dist-packages (from nbconvert->notebook>=4.4.1->widgetsnbextension~=3.5.0->ipywidgets) (0.5.0)\n",
            "Requirement already satisfied: entrypoints>=0.2.2 in /usr/local/lib/python3.7/dist-packages (from nbconvert->notebook>=4.4.1->widgetsnbextension~=3.5.0->ipywidgets) (0.3)\n",
            "Requirement already satisfied: defusedxml in /usr/local/lib/python3.7/dist-packages (from nbconvert->notebook>=4.4.1->widgetsnbextension~=3.5.0->ipywidgets) (0.7.1)\n",
            "Requirement already satisfied: MarkupSafe>=0.23 in /usr/local/lib/python3.7/dist-packages (from jinja2->notebook>=4.4.1->widgetsnbextension~=3.5.0->ipywidgets) (2.0.1)\n",
            "Requirement already satisfied: webencodings in /usr/local/lib/python3.7/dist-packages (from bleach->nbconvert->notebook>=4.4.1->widgetsnbextension~=3.5.0->ipywidgets) (0.5.1)\n",
            "Requirement already satisfied: packaging in /usr/local/lib/python3.7/dist-packages (from bleach->nbconvert->notebook>=4.4.1->widgetsnbextension~=3.5.0->ipywidgets) (20.9)\n",
            "Requirement already satisfied: pyparsing>=2.0.2 in /usr/local/lib/python3.7/dist-packages (from packaging->bleach->nbconvert->notebook>=4.4.1->widgetsnbextension~=3.5.0->ipywidgets) (2.4.7)\n",
            "Enabling notebook extension jupyter-js-widgets/extension...\n",
            "      - Validating: \u001b[32mOK\u001b[0m\n"
          ],
          "name": "stdout"
        }
      ]
    },
    {
      "cell_type": "code",
      "metadata": {
        "id": "hVFC2pjS1icC"
      },
      "source": [
        "import ipywidgets as widgets"
      ],
      "execution_count": 2,
      "outputs": []
    },
    {
      "cell_type": "code",
      "metadata": {
        "colab": {
          "base_uri": "https://localhost:8080/",
          "height": 49,
          "referenced_widgets": [
            "d86dbc9d2b4d4d6394c520bdb332bc78",
            "701186b38d4d4ae68ead15a19e4f78f4",
            "1a857efaac31430c983e8df5548a8d40"
          ]
        },
        "id": "06D_kpjq1mxA",
        "outputId": "7ac5ea72-ff93-4a31-ad22-e67f368d99ad"
      },
      "source": [
        "widgets.IntSlider(\n",
        "    min=0,\n",
        "    max=10,\n",
        "    step=1,\n",
        "    description='Slider:',\n",
        "    value=3\n",
        ")"
      ],
      "execution_count": 3,
      "outputs": [
        {
          "output_type": "display_data",
          "data": {
            "application/vnd.jupyter.widget-view+json": {
              "model_id": "d86dbc9d2b4d4d6394c520bdb332bc78",
              "version_minor": 0,
              "version_major": 2
            },
            "text/plain": [
              "IntSlider(value=3, description='Slider:', max=10)"
            ]
          },
          "metadata": {
            "tags": []
          }
        }
      ]
    },
    {
      "cell_type": "code",
      "metadata": {
        "id": "A9nKXTbu1ow0"
      },
      "source": [
        "from IPython.display import display"
      ],
      "execution_count": 4,
      "outputs": []
    },
    {
      "cell_type": "code",
      "metadata": {
        "colab": {
          "base_uri": "https://localhost:8080/",
          "height": 49,
          "referenced_widgets": [
            "885f0681700943ff815dfacc2def9c90",
            "0cb6cb571fb648d1aa1dd59b909d096e",
            "1f3c7955cde64b63ac11eee458f71e8a"
          ]
        },
        "id": "O2xXBY261vJV",
        "outputId": "b8360cef-6be8-4968-fb4d-257acdde79d0"
      },
      "source": [
        "slider = widgets.IntSlider()\n",
        "display(slider)"
      ],
      "execution_count": 5,
      "outputs": [
        {
          "output_type": "display_data",
          "data": {
            "application/vnd.jupyter.widget-view+json": {
              "model_id": "885f0681700943ff815dfacc2def9c90",
              "version_minor": 0,
              "version_major": 2
            },
            "text/plain": [
              "IntSlider(value=0)"
            ]
          },
          "metadata": {
            "tags": []
          }
        }
      ]
    },
    {
      "cell_type": "code",
      "metadata": {
        "colab": {
          "base_uri": "https://localhost:8080/",
          "height": 96,
          "referenced_widgets": [
            "e34b567e6efe4b0d92d643a16a373397",
            "d14586fb76cb4b8a976d41945bf13fc4",
            "0ba8647675d74ee3a6636f295c806374",
            "335f3417365940ba8a7fb6b0f820967e",
            "520a75dd0f1a48168f7cd0ad53b1b53b",
            "058d35c8d40c42c29e93c0f87ed48b51"
          ]
        },
        "id": "U-l-j1-w1w4D",
        "outputId": "731e3160-e73e-4108-ab98-71c5e1fd2fe8"
      },
      "source": [
        "# Linking two widgets\n",
        "slider = widgets.IntSlider()\n",
        "text = widgets.IntText()\n",
        "display(slider, text)\n",
        "widgets.link((slider, 'value'), (text, 'value'))"
      ],
      "execution_count": 8,
      "outputs": [
        {
          "output_type": "display_data",
          "data": {
            "application/vnd.jupyter.widget-view+json": {
              "model_id": "e34b567e6efe4b0d92d643a16a373397",
              "version_minor": 0,
              "version_major": 2
            },
            "text/plain": [
              "IntSlider(value=0)"
            ]
          },
          "metadata": {
            "tags": []
          }
        },
        {
          "output_type": "display_data",
          "data": {
            "application/vnd.jupyter.widget-view+json": {
              "model_id": "335f3417365940ba8a7fb6b0f820967e",
              "version_minor": 0,
              "version_major": 2
            },
            "text/plain": [
              "IntText(value=0)"
            ]
          },
          "metadata": {
            "tags": []
          }
        },
        {
          "output_type": "execute_result",
          "data": {
            "text/plain": [
              "<traitlets.traitlets.link at 0x7fd824e3ec50>"
            ]
          },
          "metadata": {
            "tags": []
          },
          "execution_count": 8
        }
      ]
    },
    {
      "cell_type": "code",
      "metadata": {
        "colab": {
          "base_uri": "https://localhost:8080/"
        },
        "id": "5bmkiYVw12E2",
        "outputId": "2cd00298-b532-4db4-9ce6-43e762aa20a7"
      },
      "source": [
        "# Widget list\n",
        "print(dir(widgets))"
      ],
      "execution_count": 9,
      "outputs": [
        {
          "output_type": "stream",
          "text": [
            "['Accordion', 'AppLayout', 'Audio', 'BoundedFloatText', 'BoundedIntText', 'Box', 'Button', 'ButtonStyle', 'CallbackDispatcher', 'Checkbox', 'Color', 'ColorPicker', 'Combobox', 'Controller', 'CoreWidget', 'DOMWidget', 'DatePicker', 'Datetime', 'Dropdown', 'FileUpload', 'FloatLogSlider', 'FloatProgress', 'FloatRangeSlider', 'FloatSlider', 'FloatText', 'GridBox', 'GridspecLayout', 'HBox', 'HTML', 'HTMLMath', 'Image', 'IntProgress', 'IntRangeSlider', 'IntSlider', 'IntText', 'Label', 'Layout', 'NumberFormat', 'Output', 'Password', 'Play', 'RadioButtons', 'Select', 'SelectMultiple', 'SelectionRangeSlider', 'SelectionSlider', 'SliderStyle', 'Style', 'Tab', 'Text', 'Textarea', 'ToggleButton', 'ToggleButtons', 'ToggleButtonsStyle', 'TwoByTwoLayout', 'VBox', 'Valid', 'ValueWidget', 'Video', 'Widget', '__builtins__', '__cached__', '__doc__', '__file__', '__jupyter_widgets_base_version__', '__jupyter_widgets_controls_version__', '__loader__', '__name__', '__package__', '__path__', '__protocol_version__', '__spec__', '__version__', '_handle_ipython', '_version', 'dlink', 'docutils', 'domwidget', 'fixed', 'get_ipython', 'handle_kernel', 'interact', 'interact_manual', 'interaction', 'interactive', 'interactive_output', 'jsdlink', 'jslink', 'link', 'load_ipython_extension', 'os', 'register', 'register_comm_target', 'trait_types', 'util', 'valuewidget', 'version_info', 'widget', 'widget_bool', 'widget_box', 'widget_button', 'widget_color', 'widget_controller', 'widget_core', 'widget_date', 'widget_description', 'widget_float', 'widget_int', 'widget_layout', 'widget_link', 'widget_media', 'widget_output', 'widget_selection', 'widget_selectioncontainer', 'widget_serialization', 'widget_string', 'widget_style', 'widget_templates', 'widget_upload', 'widgets']\n"
          ],
          "name": "stdout"
        }
      ]
    },
    {
      "cell_type": "code",
      "metadata": {
        "colab": {
          "base_uri": "https://localhost:8080/",
          "height": 101,
          "referenced_widgets": [
            "58b1545d755f491abb89293584fea7c6",
            "fb31d853e89645508edf98de3094e02a",
            "38bc04387d234cbfbe177c781f94c8f3"
          ]
        },
        "id": "PwSiVSp72OBR",
        "outputId": "efa8bc0c-7264-4acc-9628-5242fa10c51f"
      },
      "source": [
        "# Handling Events with widgets, output in the same cell\n",
        "btn = widgets.Button(description='Medium')\n",
        "display(btn)\n",
        "def btn_eventhandler(obj):\n",
        "    print('Hello from the {} button!'.format(obj.description))\n",
        "btn.on_click(btn_eventhandler)"
      ],
      "execution_count": 10,
      "outputs": [
        {
          "output_type": "display_data",
          "data": {
            "application/vnd.jupyter.widget-view+json": {
              "model_id": "58b1545d755f491abb89293584fea7c6",
              "version_minor": 0,
              "version_major": 2
            },
            "text/plain": [
              "Button(description='Medium', style=ButtonStyle())"
            ]
          },
          "metadata": {
            "tags": []
          }
        },
        {
          "output_type": "stream",
          "text": [
            "Hello from the Medium button!\n",
            "Hello from the Medium button!\n",
            "Hello from the Medium button!\n"
          ],
          "name": "stdout"
        }
      ]
    },
    {
      "cell_type": "code",
      "metadata": {
        "id": "un903Ubd2kPM"
      },
      "source": [
        "# Controlling Widget Output\n",
        "import pandas as pd\n",
        "import numpy as np\n",
        "url = \"https://data.london.gov.uk/download/number-international-visitors-london/b1e0f953-4c8a-4b45-95f5-e0d143d5641e/international-visitors-london-raw.csv\"\n",
        "df_london = pd.read_csv(url, encoding= 'unicode_escape')"
      ],
      "execution_count": 12,
      "outputs": []
    },
    {
      "cell_type": "code",
      "metadata": {
        "colab": {
          "base_uri": "https://localhost:8080/",
          "height": 423
        },
        "id": "d_qkNOmH2yMV",
        "outputId": "94daba3f-c6fa-4386-cc67-5d92524732d4"
      },
      "source": [
        "df_london"
      ],
      "execution_count": 13,
      "outputs": [
        {
          "output_type": "execute_result",
          "data": {
            "text/html": [
              "<div>\n",
              "<style scoped>\n",
              "    .dataframe tbody tr th:only-of-type {\n",
              "        vertical-align: middle;\n",
              "    }\n",
              "\n",
              "    .dataframe tbody tr th {\n",
              "        vertical-align: top;\n",
              "    }\n",
              "\n",
              "    .dataframe thead th {\n",
              "        text-align: right;\n",
              "    }\n",
              "</style>\n",
              "<table border=\"1\" class=\"dataframe\">\n",
              "  <thead>\n",
              "    <tr style=\"text-align: right;\">\n",
              "      <th></th>\n",
              "      <th>year</th>\n",
              "      <th>quarter</th>\n",
              "      <th>market</th>\n",
              "      <th>dur_stay</th>\n",
              "      <th>mode</th>\n",
              "      <th>purpose</th>\n",
              "      <th>area</th>\n",
              "      <th>Visits (000s)</th>\n",
              "      <th>Spend (£m)</th>\n",
              "      <th>Nights (000s)</th>\n",
              "      <th>sample</th>\n",
              "    </tr>\n",
              "  </thead>\n",
              "  <tbody>\n",
              "    <tr>\n",
              "      <th>0</th>\n",
              "      <td>2002</td>\n",
              "      <td>January-March</td>\n",
              "      <td>Belgium</td>\n",
              "      <td>1-3  nights</td>\n",
              "      <td>Air</td>\n",
              "      <td>Holiday</td>\n",
              "      <td>LONDON</td>\n",
              "      <td>3.572186</td>\n",
              "      <td>0.969138</td>\n",
              "      <td>6.954456</td>\n",
              "      <td>5</td>\n",
              "    </tr>\n",
              "    <tr>\n",
              "      <th>1</th>\n",
              "      <td>2002</td>\n",
              "      <td>January-March</td>\n",
              "      <td>Belgium</td>\n",
              "      <td>1-3  nights</td>\n",
              "      <td>Air</td>\n",
              "      <td>Business</td>\n",
              "      <td>LONDON</td>\n",
              "      <td>9.284226</td>\n",
              "      <td>2.399577</td>\n",
              "      <td>12.604959</td>\n",
              "      <td>19</td>\n",
              "    </tr>\n",
              "    <tr>\n",
              "      <th>2</th>\n",
              "      <td>2002</td>\n",
              "      <td>January-March</td>\n",
              "      <td>Belgium</td>\n",
              "      <td>1-3  nights</td>\n",
              "      <td>Air</td>\n",
              "      <td>VFR</td>\n",
              "      <td>LONDON</td>\n",
              "      <td>0.877182</td>\n",
              "      <td>0.089833</td>\n",
              "      <td>2.153128</td>\n",
              "      <td>3</td>\n",
              "    </tr>\n",
              "    <tr>\n",
              "      <th>3</th>\n",
              "      <td>2002</td>\n",
              "      <td>January-March</td>\n",
              "      <td>Belgium</td>\n",
              "      <td>1-3  nights</td>\n",
              "      <td>Air</td>\n",
              "      <td>Miscellaneous</td>\n",
              "      <td>LONDON</td>\n",
              "      <td>0.163874</td>\n",
              "      <td>0.010160</td>\n",
              "      <td>0.163874</td>\n",
              "      <td>1</td>\n",
              "    </tr>\n",
              "    <tr>\n",
              "      <th>4</th>\n",
              "      <td>2002</td>\n",
              "      <td>January-March</td>\n",
              "      <td>Belgium</td>\n",
              "      <td>1-3  nights</td>\n",
              "      <td>Sea</td>\n",
              "      <td>Business</td>\n",
              "      <td>LONDON</td>\n",
              "      <td>1.648670</td>\n",
              "      <td>0.016789</td>\n",
              "      <td>1.650300</td>\n",
              "      <td>1</td>\n",
              "    </tr>\n",
              "    <tr>\n",
              "      <th>...</th>\n",
              "      <td>...</td>\n",
              "      <td>...</td>\n",
              "      <td>...</td>\n",
              "      <td>...</td>\n",
              "      <td>...</td>\n",
              "      <td>...</td>\n",
              "      <td>...</td>\n",
              "      <td>...</td>\n",
              "      <td>...</td>\n",
              "      <td>...</td>\n",
              "      <td>...</td>\n",
              "    </tr>\n",
              "    <tr>\n",
              "      <th>61457</th>\n",
              "      <td>2020P</td>\n",
              "      <td>January-March</td>\n",
              "      <td>Other Africa</td>\n",
              "      <td>4-7  nights</td>\n",
              "      <td>Air</td>\n",
              "      <td>Miscellaneous</td>\n",
              "      <td>LONDON</td>\n",
              "      <td>1.695331</td>\n",
              "      <td>1.103167</td>\n",
              "      <td>8.831038</td>\n",
              "      <td>2</td>\n",
              "    </tr>\n",
              "    <tr>\n",
              "      <th>61458</th>\n",
              "      <td>2020P</td>\n",
              "      <td>January-March</td>\n",
              "      <td>Other Africa</td>\n",
              "      <td>8-14 nights</td>\n",
              "      <td>Air</td>\n",
              "      <td>Holiday</td>\n",
              "      <td>LONDON</td>\n",
              "      <td>1.486972</td>\n",
              "      <td>2.022254</td>\n",
              "      <td>7.836555</td>\n",
              "      <td>1</td>\n",
              "    </tr>\n",
              "    <tr>\n",
              "      <th>61459</th>\n",
              "      <td>2020P</td>\n",
              "      <td>January-March</td>\n",
              "      <td>Other Africa</td>\n",
              "      <td>8-14 nights</td>\n",
              "      <td>Air</td>\n",
              "      <td>VFR</td>\n",
              "      <td>LONDON</td>\n",
              "      <td>2.416554</td>\n",
              "      <td>1.847152</td>\n",
              "      <td>63.894432</td>\n",
              "      <td>2</td>\n",
              "    </tr>\n",
              "    <tr>\n",
              "      <th>61460</th>\n",
              "      <td>2020P</td>\n",
              "      <td>January-March</td>\n",
              "      <td>Other Africa</td>\n",
              "      <td>15+  nights</td>\n",
              "      <td>Air</td>\n",
              "      <td>Holiday</td>\n",
              "      <td>LONDON</td>\n",
              "      <td>2.472653</td>\n",
              "      <td>1.006109</td>\n",
              "      <td>35.080377</td>\n",
              "      <td>2</td>\n",
              "    </tr>\n",
              "    <tr>\n",
              "      <th>61461</th>\n",
              "      <td>2020P</td>\n",
              "      <td>January-March</td>\n",
              "      <td>Other Africa</td>\n",
              "      <td>15+  nights</td>\n",
              "      <td>Air</td>\n",
              "      <td>VFR</td>\n",
              "      <td>LONDON</td>\n",
              "      <td>4.124325</td>\n",
              "      <td>3.960705</td>\n",
              "      <td>134.909755</td>\n",
              "      <td>4</td>\n",
              "    </tr>\n",
              "  </tbody>\n",
              "</table>\n",
              "<p>61462 rows × 11 columns</p>\n",
              "</div>"
            ],
            "text/plain": [
              "        year        quarter        market  ... Spend (£m) Nights (000s) sample\n",
              "0       2002  January-March       Belgium  ...   0.969138      6.954456      5\n",
              "1       2002  January-March       Belgium  ...   2.399577     12.604959     19\n",
              "2       2002  January-March       Belgium  ...   0.089833      2.153128      3\n",
              "3       2002  January-March       Belgium  ...   0.010160      0.163874      1\n",
              "4       2002  January-March       Belgium  ...   0.016789      1.650300      1\n",
              "...      ...            ...           ...  ...        ...           ...    ...\n",
              "61457  2020P  January-March  Other Africa  ...   1.103167      8.831038      2\n",
              "61458  2020P  January-March  Other Africa  ...   2.022254      7.836555      1\n",
              "61459  2020P  January-March  Other Africa  ...   1.847152     63.894432      2\n",
              "61460  2020P  January-March  Other Africa  ...   1.006109     35.080377      2\n",
              "61461  2020P  January-March  Other Africa  ...   3.960705    134.909755      4\n",
              "\n",
              "[61462 rows x 11 columns]"
            ]
          },
          "metadata": {
            "tags": []
          },
          "execution_count": 13
        }
      ]
    },
    {
      "cell_type": "code",
      "metadata": {
        "id": "QWIUgWwO3NKt"
      },
      "source": [
        "# Create an interactive filter by year\n",
        "# 1) Filter criteria\n",
        "ALL = 'ALL'\n",
        "def unique_sorted_values_plus_ALL(array):\n",
        "    unique = array.unique().tolist()\n",
        "    unique.sort()\n",
        "    unique.insert(0, ALL)\n",
        "    return unique"
      ],
      "execution_count": 14,
      "outputs": []
    },
    {
      "cell_type": "code",
      "metadata": {
        "id": "ZLHJwmRN3Zjd"
      },
      "source": [
        "# Filter UI Widget\n",
        "dropdown_year = widgets.Dropdown(options =    unique_sorted_values_plus_ALL(df_london.year))"
      ],
      "execution_count": 15,
      "outputs": []
    },
    {
      "cell_type": "code",
      "metadata": {
        "id": "BbWQn5X83bg6"
      },
      "source": [
        "# Filter event handler\n",
        "def dropdown_year_eventhandler(change):\n",
        "    if (change.new == ALL):\n",
        "        display(df_london)\n",
        "    else:\n",
        "        display(df_london[df_london.year == change.new])"
      ],
      "execution_count": 17,
      "outputs": []
    },
    {
      "cell_type": "code",
      "metadata": {
        "id": "jRaJE0pB3dTr"
      },
      "source": [
        "# Bind the handler and display\n",
        "dropdown_year.observe(dropdown_year_eventhandler, names='value')"
      ],
      "execution_count": 18,
      "outputs": []
    },
    {
      "cell_type": "code",
      "metadata": {
        "colab": {
          "base_uri": "https://localhost:8080/",
          "height": 862,
          "referenced_widgets": [
            "11f616d29f30403e8228d49897536af2",
            "64b2c60a71b749b5a30a8ab7929fc159",
            "eade5f600fef45cdb9b2d46416d46422"
          ]
        },
        "id": "NRkbzpL83ou2",
        "outputId": "0458a8a5-db2c-4eb5-804a-e473a42aeecd"
      },
      "source": [
        "# The filter choices are accumulating in the same cell....\n",
        "display(dropdown_year)"
      ],
      "execution_count": 20,
      "outputs": [
        {
          "output_type": "display_data",
          "data": {
            "application/vnd.jupyter.widget-view+json": {
              "model_id": "11f616d29f30403e8228d49897536af2",
              "version_minor": 0,
              "version_major": 2
            },
            "text/plain": [
              "Dropdown(options=('ALL', '2002', '2003', '2004', '2005', '2006', '2007', '2008', '2009', '2010', '2011', '2012…"
            ]
          },
          "metadata": {
            "tags": []
          }
        },
        {
          "output_type": "display_data",
          "data": {
            "text/html": [
              "<div>\n",
              "<style scoped>\n",
              "    .dataframe tbody tr th:only-of-type {\n",
              "        vertical-align: middle;\n",
              "    }\n",
              "\n",
              "    .dataframe tbody tr th {\n",
              "        vertical-align: top;\n",
              "    }\n",
              "\n",
              "    .dataframe thead th {\n",
              "        text-align: right;\n",
              "    }\n",
              "</style>\n",
              "<table border=\"1\" class=\"dataframe\">\n",
              "  <thead>\n",
              "    <tr style=\"text-align: right;\">\n",
              "      <th></th>\n",
              "      <th>year</th>\n",
              "      <th>quarter</th>\n",
              "      <th>market</th>\n",
              "      <th>dur_stay</th>\n",
              "      <th>mode</th>\n",
              "      <th>purpose</th>\n",
              "      <th>area</th>\n",
              "      <th>Visits (000s)</th>\n",
              "      <th>Spend (£m)</th>\n",
              "      <th>Nights (000s)</th>\n",
              "      <th>sample</th>\n",
              "    </tr>\n",
              "  </thead>\n",
              "  <tbody>\n",
              "    <tr>\n",
              "      <th>41266</th>\n",
              "      <td>2014</td>\n",
              "      <td>January-March</td>\n",
              "      <td>Belgium</td>\n",
              "      <td>1-3  nights</td>\n",
              "      <td>Air</td>\n",
              "      <td>Holiday</td>\n",
              "      <td>LONDON</td>\n",
              "      <td>1.841997</td>\n",
              "      <td>0.948628</td>\n",
              "      <td>5.525990</td>\n",
              "      <td>1</td>\n",
              "    </tr>\n",
              "    <tr>\n",
              "      <th>41267</th>\n",
              "      <td>2014</td>\n",
              "      <td>January-March</td>\n",
              "      <td>Belgium</td>\n",
              "      <td>1-3  nights</td>\n",
              "      <td>Air</td>\n",
              "      <td>Business</td>\n",
              "      <td>LONDON</td>\n",
              "      <td>6.738066</td>\n",
              "      <td>2.104306</td>\n",
              "      <td>11.445811</td>\n",
              "      <td>10</td>\n",
              "    </tr>\n",
              "    <tr>\n",
              "      <th>41268</th>\n",
              "      <td>2014</td>\n",
              "      <td>January-March</td>\n",
              "      <td>Belgium</td>\n",
              "      <td>1-3  nights</td>\n",
              "      <td>Sea</td>\n",
              "      <td>Holiday</td>\n",
              "      <td>LONDON</td>\n",
              "      <td>7.009860</td>\n",
              "      <td>1.470984</td>\n",
              "      <td>17.917682</td>\n",
              "      <td>7</td>\n",
              "    </tr>\n",
              "    <tr>\n",
              "      <th>41269</th>\n",
              "      <td>2014</td>\n",
              "      <td>January-March</td>\n",
              "      <td>Belgium</td>\n",
              "      <td>1-3  nights</td>\n",
              "      <td>Sea</td>\n",
              "      <td>Business</td>\n",
              "      <td>LONDON</td>\n",
              "      <td>2.068373</td>\n",
              "      <td>1.030380</td>\n",
              "      <td>4.953970</td>\n",
              "      <td>2</td>\n",
              "    </tr>\n",
              "    <tr>\n",
              "      <th>41270</th>\n",
              "      <td>2014</td>\n",
              "      <td>January-March</td>\n",
              "      <td>Belgium</td>\n",
              "      <td>1-3  nights</td>\n",
              "      <td>Sea</td>\n",
              "      <td>VFR</td>\n",
              "      <td>LONDON</td>\n",
              "      <td>1.029525</td>\n",
              "      <td>0.041584</td>\n",
              "      <td>2.184773</td>\n",
              "      <td>1</td>\n",
              "    </tr>\n",
              "    <tr>\n",
              "      <th>...</th>\n",
              "      <td>...</td>\n",
              "      <td>...</td>\n",
              "      <td>...</td>\n",
              "      <td>...</td>\n",
              "      <td>...</td>\n",
              "      <td>...</td>\n",
              "      <td>...</td>\n",
              "      <td>...</td>\n",
              "      <td>...</td>\n",
              "      <td>...</td>\n",
              "      <td>...</td>\n",
              "    </tr>\n",
              "    <tr>\n",
              "      <th>44727</th>\n",
              "      <td>2014</td>\n",
              "      <td>October-December</td>\n",
              "      <td>Other Africa</td>\n",
              "      <td>8-14 nights</td>\n",
              "      <td>Air</td>\n",
              "      <td>VFR</td>\n",
              "      <td>LONDON</td>\n",
              "      <td>1.378132</td>\n",
              "      <td>1.244923</td>\n",
              "      <td>13.113928</td>\n",
              "      <td>3</td>\n",
              "    </tr>\n",
              "    <tr>\n",
              "      <th>44728</th>\n",
              "      <td>2014</td>\n",
              "      <td>October-December</td>\n",
              "      <td>Other Africa</td>\n",
              "      <td>15+  nights</td>\n",
              "      <td>Air</td>\n",
              "      <td>Holiday</td>\n",
              "      <td>LONDON</td>\n",
              "      <td>0.713477</td>\n",
              "      <td>0.724180</td>\n",
              "      <td>10.702162</td>\n",
              "      <td>1</td>\n",
              "    </tr>\n",
              "    <tr>\n",
              "      <th>44729</th>\n",
              "      <td>2014</td>\n",
              "      <td>October-December</td>\n",
              "      <td>Other Africa</td>\n",
              "      <td>15+  nights</td>\n",
              "      <td>Air</td>\n",
              "      <td>Business</td>\n",
              "      <td>LONDON</td>\n",
              "      <td>0.490662</td>\n",
              "      <td>3.030776</td>\n",
              "      <td>13.980090</td>\n",
              "      <td>1</td>\n",
              "    </tr>\n",
              "    <tr>\n",
              "      <th>44730</th>\n",
              "      <td>2014</td>\n",
              "      <td>October-December</td>\n",
              "      <td>Other Africa</td>\n",
              "      <td>15+  nights</td>\n",
              "      <td>Air</td>\n",
              "      <td>VFR</td>\n",
              "      <td>LONDON</td>\n",
              "      <td>0.793698</td>\n",
              "      <td>0.558480</td>\n",
              "      <td>13.007779</td>\n",
              "      <td>1</td>\n",
              "    </tr>\n",
              "    <tr>\n",
              "      <th>44731</th>\n",
              "      <td>2014</td>\n",
              "      <td>October-December</td>\n",
              "      <td>Other Africa</td>\n",
              "      <td>15+  nights</td>\n",
              "      <td>Air</td>\n",
              "      <td>Miscellaneous</td>\n",
              "      <td>LONDON</td>\n",
              "      <td>0.713477</td>\n",
              "      <td>1.580353</td>\n",
              "      <td>13.556071</td>\n",
              "      <td>1</td>\n",
              "    </tr>\n",
              "  </tbody>\n",
              "</table>\n",
              "<p>3466 rows × 11 columns</p>\n",
              "</div>"
            ],
            "text/plain": [
              "       year           quarter        market  ... Spend (£m) Nights (000s) sample\n",
              "41266  2014     January-March       Belgium  ...   0.948628      5.525990      1\n",
              "41267  2014     January-March       Belgium  ...   2.104306     11.445811     10\n",
              "41268  2014     January-March       Belgium  ...   1.470984     17.917682      7\n",
              "41269  2014     January-March       Belgium  ...   1.030380      4.953970      2\n",
              "41270  2014     January-March       Belgium  ...   0.041584      2.184773      1\n",
              "...     ...               ...           ...  ...        ...           ...    ...\n",
              "44727  2014  October-December  Other Africa  ...   1.244923     13.113928      3\n",
              "44728  2014  October-December  Other Africa  ...   0.724180     10.702162      1\n",
              "44729  2014  October-December  Other Africa  ...   3.030776     13.980090      1\n",
              "44730  2014  October-December  Other Africa  ...   0.558480     13.007779      1\n",
              "44731  2014  October-December  Other Africa  ...   1.580353     13.556071      1\n",
              "\n",
              "[3466 rows x 11 columns]"
            ]
          },
          "metadata": {
            "tags": []
          }
        },
        {
          "output_type": "display_data",
          "data": {
            "text/html": [
              "<div>\n",
              "<style scoped>\n",
              "    .dataframe tbody tr th:only-of-type {\n",
              "        vertical-align: middle;\n",
              "    }\n",
              "\n",
              "    .dataframe tbody tr th {\n",
              "        vertical-align: top;\n",
              "    }\n",
              "\n",
              "    .dataframe thead th {\n",
              "        text-align: right;\n",
              "    }\n",
              "</style>\n",
              "<table border=\"1\" class=\"dataframe\">\n",
              "  <thead>\n",
              "    <tr style=\"text-align: right;\">\n",
              "      <th></th>\n",
              "      <th>year</th>\n",
              "      <th>quarter</th>\n",
              "      <th>market</th>\n",
              "      <th>dur_stay</th>\n",
              "      <th>mode</th>\n",
              "      <th>purpose</th>\n",
              "      <th>area</th>\n",
              "      <th>Visits (000s)</th>\n",
              "      <th>Spend (£m)</th>\n",
              "      <th>Nights (000s)</th>\n",
              "      <th>sample</th>\n",
              "    </tr>\n",
              "  </thead>\n",
              "  <tbody>\n",
              "    <tr>\n",
              "      <th>10158</th>\n",
              "      <td>2005</td>\n",
              "      <td>January-March</td>\n",
              "      <td>Belgium</td>\n",
              "      <td>1-3  nights</td>\n",
              "      <td>Air</td>\n",
              "      <td>Holiday</td>\n",
              "      <td>LONDON</td>\n",
              "      <td>1.764158</td>\n",
              "      <td>0.546360</td>\n",
              "      <td>4.304558</td>\n",
              "      <td>5</td>\n",
              "    </tr>\n",
              "    <tr>\n",
              "      <th>10159</th>\n",
              "      <td>2005</td>\n",
              "      <td>January-March</td>\n",
              "      <td>Belgium</td>\n",
              "      <td>1-3  nights</td>\n",
              "      <td>Air</td>\n",
              "      <td>Business</td>\n",
              "      <td>LONDON</td>\n",
              "      <td>3.554767</td>\n",
              "      <td>1.869742</td>\n",
              "      <td>6.215037</td>\n",
              "      <td>10</td>\n",
              "    </tr>\n",
              "    <tr>\n",
              "      <th>10160</th>\n",
              "      <td>2005</td>\n",
              "      <td>January-March</td>\n",
              "      <td>Belgium</td>\n",
              "      <td>1-3  nights</td>\n",
              "      <td>Air</td>\n",
              "      <td>VFR</td>\n",
              "      <td>LONDON</td>\n",
              "      <td>0.677851</td>\n",
              "      <td>0.110490</td>\n",
              "      <td>1.099811</td>\n",
              "      <td>2</td>\n",
              "    </tr>\n",
              "    <tr>\n",
              "      <th>10161</th>\n",
              "      <td>2005</td>\n",
              "      <td>January-March</td>\n",
              "      <td>Belgium</td>\n",
              "      <td>1-3  nights</td>\n",
              "      <td>Air</td>\n",
              "      <td>Miscellaneous</td>\n",
              "      <td>LONDON</td>\n",
              "      <td>1.433738</td>\n",
              "      <td>0.070763</td>\n",
              "      <td>1.433738</td>\n",
              "      <td>4</td>\n",
              "    </tr>\n",
              "    <tr>\n",
              "      <th>10162</th>\n",
              "      <td>2005</td>\n",
              "      <td>January-March</td>\n",
              "      <td>Belgium</td>\n",
              "      <td>1-3  nights</td>\n",
              "      <td>Sea</td>\n",
              "      <td>VFR</td>\n",
              "      <td>LONDON</td>\n",
              "      <td>3.899300</td>\n",
              "      <td>0.266164</td>\n",
              "      <td>6.762390</td>\n",
              "      <td>2</td>\n",
              "    </tr>\n",
              "    <tr>\n",
              "      <th>...</th>\n",
              "      <td>...</td>\n",
              "      <td>...</td>\n",
              "      <td>...</td>\n",
              "      <td>...</td>\n",
              "      <td>...</td>\n",
              "      <td>...</td>\n",
              "      <td>...</td>\n",
              "      <td>...</td>\n",
              "      <td>...</td>\n",
              "      <td>...</td>\n",
              "      <td>...</td>\n",
              "    </tr>\n",
              "    <tr>\n",
              "      <th>13647</th>\n",
              "      <td>2005</td>\n",
              "      <td>October-December</td>\n",
              "      <td>Other Africa</td>\n",
              "      <td>8-14 nights</td>\n",
              "      <td>Air</td>\n",
              "      <td>VFR</td>\n",
              "      <td>LONDON</td>\n",
              "      <td>1.181790</td>\n",
              "      <td>0.269720</td>\n",
              "      <td>12.929710</td>\n",
              "      <td>3</td>\n",
              "    </tr>\n",
              "    <tr>\n",
              "      <th>13648</th>\n",
              "      <td>2005</td>\n",
              "      <td>October-December</td>\n",
              "      <td>Other Africa</td>\n",
              "      <td>8-14 nights</td>\n",
              "      <td>Air</td>\n",
              "      <td>Miscellaneous</td>\n",
              "      <td>LONDON</td>\n",
              "      <td>0.619166</td>\n",
              "      <td>0.527418</td>\n",
              "      <td>2.012020</td>\n",
              "      <td>1</td>\n",
              "    </tr>\n",
              "    <tr>\n",
              "      <th>13649</th>\n",
              "      <td>2005</td>\n",
              "      <td>October-December</td>\n",
              "      <td>Other Africa</td>\n",
              "      <td>15+  nights</td>\n",
              "      <td>Air</td>\n",
              "      <td>Holiday</td>\n",
              "      <td>LONDON</td>\n",
              "      <td>0.307705</td>\n",
              "      <td>0.094186</td>\n",
              "      <td>13.530300</td>\n",
              "      <td>1</td>\n",
              "    </tr>\n",
              "    <tr>\n",
              "      <th>13650</th>\n",
              "      <td>2005</td>\n",
              "      <td>October-December</td>\n",
              "      <td>Other Africa</td>\n",
              "      <td>15+  nights</td>\n",
              "      <td>Air</td>\n",
              "      <td>Business</td>\n",
              "      <td>LONDON</td>\n",
              "      <td>0.985602</td>\n",
              "      <td>1.901579</td>\n",
              "      <td>18.386979</td>\n",
              "      <td>3</td>\n",
              "    </tr>\n",
              "    <tr>\n",
              "      <th>13651</th>\n",
              "      <td>2005</td>\n",
              "      <td>October-December</td>\n",
              "      <td>Other Africa</td>\n",
              "      <td>15+  nights</td>\n",
              "      <td>Air</td>\n",
              "      <td>VFR</td>\n",
              "      <td>LONDON</td>\n",
              "      <td>3.943192</td>\n",
              "      <td>1.981916</td>\n",
              "      <td>234.548590</td>\n",
              "      <td>10</td>\n",
              "    </tr>\n",
              "  </tbody>\n",
              "</table>\n",
              "<p>3494 rows × 11 columns</p>\n",
              "</div>"
            ],
            "text/plain": [
              "       year           quarter        market  ... Spend (£m) Nights (000s) sample\n",
              "10158  2005     January-March       Belgium  ...   0.546360      4.304558      5\n",
              "10159  2005     January-March       Belgium  ...   1.869742      6.215037     10\n",
              "10160  2005     January-March       Belgium  ...   0.110490      1.099811      2\n",
              "10161  2005     January-March       Belgium  ...   0.070763      1.433738      4\n",
              "10162  2005     January-March       Belgium  ...   0.266164      6.762390      2\n",
              "...     ...               ...           ...  ...        ...           ...    ...\n",
              "13647  2005  October-December  Other Africa  ...   0.269720     12.929710      3\n",
              "13648  2005  October-December  Other Africa  ...   0.527418      2.012020      1\n",
              "13649  2005  October-December  Other Africa  ...   0.094186     13.530300      1\n",
              "13650  2005  October-December  Other Africa  ...   1.901579     18.386979      3\n",
              "13651  2005  October-December  Other Africa  ...   1.981916    234.548590     10\n",
              "\n",
              "[3494 rows x 11 columns]"
            ]
          },
          "metadata": {
            "tags": []
          }
        }
      ]
    },
    {
      "cell_type": "code",
      "metadata": {
        "id": "1OcJ5nGp3uKl"
      },
      "source": [
        ""
      ],
      "execution_count": null,
      "outputs": []
    }
  ]
}