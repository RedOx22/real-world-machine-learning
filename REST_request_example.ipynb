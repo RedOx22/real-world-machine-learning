{
  "nbformat": 4,
  "nbformat_minor": 0,
  "metadata": {
    "colab": {
      "name": "REST-request-example.ipynb",
      "provenance": [],
      "authorship_tag": "ABX9TyOOpTiUNvCooIvQIAU3Ar1e",
      "include_colab_link": true
    },
    "kernelspec": {
      "name": "python3",
      "display_name": "Python 3"
    },
    "language_info": {
      "name": "python"
    }
  },
  "cells": [
    {
      "cell_type": "markdown",
      "metadata": {
        "id": "view-in-github",
        "colab_type": "text"
      },
      "source": [
        "<a href=\"https://colab.research.google.com/github/thimotyb/real-world-machine-learning/blob/python3/REST_request_example.ipynb\" target=\"_parent\"><img src=\"https://colab.research.google.com/assets/colab-badge.svg\" alt=\"Open In Colab\"/></a>"
      ]
    },
    {
      "cell_type": "code",
      "metadata": {
        "colab": {
          "base_uri": "https://localhost:8080/"
        },
        "id": "Ao7BD6p_6AHk",
        "outputId": "b1774c9f-df82-4529-d6c9-3b45b0307ab0"
      },
      "source": [
        "!pip install requests"
      ],
      "execution_count": 1,
      "outputs": [
        {
          "output_type": "stream",
          "name": "stdout",
          "text": [
            "Requirement already satisfied: requests in /usr/local/lib/python3.7/dist-packages (2.23.0)\n",
            "Requirement already satisfied: certifi>=2017.4.17 in /usr/local/lib/python3.7/dist-packages (from requests) (2021.5.30)\n",
            "Requirement already satisfied: urllib3!=1.25.0,!=1.25.1,<1.26,>=1.21.1 in /usr/local/lib/python3.7/dist-packages (from requests) (1.24.3)\n",
            "Requirement already satisfied: idna<3,>=2.5 in /usr/local/lib/python3.7/dist-packages (from requests) (2.10)\n",
            "Requirement already satisfied: chardet<4,>=3.0.2 in /usr/local/lib/python3.7/dist-packages (from requests) (3.0.4)\n"
          ]
        }
      ]
    },
    {
      "cell_type": "code",
      "metadata": {
        "id": "dM8hMZbP6y2p"
      },
      "source": [
        "# Perform a GET\n",
        "import requests\n",
        "api_url = \"https://jsonplaceholder.typicode.com/todos/3\"\n",
        "response = requests.get(api_url)"
      ],
      "execution_count": 11,
      "outputs": []
    },
    {
      "cell_type": "code",
      "metadata": {
        "colab": {
          "base_uri": "https://localhost:8080/"
        },
        "id": "q28AN__L7GIa",
        "outputId": "2dfdf8c8-a3bc-4dad-c9c4-afa23fbccca9"
      },
      "source": [
        "# Payload Json\n",
        "response.json()"
      ],
      "execution_count": 5,
      "outputs": [
        {
          "output_type": "execute_result",
          "data": {
            "text/plain": [
              "{'completed': False, 'id': 3, 'title': 'fugiat veniam minus', 'userId': 1}"
            ]
          },
          "metadata": {},
          "execution_count": 5
        }
      ]
    },
    {
      "cell_type": "code",
      "metadata": {
        "colab": {
          "base_uri": "https://localhost:8080/"
        },
        "id": "uuECZc4d7LiU",
        "outputId": "e656eb00-8d9f-4029-c5f5-da4cca5ebb7b"
      },
      "source": [
        "response.status_code"
      ],
      "execution_count": null,
      "outputs": [
        {
          "output_type": "execute_result",
          "data": {
            "text/plain": [
              "200"
            ]
          },
          "metadata": {},
          "execution_count": 10
        }
      ]
    },
    {
      "cell_type": "code",
      "metadata": {
        "colab": {
          "base_uri": "https://localhost:8080/"
        },
        "id": "8xSLJMkP7g9W",
        "outputId": "5dedae02-725a-4e6a-dc1c-135c7c1bc97d"
      },
      "source": [
        "response.headers"
      ],
      "execution_count": 8,
      "outputs": [
        {
          "output_type": "execute_result",
          "data": {
            "text/plain": [
              "{'Date': 'Mon, 18 Oct 2021 08:56:16 GMT', 'Content-Type': 'application/json; charset=utf-8', 'Transfer-Encoding': 'chunked', 'Connection': 'keep-alive', 'x-powered-by': 'Express', 'x-ratelimit-limit': '1000', 'x-ratelimit-remaining': '999', 'x-ratelimit-reset': '1633963826', 'vary': 'Origin, Accept-Encoding', 'access-control-allow-credentials': 'true', 'cache-control': 'max-age=43200', 'pragma': 'no-cache', 'expires': '-1', 'x-content-type-options': 'nosniff', 'etag': 'W/\"54-J3JtLgWuXjgj1OZdyAcKAqOaKHo\"', 'via': '1.1 vegur', 'CF-Cache-Status': 'HIT', 'Age': '23494', 'Expect-CT': 'max-age=604800, report-uri=\"https://report-uri.cloudflare.com/cdn-cgi/beacon/expect-ct\"', 'Report-To': '{\"endpoints\":[{\"url\":\"https:\\\\/\\\\/a.nel.cloudflare.com\\\\/report\\\\/v3?s=2%2BfANYqGfTCafHd7L95Zl2Mo9tbjBp2RF2hRbRhkE9H6TQDq51s7Zc0WB%2FFKO8d04%2Bbay%2B63rnSpyO96IkXOswUXe8K3DDkNJpcWOKDqTOwjR4eLQNaTlAABEBa0a4VwaLcs4UxMS5r9ogWIrThV\"}],\"group\":\"cf-nel\",\"max_age\":604800}', 'NEL': '{\"success_fraction\":0,\"report_to\":\"cf-nel\",\"max_age\":604800}', 'Server': 'cloudflare', 'CF-RAY': '6a008d6efbc82d2a-ORD', 'Content-Encoding': 'gzip', 'alt-svc': 'h3=\":443\"; ma=86400, h3-29=\":443\"; ma=86400, h3-28=\":443\"; ma=86400, h3-27=\":443\"; ma=86400'}"
            ]
          },
          "metadata": {},
          "execution_count": 8
        }
      ]
    },
    {
      "cell_type": "code",
      "metadata": {
        "colab": {
          "base_uri": "https://localhost:8080/",
          "height": 35
        },
        "id": "EviRwJmHnbyC",
        "outputId": "dd11f129-fbf3-4c19-bee5-6e8714fa0017"
      },
      "source": [
        "response.headers['x-ratelimit-remaining']"
      ],
      "execution_count": 12,
      "outputs": [
        {
          "output_type": "execute_result",
          "data": {
            "application/vnd.google.colaboratory.intrinsic+json": {
              "type": "string"
            },
            "text/plain": [
              "'999'"
            ]
          },
          "metadata": {},
          "execution_count": 12
        }
      ]
    },
    {
      "cell_type": "code",
      "metadata": {
        "id": "3igcgh9cn0uG"
      },
      "source": [
        ""
      ],
      "execution_count": null,
      "outputs": []
    },
    {
      "cell_type": "code",
      "metadata": {
        "colab": {
          "base_uri": "https://localhost:8080/"
        },
        "id": "u6yIgGE2nuuA",
        "outputId": "e4792b82-7c4c-4309-a8de-fcc984602fe9"
      },
      "source": [
        "response_json = response.json()\n",
        "print(response_json['title'])"
      ],
      "execution_count": 14,
      "outputs": [
        {
          "output_type": "stream",
          "name": "stdout",
          "text": [
            "fugiat veniam minus\n"
          ]
        }
      ]
    },
    {
      "cell_type": "code",
      "metadata": {
        "id": "SlTWklA3n9Zu"
      },
      "source": [
        "# Import all entities in a dataframe\n",
        "import pandas as pd\n",
        "response_all = pd.DataFrame(requests.get('https://jsonplaceholder.typicode.com/todos').json())"
      ],
      "execution_count": 19,
      "outputs": []
    },
    {
      "cell_type": "code",
      "metadata": {
        "colab": {
          "base_uri": "https://localhost:8080/",
          "height": 237
        },
        "id": "qk6hSJX8oO_u",
        "outputId": "120c4efc-5a3c-4c8c-8d62-3f151cee0320"
      },
      "source": [
        "response_all.head(6)"
      ],
      "execution_count": 20,
      "outputs": [
        {
          "output_type": "execute_result",
          "data": {
            "text/html": [
              "<div>\n",
              "<style scoped>\n",
              "    .dataframe tbody tr th:only-of-type {\n",
              "        vertical-align: middle;\n",
              "    }\n",
              "\n",
              "    .dataframe tbody tr th {\n",
              "        vertical-align: top;\n",
              "    }\n",
              "\n",
              "    .dataframe thead th {\n",
              "        text-align: right;\n",
              "    }\n",
              "</style>\n",
              "<table border=\"1\" class=\"dataframe\">\n",
              "  <thead>\n",
              "    <tr style=\"text-align: right;\">\n",
              "      <th></th>\n",
              "      <th>userId</th>\n",
              "      <th>id</th>\n",
              "      <th>title</th>\n",
              "      <th>completed</th>\n",
              "    </tr>\n",
              "  </thead>\n",
              "  <tbody>\n",
              "    <tr>\n",
              "      <th>0</th>\n",
              "      <td>1</td>\n",
              "      <td>1</td>\n",
              "      <td>delectus aut autem</td>\n",
              "      <td>False</td>\n",
              "    </tr>\n",
              "    <tr>\n",
              "      <th>1</th>\n",
              "      <td>1</td>\n",
              "      <td>2</td>\n",
              "      <td>quis ut nam facilis et officia qui</td>\n",
              "      <td>False</td>\n",
              "    </tr>\n",
              "    <tr>\n",
              "      <th>2</th>\n",
              "      <td>1</td>\n",
              "      <td>3</td>\n",
              "      <td>fugiat veniam minus</td>\n",
              "      <td>False</td>\n",
              "    </tr>\n",
              "    <tr>\n",
              "      <th>3</th>\n",
              "      <td>1</td>\n",
              "      <td>4</td>\n",
              "      <td>et porro tempora</td>\n",
              "      <td>True</td>\n",
              "    </tr>\n",
              "    <tr>\n",
              "      <th>4</th>\n",
              "      <td>1</td>\n",
              "      <td>5</td>\n",
              "      <td>laboriosam mollitia et enim quasi adipisci qui...</td>\n",
              "      <td>False</td>\n",
              "    </tr>\n",
              "    <tr>\n",
              "      <th>5</th>\n",
              "      <td>1</td>\n",
              "      <td>6</td>\n",
              "      <td>qui ullam ratione quibusdam voluptatem quia omnis</td>\n",
              "      <td>False</td>\n",
              "    </tr>\n",
              "  </tbody>\n",
              "</table>\n",
              "</div>"
            ],
            "text/plain": [
              "   userId  id                                              title  completed\n",
              "0       1   1                                 delectus aut autem      False\n",
              "1       1   2                 quis ut nam facilis et officia qui      False\n",
              "2       1   3                                fugiat veniam minus      False\n",
              "3       1   4                                   et porro tempora       True\n",
              "4       1   5  laboriosam mollitia et enim quasi adipisci qui...      False\n",
              "5       1   6  qui ullam ratione quibusdam voluptatem quia omnis      False"
            ]
          },
          "metadata": {},
          "execution_count": 20
        }
      ]
    },
    {
      "cell_type": "code",
      "metadata": {
        "id": "1F1go8sd7ivy"
      },
      "source": [
        "# POST\n",
        "todo = {'completed': False, 'id': 1, 'title': 'leggi Guerra e Pace', 'userId': 2}\n",
        "api_url_post = \"https://jsonplaceholder.typicode.com/todos\"\n",
        "response = requests.post(api_url_post, json=todo)"
      ],
      "execution_count": 26,
      "outputs": []
    },
    {
      "cell_type": "code",
      "metadata": {
        "colab": {
          "base_uri": "https://localhost:8080/"
        },
        "id": "M__frtis8M4f",
        "outputId": "a0256ed3-9f14-4914-ff66-660188be29f6"
      },
      "source": [
        "response.json()"
      ],
      "execution_count": 27,
      "outputs": [
        {
          "output_type": "execute_result",
          "data": {
            "text/plain": [
              "{'completed': False, 'id': 201, 'title': 'leggi Guerra e Pace', 'userId': 2}"
            ]
          },
          "metadata": {},
          "execution_count": 27
        }
      ]
    },
    {
      "cell_type": "code",
      "metadata": {
        "colab": {
          "base_uri": "https://localhost:8080/"
        },
        "id": "jSJ2oKcqooyg",
        "outputId": "e963b976-d1f1-43ee-d9c0-dfc956d1365e"
      },
      "source": [
        "new_post_id=response.json()['id']\n",
        "print(new_post_id)"
      ],
      "execution_count": 28,
      "outputs": [
        {
          "output_type": "stream",
          "name": "stdout",
          "text": [
            "201\n"
          ]
        }
      ]
    },
    {
      "cell_type": "code",
      "metadata": {
        "colab": {
          "base_uri": "https://localhost:8080/"
        },
        "id": "GkyVsEVq8OP0",
        "outputId": "04aa0cfb-4ab3-4074-c50a-af8f624e0004"
      },
      "source": [
        "# 201 Created\n",
        "response.status_code"
      ],
      "execution_count": 25,
      "outputs": [
        {
          "output_type": "execute_result",
          "data": {
            "text/plain": [
              "201"
            ]
          },
          "metadata": {},
          "execution_count": 25
        }
      ]
    },
    {
      "cell_type": "code",
      "metadata": {
        "id": "ZcOhDrZJ8Q-R"
      },
      "source": [
        "# Using a more complex API\n",
        "us_companies_request_url = 'https://api.usfundamentals.com/v1/companies/xbrl?format=json&token=Tn4Qgyb3hSTS8NAkC44dMw'\n",
        "us_companies_indicators_url = 'https://api.usfundamentals.com/v1/indicators/xbrl?indicators=Goodwill,NetIncomeLoss,Revenues&token=Tn4Qgyb3hSTS8NAkC44dMw'"
      ],
      "execution_count": 29,
      "outputs": []
    },
    {
      "cell_type": "code",
      "metadata": {
        "id": "tmXmId_dpQYG",
        "outputId": "c4d8b4c3-d8bc-4204-e0ce-a7d2fb56e60b",
        "colab": {
          "base_uri": "https://localhost:8080/"
        }
      },
      "source": [
        "import pandas as pd\n",
        "us_companies = pd.DataFrame(requests.get(us_companies_request_url).json())\n",
        "us_companies.info()"
      ],
      "execution_count": 30,
      "outputs": [
        {
          "output_type": "stream",
          "name": "stdout",
          "text": [
            "<class 'pandas.core.frame.DataFrame'>\n",
            "RangeIndex: 14999 entries, 0 to 14998\n",
            "Data columns (total 3 columns):\n",
            " #   Column          Non-Null Count  Dtype \n",
            "---  ------          --------------  ----- \n",
            " 0   company_id      14999 non-null  object\n",
            " 1   name_latest     14999 non-null  object\n",
            " 2   names_previous  3358 non-null   object\n",
            "dtypes: object(3)\n",
            "memory usage: 351.7+ KB\n"
          ]
        }
      ]
    },
    {
      "cell_type": "code",
      "metadata": {
        "id": "nQ2q_sDopblB",
        "outputId": "2c43ea75-33b6-4edf-b366-4f2518ac06c6",
        "colab": {
          "base_uri": "https://localhost:8080/",
          "height": 206
        }
      },
      "source": [
        "us_companies.head(5)"
      ],
      "execution_count": 31,
      "outputs": [
        {
          "output_type": "execute_result",
          "data": {
            "text/html": [
              "<div>\n",
              "<style scoped>\n",
              "    .dataframe tbody tr th:only-of-type {\n",
              "        vertical-align: middle;\n",
              "    }\n",
              "\n",
              "    .dataframe tbody tr th {\n",
              "        vertical-align: top;\n",
              "    }\n",
              "\n",
              "    .dataframe thead th {\n",
              "        text-align: right;\n",
              "    }\n",
              "</style>\n",
              "<table border=\"1\" class=\"dataframe\">\n",
              "  <thead>\n",
              "    <tr style=\"text-align: right;\">\n",
              "      <th></th>\n",
              "      <th>company_id</th>\n",
              "      <th>name_latest</th>\n",
              "      <th>names_previous</th>\n",
              "    </tr>\n",
              "  </thead>\n",
              "  <tbody>\n",
              "    <tr>\n",
              "      <th>0</th>\n",
              "      <td>1000045</td>\n",
              "      <td>Nicholas Financial Inc</td>\n",
              "      <td>None</td>\n",
              "    </tr>\n",
              "    <tr>\n",
              "      <th>1</th>\n",
              "      <td>1000180</td>\n",
              "      <td>Sandisk Corp</td>\n",
              "      <td>None</td>\n",
              "    </tr>\n",
              "    <tr>\n",
              "      <th>2</th>\n",
              "      <td>1000209</td>\n",
              "      <td>Medallion Financial Corp</td>\n",
              "      <td>None</td>\n",
              "    </tr>\n",
              "    <tr>\n",
              "      <th>3</th>\n",
              "      <td>1000228</td>\n",
              "      <td>Henry Schein Inc</td>\n",
              "      <td>None</td>\n",
              "    </tr>\n",
              "    <tr>\n",
              "      <th>4</th>\n",
              "      <td>1000229</td>\n",
              "      <td>Core Laboratories N V</td>\n",
              "      <td>None</td>\n",
              "    </tr>\n",
              "  </tbody>\n",
              "</table>\n",
              "</div>"
            ],
            "text/plain": [
              "  company_id               name_latest names_previous\n",
              "0    1000045    Nicholas Financial Inc           None\n",
              "1    1000180              Sandisk Corp           None\n",
              "2    1000209  Medallion Financial Corp           None\n",
              "3    1000228          Henry Schein Inc           None\n",
              "4    1000229     Core Laboratories N V           None"
            ]
          },
          "metadata": {},
          "execution_count": 31
        }
      ]
    },
    {
      "cell_type": "code",
      "metadata": {
        "id": "C3ApzwQ5pge3"
      },
      "source": [
        "us_companies_indicators_csv = requests.get(us_companies_indicators_url)\n",
        "import os, sys\n",
        "indicators_file = \"indicators.csv\"\n",
        "# Open file\n",
        "with open(indicators_file, mode='w') as f:\n",
        "  f.write(us_companies_indicators_csv.text)\n"
      ],
      "execution_count": 47,
      "outputs": []
    },
    {
      "cell_type": "code",
      "metadata": {
        "id": "Hh9xVQrnpp5x"
      },
      "source": [
        "us_companies_indicators = pd.read_csv(indicators_file)"
      ],
      "execution_count": 48,
      "outputs": []
    },
    {
      "cell_type": "code",
      "metadata": {
        "id": "sSqwC92FqCWU",
        "outputId": "257c8497-83c5-4618-f134-c8595f061229",
        "colab": {
          "base_uri": "https://localhost:8080/"
        }
      },
      "source": [
        "us_companies_indicators.info()"
      ],
      "execution_count": 49,
      "outputs": [
        {
          "output_type": "stream",
          "name": "stdout",
          "text": [
            "<class 'pandas.core.frame.DataFrame'>\n",
            "RangeIndex: 22042 entries, 0 to 22041\n",
            "Data columns (total 13 columns):\n",
            " #   Column        Non-Null Count  Dtype  \n",
            "---  ------        --------------  -----  \n",
            " 0   company_id    22042 non-null  int64  \n",
            " 1   indicator_id  22042 non-null  object \n",
            " 2   2010          457 non-null    float64\n",
            " 3   2011          11779 non-null  float64\n",
            " 4   2012          12264 non-null  float64\n",
            " 5   2013          12238 non-null  float64\n",
            " 6   2014          12326 non-null  float64\n",
            " 7   2015          11875 non-null  float64\n",
            " 8   2016          11172 non-null  float64\n",
            " 9   2017          10868 non-null  float64\n",
            " 10  2018          10268 non-null  float64\n",
            " 11  2019          5089 non-null   float64\n",
            " 12  2020          2641 non-null   float64\n",
            "dtypes: float64(11), int64(1), object(1)\n",
            "memory usage: 2.2+ MB\n"
          ]
        }
      ]
    },
    {
      "cell_type": "code",
      "metadata": {
        "id": "68GJAcgZsgoO",
        "outputId": "f9855f87-a183-4cef-f9fe-fee5c4a33ad2",
        "colab": {
          "base_uri": "https://localhost:8080/",
          "height": 226
        }
      },
      "source": [
        "us_companies_indicators.head(5)"
      ],
      "execution_count": 50,
      "outputs": [
        {
          "output_type": "execute_result",
          "data": {
            "text/html": [
              "<div>\n",
              "<style scoped>\n",
              "    .dataframe tbody tr th:only-of-type {\n",
              "        vertical-align: middle;\n",
              "    }\n",
              "\n",
              "    .dataframe tbody tr th {\n",
              "        vertical-align: top;\n",
              "    }\n",
              "\n",
              "    .dataframe thead th {\n",
              "        text-align: right;\n",
              "    }\n",
              "</style>\n",
              "<table border=\"1\" class=\"dataframe\">\n",
              "  <thead>\n",
              "    <tr style=\"text-align: right;\">\n",
              "      <th></th>\n",
              "      <th>company_id</th>\n",
              "      <th>indicator_id</th>\n",
              "      <th>2010</th>\n",
              "      <th>2011</th>\n",
              "      <th>2012</th>\n",
              "      <th>2013</th>\n",
              "      <th>2014</th>\n",
              "      <th>2015</th>\n",
              "      <th>2016</th>\n",
              "      <th>2017</th>\n",
              "      <th>2018</th>\n",
              "      <th>2019</th>\n",
              "      <th>2020</th>\n",
              "    </tr>\n",
              "  </thead>\n",
              "  <tbody>\n",
              "    <tr>\n",
              "      <th>0</th>\n",
              "      <td>1000045</td>\n",
              "      <td>NetIncomeLoss</td>\n",
              "      <td>NaN</td>\n",
              "      <td>NaN</td>\n",
              "      <td>1.994095e+07</td>\n",
              "      <td>1.670335e+07</td>\n",
              "      <td>1.685589e+07</td>\n",
              "      <td>1.237900e+07</td>\n",
              "      <td>5409000.0</td>\n",
              "      <td>-1098000.0</td>\n",
              "      <td>-3648000.0</td>\n",
              "      <td>3466000.0</td>\n",
              "      <td>NaN</td>\n",
              "    </tr>\n",
              "    <tr>\n",
              "      <th>1</th>\n",
              "      <td>1000045</td>\n",
              "      <td>Revenues</td>\n",
              "      <td>NaN</td>\n",
              "      <td>6.816660e+07</td>\n",
              "      <td>8.211045e+07</td>\n",
              "      <td>8.262894e+07</td>\n",
              "      <td>NaN</td>\n",
              "      <td>NaN</td>\n",
              "      <td>NaN</td>\n",
              "      <td>NaN</td>\n",
              "      <td>NaN</td>\n",
              "      <td>NaN</td>\n",
              "      <td>NaN</td>\n",
              "    </tr>\n",
              "    <tr>\n",
              "      <th>2</th>\n",
              "      <td>1000180</td>\n",
              "      <td>Goodwill</td>\n",
              "      <td>NaN</td>\n",
              "      <td>1.548990e+08</td>\n",
              "      <td>2.017350e+08</td>\n",
              "      <td>3.181110e+08</td>\n",
              "      <td>8.313280e+08</td>\n",
              "      <td>8.313280e+08</td>\n",
              "      <td>NaN</td>\n",
              "      <td>NaN</td>\n",
              "      <td>NaN</td>\n",
              "      <td>NaN</td>\n",
              "      <td>NaN</td>\n",
              "    </tr>\n",
              "    <tr>\n",
              "      <th>3</th>\n",
              "      <td>1000180</td>\n",
              "      <td>NetIncomeLoss</td>\n",
              "      <td>1.300142e+09</td>\n",
              "      <td>NaN</td>\n",
              "      <td>NaN</td>\n",
              "      <td>NaN</td>\n",
              "      <td>NaN</td>\n",
              "      <td>NaN</td>\n",
              "      <td>NaN</td>\n",
              "      <td>NaN</td>\n",
              "      <td>NaN</td>\n",
              "      <td>NaN</td>\n",
              "      <td>NaN</td>\n",
              "    </tr>\n",
              "    <tr>\n",
              "      <th>4</th>\n",
              "      <td>1000180</td>\n",
              "      <td>Revenues</td>\n",
              "      <td>4.826807e+09</td>\n",
              "      <td>5.662145e+09</td>\n",
              "      <td>5.052509e+09</td>\n",
              "      <td>6.170003e+09</td>\n",
              "      <td>6.627701e+09</td>\n",
              "      <td>5.564872e+09</td>\n",
              "      <td>NaN</td>\n",
              "      <td>NaN</td>\n",
              "      <td>NaN</td>\n",
              "      <td>NaN</td>\n",
              "      <td>NaN</td>\n",
              "    </tr>\n",
              "  </tbody>\n",
              "</table>\n",
              "</div>"
            ],
            "text/plain": [
              "   company_id   indicator_id          2010  ...       2018       2019  2020\n",
              "0     1000045  NetIncomeLoss           NaN  ... -3648000.0  3466000.0   NaN\n",
              "1     1000045       Revenues           NaN  ...        NaN        NaN   NaN\n",
              "2     1000180       Goodwill           NaN  ...        NaN        NaN   NaN\n",
              "3     1000180  NetIncomeLoss  1.300142e+09  ...        NaN        NaN   NaN\n",
              "4     1000180       Revenues  4.826807e+09  ...        NaN        NaN   NaN\n",
              "\n",
              "[5 rows x 13 columns]"
            ]
          },
          "metadata": {},
          "execution_count": 50
        }
      ]
    },
    {
      "cell_type": "code",
      "metadata": {
        "id": "qIIwAWm4slac",
        "outputId": "f6b8c6a5-6aca-40a3-f876-1a6c5a3210fc",
        "colab": {
          "base_uri": "https://localhost:8080/"
        }
      },
      "source": [
        "us_companies_indicators.indicator_id.unique()"
      ],
      "execution_count": 51,
      "outputs": [
        {
          "output_type": "execute_result",
          "data": {
            "text/plain": [
              "array(['NetIncomeLoss', 'Revenues', 'Goodwill'], dtype=object)"
            ]
          },
          "metadata": {},
          "execution_count": 51
        }
      ]
    },
    {
      "cell_type": "code",
      "metadata": {
        "id": "NBlPiwQhs0kr"
      },
      "source": [
        ""
      ],
      "execution_count": null,
      "outputs": []
    }
  ]
}