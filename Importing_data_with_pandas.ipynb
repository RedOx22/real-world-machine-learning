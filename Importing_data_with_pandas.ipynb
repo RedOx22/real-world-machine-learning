{
  "nbformat": 4,
  "nbformat_minor": 0,
  "metadata": {
    "colab": {
      "name": "Importing-data-with-pandas",
      "provenance": [],
      "collapsed_sections": [],
      "authorship_tag": "ABX9TyOGpUKHfgxK75+AJ1IxpWcq",
      "include_colab_link": true
    },
    "kernelspec": {
      "name": "python3",
      "display_name": "Python 3"
    }
  },
  "cells": [
    {
      "cell_type": "markdown",
      "metadata": {
        "id": "view-in-github",
        "colab_type": "text"
      },
      "source": [
        "<a href=\"https://colab.research.google.com/github/thimotyb/real-world-machine-learning/blob/python3/Importing_data_with_pandas.ipynb\" target=\"_parent\"><img src=\"https://colab.research.google.com/assets/colab-badge.svg\" alt=\"Open In Colab\"/></a>"
      ]
    },
    {
      "cell_type": "markdown",
      "metadata": {
        "id": "1SGX5OqzYodV"
      },
      "source": [
        "*Lavorare con il database in SQL e Pandas*"
      ]
    },
    {
      "cell_type": "code",
      "metadata": {
        "id": "lyRjGDMFQEnj",
        "outputId": "6eac1c69-a673-4cfc-973e-ed05571936cd",
        "colab": {
          "base_uri": "https://localhost:8080/"
        }
      },
      "source": [
        "import urllib.request\n",
        "print('Beginning file download with urllib2...')\n",
        "url = 'https://github.com/thimotyb/real-world-machine-learning/raw/python3/flights.db'\n",
        "urllib.request.urlretrieve(url, 'flights.db')"
      ],
      "execution_count": 1,
      "outputs": [
        {
          "output_type": "stream",
          "name": "stdout",
          "text": [
            "Beginning file download with urllib2...\n"
          ]
        },
        {
          "output_type": "execute_result",
          "data": {
            "text/plain": [
              "('flights.db', <http.client.HTTPMessage at 0x7f5360fe2750>)"
            ]
          },
          "metadata": {},
          "execution_count": 1
        }
      ]
    },
    {
      "cell_type": "code",
      "metadata": {
        "id": "zlXuct72NetM",
        "colab": {
          "base_uri": "https://localhost:8080/",
          "height": 205
        },
        "outputId": "e4b85723-6439-4eff-c84f-3b7257849eb5"
      },
      "source": [
        "# Dimostrazione di collegamento a database usando SQLLite\n",
        "\n",
        "import pandas as pd\n",
        "import sqlite3\n",
        "conn = sqlite3.connect(\"flights.db\")\n",
        "df = pd.read_sql_query(\"select * from airlines limit 5;\", conn)\n",
        "df"
      ],
      "execution_count": 2,
      "outputs": [
        {
          "output_type": "execute_result",
          "data": {
            "text/html": [
              "<div>\n",
              "<style scoped>\n",
              "    .dataframe tbody tr th:only-of-type {\n",
              "        vertical-align: middle;\n",
              "    }\n",
              "\n",
              "    .dataframe tbody tr th {\n",
              "        vertical-align: top;\n",
              "    }\n",
              "\n",
              "    .dataframe thead th {\n",
              "        text-align: right;\n",
              "    }\n",
              "</style>\n",
              "<table border=\"1\" class=\"dataframe\">\n",
              "  <thead>\n",
              "    <tr style=\"text-align: right;\">\n",
              "      <th></th>\n",
              "      <th>index</th>\n",
              "      <th>id</th>\n",
              "      <th>name</th>\n",
              "      <th>alias</th>\n",
              "      <th>iata</th>\n",
              "      <th>icao</th>\n",
              "      <th>callsign</th>\n",
              "      <th>country</th>\n",
              "      <th>active</th>\n",
              "    </tr>\n",
              "  </thead>\n",
              "  <tbody>\n",
              "    <tr>\n",
              "      <th>0</th>\n",
              "      <td>0</td>\n",
              "      <td>1</td>\n",
              "      <td>Private flight</td>\n",
              "      <td>\\N</td>\n",
              "      <td>-</td>\n",
              "      <td>None</td>\n",
              "      <td>None</td>\n",
              "      <td>None</td>\n",
              "      <td>Y</td>\n",
              "    </tr>\n",
              "    <tr>\n",
              "      <th>1</th>\n",
              "      <td>1</td>\n",
              "      <td>2</td>\n",
              "      <td>135 Airways</td>\n",
              "      <td>\\N</td>\n",
              "      <td>None</td>\n",
              "      <td>GNL</td>\n",
              "      <td>GENERAL</td>\n",
              "      <td>United States</td>\n",
              "      <td>N</td>\n",
              "    </tr>\n",
              "    <tr>\n",
              "      <th>2</th>\n",
              "      <td>2</td>\n",
              "      <td>3</td>\n",
              "      <td>1Time Airline</td>\n",
              "      <td>\\N</td>\n",
              "      <td>1T</td>\n",
              "      <td>RNX</td>\n",
              "      <td>NEXTIME</td>\n",
              "      <td>South Africa</td>\n",
              "      <td>Y</td>\n",
              "    </tr>\n",
              "    <tr>\n",
              "      <th>3</th>\n",
              "      <td>3</td>\n",
              "      <td>4</td>\n",
              "      <td>2 Sqn No 1 Elementary Flying Training School</td>\n",
              "      <td>\\N</td>\n",
              "      <td>None</td>\n",
              "      <td>WYT</td>\n",
              "      <td>None</td>\n",
              "      <td>United Kingdom</td>\n",
              "      <td>N</td>\n",
              "    </tr>\n",
              "    <tr>\n",
              "      <th>4</th>\n",
              "      <td>4</td>\n",
              "      <td>5</td>\n",
              "      <td>213 Flight Unit</td>\n",
              "      <td>\\N</td>\n",
              "      <td>None</td>\n",
              "      <td>TFU</td>\n",
              "      <td>None</td>\n",
              "      <td>Russia</td>\n",
              "      <td>N</td>\n",
              "    </tr>\n",
              "  </tbody>\n",
              "</table>\n",
              "</div>"
            ],
            "text/plain": [
              "   index id  ...         country active\n",
              "0      0  1  ...            None      Y\n",
              "1      1  2  ...   United States      N\n",
              "2      2  3  ...    South Africa      Y\n",
              "3      3  4  ...  United Kingdom      N\n",
              "4      4  5  ...          Russia      N\n",
              "\n",
              "[5 rows x 9 columns]"
            ]
          },
          "metadata": {},
          "execution_count": 2
        }
      ]
    },
    {
      "cell_type": "code",
      "metadata": {
        "id": "-zomPF0rPc64",
        "colab": {
          "base_uri": "https://localhost:8080/",
          "height": 54
        },
        "outputId": "92323fa8-7eb6-4619-ca2a-b191265ee62c"
      },
      "source": [
        "# Prelievo senza dataframe\n",
        "cur = conn.cursor()\n",
        "cur.execute(\"select * from airlines limit 5;\")\n",
        "results = cur.fetchall()\n",
        "print(results)"
      ],
      "execution_count": null,
      "outputs": [
        {
          "output_type": "stream",
          "text": [
            "[(0, '1', 'Private flight', '\\\\N', '-', None, None, None, 'Y'), (1, '2', '135 Airways', '\\\\N', None, 'GNL', 'GENERAL', 'United States', 'N'), (2, '3', '1Time Airline', '\\\\N', '1T', 'RNX', 'NEXTIME', 'South Africa', 'Y'), (3, '4', '2 Sqn No 1 Elementary Flying Training School', '\\\\N', None, 'WYT', None, 'United Kingdom', 'N'), (4, '5', '213 Flight Unit', '\\\\N', None, 'TFU', None, 'Russia', 'N')]\n"
          ],
          "name": "stdout"
        }
      ]
    },
    {
      "cell_type": "code",
      "metadata": {
        "id": "8uxiJ332PTby",
        "colab": {
          "base_uri": "https://localhost:8080/",
          "height": 34
        },
        "outputId": "87f035a6-5f05-48b5-ac90-0b367d7ae6f7"
      },
      "source": [
        "# Inserimento\n",
        "cur.execute(\"insert into airlines values (6048, 19846, 'Test flight', '', '', null, null, null, 'Y')\")\n"
      ],
      "execution_count": null,
      "outputs": [
        {
          "output_type": "execute_result",
          "data": {
            "text/plain": [
              "<sqlite3.Cursor at 0x7f05b317fea0>"
            ]
          },
          "metadata": {
            "tags": []
          },
          "execution_count": 24
        }
      ]
    },
    {
      "cell_type": "code",
      "metadata": {
        "id": "sQn3IrKRSqRe",
        "colab": {
          "base_uri": "https://localhost:8080/",
          "height": 54
        },
        "outputId": "85a28ce9-ac16-48fc-c4c2-ce7ad0f56c9e"
      },
      "source": [
        "cur.execute(\"select * from airlines where name = 'Test flight';\")\n",
        "results = cur.fetchall()\n",
        "print(results)"
      ],
      "execution_count": null,
      "outputs": [
        {
          "output_type": "stream",
          "text": [
            "[(6048, '19846', 'Test flight', '', '', None, None, None, 'Y'), (6048, '19846', 'Test flight', '', '', None, None, None, 'Y')]\n"
          ],
          "name": "stdout"
        }
      ]
    },
    {
      "cell_type": "code",
      "metadata": {
        "id": "jYkuABjtSmJ2",
        "colab": {
          "base_uri": "https://localhost:8080/",
          "height": 34
        },
        "outputId": "4994d0b6-dfd5-4dac-8862-fb44078df19d"
      },
      "source": [
        "# Uso di parametri per evitare sql injection\n",
        "\n",
        "# Non così\n",
        "#name = 'Test Flight'\n",
        "#cur.execute(\"insert into airlines values (6049, 19847, {0}, '', '', null, null, null, 'Y')\".format(name))\n",
        "\n",
        "# Ma così\n",
        "values = ('Test Flight', 'Y')\n",
        "cur.execute(\"insert into airlines values (6049, 19847, ?, '', '', null, null, null, ?)\", values)"
      ],
      "execution_count": null,
      "outputs": [
        {
          "output_type": "execute_result",
          "data": {
            "text/plain": [
              "<sqlite3.Cursor at 0x7f05b317fea0>"
            ]
          },
          "metadata": {
            "tags": []
          },
          "execution_count": 26
        }
      ]
    },
    {
      "cell_type": "code",
      "metadata": {
        "id": "5kdOLvvXTVhE",
        "colab": {
          "base_uri": "https://localhost:8080/",
          "height": 54
        },
        "outputId": "fb66db0a-948e-4fb4-f165-1d21036ad82f"
      },
      "source": [
        "cur.execute(\"select * from airlines where name = 'Test Flight';\")\n",
        "results = cur.fetchall()\n",
        "print(results)"
      ],
      "execution_count": null,
      "outputs": [
        {
          "output_type": "stream",
          "text": [
            "[(6049, '19847', 'Test Flight', '', '', None, None, None, 'Y'), (6049, '19847', 'Test Flight', '', '', None, None, None, 'Y')]\n"
          ],
          "name": "stdout"
        }
      ]
    },
    {
      "cell_type": "code",
      "metadata": {
        "id": "sRfLxPihUEC_",
        "colab": {
          "base_uri": "https://localhost:8080/",
          "height": 34
        },
        "outputId": "d545be2b-c032-4cba-8d65-ca096b54212d"
      },
      "source": [
        "# Creare tabelle direttamente con SQL\n",
        "cur.execute(\"create table daily_flights (id integer, departure date, arrival date, number text, route_id integer)\")\n",
        "cur.execute(\"insert into daily_flights values (1, '2016-09-28 0:00', '2016-09-28 12:00', 'T1', 1)\")\n"
      ],
      "execution_count": null,
      "outputs": [
        {
          "output_type": "execute_result",
          "data": {
            "text/plain": [
              "<sqlite3.Cursor at 0x7f05b317fea0>"
            ]
          },
          "metadata": {
            "tags": []
          },
          "execution_count": 31
        }
      ]
    },
    {
      "cell_type": "code",
      "metadata": {
        "id": "CSXg-gnTUraW",
        "colab": {
          "base_uri": "https://localhost:8080/",
          "height": 79
        },
        "outputId": "aabed4a5-9b67-4f1b-db80-27871c38a62e"
      },
      "source": [
        "pd.read_sql_query(\"select * from daily_flights;\", conn)"
      ],
      "execution_count": null,
      "outputs": [
        {
          "output_type": "execute_result",
          "data": {
            "text/html": [
              "<div>\n",
              "<style scoped>\n",
              "    .dataframe tbody tr th:only-of-type {\n",
              "        vertical-align: middle;\n",
              "    }\n",
              "\n",
              "    .dataframe tbody tr th {\n",
              "        vertical-align: top;\n",
              "    }\n",
              "\n",
              "    .dataframe thead th {\n",
              "        text-align: right;\n",
              "    }\n",
              "</style>\n",
              "<table border=\"1\" class=\"dataframe\">\n",
              "  <thead>\n",
              "    <tr style=\"text-align: right;\">\n",
              "      <th></th>\n",
              "      <th>id</th>\n",
              "      <th>departure</th>\n",
              "      <th>arrival</th>\n",
              "      <th>number</th>\n",
              "      <th>route_id</th>\n",
              "    </tr>\n",
              "  </thead>\n",
              "  <tbody>\n",
              "    <tr>\n",
              "      <th>0</th>\n",
              "      <td>1</td>\n",
              "      <td>2016-09-28 0:00</td>\n",
              "      <td>2016-09-28 12:00</td>\n",
              "      <td>T1</td>\n",
              "      <td>1</td>\n",
              "    </tr>\n",
              "  </tbody>\n",
              "</table>\n",
              "</div>"
            ],
            "text/plain": [
              "   id        departure           arrival number  route_id\n",
              "0   1  2016-09-28 0:00  2016-09-28 12:00     T1         1"
            ]
          },
          "metadata": {
            "tags": []
          },
          "execution_count": 32
        }
      ]
    },
    {
      "cell_type": "code",
      "metadata": {
        "id": "eLyVsCWuUvAs"
      },
      "source": [
        "# Creare tabelle e manipolare dati in SQL con Pandas\n",
        "from datetime import datetime\n",
        "df = pd.DataFrame(\n",
        "[[1, datetime(2016, 9, 29, 0, 0) ,\n",
        "datetime(2016, 9, 29, 12, 0), 'T1', 1]],\n",
        "columns=[\"id\", \"departure\", \"arrival\", \"number\", \"route_id\"])"
      ],
      "execution_count": null,
      "outputs": []
    },
    {
      "cell_type": "code",
      "metadata": {
        "id": "SR5djvBYWbJo"
      },
      "source": [
        "df.to_sql(\"daily_flights\", conn, if_exists=\"replace\")"
      ],
      "execution_count": null,
      "outputs": []
    },
    {
      "cell_type": "code",
      "metadata": {
        "id": "q_1WcSnsWd_o",
        "colab": {
          "base_uri": "https://localhost:8080/",
          "height": 79
        },
        "outputId": "95109e6d-6b5c-4a36-b8f5-a3cbfa21b4d3"
      },
      "source": [
        "pd.read_sql_query(\"select * from daily_flights;\", conn)"
      ],
      "execution_count": null,
      "outputs": [
        {
          "output_type": "execute_result",
          "data": {
            "text/html": [
              "<div>\n",
              "<style scoped>\n",
              "    .dataframe tbody tr th:only-of-type {\n",
              "        vertical-align: middle;\n",
              "    }\n",
              "\n",
              "    .dataframe tbody tr th {\n",
              "        vertical-align: top;\n",
              "    }\n",
              "\n",
              "    .dataframe thead th {\n",
              "        text-align: right;\n",
              "    }\n",
              "</style>\n",
              "<table border=\"1\" class=\"dataframe\">\n",
              "  <thead>\n",
              "    <tr style=\"text-align: right;\">\n",
              "      <th></th>\n",
              "      <th>index</th>\n",
              "      <th>id</th>\n",
              "      <th>departure</th>\n",
              "      <th>arrival</th>\n",
              "      <th>number</th>\n",
              "      <th>route_id</th>\n",
              "    </tr>\n",
              "  </thead>\n",
              "  <tbody>\n",
              "    <tr>\n",
              "      <th>0</th>\n",
              "      <td>0</td>\n",
              "      <td>1</td>\n",
              "      <td>2016-09-29 00:00:00</td>\n",
              "      <td>2016-09-29 12:00:00</td>\n",
              "      <td>T1</td>\n",
              "      <td>1</td>\n",
              "    </tr>\n",
              "  </tbody>\n",
              "</table>\n",
              "</div>"
            ],
            "text/plain": [
              "   index  id            departure              arrival number  route_id\n",
              "0      0   1  2016-09-29 00:00:00  2016-09-29 12:00:00     T1         1"
            ]
          },
          "metadata": {
            "tags": []
          },
          "execution_count": 35
        }
      ]
    },
    {
      "cell_type": "code",
      "metadata": {
        "id": "3v3Ub2FdWhoG"
      },
      "source": [
        "# Possibilità di Alter Table\n",
        "df = pd.read_sql(\"select * from daily_flights\", conn)\n",
        "df[\"delay_minutes\"] = None\n",
        "df.to_sql(\"daily_flights\", conn, if_exists=\"replace\")"
      ],
      "execution_count": null,
      "outputs": []
    },
    {
      "cell_type": "code",
      "metadata": {
        "id": "ZJSQ29_aWrVp",
        "colab": {
          "base_uri": "https://localhost:8080/",
          "height": 79
        },
        "outputId": "55a7ebd5-e434-4698-a83d-f14c824260fb"
      },
      "source": [
        "df"
      ],
      "execution_count": null,
      "outputs": [
        {
          "output_type": "execute_result",
          "data": {
            "text/html": [
              "<div>\n",
              "<style scoped>\n",
              "    .dataframe tbody tr th:only-of-type {\n",
              "        vertical-align: middle;\n",
              "    }\n",
              "\n",
              "    .dataframe tbody tr th {\n",
              "        vertical-align: top;\n",
              "    }\n",
              "\n",
              "    .dataframe thead th {\n",
              "        text-align: right;\n",
              "    }\n",
              "</style>\n",
              "<table border=\"1\" class=\"dataframe\">\n",
              "  <thead>\n",
              "    <tr style=\"text-align: right;\">\n",
              "      <th></th>\n",
              "      <th>index</th>\n",
              "      <th>id</th>\n",
              "      <th>departure</th>\n",
              "      <th>arrival</th>\n",
              "      <th>number</th>\n",
              "      <th>route_id</th>\n",
              "      <th>delay_minutes</th>\n",
              "    </tr>\n",
              "  </thead>\n",
              "  <tbody>\n",
              "    <tr>\n",
              "      <th>0</th>\n",
              "      <td>0</td>\n",
              "      <td>1</td>\n",
              "      <td>2016-09-29 00:00:00</td>\n",
              "      <td>2016-09-29 12:00:00</td>\n",
              "      <td>T1</td>\n",
              "      <td>1</td>\n",
              "      <td>None</td>\n",
              "    </tr>\n",
              "  </tbody>\n",
              "</table>\n",
              "</div>"
            ],
            "text/plain": [
              "   index  id            departure  ... number route_id  delay_minutes\n",
              "0      0   1  2016-09-29 00:00:00  ...     T1        1           None\n",
              "\n",
              "[1 rows x 7 columns]"
            ]
          },
          "metadata": {
            "tags": []
          },
          "execution_count": 37
        }
      ]
    },
    {
      "cell_type": "markdown",
      "metadata": {
        "id": "8KcT_2T2m4vj"
      },
      "source": [
        "Lavorare con SQLAlchemy"
      ]
    },
    {
      "cell_type": "code",
      "metadata": {
        "id": "8094dPnTm624",
        "colab": {
          "base_uri": "https://localhost:8080/",
          "height": 34
        },
        "outputId": "70216753-7c62-4029-f3be-358efbd22010"
      },
      "source": [
        "# https://towardsdatascience.com/sqlalchemy-python-tutorial-79a577141a91\n",
        "import sqlalchemy as db\n",
        "import pandas as pd\n",
        "\n",
        "import urllib.request\n",
        "print('Beginning file download with urllib2...')\n",
        "url = 'https://github.com/thimotyb/hacking-datascience/raw/master/notebooks/sqlalchemy/census.sqlite'\n",
        "urllib.request.urlretrieve(url, 'census.sqlite')\n",
        "\n",
        "engine = db.create_engine('sqlite:///census.sqlite')\n",
        "connection = engine.connect()\n",
        "metadata = db.MetaData()\n",
        "\n",
        "census = db.Table('census', metadata, autoload=True, autoload_with=engine)\n",
        "state_fact = db.Table('state_fact', metadata, autoload=True, autoload_with=engine)"
      ],
      "execution_count": null,
      "outputs": [
        {
          "output_type": "stream",
          "text": [
            "Beginning file download with urllib2...\n"
          ],
          "name": "stdout"
        }
      ]
    },
    {
      "cell_type": "code",
      "metadata": {
        "id": "sI8P0t1bn8_k",
        "colab": {
          "base_uri": "https://localhost:8080/",
          "height": 69
        },
        "outputId": "b037d224-8640-4fd1-f15e-4415e6e062f1"
      },
      "source": [
        "# Querying\n",
        "query = db.select([census]).where(db.and_(census.columns.state == 'California', census.columns.sex != 'M'))\n",
        "result = connection.execute(query).fetchall()\n",
        "result[:3]"
      ],
      "execution_count": null,
      "outputs": [
        {
          "output_type": "execute_result",
          "data": {
            "text/plain": [
              "[('California', 'F', 0, 239605, 274356),\n",
              " ('California', 'F', 1, 236543, 269140),\n",
              " ('California', 'F', 2, 240010, 262556)]"
            ]
          },
          "metadata": {
            "tags": []
          },
          "execution_count": 70
        }
      ]
    },
    {
      "cell_type": "code",
      "metadata": {
        "id": "zGOGAnjWolyc",
        "colab": {
          "base_uri": "https://localhost:8080/",
          "height": 34
        },
        "outputId": "ce90e57d-e3cb-4e95-938a-dabb8d542774"
      },
      "source": [
        "query = db.select([census.columns.state, census.columns.sex]).order_by(db.desc(census.columns.state))\n",
        "result = connection.execute(query).fetchall()\n",
        "result[:3]"
      ],
      "execution_count": null,
      "outputs": [
        {
          "output_type": "execute_result",
          "data": {
            "text/plain": [
              "[('Wyoming', 'M'), ('Wyoming', 'M'), ('Wyoming', 'M')]"
            ]
          },
          "metadata": {
            "tags": []
          },
          "execution_count": 71
        }
      ]
    },
    {
      "cell_type": "code",
      "metadata": {
        "id": "v1Y1flN-osvH",
        "colab": {
          "base_uri": "https://localhost:8080/",
          "height": 34
        },
        "outputId": "974b1b90-5310-4dca-d0eb-cc1bdb0afc00"
      },
      "source": [
        "query = db.select([db.func.max(census.columns.pop2008)])\n",
        "result = connection.execute(query).scalar()\n",
        "result"
      ],
      "execution_count": null,
      "outputs": [
        {
          "output_type": "execute_result",
          "data": {
            "text/plain": [
              "400288"
            ]
          },
          "metadata": {
            "tags": []
          },
          "execution_count": 72
        }
      ]
    },
    {
      "cell_type": "code",
      "metadata": {
        "id": "t5oi6qNuovqO",
        "colab": {
          "base_uri": "https://localhost:8080/",
          "height": 110
        },
        "outputId": "7e353cea-94a2-4edc-e876-ba17866003f8"
      },
      "source": [
        "# Convert to dataframe\n",
        "query = db.select([census.columns.state.distinct()])\n",
        "result = connection.execute(query).fetchall()\n",
        "result[:3]\n",
        "\n",
        "df = pd.DataFrame(result)\n",
        "df.columns = result[0].keys()\n",
        "df.head(2)"
      ],
      "execution_count": null,
      "outputs": [
        {
          "output_type": "execute_result",
          "data": {
            "text/html": [
              "<div>\n",
              "<style scoped>\n",
              "    .dataframe tbody tr th:only-of-type {\n",
              "        vertical-align: middle;\n",
              "    }\n",
              "\n",
              "    .dataframe tbody tr th {\n",
              "        vertical-align: top;\n",
              "    }\n",
              "\n",
              "    .dataframe thead th {\n",
              "        text-align: right;\n",
              "    }\n",
              "</style>\n",
              "<table border=\"1\" class=\"dataframe\">\n",
              "  <thead>\n",
              "    <tr style=\"text-align: right;\">\n",
              "      <th></th>\n",
              "      <th>state</th>\n",
              "    </tr>\n",
              "  </thead>\n",
              "  <tbody>\n",
              "    <tr>\n",
              "      <th>0</th>\n",
              "      <td>Illinois</td>\n",
              "    </tr>\n",
              "    <tr>\n",
              "      <th>1</th>\n",
              "      <td>New Jersey</td>\n",
              "    </tr>\n",
              "  </tbody>\n",
              "</table>\n",
              "</div>"
            ],
            "text/plain": [
              "        state\n",
              "0    Illinois\n",
              "1  New Jersey"
            ]
          },
          "metadata": {
            "tags": []
          },
          "execution_count": 73
        }
      ]
    },
    {
      "cell_type": "code",
      "metadata": {
        "id": "1LW2tSgFo80i",
        "colab": {
          "base_uri": "https://localhost:8080/",
          "height": 202
        },
        "outputId": "af36e548-d746-43d2-befc-07efe0082df2"
      },
      "source": [
        "# Automatic Join\n",
        "metadata = db.MetaData()\n",
        "census = db.Table('census', metadata, autoload=True, autoload_with=engine)\n",
        "state_fact = db.Table('state_fact', metadata, autoload=True, autoload_with=engine)\n",
        "\n",
        "query = db.select([census.columns.pop2008, state_fact.columns.abbreviation])\n",
        "results = connection.execute(query).fetchall()\n",
        "df = pd.DataFrame(results)\n",
        "df.columns = results[0].keys()\n",
        "df.head(5)"
      ],
      "execution_count": null,
      "outputs": [
        {
          "output_type": "execute_result",
          "data": {
            "text/html": [
              "<div>\n",
              "<style scoped>\n",
              "    .dataframe tbody tr th:only-of-type {\n",
              "        vertical-align: middle;\n",
              "    }\n",
              "\n",
              "    .dataframe tbody tr th {\n",
              "        vertical-align: top;\n",
              "    }\n",
              "\n",
              "    .dataframe thead th {\n",
              "        text-align: right;\n",
              "    }\n",
              "</style>\n",
              "<table border=\"1\" class=\"dataframe\">\n",
              "  <thead>\n",
              "    <tr style=\"text-align: right;\">\n",
              "      <th></th>\n",
              "      <th>pop2008</th>\n",
              "      <th>abbreviation</th>\n",
              "    </tr>\n",
              "  </thead>\n",
              "  <tbody>\n",
              "    <tr>\n",
              "      <th>0</th>\n",
              "      <td>95012</td>\n",
              "      <td>IL</td>\n",
              "    </tr>\n",
              "    <tr>\n",
              "      <th>1</th>\n",
              "      <td>95012</td>\n",
              "      <td>NJ</td>\n",
              "    </tr>\n",
              "    <tr>\n",
              "      <th>2</th>\n",
              "      <td>95012</td>\n",
              "      <td>ND</td>\n",
              "    </tr>\n",
              "    <tr>\n",
              "      <th>3</th>\n",
              "      <td>95012</td>\n",
              "      <td>OR</td>\n",
              "    </tr>\n",
              "    <tr>\n",
              "      <th>4</th>\n",
              "      <td>95012</td>\n",
              "      <td>DC</td>\n",
              "    </tr>\n",
              "  </tbody>\n",
              "</table>\n",
              "</div>"
            ],
            "text/plain": [
              "   pop2008 abbreviation\n",
              "0    95012           IL\n",
              "1    95012           NJ\n",
              "2    95012           ND\n",
              "3    95012           OR\n",
              "4    95012           DC"
            ]
          },
          "metadata": {
            "tags": []
          },
          "execution_count": 76
        }
      ]
    },
    {
      "cell_type": "code",
      "metadata": {
        "id": "-2Ubnv32pr9-",
        "colab": {
          "base_uri": "https://localhost:8080/",
          "height": 222
        },
        "outputId": "908cca16-2236-4a4c-a30d-ec001b2b369e"
      },
      "source": [
        "# Manual Join\n",
        "\n",
        "query = db.select([census, state_fact])\n",
        "query = query.select_from(census.join(state_fact, census.columns.state == state_fact.columns.name))\n",
        "results = connection.execute(query).fetchall()\n",
        "df = pd.DataFrame(results)\n",
        "df.columns = results[0].keys()\n",
        "df.head(5)"
      ],
      "execution_count": null,
      "outputs": [
        {
          "output_type": "execute_result",
          "data": {
            "text/html": [
              "<div>\n",
              "<style scoped>\n",
              "    .dataframe tbody tr th:only-of-type {\n",
              "        vertical-align: middle;\n",
              "    }\n",
              "\n",
              "    .dataframe tbody tr th {\n",
              "        vertical-align: top;\n",
              "    }\n",
              "\n",
              "    .dataframe thead th {\n",
              "        text-align: right;\n",
              "    }\n",
              "</style>\n",
              "<table border=\"1\" class=\"dataframe\">\n",
              "  <thead>\n",
              "    <tr style=\"text-align: right;\">\n",
              "      <th></th>\n",
              "      <th>state</th>\n",
              "      <th>sex</th>\n",
              "      <th>age</th>\n",
              "      <th>pop2000</th>\n",
              "      <th>pop2008</th>\n",
              "      <th>id</th>\n",
              "      <th>name</th>\n",
              "      <th>abbreviation</th>\n",
              "      <th>country</th>\n",
              "      <th>type</th>\n",
              "      <th>sort</th>\n",
              "      <th>status</th>\n",
              "      <th>occupied</th>\n",
              "      <th>notes</th>\n",
              "      <th>fips_state</th>\n",
              "      <th>assoc_press</th>\n",
              "      <th>standard_federal_region</th>\n",
              "      <th>census_region</th>\n",
              "      <th>census_region_name</th>\n",
              "      <th>census_division</th>\n",
              "      <th>census_division_name</th>\n",
              "      <th>circuit_court</th>\n",
              "    </tr>\n",
              "  </thead>\n",
              "  <tbody>\n",
              "    <tr>\n",
              "      <th>0</th>\n",
              "      <td>Illinois</td>\n",
              "      <td>M</td>\n",
              "      <td>0</td>\n",
              "      <td>89600</td>\n",
              "      <td>95012</td>\n",
              "      <td>13</td>\n",
              "      <td>Illinois</td>\n",
              "      <td>IL</td>\n",
              "      <td>USA</td>\n",
              "      <td>state</td>\n",
              "      <td>10</td>\n",
              "      <td>current</td>\n",
              "      <td>occupied</td>\n",
              "      <td></td>\n",
              "      <td>17</td>\n",
              "      <td>Ill.</td>\n",
              "      <td>V</td>\n",
              "      <td>2</td>\n",
              "      <td>Midwest</td>\n",
              "      <td>3</td>\n",
              "      <td>East North Central</td>\n",
              "      <td>7</td>\n",
              "    </tr>\n",
              "    <tr>\n",
              "      <th>1</th>\n",
              "      <td>Illinois</td>\n",
              "      <td>M</td>\n",
              "      <td>1</td>\n",
              "      <td>88445</td>\n",
              "      <td>91829</td>\n",
              "      <td>13</td>\n",
              "      <td>Illinois</td>\n",
              "      <td>IL</td>\n",
              "      <td>USA</td>\n",
              "      <td>state</td>\n",
              "      <td>10</td>\n",
              "      <td>current</td>\n",
              "      <td>occupied</td>\n",
              "      <td></td>\n",
              "      <td>17</td>\n",
              "      <td>Ill.</td>\n",
              "      <td>V</td>\n",
              "      <td>2</td>\n",
              "      <td>Midwest</td>\n",
              "      <td>3</td>\n",
              "      <td>East North Central</td>\n",
              "      <td>7</td>\n",
              "    </tr>\n",
              "    <tr>\n",
              "      <th>2</th>\n",
              "      <td>Illinois</td>\n",
              "      <td>M</td>\n",
              "      <td>2</td>\n",
              "      <td>88729</td>\n",
              "      <td>89547</td>\n",
              "      <td>13</td>\n",
              "      <td>Illinois</td>\n",
              "      <td>IL</td>\n",
              "      <td>USA</td>\n",
              "      <td>state</td>\n",
              "      <td>10</td>\n",
              "      <td>current</td>\n",
              "      <td>occupied</td>\n",
              "      <td></td>\n",
              "      <td>17</td>\n",
              "      <td>Ill.</td>\n",
              "      <td>V</td>\n",
              "      <td>2</td>\n",
              "      <td>Midwest</td>\n",
              "      <td>3</td>\n",
              "      <td>East North Central</td>\n",
              "      <td>7</td>\n",
              "    </tr>\n",
              "    <tr>\n",
              "      <th>3</th>\n",
              "      <td>Illinois</td>\n",
              "      <td>M</td>\n",
              "      <td>3</td>\n",
              "      <td>88868</td>\n",
              "      <td>90037</td>\n",
              "      <td>13</td>\n",
              "      <td>Illinois</td>\n",
              "      <td>IL</td>\n",
              "      <td>USA</td>\n",
              "      <td>state</td>\n",
              "      <td>10</td>\n",
              "      <td>current</td>\n",
              "      <td>occupied</td>\n",
              "      <td></td>\n",
              "      <td>17</td>\n",
              "      <td>Ill.</td>\n",
              "      <td>V</td>\n",
              "      <td>2</td>\n",
              "      <td>Midwest</td>\n",
              "      <td>3</td>\n",
              "      <td>East North Central</td>\n",
              "      <td>7</td>\n",
              "    </tr>\n",
              "    <tr>\n",
              "      <th>4</th>\n",
              "      <td>Illinois</td>\n",
              "      <td>M</td>\n",
              "      <td>4</td>\n",
              "      <td>91947</td>\n",
              "      <td>91111</td>\n",
              "      <td>13</td>\n",
              "      <td>Illinois</td>\n",
              "      <td>IL</td>\n",
              "      <td>USA</td>\n",
              "      <td>state</td>\n",
              "      <td>10</td>\n",
              "      <td>current</td>\n",
              "      <td>occupied</td>\n",
              "      <td></td>\n",
              "      <td>17</td>\n",
              "      <td>Ill.</td>\n",
              "      <td>V</td>\n",
              "      <td>2</td>\n",
              "      <td>Midwest</td>\n",
              "      <td>3</td>\n",
              "      <td>East North Central</td>\n",
              "      <td>7</td>\n",
              "    </tr>\n",
              "  </tbody>\n",
              "</table>\n",
              "</div>"
            ],
            "text/plain": [
              "      state sex  age  ...  census_division  census_division_name circuit_court\n",
              "0  Illinois   M    0  ...                3    East North Central             7\n",
              "1  Illinois   M    1  ...                3    East North Central             7\n",
              "2  Illinois   M    2  ...                3    East North Central             7\n",
              "3  Illinois   M    3  ...                3    East North Central             7\n",
              "4  Illinois   M    4  ...                3    East North Central             7\n",
              "\n",
              "[5 rows x 22 columns]"
            ]
          },
          "metadata": {
            "tags": []
          },
          "execution_count": 77
        }
      ]
    },
    {
      "cell_type": "markdown",
      "metadata": {
        "id": "P2IBa_s7YytX"
      },
      "source": [
        "*Lavorare con Excel*"
      ]
    },
    {
      "cell_type": "code",
      "metadata": {
        "id": "2aBmENYNY1R3"
      },
      "source": [
        "excel_file = 'https://github.com/thimotyb/real-world-machine-learning/raw/python3/movies.xls'\n",
        "movies = pd.read_excel(excel_file)"
      ],
      "execution_count": null,
      "outputs": []
    },
    {
      "cell_type": "code",
      "metadata": {
        "id": "gNN0BswlZUGP",
        "colab": {
          "base_uri": "https://localhost:8080/",
          "height": 464
        },
        "outputId": "890438f8-8140-4a61-8f9d-3f579d6d5910"
      },
      "source": [
        "movies.head(5)"
      ],
      "execution_count": null,
      "outputs": [
        {
          "output_type": "execute_result",
          "data": {
            "text/html": [
              "<div>\n",
              "<style scoped>\n",
              "    .dataframe tbody tr th:only-of-type {\n",
              "        vertical-align: middle;\n",
              "    }\n",
              "\n",
              "    .dataframe tbody tr th {\n",
              "        vertical-align: top;\n",
              "    }\n",
              "\n",
              "    .dataframe thead th {\n",
              "        text-align: right;\n",
              "    }\n",
              "</style>\n",
              "<table border=\"1\" class=\"dataframe\">\n",
              "  <thead>\n",
              "    <tr style=\"text-align: right;\">\n",
              "      <th></th>\n",
              "      <th>Title</th>\n",
              "      <th>Year</th>\n",
              "      <th>Genres</th>\n",
              "      <th>Language</th>\n",
              "      <th>Country</th>\n",
              "      <th>Content Rating</th>\n",
              "      <th>Duration</th>\n",
              "      <th>Aspect Ratio</th>\n",
              "      <th>Budget</th>\n",
              "      <th>Gross Earnings</th>\n",
              "      <th>Director</th>\n",
              "      <th>Actor 1</th>\n",
              "      <th>Actor 2</th>\n",
              "      <th>Actor 3</th>\n",
              "      <th>Facebook Likes - Director</th>\n",
              "      <th>Facebook Likes - Actor 1</th>\n",
              "      <th>Facebook Likes - Actor 2</th>\n",
              "      <th>Facebook Likes - Actor 3</th>\n",
              "      <th>Facebook Likes - cast Total</th>\n",
              "      <th>Facebook likes - Movie</th>\n",
              "      <th>Facenumber in posters</th>\n",
              "      <th>User Votes</th>\n",
              "      <th>Reviews by Users</th>\n",
              "      <th>Reviews by Crtiics</th>\n",
              "      <th>IMDB Score</th>\n",
              "    </tr>\n",
              "  </thead>\n",
              "  <tbody>\n",
              "    <tr>\n",
              "      <th>0</th>\n",
              "      <td>Intolerance: Love's Struggle Throughout the Ages</td>\n",
              "      <td>1916</td>\n",
              "      <td>Drama|History|War</td>\n",
              "      <td>NaN</td>\n",
              "      <td>USA</td>\n",
              "      <td>Not Rated</td>\n",
              "      <td>123</td>\n",
              "      <td>1.33</td>\n",
              "      <td>385907.0</td>\n",
              "      <td>NaN</td>\n",
              "      <td>D.W. Griffith</td>\n",
              "      <td>Lillian Gish</td>\n",
              "      <td>Mae Marsh</td>\n",
              "      <td>Walter Long</td>\n",
              "      <td>204</td>\n",
              "      <td>436</td>\n",
              "      <td>22</td>\n",
              "      <td>9.0</td>\n",
              "      <td>481</td>\n",
              "      <td>691</td>\n",
              "      <td>1</td>\n",
              "      <td>10718</td>\n",
              "      <td>88</td>\n",
              "      <td>69.0</td>\n",
              "      <td>8.0</td>\n",
              "    </tr>\n",
              "    <tr>\n",
              "      <th>1</th>\n",
              "      <td>Over the Hill to the Poorhouse</td>\n",
              "      <td>1920</td>\n",
              "      <td>Crime|Drama</td>\n",
              "      <td>NaN</td>\n",
              "      <td>USA</td>\n",
              "      <td>NaN</td>\n",
              "      <td>110</td>\n",
              "      <td>1.33</td>\n",
              "      <td>100000.0</td>\n",
              "      <td>3000000.0</td>\n",
              "      <td>Harry F. Millarde</td>\n",
              "      <td>Stephen Carr</td>\n",
              "      <td>Johnnie Walker</td>\n",
              "      <td>Mary Carr</td>\n",
              "      <td>0</td>\n",
              "      <td>2</td>\n",
              "      <td>2</td>\n",
              "      <td>0.0</td>\n",
              "      <td>4</td>\n",
              "      <td>0</td>\n",
              "      <td>1</td>\n",
              "      <td>5</td>\n",
              "      <td>1</td>\n",
              "      <td>1.0</td>\n",
              "      <td>4.8</td>\n",
              "    </tr>\n",
              "    <tr>\n",
              "      <th>2</th>\n",
              "      <td>The Big Parade</td>\n",
              "      <td>1925</td>\n",
              "      <td>Drama|Romance|War</td>\n",
              "      <td>NaN</td>\n",
              "      <td>USA</td>\n",
              "      <td>Not Rated</td>\n",
              "      <td>151</td>\n",
              "      <td>1.33</td>\n",
              "      <td>245000.0</td>\n",
              "      <td>NaN</td>\n",
              "      <td>King Vidor</td>\n",
              "      <td>John Gilbert</td>\n",
              "      <td>Renée Adorée</td>\n",
              "      <td>Claire Adams</td>\n",
              "      <td>54</td>\n",
              "      <td>81</td>\n",
              "      <td>12</td>\n",
              "      <td>6.0</td>\n",
              "      <td>108</td>\n",
              "      <td>226</td>\n",
              "      <td>0</td>\n",
              "      <td>4849</td>\n",
              "      <td>45</td>\n",
              "      <td>48.0</td>\n",
              "      <td>8.3</td>\n",
              "    </tr>\n",
              "    <tr>\n",
              "      <th>3</th>\n",
              "      <td>Metropolis</td>\n",
              "      <td>1927</td>\n",
              "      <td>Drama|Sci-Fi</td>\n",
              "      <td>German</td>\n",
              "      <td>Germany</td>\n",
              "      <td>Not Rated</td>\n",
              "      <td>145</td>\n",
              "      <td>1.33</td>\n",
              "      <td>6000000.0</td>\n",
              "      <td>26435.0</td>\n",
              "      <td>Fritz Lang</td>\n",
              "      <td>Brigitte Helm</td>\n",
              "      <td>Gustav Fröhlich</td>\n",
              "      <td>Rudolf Klein-Rogge</td>\n",
              "      <td>756</td>\n",
              "      <td>136</td>\n",
              "      <td>23</td>\n",
              "      <td>18.0</td>\n",
              "      <td>203</td>\n",
              "      <td>12000</td>\n",
              "      <td>1</td>\n",
              "      <td>111841</td>\n",
              "      <td>413</td>\n",
              "      <td>260.0</td>\n",
              "      <td>8.3</td>\n",
              "    </tr>\n",
              "    <tr>\n",
              "      <th>4</th>\n",
              "      <td>Pandora's Box</td>\n",
              "      <td>1929</td>\n",
              "      <td>Crime|Drama|Romance</td>\n",
              "      <td>German</td>\n",
              "      <td>Germany</td>\n",
              "      <td>Not Rated</td>\n",
              "      <td>110</td>\n",
              "      <td>1.33</td>\n",
              "      <td>NaN</td>\n",
              "      <td>9950.0</td>\n",
              "      <td>Georg Wilhelm Pabst</td>\n",
              "      <td>Louise Brooks</td>\n",
              "      <td>Francis Lederer</td>\n",
              "      <td>Fritz Kortner</td>\n",
              "      <td>21</td>\n",
              "      <td>426</td>\n",
              "      <td>20</td>\n",
              "      <td>3.0</td>\n",
              "      <td>455</td>\n",
              "      <td>926</td>\n",
              "      <td>1</td>\n",
              "      <td>7431</td>\n",
              "      <td>84</td>\n",
              "      <td>71.0</td>\n",
              "      <td>8.0</td>\n",
              "    </tr>\n",
              "  </tbody>\n",
              "</table>\n",
              "</div>"
            ],
            "text/plain": [
              "                                               Title  ...  IMDB Score\n",
              "0  Intolerance: Love's Struggle Throughout the Ages   ...         8.0\n",
              "1                    Over the Hill to the Poorhouse   ...         4.8\n",
              "2                                    The Big Parade   ...         8.3\n",
              "3                                        Metropolis   ...         8.3\n",
              "4                                     Pandora's Box   ...         8.0\n",
              "\n",
              "[5 rows x 25 columns]"
            ]
          },
          "metadata": {
            "tags": []
          },
          "execution_count": 41
        }
      ]
    },
    {
      "cell_type": "code",
      "metadata": {
        "id": "phSpG5UXZVYk",
        "colab": {
          "base_uri": "https://localhost:8080/",
          "height": 495
        },
        "outputId": "fea2dafa-fb01-4ae4-ed16-6cc4b3d57dec"
      },
      "source": [
        "# Caricare un particolare Foglio del file Excel\n",
        "movies_sheet1 = pd.read_excel(excel_file, sheet_name=0, index_col=0)\n",
        "movies_sheet1.head(5)"
      ],
      "execution_count": null,
      "outputs": [
        {
          "output_type": "execute_result",
          "data": {
            "text/html": [
              "<div>\n",
              "<style scoped>\n",
              "    .dataframe tbody tr th:only-of-type {\n",
              "        vertical-align: middle;\n",
              "    }\n",
              "\n",
              "    .dataframe tbody tr th {\n",
              "        vertical-align: top;\n",
              "    }\n",
              "\n",
              "    .dataframe thead th {\n",
              "        text-align: right;\n",
              "    }\n",
              "</style>\n",
              "<table border=\"1\" class=\"dataframe\">\n",
              "  <thead>\n",
              "    <tr style=\"text-align: right;\">\n",
              "      <th></th>\n",
              "      <th>Year</th>\n",
              "      <th>Genres</th>\n",
              "      <th>Language</th>\n",
              "      <th>Country</th>\n",
              "      <th>Content Rating</th>\n",
              "      <th>Duration</th>\n",
              "      <th>Aspect Ratio</th>\n",
              "      <th>Budget</th>\n",
              "      <th>Gross Earnings</th>\n",
              "      <th>Director</th>\n",
              "      <th>Actor 1</th>\n",
              "      <th>Actor 2</th>\n",
              "      <th>Actor 3</th>\n",
              "      <th>Facebook Likes - Director</th>\n",
              "      <th>Facebook Likes - Actor 1</th>\n",
              "      <th>Facebook Likes - Actor 2</th>\n",
              "      <th>Facebook Likes - Actor 3</th>\n",
              "      <th>Facebook Likes - cast Total</th>\n",
              "      <th>Facebook likes - Movie</th>\n",
              "      <th>Facenumber in posters</th>\n",
              "      <th>User Votes</th>\n",
              "      <th>Reviews by Users</th>\n",
              "      <th>Reviews by Crtiics</th>\n",
              "      <th>IMDB Score</th>\n",
              "    </tr>\n",
              "    <tr>\n",
              "      <th>Title</th>\n",
              "      <th></th>\n",
              "      <th></th>\n",
              "      <th></th>\n",
              "      <th></th>\n",
              "      <th></th>\n",
              "      <th></th>\n",
              "      <th></th>\n",
              "      <th></th>\n",
              "      <th></th>\n",
              "      <th></th>\n",
              "      <th></th>\n",
              "      <th></th>\n",
              "      <th></th>\n",
              "      <th></th>\n",
              "      <th></th>\n",
              "      <th></th>\n",
              "      <th></th>\n",
              "      <th></th>\n",
              "      <th></th>\n",
              "      <th></th>\n",
              "      <th></th>\n",
              "      <th></th>\n",
              "      <th></th>\n",
              "      <th></th>\n",
              "    </tr>\n",
              "  </thead>\n",
              "  <tbody>\n",
              "    <tr>\n",
              "      <th>Intolerance: Love's Struggle Throughout the Ages</th>\n",
              "      <td>1916</td>\n",
              "      <td>Drama|History|War</td>\n",
              "      <td>NaN</td>\n",
              "      <td>USA</td>\n",
              "      <td>Not Rated</td>\n",
              "      <td>123</td>\n",
              "      <td>1.33</td>\n",
              "      <td>385907.0</td>\n",
              "      <td>NaN</td>\n",
              "      <td>D.W. Griffith</td>\n",
              "      <td>Lillian Gish</td>\n",
              "      <td>Mae Marsh</td>\n",
              "      <td>Walter Long</td>\n",
              "      <td>204</td>\n",
              "      <td>436</td>\n",
              "      <td>22</td>\n",
              "      <td>9.0</td>\n",
              "      <td>481</td>\n",
              "      <td>691</td>\n",
              "      <td>1</td>\n",
              "      <td>10718</td>\n",
              "      <td>88</td>\n",
              "      <td>69.0</td>\n",
              "      <td>8.0</td>\n",
              "    </tr>\n",
              "    <tr>\n",
              "      <th>Over the Hill to the Poorhouse</th>\n",
              "      <td>1920</td>\n",
              "      <td>Crime|Drama</td>\n",
              "      <td>NaN</td>\n",
              "      <td>USA</td>\n",
              "      <td>NaN</td>\n",
              "      <td>110</td>\n",
              "      <td>1.33</td>\n",
              "      <td>100000.0</td>\n",
              "      <td>3000000.0</td>\n",
              "      <td>Harry F. Millarde</td>\n",
              "      <td>Stephen Carr</td>\n",
              "      <td>Johnnie Walker</td>\n",
              "      <td>Mary Carr</td>\n",
              "      <td>0</td>\n",
              "      <td>2</td>\n",
              "      <td>2</td>\n",
              "      <td>0.0</td>\n",
              "      <td>4</td>\n",
              "      <td>0</td>\n",
              "      <td>1</td>\n",
              "      <td>5</td>\n",
              "      <td>1</td>\n",
              "      <td>1.0</td>\n",
              "      <td>4.8</td>\n",
              "    </tr>\n",
              "    <tr>\n",
              "      <th>The Big Parade</th>\n",
              "      <td>1925</td>\n",
              "      <td>Drama|Romance|War</td>\n",
              "      <td>NaN</td>\n",
              "      <td>USA</td>\n",
              "      <td>Not Rated</td>\n",
              "      <td>151</td>\n",
              "      <td>1.33</td>\n",
              "      <td>245000.0</td>\n",
              "      <td>NaN</td>\n",
              "      <td>King Vidor</td>\n",
              "      <td>John Gilbert</td>\n",
              "      <td>Renée Adorée</td>\n",
              "      <td>Claire Adams</td>\n",
              "      <td>54</td>\n",
              "      <td>81</td>\n",
              "      <td>12</td>\n",
              "      <td>6.0</td>\n",
              "      <td>108</td>\n",
              "      <td>226</td>\n",
              "      <td>0</td>\n",
              "      <td>4849</td>\n",
              "      <td>45</td>\n",
              "      <td>48.0</td>\n",
              "      <td>8.3</td>\n",
              "    </tr>\n",
              "    <tr>\n",
              "      <th>Metropolis</th>\n",
              "      <td>1927</td>\n",
              "      <td>Drama|Sci-Fi</td>\n",
              "      <td>German</td>\n",
              "      <td>Germany</td>\n",
              "      <td>Not Rated</td>\n",
              "      <td>145</td>\n",
              "      <td>1.33</td>\n",
              "      <td>6000000.0</td>\n",
              "      <td>26435.0</td>\n",
              "      <td>Fritz Lang</td>\n",
              "      <td>Brigitte Helm</td>\n",
              "      <td>Gustav Fröhlich</td>\n",
              "      <td>Rudolf Klein-Rogge</td>\n",
              "      <td>756</td>\n",
              "      <td>136</td>\n",
              "      <td>23</td>\n",
              "      <td>18.0</td>\n",
              "      <td>203</td>\n",
              "      <td>12000</td>\n",
              "      <td>1</td>\n",
              "      <td>111841</td>\n",
              "      <td>413</td>\n",
              "      <td>260.0</td>\n",
              "      <td>8.3</td>\n",
              "    </tr>\n",
              "    <tr>\n",
              "      <th>Pandora's Box</th>\n",
              "      <td>1929</td>\n",
              "      <td>Crime|Drama|Romance</td>\n",
              "      <td>German</td>\n",
              "      <td>Germany</td>\n",
              "      <td>Not Rated</td>\n",
              "      <td>110</td>\n",
              "      <td>1.33</td>\n",
              "      <td>NaN</td>\n",
              "      <td>9950.0</td>\n",
              "      <td>Georg Wilhelm Pabst</td>\n",
              "      <td>Louise Brooks</td>\n",
              "      <td>Francis Lederer</td>\n",
              "      <td>Fritz Kortner</td>\n",
              "      <td>21</td>\n",
              "      <td>426</td>\n",
              "      <td>20</td>\n",
              "      <td>3.0</td>\n",
              "      <td>455</td>\n",
              "      <td>926</td>\n",
              "      <td>1</td>\n",
              "      <td>7431</td>\n",
              "      <td>84</td>\n",
              "      <td>71.0</td>\n",
              "      <td>8.0</td>\n",
              "    </tr>\n",
              "  </tbody>\n",
              "</table>\n",
              "</div>"
            ],
            "text/plain": [
              "                                                   Year  ... IMDB Score\n",
              "Title                                                    ...           \n",
              "Intolerance: Love's Struggle Throughout the Ages   1916  ...        8.0\n",
              "Over the Hill to the Poorhouse                     1920  ...        4.8\n",
              "The Big Parade                                     1925  ...        8.3\n",
              "Metropolis                                         1927  ...        8.3\n",
              "Pandora's Box                                      1929  ...        8.0\n",
              "\n",
              "[5 rows x 24 columns]"
            ]
          },
          "metadata": {
            "tags": []
          },
          "execution_count": 44
        }
      ]
    },
    {
      "cell_type": "code",
      "metadata": {
        "id": "8RvN7Ro2Zw93",
        "colab": {
          "base_uri": "https://localhost:8080/",
          "height": 425
        },
        "outputId": "8956f469-ff4e-4c5e-bf11-c6331256d71e"
      },
      "source": [
        "movies_sheet2 = pd.read_excel(excel_file, sheet_name=1, index_col=0)\n",
        "movies_sheet2.head(5)"
      ],
      "execution_count": null,
      "outputs": [
        {
          "output_type": "execute_result",
          "data": {
            "text/html": [
              "<div>\n",
              "<style scoped>\n",
              "    .dataframe tbody tr th:only-of-type {\n",
              "        vertical-align: middle;\n",
              "    }\n",
              "\n",
              "    .dataframe tbody tr th {\n",
              "        vertical-align: top;\n",
              "    }\n",
              "\n",
              "    .dataframe thead th {\n",
              "        text-align: right;\n",
              "    }\n",
              "</style>\n",
              "<table border=\"1\" class=\"dataframe\">\n",
              "  <thead>\n",
              "    <tr style=\"text-align: right;\">\n",
              "      <th></th>\n",
              "      <th>Year</th>\n",
              "      <th>Genres</th>\n",
              "      <th>Language</th>\n",
              "      <th>Country</th>\n",
              "      <th>Content Rating</th>\n",
              "      <th>Duration</th>\n",
              "      <th>Aspect Ratio</th>\n",
              "      <th>Budget</th>\n",
              "      <th>Gross Earnings</th>\n",
              "      <th>Director</th>\n",
              "      <th>Actor 1</th>\n",
              "      <th>Actor 2</th>\n",
              "      <th>Actor 3</th>\n",
              "      <th>Facebook Likes - Director</th>\n",
              "      <th>Facebook Likes - Actor 1</th>\n",
              "      <th>Facebook Likes - Actor 2</th>\n",
              "      <th>Facebook Likes - Actor 3</th>\n",
              "      <th>Facebook Likes - cast Total</th>\n",
              "      <th>Facebook likes - Movie</th>\n",
              "      <th>Facenumber in posters</th>\n",
              "      <th>User Votes</th>\n",
              "      <th>Reviews by Users</th>\n",
              "      <th>Reviews by Crtiics</th>\n",
              "      <th>IMDB Score</th>\n",
              "    </tr>\n",
              "    <tr>\n",
              "      <th>Title</th>\n",
              "      <th></th>\n",
              "      <th></th>\n",
              "      <th></th>\n",
              "      <th></th>\n",
              "      <th></th>\n",
              "      <th></th>\n",
              "      <th></th>\n",
              "      <th></th>\n",
              "      <th></th>\n",
              "      <th></th>\n",
              "      <th></th>\n",
              "      <th></th>\n",
              "      <th></th>\n",
              "      <th></th>\n",
              "      <th></th>\n",
              "      <th></th>\n",
              "      <th></th>\n",
              "      <th></th>\n",
              "      <th></th>\n",
              "      <th></th>\n",
              "      <th></th>\n",
              "      <th></th>\n",
              "      <th></th>\n",
              "      <th></th>\n",
              "    </tr>\n",
              "  </thead>\n",
              "  <tbody>\n",
              "    <tr>\n",
              "      <th>102 Dalmatians</th>\n",
              "      <td>2000</td>\n",
              "      <td>Adventure|Comedy|Family</td>\n",
              "      <td>English</td>\n",
              "      <td>USA</td>\n",
              "      <td>G</td>\n",
              "      <td>100.0</td>\n",
              "      <td>1.85</td>\n",
              "      <td>85000000.0</td>\n",
              "      <td>66941559.0</td>\n",
              "      <td>Kevin Lima</td>\n",
              "      <td>Ioan Gruffudd</td>\n",
              "      <td>Eric Idle</td>\n",
              "      <td>Jim Carter</td>\n",
              "      <td>36</td>\n",
              "      <td>2000.0</td>\n",
              "      <td>795.0</td>\n",
              "      <td>439.0</td>\n",
              "      <td>4182</td>\n",
              "      <td>372</td>\n",
              "      <td>1</td>\n",
              "      <td>26413</td>\n",
              "      <td>77.0</td>\n",
              "      <td>84.0</td>\n",
              "      <td>4.8</td>\n",
              "    </tr>\n",
              "    <tr>\n",
              "      <th>28 Days</th>\n",
              "      <td>2000</td>\n",
              "      <td>Comedy|Drama</td>\n",
              "      <td>English</td>\n",
              "      <td>USA</td>\n",
              "      <td>PG-13</td>\n",
              "      <td>103.0</td>\n",
              "      <td>1.37</td>\n",
              "      <td>43000000.0</td>\n",
              "      <td>37035515.0</td>\n",
              "      <td>Betty Thomas</td>\n",
              "      <td>Steve Buscemi</td>\n",
              "      <td>Viggo Mortensen</td>\n",
              "      <td>Elizabeth Perkins</td>\n",
              "      <td>84</td>\n",
              "      <td>12000.0</td>\n",
              "      <td>10000.0</td>\n",
              "      <td>664.0</td>\n",
              "      <td>23864</td>\n",
              "      <td>0</td>\n",
              "      <td>1</td>\n",
              "      <td>34597</td>\n",
              "      <td>194.0</td>\n",
              "      <td>116.0</td>\n",
              "      <td>6.0</td>\n",
              "    </tr>\n",
              "    <tr>\n",
              "      <th>3 Strikes</th>\n",
              "      <td>2000</td>\n",
              "      <td>Comedy</td>\n",
              "      <td>English</td>\n",
              "      <td>USA</td>\n",
              "      <td>R</td>\n",
              "      <td>82.0</td>\n",
              "      <td>1.85</td>\n",
              "      <td>6000000.0</td>\n",
              "      <td>9821335.0</td>\n",
              "      <td>DJ Pooh</td>\n",
              "      <td>Mo'Nique</td>\n",
              "      <td>Mike Epps</td>\n",
              "      <td>Faizon Love</td>\n",
              "      <td>69</td>\n",
              "      <td>939.0</td>\n",
              "      <td>706.0</td>\n",
              "      <td>585.0</td>\n",
              "      <td>3354</td>\n",
              "      <td>118</td>\n",
              "      <td>1</td>\n",
              "      <td>1415</td>\n",
              "      <td>10.0</td>\n",
              "      <td>22.0</td>\n",
              "      <td>4.0</td>\n",
              "    </tr>\n",
              "    <tr>\n",
              "      <th>Aberdeen</th>\n",
              "      <td>2000</td>\n",
              "      <td>Drama</td>\n",
              "      <td>English</td>\n",
              "      <td>UK</td>\n",
              "      <td>NaN</td>\n",
              "      <td>106.0</td>\n",
              "      <td>1.85</td>\n",
              "      <td>6500000.0</td>\n",
              "      <td>64148.0</td>\n",
              "      <td>Hans Petter Moland</td>\n",
              "      <td>Charlotte Rampling</td>\n",
              "      <td>Sara-Marie Maltha</td>\n",
              "      <td>Stellan Skarsgård</td>\n",
              "      <td>19</td>\n",
              "      <td>844.0</td>\n",
              "      <td>2.0</td>\n",
              "      <td>0.0</td>\n",
              "      <td>846</td>\n",
              "      <td>260</td>\n",
              "      <td>0</td>\n",
              "      <td>2601</td>\n",
              "      <td>35.0</td>\n",
              "      <td>28.0</td>\n",
              "      <td>7.3</td>\n",
              "    </tr>\n",
              "    <tr>\n",
              "      <th>All the Pretty Horses</th>\n",
              "      <td>2000</td>\n",
              "      <td>Drama|Romance|Western</td>\n",
              "      <td>English</td>\n",
              "      <td>USA</td>\n",
              "      <td>PG-13</td>\n",
              "      <td>220.0</td>\n",
              "      <td>2.35</td>\n",
              "      <td>57000000.0</td>\n",
              "      <td>15527125.0</td>\n",
              "      <td>Billy Bob Thornton</td>\n",
              "      <td>Matt Damon</td>\n",
              "      <td>Henry Thomas</td>\n",
              "      <td>Sam Shepard</td>\n",
              "      <td>0</td>\n",
              "      <td>13000.0</td>\n",
              "      <td>861.0</td>\n",
              "      <td>820.0</td>\n",
              "      <td>15006</td>\n",
              "      <td>652</td>\n",
              "      <td>2</td>\n",
              "      <td>11388</td>\n",
              "      <td>183.0</td>\n",
              "      <td>85.0</td>\n",
              "      <td>5.8</td>\n",
              "    </tr>\n",
              "  </tbody>\n",
              "</table>\n",
              "</div>"
            ],
            "text/plain": [
              "                        Year  ... IMDB Score\n",
              "Title                         ...           \n",
              "102 Dalmatians          2000  ...        4.8\n",
              "28 Days                 2000  ...        6.0\n",
              "3 Strikes               2000  ...        4.0\n",
              "Aberdeen                2000  ...        7.3\n",
              "All the Pretty Horses   2000  ...        5.8\n",
              "\n",
              "[5 rows x 24 columns]"
            ]
          },
          "metadata": {
            "tags": []
          },
          "execution_count": 46
        }
      ]
    },
    {
      "cell_type": "code",
      "metadata": {
        "id": "CUEM30S3ZiLr",
        "colab": {
          "base_uri": "https://localhost:8080/",
          "height": 443
        },
        "outputId": "dc622bcb-5069-4b68-9c18-95ec61494c88"
      },
      "source": [
        "movies_sheet3 = pd.read_excel(excel_file, sheet_name=2, index_col=0)\n",
        "movies_sheet3.head()"
      ],
      "execution_count": null,
      "outputs": [
        {
          "output_type": "execute_result",
          "data": {
            "text/html": [
              "<div>\n",
              "<style scoped>\n",
              "    .dataframe tbody tr th:only-of-type {\n",
              "        vertical-align: middle;\n",
              "    }\n",
              "\n",
              "    .dataframe tbody tr th {\n",
              "        vertical-align: top;\n",
              "    }\n",
              "\n",
              "    .dataframe thead th {\n",
              "        text-align: right;\n",
              "    }\n",
              "</style>\n",
              "<table border=\"1\" class=\"dataframe\">\n",
              "  <thead>\n",
              "    <tr style=\"text-align: right;\">\n",
              "      <th></th>\n",
              "      <th>Year</th>\n",
              "      <th>Genres</th>\n",
              "      <th>Language</th>\n",
              "      <th>Country</th>\n",
              "      <th>Content Rating</th>\n",
              "      <th>Duration</th>\n",
              "      <th>Aspect Ratio</th>\n",
              "      <th>Budget</th>\n",
              "      <th>Gross Earnings</th>\n",
              "      <th>Director</th>\n",
              "      <th>Actor 1</th>\n",
              "      <th>Actor 2</th>\n",
              "      <th>Actor 3</th>\n",
              "      <th>Facebook Likes - Director</th>\n",
              "      <th>Facebook Likes - Actor 1</th>\n",
              "      <th>Facebook Likes - Actor 2</th>\n",
              "      <th>Facebook Likes - Actor 3</th>\n",
              "      <th>Facebook Likes - cast Total</th>\n",
              "      <th>Facebook likes - Movie</th>\n",
              "      <th>Facenumber in posters</th>\n",
              "      <th>User Votes</th>\n",
              "      <th>Reviews by Users</th>\n",
              "      <th>Reviews by Crtiics</th>\n",
              "      <th>IMDB Score</th>\n",
              "    </tr>\n",
              "    <tr>\n",
              "      <th>Title</th>\n",
              "      <th></th>\n",
              "      <th></th>\n",
              "      <th></th>\n",
              "      <th></th>\n",
              "      <th></th>\n",
              "      <th></th>\n",
              "      <th></th>\n",
              "      <th></th>\n",
              "      <th></th>\n",
              "      <th></th>\n",
              "      <th></th>\n",
              "      <th></th>\n",
              "      <th></th>\n",
              "      <th></th>\n",
              "      <th></th>\n",
              "      <th></th>\n",
              "      <th></th>\n",
              "      <th></th>\n",
              "      <th></th>\n",
              "      <th></th>\n",
              "      <th></th>\n",
              "      <th></th>\n",
              "      <th></th>\n",
              "      <th></th>\n",
              "    </tr>\n",
              "  </thead>\n",
              "  <tbody>\n",
              "    <tr>\n",
              "      <th>127 Hours</th>\n",
              "      <td>2010.0</td>\n",
              "      <td>Adventure|Biography|Drama|Thriller</td>\n",
              "      <td>English</td>\n",
              "      <td>USA</td>\n",
              "      <td>R</td>\n",
              "      <td>94.0</td>\n",
              "      <td>1.85</td>\n",
              "      <td>18000000.0</td>\n",
              "      <td>18329466.0</td>\n",
              "      <td>Danny Boyle</td>\n",
              "      <td>James Franco</td>\n",
              "      <td>Treat Williams</td>\n",
              "      <td>Kate Burton</td>\n",
              "      <td>0.0</td>\n",
              "      <td>11000.0</td>\n",
              "      <td>642.0</td>\n",
              "      <td>223.0</td>\n",
              "      <td>11984</td>\n",
              "      <td>63000</td>\n",
              "      <td>0.0</td>\n",
              "      <td>279179</td>\n",
              "      <td>440.0</td>\n",
              "      <td>450.0</td>\n",
              "      <td>7.6</td>\n",
              "    </tr>\n",
              "    <tr>\n",
              "      <th>3 Backyards</th>\n",
              "      <td>2010.0</td>\n",
              "      <td>Drama</td>\n",
              "      <td>English</td>\n",
              "      <td>USA</td>\n",
              "      <td>R</td>\n",
              "      <td>88.0</td>\n",
              "      <td>NaN</td>\n",
              "      <td>300000.0</td>\n",
              "      <td>NaN</td>\n",
              "      <td>Eric Mendelsohn</td>\n",
              "      <td>Embeth Davidtz</td>\n",
              "      <td>Edie Falco</td>\n",
              "      <td>Kathryn Erbe</td>\n",
              "      <td>5.0</td>\n",
              "      <td>795.0</td>\n",
              "      <td>659.0</td>\n",
              "      <td>301.0</td>\n",
              "      <td>1884</td>\n",
              "      <td>92</td>\n",
              "      <td>0.0</td>\n",
              "      <td>554</td>\n",
              "      <td>23.0</td>\n",
              "      <td>20.0</td>\n",
              "      <td>5.2</td>\n",
              "    </tr>\n",
              "    <tr>\n",
              "      <th>3</th>\n",
              "      <td>2010.0</td>\n",
              "      <td>Comedy|Drama|Romance</td>\n",
              "      <td>German</td>\n",
              "      <td>Germany</td>\n",
              "      <td>Unrated</td>\n",
              "      <td>119.0</td>\n",
              "      <td>2.35</td>\n",
              "      <td>NaN</td>\n",
              "      <td>59774.0</td>\n",
              "      <td>Tom Tykwer</td>\n",
              "      <td>Devid Striesow</td>\n",
              "      <td>Sebastian Schipper</td>\n",
              "      <td>Sophie Rois</td>\n",
              "      <td>670.0</td>\n",
              "      <td>24.0</td>\n",
              "      <td>20.0</td>\n",
              "      <td>9.0</td>\n",
              "      <td>69</td>\n",
              "      <td>2000</td>\n",
              "      <td>0.0</td>\n",
              "      <td>4212</td>\n",
              "      <td>18.0</td>\n",
              "      <td>76.0</td>\n",
              "      <td>6.8</td>\n",
              "    </tr>\n",
              "    <tr>\n",
              "      <th>8: The Mormon Proposition</th>\n",
              "      <td>2010.0</td>\n",
              "      <td>Documentary</td>\n",
              "      <td>English</td>\n",
              "      <td>USA</td>\n",
              "      <td>R</td>\n",
              "      <td>80.0</td>\n",
              "      <td>1.78</td>\n",
              "      <td>2500000.0</td>\n",
              "      <td>99851.0</td>\n",
              "      <td>Reed Cowan</td>\n",
              "      <td>Dustin Lance Black</td>\n",
              "      <td>Emily Pearson</td>\n",
              "      <td>Gavin Newsom</td>\n",
              "      <td>0.0</td>\n",
              "      <td>191.0</td>\n",
              "      <td>12.0</td>\n",
              "      <td>5.0</td>\n",
              "      <td>210</td>\n",
              "      <td>0</td>\n",
              "      <td>0.0</td>\n",
              "      <td>1138</td>\n",
              "      <td>30.0</td>\n",
              "      <td>28.0</td>\n",
              "      <td>7.1</td>\n",
              "    </tr>\n",
              "    <tr>\n",
              "      <th>A Turtle's Tale: Sammy's Adventures</th>\n",
              "      <td>2010.0</td>\n",
              "      <td>Adventure|Animation|Family</td>\n",
              "      <td>English</td>\n",
              "      <td>France</td>\n",
              "      <td>PG</td>\n",
              "      <td>88.0</td>\n",
              "      <td>2.35</td>\n",
              "      <td>NaN</td>\n",
              "      <td>NaN</td>\n",
              "      <td>Ben Stassen</td>\n",
              "      <td>Ed Begley Jr.</td>\n",
              "      <td>Jenny McCarthy</td>\n",
              "      <td>Stacy Keach</td>\n",
              "      <td>4.0</td>\n",
              "      <td>783.0</td>\n",
              "      <td>749.0</td>\n",
              "      <td>602.0</td>\n",
              "      <td>3874</td>\n",
              "      <td>0</td>\n",
              "      <td>2.0</td>\n",
              "      <td>5385</td>\n",
              "      <td>22.0</td>\n",
              "      <td>56.0</td>\n",
              "      <td>6.1</td>\n",
              "    </tr>\n",
              "  </tbody>\n",
              "</table>\n",
              "</div>"
            ],
            "text/plain": [
              "                                        Year  ... IMDB Score\n",
              "Title                                         ...           \n",
              "127 Hours                             2010.0  ...        7.6\n",
              "3 Backyards                           2010.0  ...        5.2\n",
              "3                                     2010.0  ...        6.8\n",
              "8: The Mormon Proposition             2010.0  ...        7.1\n",
              "A Turtle's Tale: Sammy's Adventures   2010.0  ...        6.1\n",
              "\n",
              "[5 rows x 24 columns]"
            ]
          },
          "metadata": {
            "tags": []
          },
          "execution_count": 47
        }
      ]
    },
    {
      "cell_type": "code",
      "metadata": {
        "id": "RYgp-x2IbNAX",
        "colab": {
          "base_uri": "https://localhost:8080/",
          "height": 34
        },
        "outputId": "416c6663-1582-42f9-d630-d4dc14a2f45d"
      },
      "source": [
        "movies = pd.concat([movies_sheet1, movies_sheet2, movies_sheet3])\n",
        "movies.shape"
      ],
      "execution_count": null,
      "outputs": [
        {
          "output_type": "execute_result",
          "data": {
            "text/plain": [
              "(5042, 24)"
            ]
          },
          "metadata": {
            "tags": []
          },
          "execution_count": 48
        }
      ]
    },
    {
      "cell_type": "code",
      "metadata": {
        "id": "iPcEGT9tbR9W",
        "colab": {
          "base_uri": "https://localhost:8080/",
          "height": 278
        },
        "outputId": "76bdeda7-cd70-443c-8d5c-fd9d139241b6"
      },
      "source": [
        "# Small Data Analysis\n",
        "sorted_by_gross = movies.sort_values(['Gross Earnings'], ascending=False)\n",
        "import matplotlib.pyplot as plt\n",
        "sorted_by_gross['Gross Earnings'].head(10).plot(kind=\"barh\")\n",
        "plt.show()"
      ],
      "execution_count": null,
      "outputs": [
        {
          "output_type": "display_data",
          "data": {
            "image/png": "[encoded data removed]",
            "text/plain": [
              "<Figure size 432x288 with 1 Axes>"
            ]
          },
          "metadata": {
            "tags": [],
            "needs_background": "light"
          }
        }
      ]
    },
    {
      "cell_type": "code",
      "metadata": {
        "id": "Rx3gQ92dbiIi",
        "colab": {
          "base_uri": "https://localhost:8080/",
          "height": 265
        },
        "outputId": "5bff082f-9d35-4647-fdae-b46e5c065031"
      },
      "source": [
        "movies['IMDB Score'].plot(kind=\"hist\")\n",
        "plt.show()"
      ],
      "execution_count": null,
      "outputs": [
        {
          "output_type": "display_data",
          "data": {
            "image/png": "[encoded data removed]",
            "text/plain": [
              "<Figure size 432x288 with 1 Axes>"
            ]
          },
          "metadata": {
            "tags": [],
            "needs_background": "light"
          }
        }
      ]
    },
    {
      "cell_type": "code",
      "metadata": {
        "id": "CWzL8Mo7bmf2",
        "colab": {
          "base_uri": "https://localhost:8080/",
          "height": 349
        },
        "outputId": "f083e5cd-c8b8-48f4-ed1e-27134d8de014"
      },
      "source": [
        "# Describe, stat information\n",
        "movies.describe()"
      ],
      "execution_count": null,
      "outputs": [
        {
          "output_type": "execute_result",
          "data": {
            "text/html": [
              "<div>\n",
              "<style scoped>\n",
              "    .dataframe tbody tr th:only-of-type {\n",
              "        vertical-align: middle;\n",
              "    }\n",
              "\n",
              "    .dataframe tbody tr th {\n",
              "        vertical-align: top;\n",
              "    }\n",
              "\n",
              "    .dataframe thead th {\n",
              "        text-align: right;\n",
              "    }\n",
              "</style>\n",
              "<table border=\"1\" class=\"dataframe\">\n",
              "  <thead>\n",
              "    <tr style=\"text-align: right;\">\n",
              "      <th></th>\n",
              "      <th>Year</th>\n",
              "      <th>Duration</th>\n",
              "      <th>Aspect Ratio</th>\n",
              "      <th>Budget</th>\n",
              "      <th>Gross Earnings</th>\n",
              "      <th>Facebook Likes - Director</th>\n",
              "      <th>Facebook Likes - Actor 1</th>\n",
              "      <th>Facebook Likes - Actor 2</th>\n",
              "      <th>Facebook Likes - Actor 3</th>\n",
              "      <th>Facebook Likes - cast Total</th>\n",
              "      <th>Facebook likes - Movie</th>\n",
              "      <th>Facenumber in posters</th>\n",
              "      <th>User Votes</th>\n",
              "      <th>Reviews by Users</th>\n",
              "      <th>Reviews by Crtiics</th>\n",
              "      <th>IMDB Score</th>\n",
              "    </tr>\n",
              "  </thead>\n",
              "  <tbody>\n",
              "    <tr>\n",
              "      <th>count</th>\n",
              "      <td>4935.000000</td>\n",
              "      <td>5028.000000</td>\n",
              "      <td>4714.000000</td>\n",
              "      <td>4.551000e+03</td>\n",
              "      <td>4.159000e+03</td>\n",
              "      <td>4938.000000</td>\n",
              "      <td>5035.000000</td>\n",
              "      <td>5029.000000</td>\n",
              "      <td>5020.000000</td>\n",
              "      <td>5042.000000</td>\n",
              "      <td>5042.000000</td>\n",
              "      <td>5029.000000</td>\n",
              "      <td>5.042000e+03</td>\n",
              "      <td>5022.000000</td>\n",
              "      <td>4993.000000</td>\n",
              "      <td>5042.000000</td>\n",
              "    </tr>\n",
              "    <tr>\n",
              "      <th>mean</th>\n",
              "      <td>2002.470517</td>\n",
              "      <td>107.201074</td>\n",
              "      <td>2.220403</td>\n",
              "      <td>3.975262e+07</td>\n",
              "      <td>4.846841e+07</td>\n",
              "      <td>686.621709</td>\n",
              "      <td>6561.323932</td>\n",
              "      <td>1652.080533</td>\n",
              "      <td>645.009761</td>\n",
              "      <td>9700.959143</td>\n",
              "      <td>7527.457160</td>\n",
              "      <td>1.371446</td>\n",
              "      <td>8.368475e+04</td>\n",
              "      <td>272.770808</td>\n",
              "      <td>140.194272</td>\n",
              "      <td>6.442007</td>\n",
              "    </tr>\n",
              "    <tr>\n",
              "      <th>std</th>\n",
              "      <td>12.474599</td>\n",
              "      <td>25.197441</td>\n",
              "      <td>1.385113</td>\n",
              "      <td>2.061149e+08</td>\n",
              "      <td>6.845299e+07</td>\n",
              "      <td>2813.602405</td>\n",
              "      <td>15021.977635</td>\n",
              "      <td>4042.774685</td>\n",
              "      <td>1665.041728</td>\n",
              "      <td>18165.101925</td>\n",
              "      <td>19322.070537</td>\n",
              "      <td>2.013683</td>\n",
              "      <td>1.384940e+05</td>\n",
              "      <td>377.982886</td>\n",
              "      <td>121.601675</td>\n",
              "      <td>1.125189</td>\n",
              "    </tr>\n",
              "    <tr>\n",
              "      <th>min</th>\n",
              "      <td>1916.000000</td>\n",
              "      <td>7.000000</td>\n",
              "      <td>1.180000</td>\n",
              "      <td>2.180000e+02</td>\n",
              "      <td>1.620000e+02</td>\n",
              "      <td>0.000000</td>\n",
              "      <td>0.000000</td>\n",
              "      <td>0.000000</td>\n",
              "      <td>0.000000</td>\n",
              "      <td>0.000000</td>\n",
              "      <td>0.000000</td>\n",
              "      <td>0.000000</td>\n",
              "      <td>5.000000e+00</td>\n",
              "      <td>1.000000</td>\n",
              "      <td>1.000000</td>\n",
              "      <td>1.600000</td>\n",
              "    </tr>\n",
              "    <tr>\n",
              "      <th>25%</th>\n",
              "      <td>1999.000000</td>\n",
              "      <td>93.000000</td>\n",
              "      <td>1.850000</td>\n",
              "      <td>6.000000e+06</td>\n",
              "      <td>5.340988e+06</td>\n",
              "      <td>7.000000</td>\n",
              "      <td>614.500000</td>\n",
              "      <td>281.000000</td>\n",
              "      <td>133.000000</td>\n",
              "      <td>1411.250000</td>\n",
              "      <td>0.000000</td>\n",
              "      <td>0.000000</td>\n",
              "      <td>8.599250e+03</td>\n",
              "      <td>65.000000</td>\n",
              "      <td>50.000000</td>\n",
              "      <td>5.800000</td>\n",
              "    </tr>\n",
              "    <tr>\n",
              "      <th>50%</th>\n",
              "      <td>2005.000000</td>\n",
              "      <td>103.000000</td>\n",
              "      <td>2.350000</td>\n",
              "      <td>2.000000e+07</td>\n",
              "      <td>2.551750e+07</td>\n",
              "      <td>49.000000</td>\n",
              "      <td>988.000000</td>\n",
              "      <td>595.000000</td>\n",
              "      <td>371.500000</td>\n",
              "      <td>3091.000000</td>\n",
              "      <td>166.000000</td>\n",
              "      <td>1.000000</td>\n",
              "      <td>3.437100e+04</td>\n",
              "      <td>156.000000</td>\n",
              "      <td>110.000000</td>\n",
              "      <td>6.600000</td>\n",
              "    </tr>\n",
              "    <tr>\n",
              "      <th>75%</th>\n",
              "      <td>2011.000000</td>\n",
              "      <td>118.000000</td>\n",
              "      <td>2.350000</td>\n",
              "      <td>4.500000e+07</td>\n",
              "      <td>6.230944e+07</td>\n",
              "      <td>194.750000</td>\n",
              "      <td>11000.000000</td>\n",
              "      <td>918.000000</td>\n",
              "      <td>636.000000</td>\n",
              "      <td>13758.750000</td>\n",
              "      <td>3000.000000</td>\n",
              "      <td>2.000000</td>\n",
              "      <td>9.634700e+04</td>\n",
              "      <td>326.000000</td>\n",
              "      <td>195.000000</td>\n",
              "      <td>7.200000</td>\n",
              "    </tr>\n",
              "    <tr>\n",
              "      <th>max</th>\n",
              "      <td>2016.000000</td>\n",
              "      <td>511.000000</td>\n",
              "      <td>16.000000</td>\n",
              "      <td>1.221550e+10</td>\n",
              "      <td>7.605058e+08</td>\n",
              "      <td>23000.000000</td>\n",
              "      <td>640000.000000</td>\n",
              "      <td>137000.000000</td>\n",
              "      <td>23000.000000</td>\n",
              "      <td>656730.000000</td>\n",
              "      <td>349000.000000</td>\n",
              "      <td>43.000000</td>\n",
              "      <td>1.689764e+06</td>\n",
              "      <td>5060.000000</td>\n",
              "      <td>813.000000</td>\n",
              "      <td>9.500000</td>\n",
              "    </tr>\n",
              "  </tbody>\n",
              "</table>\n",
              "</div>"
            ],
            "text/plain": [
              "              Year     Duration  ...  Reviews by Crtiics   IMDB Score\n",
              "count  4935.000000  5028.000000  ...         4993.000000  5042.000000\n",
              "mean   2002.470517   107.201074  ...          140.194272     6.442007\n",
              "std      12.474599    25.197441  ...          121.601675     1.125189\n",
              "min    1916.000000     7.000000  ...            1.000000     1.600000\n",
              "25%    1999.000000    93.000000  ...           50.000000     5.800000\n",
              "50%    2005.000000   103.000000  ...          110.000000     6.600000\n",
              "75%    2011.000000   118.000000  ...          195.000000     7.200000\n",
              "max    2016.000000   511.000000  ...          813.000000     9.500000\n",
              "\n",
              "[8 rows x 16 columns]"
            ]
          },
          "metadata": {
            "tags": []
          },
          "execution_count": 51
        }
      ]
    },
    {
      "cell_type": "code",
      "metadata": {
        "id": "77fryQipbrKV",
        "colab": {
          "base_uri": "https://localhost:8080/",
          "height": 233
        },
        "outputId": "6e0e7e59-16ee-4c5e-9fcb-c64e16a81cad"
      },
      "source": [
        "# Pivot analysis in Pandas\n",
        "movies_subset = movies[['Year', 'Gross Earnings']]\n",
        "movies_subset.head()\n"
      ],
      "execution_count": null,
      "outputs": [
        {
          "output_type": "execute_result",
          "data": {
            "text/html": [
              "<div>\n",
              "<style scoped>\n",
              "    .dataframe tbody tr th:only-of-type {\n",
              "        vertical-align: middle;\n",
              "    }\n",
              "\n",
              "    .dataframe tbody tr th {\n",
              "        vertical-align: top;\n",
              "    }\n",
              "\n",
              "    .dataframe thead th {\n",
              "        text-align: right;\n",
              "    }\n",
              "</style>\n",
              "<table border=\"1\" class=\"dataframe\">\n",
              "  <thead>\n",
              "    <tr style=\"text-align: right;\">\n",
              "      <th></th>\n",
              "      <th>Year</th>\n",
              "      <th>Gross Earnings</th>\n",
              "    </tr>\n",
              "    <tr>\n",
              "      <th>Title</th>\n",
              "      <th></th>\n",
              "      <th></th>\n",
              "    </tr>\n",
              "  </thead>\n",
              "  <tbody>\n",
              "    <tr>\n",
              "      <th>Intolerance: Love's Struggle Throughout the Ages</th>\n",
              "      <td>1916.0</td>\n",
              "      <td>NaN</td>\n",
              "    </tr>\n",
              "    <tr>\n",
              "      <th>Over the Hill to the Poorhouse</th>\n",
              "      <td>1920.0</td>\n",
              "      <td>3000000.0</td>\n",
              "    </tr>\n",
              "    <tr>\n",
              "      <th>The Big Parade</th>\n",
              "      <td>1925.0</td>\n",
              "      <td>NaN</td>\n",
              "    </tr>\n",
              "    <tr>\n",
              "      <th>Metropolis</th>\n",
              "      <td>1927.0</td>\n",
              "      <td>26435.0</td>\n",
              "    </tr>\n",
              "    <tr>\n",
              "      <th>Pandora's Box</th>\n",
              "      <td>1929.0</td>\n",
              "      <td>9950.0</td>\n",
              "    </tr>\n",
              "  </tbody>\n",
              "</table>\n",
              "</div>"
            ],
            "text/plain": [
              "                                                     Year  Gross Earnings\n",
              "Title                                                                    \n",
              "Intolerance: Love's Struggle Throughout the Ages   1916.0             NaN\n",
              "Over the Hill to the Poorhouse                     1920.0       3000000.0\n",
              "The Big Parade                                     1925.0             NaN\n",
              "Metropolis                                         1927.0         26435.0\n",
              "Pandora's Box                                      1929.0          9950.0"
            ]
          },
          "metadata": {
            "tags": []
          },
          "execution_count": 52
        }
      ]
    },
    {
      "cell_type": "code",
      "metadata": {
        "id": "cjcxfcbIcHHn",
        "colab": {
          "base_uri": "https://localhost:8080/",
          "height": 233
        },
        "outputId": "2dea5ce8-1e8b-4ba5-cf9f-4529e2ba19b6"
      },
      "source": [
        "earnings_by_year = movies_subset.pivot_table(index=['Year'])\n",
        "earnings_by_year.head()"
      ],
      "execution_count": null,
      "outputs": [
        {
          "output_type": "execute_result",
          "data": {
            "text/html": [
              "<div>\n",
              "<style scoped>\n",
              "    .dataframe tbody tr th:only-of-type {\n",
              "        vertical-align: middle;\n",
              "    }\n",
              "\n",
              "    .dataframe tbody tr th {\n",
              "        vertical-align: top;\n",
              "    }\n",
              "\n",
              "    .dataframe thead th {\n",
              "        text-align: right;\n",
              "    }\n",
              "</style>\n",
              "<table border=\"1\" class=\"dataframe\">\n",
              "  <thead>\n",
              "    <tr style=\"text-align: right;\">\n",
              "      <th></th>\n",
              "      <th>Gross Earnings</th>\n",
              "    </tr>\n",
              "    <tr>\n",
              "      <th>Year</th>\n",
              "      <th></th>\n",
              "    </tr>\n",
              "  </thead>\n",
              "  <tbody>\n",
              "    <tr>\n",
              "      <th>1920.0</th>\n",
              "      <td>3000000.0</td>\n",
              "    </tr>\n",
              "    <tr>\n",
              "      <th>1927.0</th>\n",
              "      <td>26435.0</td>\n",
              "    </tr>\n",
              "    <tr>\n",
              "      <th>1929.0</th>\n",
              "      <td>1408975.0</td>\n",
              "    </tr>\n",
              "    <tr>\n",
              "      <th>1933.0</th>\n",
              "      <td>2300000.0</td>\n",
              "    </tr>\n",
              "    <tr>\n",
              "      <th>1935.0</th>\n",
              "      <td>3000000.0</td>\n",
              "    </tr>\n",
              "  </tbody>\n",
              "</table>\n",
              "</div>"
            ],
            "text/plain": [
              "        Gross Earnings\n",
              "Year                  \n",
              "1920.0       3000000.0\n",
              "1927.0         26435.0\n",
              "1929.0       1408975.0\n",
              "1933.0       2300000.0\n",
              "1935.0       3000000.0"
            ]
          },
          "metadata": {
            "tags": []
          },
          "execution_count": 53
        }
      ]
    },
    {
      "cell_type": "code",
      "metadata": {
        "id": "jnkozBJtcICn",
        "colab": {
          "base_uri": "https://localhost:8080/",
          "height": 290
        },
        "outputId": "9cdde688-9788-49a9-ab23-8aab9d8f751b"
      },
      "source": [
        "earnings_by_year.plot()\n",
        "plt.show()"
      ],
      "execution_count": null,
      "outputs": [
        {
          "output_type": "display_data",
          "data": {
            "image/png": "[encoded data removed]",
            "text/plain": [
              "<Figure size 432x288 with 1 Axes>"
            ]
          },
          "metadata": {
            "tags": [],
            "needs_background": "light"
          }
        }
      ]
    },
    {
      "cell_type": "code",
      "metadata": {
        "id": "kMRFeLVncOO8",
        "colab": {
          "base_uri": "https://localhost:8080/",
          "height": 233
        },
        "outputId": "0661850f-a584-4a61-a5bc-a057fe84f6ed"
      },
      "source": [
        "# Multicolumn pivot analysis\n",
        "movies_subset = movies[['Country', 'Language', 'Gross Earnings']]\n",
        "movies_subset.head()"
      ],
      "execution_count": null,
      "outputs": [
        {
          "output_type": "execute_result",
          "data": {
            "text/html": [
              "<div>\n",
              "<style scoped>\n",
              "    .dataframe tbody tr th:only-of-type {\n",
              "        vertical-align: middle;\n",
              "    }\n",
              "\n",
              "    .dataframe tbody tr th {\n",
              "        vertical-align: top;\n",
              "    }\n",
              "\n",
              "    .dataframe thead th {\n",
              "        text-align: right;\n",
              "    }\n",
              "</style>\n",
              "<table border=\"1\" class=\"dataframe\">\n",
              "  <thead>\n",
              "    <tr style=\"text-align: right;\">\n",
              "      <th></th>\n",
              "      <th>Country</th>\n",
              "      <th>Language</th>\n",
              "      <th>Gross Earnings</th>\n",
              "    </tr>\n",
              "    <tr>\n",
              "      <th>Title</th>\n",
              "      <th></th>\n",
              "      <th></th>\n",
              "      <th></th>\n",
              "    </tr>\n",
              "  </thead>\n",
              "  <tbody>\n",
              "    <tr>\n",
              "      <th>Intolerance: Love's Struggle Throughout the Ages</th>\n",
              "      <td>USA</td>\n",
              "      <td>NaN</td>\n",
              "      <td>NaN</td>\n",
              "    </tr>\n",
              "    <tr>\n",
              "      <th>Over the Hill to the Poorhouse</th>\n",
              "      <td>USA</td>\n",
              "      <td>NaN</td>\n",
              "      <td>3000000.0</td>\n",
              "    </tr>\n",
              "    <tr>\n",
              "      <th>The Big Parade</th>\n",
              "      <td>USA</td>\n",
              "      <td>NaN</td>\n",
              "      <td>NaN</td>\n",
              "    </tr>\n",
              "    <tr>\n",
              "      <th>Metropolis</th>\n",
              "      <td>Germany</td>\n",
              "      <td>German</td>\n",
              "      <td>26435.0</td>\n",
              "    </tr>\n",
              "    <tr>\n",
              "      <th>Pandora's Box</th>\n",
              "      <td>Germany</td>\n",
              "      <td>German</td>\n",
              "      <td>9950.0</td>\n",
              "    </tr>\n",
              "  </tbody>\n",
              "</table>\n",
              "</div>"
            ],
            "text/plain": [
              "                                                   Country  ... Gross Earnings\n",
              "Title                                                       ...               \n",
              "Intolerance: Love's Struggle Throughout the Ages       USA  ...            NaN\n",
              "Over the Hill to the Poorhouse                         USA  ...      3000000.0\n",
              "The Big Parade                                         USA  ...            NaN\n",
              "Metropolis                                         Germany  ...        26435.0\n",
              "Pandora's Box                                      Germany  ...         9950.0\n",
              "\n",
              "[5 rows x 3 columns]"
            ]
          },
          "metadata": {
            "tags": []
          },
          "execution_count": 55
        }
      ]
    },
    {
      "cell_type": "code",
      "metadata": {
        "id": "XGCdR2GAcU3G",
        "colab": {
          "base_uri": "https://localhost:8080/",
          "height": 233
        },
        "outputId": "3bdd50cd-706a-4a8e-d798-9296cda04c91"
      },
      "source": [
        "earnings_by_co_lang = movies_subset.pivot_table(index=['Country', 'Language'])\n",
        "earnings_by_co_lang.head()"
      ],
      "execution_count": null,
      "outputs": [
        {
          "output_type": "execute_result",
          "data": {
            "text/html": [
              "<div>\n",
              "<style scoped>\n",
              "    .dataframe tbody tr th:only-of-type {\n",
              "        vertical-align: middle;\n",
              "    }\n",
              "\n",
              "    .dataframe tbody tr th {\n",
              "        vertical-align: top;\n",
              "    }\n",
              "\n",
              "    .dataframe thead th {\n",
              "        text-align: right;\n",
              "    }\n",
              "</style>\n",
              "<table border=\"1\" class=\"dataframe\">\n",
              "  <thead>\n",
              "    <tr style=\"text-align: right;\">\n",
              "      <th></th>\n",
              "      <th></th>\n",
              "      <th>Gross Earnings</th>\n",
              "    </tr>\n",
              "    <tr>\n",
              "      <th>Country</th>\n",
              "      <th>Language</th>\n",
              "      <th></th>\n",
              "    </tr>\n",
              "  </thead>\n",
              "  <tbody>\n",
              "    <tr>\n",
              "      <th>Afghanistan</th>\n",
              "      <th>Dari</th>\n",
              "      <td>1.127331e+06</td>\n",
              "    </tr>\n",
              "    <tr>\n",
              "      <th>Argentina</th>\n",
              "      <th>Spanish</th>\n",
              "      <td>7.230936e+06</td>\n",
              "    </tr>\n",
              "    <tr>\n",
              "      <th>Aruba</th>\n",
              "      <th>English</th>\n",
              "      <td>1.007614e+07</td>\n",
              "    </tr>\n",
              "    <tr>\n",
              "      <th rowspan=\"2\" valign=\"top\">Australia</th>\n",
              "      <th>Aboriginal</th>\n",
              "      <td>6.165429e+06</td>\n",
              "    </tr>\n",
              "    <tr>\n",
              "      <th>Dzongkha</th>\n",
              "      <td>5.052950e+05</td>\n",
              "    </tr>\n",
              "  </tbody>\n",
              "</table>\n",
              "</div>"
            ],
            "text/plain": [
              "                        Gross Earnings\n",
              "Country     Language                  \n",
              "Afghanistan Dari          1.127331e+06\n",
              "Argentina   Spanish       7.230936e+06\n",
              "Aruba       English       1.007614e+07\n",
              "Australia   Aboriginal    6.165429e+06\n",
              "            Dzongkha      5.052950e+05"
            ]
          },
          "metadata": {
            "tags": []
          },
          "execution_count": 56
        }
      ]
    },
    {
      "cell_type": "code",
      "metadata": {
        "id": "pSR4CRvncYAo",
        "colab": {
          "base_uri": "https://localhost:8080/",
          "height": 432
        },
        "outputId": "928ff1ea-5ed3-4c7e-aa9f-05b7ca30ad20"
      },
      "source": [
        "earnings_by_co_lang.head(20).plot(kind='bar', figsize=(20,8))\n",
        "plt.show()"
      ],
      "execution_count": null,
      "outputs": [
        {
          "output_type": "display_data",
          "data": {
            "image/png": "[encoded data removed]",
            "text/plain": [
              "<Figure size 1440x576 with 1 Axes>"
            ]
          },
          "metadata": {
            "tags": [],
            "needs_background": "light"
          }
        }
      ]
    },
    {
      "cell_type": "code",
      "metadata": {
        "id": "A9NASSCpccfz"
      },
      "source": [
        "# Exporting to Excel"
      ],
      "execution_count": null,
      "outputs": []
    },
    {
      "cell_type": "code",
      "metadata": {
        "id": "OIcvWeckcdyu"
      },
      "source": [
        "movies.to_excel('output.xlsx')"
      ],
      "execution_count": null,
      "outputs": []
    }
  ]
}