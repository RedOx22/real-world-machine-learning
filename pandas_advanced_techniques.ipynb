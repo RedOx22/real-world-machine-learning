{
  "nbformat": 4,
  "nbformat_minor": 0,
  "metadata": {
    "colab": {
      "name": "pandas_advanced_techniques.ipynb",
      "provenance": [],
      "toc_visible": true,
      "authorship_tag": "ABX9TyO0eDwcGmKUfodcK7WsZy1f",
      "include_colab_link": true
    },
    "kernelspec": {
      "name": "python3",
      "display_name": "Python 3"
    },
    "language_info": {
      "name": "python"
    }
  },
  "cells": [
    {
      "cell_type": "markdown",
      "metadata": {
        "id": "view-in-github",
        "colab_type": "text"
      },
      "source": [
        "<a href=\"https://colab.research.google.com/github/thimotyb/real-world-machine-learning/blob/python3/pandas_advanced_techniques.ipynb\" target=\"_parent\"><img src=\"https://colab.research.google.com/assets/colab-badge.svg\" alt=\"Open In Colab\"/></a>"
      ]
    },
    {
      "cell_type": "markdown",
      "metadata": {
        "id": "kT7eVosar9hV"
      },
      "source": [
        "# Pandas - Advanced Techniques\n",
        "\n",
        "This lesson is taken and _optimized_ from the following web sources:\n",
        "\n",
        "1.   https://towardsdatascience.com/learn-advanced-features-for-pythons-main-data-analysis-library-in-20-minutes-d0eedd90d086\n",
        "2.   https://colab.research.google.com/github/thimotyb/real-world-machine-learning/blob/python3/Importing_data_with_pandas.ipynb\n",
        "3.   https://nvie.com/posts/iterators-vs-generators/\n",
        "4.   https://www.dataquest.io/blog/tutorial-time-series-analysis-with-pandas/\n",
        "5.   https://pandas.pydata.org/pandas-docs/stable/user_guide/timeseries.html\n",
        "\n",
        "\n",
        "\n",
        "\n",
        "\n"
      ]
    },
    {
      "cell_type": "markdown",
      "metadata": {
        "id": "pKL9o5fNs62U"
      },
      "source": [
        "## Data Types\n",
        "\n",
        "let’s quickly summarize all the available Pandas data types. In total, there are seven types:\n",
        "* object : This data type is used for strings (i.e., sequences of characters)\n",
        "* int64 : Used for integers (whole numbers, no decimals)\n",
        "* float64 : Used for floating-point numbers (i.e., figures with decimals/fractions)\n",
        "* bool : Used for values that can only be True/False\n",
        "* datetime64 : Used for date and time values\n",
        "* timedelta : Used to represent the difference between datetimes\n",
        "* category : Used for values that take one out of a limited number of available options (categories don’t have to, but can have explicit ordering)"
      ]
    },
    {
      "cell_type": "code",
      "metadata": {
        "colab": {
          "base_uri": "https://localhost:8080/",
          "height": 17
        },
        "id": "BqPRbnJsr3e5",
        "outputId": "871b7ea0-48de-4316-ec0e-73f29b12d984"
      },
      "source": [
        "import pandas as pd\n",
        "import numpy as np\n",
        "import datetime\n",
        "import pytz\n",
        "from IPython.core.display import display, HTML\n",
        "display(HTML(\"<style>.container {width:90% !important;}</style>\"))\n",
        "pd.set_option('display.max_columns', 50)\n",
        "pd.set_option('display.max_rows', 10)"
      ],
      "execution_count": null,
      "outputs": [
        {
          "output_type": "display_data",
          "data": {
            "text/html": [
              "<style>.container {width:90% !important;}</style>"
            ],
            "text/plain": [
              "<IPython.core.display.HTML object>"
            ]
          },
          "metadata": {
            "tags": []
          }
        }
      ]
    },
    {
      "cell_type": "code",
      "metadata": {
        "id": "hkJk5tuytJ6w"
      },
      "source": [
        "data = pd.read_csv('https://raw.githubusercontent.com/thimotyb/you-datascientist/master/happiness_with_continent.csv')"
      ],
      "execution_count": null,
      "outputs": []
    },
    {
      "cell_type": "code",
      "metadata": {
        "id": "_5MIgeDItSBS"
      },
      "source": [
        "invoices = pd.read_csv('https://raw.githubusercontent.com/thimotyb/you-datascientist/master/invoices.csv')"
      ],
      "execution_count": null,
      "outputs": []
    },
    {
      "cell_type": "code",
      "metadata": {
        "colab": {
          "base_uri": "https://localhost:8080/",
          "height": 306
        },
        "id": "qNkVyNowtXld",
        "outputId": "7e14c26a-377c-4e4c-fa87-fe0f0e7e283c"
      },
      "source": [
        "invoices.tail(5)"
      ],
      "execution_count": null,
      "outputs": [
        {
          "output_type": "execute_result",
          "data": {
            "text/html": [
              "<div>\n",
              "<style scoped>\n",
              "    .dataframe tbody tr th:only-of-type {\n",
              "        vertical-align: middle;\n",
              "    }\n",
              "\n",
              "    .dataframe tbody tr th {\n",
              "        vertical-align: top;\n",
              "    }\n",
              "\n",
              "    .dataframe thead th {\n",
              "        text-align: right;\n",
              "    }\n",
              "</style>\n",
              "<table border=\"1\" class=\"dataframe\">\n",
              "  <thead>\n",
              "    <tr style=\"text-align: right;\">\n",
              "      <th></th>\n",
              "      <th>Order Id</th>\n",
              "      <th>Date</th>\n",
              "      <th>Meal Id</th>\n",
              "      <th>Company Id</th>\n",
              "      <th>Date of Meal</th>\n",
              "      <th>Participants</th>\n",
              "      <th>Meal Price</th>\n",
              "      <th>Type of Meal</th>\n",
              "      <th>Heroes Adjustment</th>\n",
              "    </tr>\n",
              "  </thead>\n",
              "  <tbody>\n",
              "    <tr>\n",
              "      <th>50012</th>\n",
              "      <td>4OMS8ZSA0UX8LHWI</td>\n",
              "      <td>2017-09-20</td>\n",
              "      <td>1TD5MROATV1NHZ4Y</td>\n",
              "      <td>E4K99D4JR9E40VE1</td>\n",
              "      <td>2017-09-21 08:00:00+02:00</td>\n",
              "      <td>['Regina Shirley']</td>\n",
              "      <td>9.0</td>\n",
              "      <td>Breakfast</td>\n",
              "      <td>False</td>\n",
              "    </tr>\n",
              "    <tr>\n",
              "      <th>50013</th>\n",
              "      <td>RR0VKJN8V0KHNKGG</td>\n",
              "      <td>2018-03-19</td>\n",
              "      <td>22EX9VZSJKHP4AIP</td>\n",
              "      <td>E4K99D4JR9E40VE1</td>\n",
              "      <td>2018-03-18 09:00:00+01:00</td>\n",
              "      <td>['Robin Ramos' 'Chester Mortimer']</td>\n",
              "      <td>25.0</td>\n",
              "      <td>Breakfast</td>\n",
              "      <td>False</td>\n",
              "    </tr>\n",
              "    <tr>\n",
              "      <th>50014</th>\n",
              "      <td>STJ6QJC30WPRM93H</td>\n",
              "      <td>2017-09-21</td>\n",
              "      <td>LMX18PNGWCIMG1QW</td>\n",
              "      <td>E4K99D4JR9E40VE1</td>\n",
              "      <td>2017-09-22 21:00:00+02:00</td>\n",
              "      <td>['Robin Ramos']</td>\n",
              "      <td>160.0</td>\n",
              "      <td>Dinner</td>\n",
              "      <td>False</td>\n",
              "    </tr>\n",
              "    <tr>\n",
              "      <th>50015</th>\n",
              "      <td>QHEUIYNC0XQX7GDR</td>\n",
              "      <td>2018-01-28</td>\n",
              "      <td>4U0VH2TGQL30X23X</td>\n",
              "      <td>E4K99D4JR9E40VE1</td>\n",
              "      <td>2018-02-01 21:00:00+01:00</td>\n",
              "      <td>['Chester Mortimer' 'Robin Ramos']</td>\n",
              "      <td>497.0</td>\n",
              "      <td>Dinner</td>\n",
              "      <td>False</td>\n",
              "    </tr>\n",
              "    <tr>\n",
              "      <th>50016</th>\n",
              "      <td>NKHFWT5I2J9LPAPG</td>\n",
              "      <td>2017-09-06</td>\n",
              "      <td>ORWFRT5TUSYGNYG7</td>\n",
              "      <td>E4K99D4JR9E40VE1</td>\n",
              "      <td>2017-09-09 14:00:00+02:00</td>\n",
              "      <td>['Chester Mortimer' 'Robin Ramos']</td>\n",
              "      <td>365.0</td>\n",
              "      <td>Lunch</td>\n",
              "      <td>False</td>\n",
              "    </tr>\n",
              "  </tbody>\n",
              "</table>\n",
              "</div>"
            ],
            "text/plain": [
              "               Order Id        Date           Meal Id        Company Id  \\\n",
              "50012  4OMS8ZSA0UX8LHWI  2017-09-20  1TD5MROATV1NHZ4Y  E4K99D4JR9E40VE1   \n",
              "50013  RR0VKJN8V0KHNKGG  2018-03-19  22EX9VZSJKHP4AIP  E4K99D4JR9E40VE1   \n",
              "50014  STJ6QJC30WPRM93H  2017-09-21  LMX18PNGWCIMG1QW  E4K99D4JR9E40VE1   \n",
              "50015  QHEUIYNC0XQX7GDR  2018-01-28  4U0VH2TGQL30X23X  E4K99D4JR9E40VE1   \n",
              "50016  NKHFWT5I2J9LPAPG  2017-09-06  ORWFRT5TUSYGNYG7  E4K99D4JR9E40VE1   \n",
              "\n",
              "                    Date of Meal                        Participants  \\\n",
              "50012  2017-09-21 08:00:00+02:00                  ['Regina Shirley']   \n",
              "50013  2018-03-18 09:00:00+01:00  ['Robin Ramos' 'Chester Mortimer']   \n",
              "50014  2017-09-22 21:00:00+02:00                     ['Robin Ramos']   \n",
              "50015  2018-02-01 21:00:00+01:00  ['Chester Mortimer' 'Robin Ramos']   \n",
              "50016  2017-09-09 14:00:00+02:00  ['Chester Mortimer' 'Robin Ramos']   \n",
              "\n",
              "       Meal Price Type of Meal  Heroes Adjustment  \n",
              "50012         9.0    Breakfast              False  \n",
              "50013        25.0    Breakfast              False  \n",
              "50014       160.0       Dinner              False  \n",
              "50015       497.0       Dinner              False  \n",
              "50016       365.0        Lunch              False  "
            ]
          },
          "metadata": {
            "tags": []
          },
          "execution_count": 4
        }
      ]
    },
    {
      "cell_type": "code",
      "metadata": {
        "colab": {
          "base_uri": "https://localhost:8080/"
        },
        "id": "QJHAyaRztr0o",
        "outputId": "c6984345-ecd1-493d-e413-b657b8e78469"
      },
      "source": [
        "invoices.info()"
      ],
      "execution_count": null,
      "outputs": [
        {
          "output_type": "stream",
          "text": [
            "<class 'pandas.core.frame.DataFrame'>\n",
            "RangeIndex: 50017 entries, 0 to 50016\n",
            "Data columns (total 9 columns):\n",
            " #   Column             Non-Null Count  Dtype  \n",
            "---  ------             --------------  -----  \n",
            " 0   Order Id           50017 non-null  object \n",
            " 1   Date               50017 non-null  object \n",
            " 2   Meal Id            50017 non-null  object \n",
            " 3   Company Id         50017 non-null  object \n",
            " 4   Date of Meal       50017 non-null  object \n",
            " 5   Participants       50017 non-null  object \n",
            " 6   Meal Price         50017 non-null  float64\n",
            " 7   Type of Meal       50017 non-null  object \n",
            " 8   Heroes Adjustment  50017 non-null  bool   \n",
            "dtypes: bool(1), float64(1), object(7)\n",
            "memory usage: 3.1+ MB\n"
          ],
          "name": "stdout"
        }
      ]
    },
    {
      "cell_type": "code",
      "metadata": {
        "id": "FgTMpvgwwNbI"
      },
      "source": [
        "invoices['Type of Meal'] = invoices['Type of Meal'].astype('category')\n",
        "invoices['Date'] = invoices['Date'].astype('datetime64[ns]')\n",
        "invoices['Meal Price'] = invoices['Meal Price'].astype('int')"
      ],
      "execution_count": null,
      "outputs": []
    },
    {
      "cell_type": "code",
      "metadata": {
        "colab": {
          "base_uri": "https://localhost:8080/"
        },
        "id": "ys5m6ZSgwPDM",
        "outputId": "ea96d962-e852-4dc9-f1f0-c3f681e72a17"
      },
      "source": [
        "invoices.info()"
      ],
      "execution_count": null,
      "outputs": [
        {
          "output_type": "stream",
          "text": [
            "<class 'pandas.core.frame.DataFrame'>\n",
            "RangeIndex: 50017 entries, 0 to 50016\n",
            "Data columns (total 9 columns):\n",
            " #   Column             Non-Null Count  Dtype         \n",
            "---  ------             --------------  -----         \n",
            " 0   Order Id           50017 non-null  object        \n",
            " 1   Date               50017 non-null  datetime64[ns]\n",
            " 2   Meal Id            50017 non-null  object        \n",
            " 3   Company Id         50017 non-null  object        \n",
            " 4   Date of Meal       50017 non-null  object        \n",
            " 5   Participants       50017 non-null  object        \n",
            " 6   Meal Price         50017 non-null  int64         \n",
            " 7   Type of Meal       50017 non-null  category      \n",
            " 8   Heroes Adjustment  50017 non-null  bool          \n",
            "dtypes: bool(1), category(1), datetime64[ns](1), int64(1), object(5)\n",
            "memory usage: 2.8+ MB\n"
          ],
          "name": "stdout"
        }
      ]
    },
    {
      "cell_type": "markdown",
      "metadata": {
        "id": "eVax2OSQxHK5"
      },
      "source": [
        "With conversion helpers,  it is possible to specify the behavior in case a value is encountered, that can not be converted.\n",
        "Both functions accept an additional parameter errors that defines how errors should be treated. We could choose to ignore errors by passingerrors='ignore' , or turn the offending values into np.nan values by passing errors='coerce'. The default behavior is to raise errors.\n",
        "\n",
        "We create an error and we demonstrate how to handle conversion errors."
      ]
    },
    {
      "cell_type": "code",
      "metadata": {
        "id": "2Vrpme6uxPId"
      },
      "source": [
        "invoices.loc[45612,'Meal Price'] = 'I am causing trouble'\n",
        "invoices.loc[35612,'Meal Price'] = 'Me too'"
      ],
      "execution_count": null,
      "outputs": []
    },
    {
      "cell_type": "code",
      "metadata": {
        "colab": {
          "base_uri": "https://localhost:8080/",
          "height": 345
        },
        "id": "guNIbv7Kybhp",
        "outputId": "7a67402e-e259-4b2a-d532-5e7f0ddc0843"
      },
      "source": [
        "invoices['Meal Price'].astype(int)"
      ],
      "execution_count": null,
      "outputs": [
        {
          "output_type": "error",
          "ename": "ValueError",
          "evalue": "ignored",
          "traceback": [
            "\u001b[0;31m---------------------------------------------------------------------------\u001b[0m",
            "\u001b[0;31mValueError\u001b[0m                                Traceback (most recent call last)",
            "\u001b[0;32m<ipython-input-11-7a45f8f5d74c>\u001b[0m in \u001b[0;36m<module>\u001b[0;34m()\u001b[0m\n\u001b[0;32m----> 1\u001b[0;31m \u001b[0minvoices\u001b[0m\u001b[0;34m[\u001b[0m\u001b[0;34m'Meal Price'\u001b[0m\u001b[0;34m]\u001b[0m\u001b[0;34m.\u001b[0m\u001b[0mastype\u001b[0m\u001b[0;34m(\u001b[0m\u001b[0mint\u001b[0m\u001b[0;34m)\u001b[0m\u001b[0;34m\u001b[0m\u001b[0;34m\u001b[0m\u001b[0m\n\u001b[0m",
            "\u001b[0;32m/usr/local/lib/python3.7/dist-packages/pandas/core/generic.py\u001b[0m in \u001b[0;36mastype\u001b[0;34m(self, dtype, copy, errors)\u001b[0m\n\u001b[1;32m   5546\u001b[0m         \u001b[0;32melse\u001b[0m\u001b[0;34m:\u001b[0m\u001b[0;34m\u001b[0m\u001b[0;34m\u001b[0m\u001b[0m\n\u001b[1;32m   5547\u001b[0m             \u001b[0;31m# else, only a single dtype is given\u001b[0m\u001b[0;34m\u001b[0m\u001b[0;34m\u001b[0m\u001b[0;34m\u001b[0m\u001b[0m\n\u001b[0;32m-> 5548\u001b[0;31m             \u001b[0mnew_data\u001b[0m \u001b[0;34m=\u001b[0m \u001b[0mself\u001b[0m\u001b[0;34m.\u001b[0m\u001b[0m_mgr\u001b[0m\u001b[0;34m.\u001b[0m\u001b[0mastype\u001b[0m\u001b[0;34m(\u001b[0m\u001b[0mdtype\u001b[0m\u001b[0;34m=\u001b[0m\u001b[0mdtype\u001b[0m\u001b[0;34m,\u001b[0m \u001b[0mcopy\u001b[0m\u001b[0;34m=\u001b[0m\u001b[0mcopy\u001b[0m\u001b[0;34m,\u001b[0m \u001b[0merrors\u001b[0m\u001b[0;34m=\u001b[0m\u001b[0merrors\u001b[0m\u001b[0;34m,\u001b[0m\u001b[0;34m)\u001b[0m\u001b[0;34m\u001b[0m\u001b[0;34m\u001b[0m\u001b[0m\n\u001b[0m\u001b[1;32m   5549\u001b[0m             \u001b[0;32mreturn\u001b[0m \u001b[0mself\u001b[0m\u001b[0;34m.\u001b[0m\u001b[0m_constructor\u001b[0m\u001b[0;34m(\u001b[0m\u001b[0mnew_data\u001b[0m\u001b[0;34m)\u001b[0m\u001b[0;34m.\u001b[0m\u001b[0m__finalize__\u001b[0m\u001b[0;34m(\u001b[0m\u001b[0mself\u001b[0m\u001b[0;34m,\u001b[0m \u001b[0mmethod\u001b[0m\u001b[0;34m=\u001b[0m\u001b[0;34m\"astype\"\u001b[0m\u001b[0;34m)\u001b[0m\u001b[0;34m\u001b[0m\u001b[0;34m\u001b[0m\u001b[0m\n\u001b[1;32m   5550\u001b[0m \u001b[0;34m\u001b[0m\u001b[0m\n",
            "\u001b[0;32m/usr/local/lib/python3.7/dist-packages/pandas/core/internals/managers.py\u001b[0m in \u001b[0;36mastype\u001b[0;34m(self, dtype, copy, errors)\u001b[0m\n\u001b[1;32m    602\u001b[0m         \u001b[0mself\u001b[0m\u001b[0;34m,\u001b[0m \u001b[0mdtype\u001b[0m\u001b[0;34m,\u001b[0m \u001b[0mcopy\u001b[0m\u001b[0;34m:\u001b[0m \u001b[0mbool\u001b[0m \u001b[0;34m=\u001b[0m \u001b[0;32mFalse\u001b[0m\u001b[0;34m,\u001b[0m \u001b[0merrors\u001b[0m\u001b[0;34m:\u001b[0m \u001b[0mstr\u001b[0m \u001b[0;34m=\u001b[0m \u001b[0;34m\"raise\"\u001b[0m\u001b[0;34m\u001b[0m\u001b[0;34m\u001b[0m\u001b[0m\n\u001b[1;32m    603\u001b[0m     ) -> \"BlockManager\":\n\u001b[0;32m--> 604\u001b[0;31m         \u001b[0;32mreturn\u001b[0m \u001b[0mself\u001b[0m\u001b[0;34m.\u001b[0m\u001b[0mapply\u001b[0m\u001b[0;34m(\u001b[0m\u001b[0;34m\"astype\"\u001b[0m\u001b[0;34m,\u001b[0m \u001b[0mdtype\u001b[0m\u001b[0;34m=\u001b[0m\u001b[0mdtype\u001b[0m\u001b[0;34m,\u001b[0m \u001b[0mcopy\u001b[0m\u001b[0;34m=\u001b[0m\u001b[0mcopy\u001b[0m\u001b[0;34m,\u001b[0m \u001b[0merrors\u001b[0m\u001b[0;34m=\u001b[0m\u001b[0merrors\u001b[0m\u001b[0;34m)\u001b[0m\u001b[0;34m\u001b[0m\u001b[0;34m\u001b[0m\u001b[0m\n\u001b[0m\u001b[1;32m    605\u001b[0m \u001b[0;34m\u001b[0m\u001b[0m\n\u001b[1;32m    606\u001b[0m     def convert(\n",
            "\u001b[0;32m/usr/local/lib/python3.7/dist-packages/pandas/core/internals/managers.py\u001b[0m in \u001b[0;36mapply\u001b[0;34m(self, f, align_keys, **kwargs)\u001b[0m\n\u001b[1;32m    407\u001b[0m                 \u001b[0mapplied\u001b[0m \u001b[0;34m=\u001b[0m \u001b[0mb\u001b[0m\u001b[0;34m.\u001b[0m\u001b[0mapply\u001b[0m\u001b[0;34m(\u001b[0m\u001b[0mf\u001b[0m\u001b[0;34m,\u001b[0m \u001b[0;34m**\u001b[0m\u001b[0mkwargs\u001b[0m\u001b[0;34m)\u001b[0m\u001b[0;34m\u001b[0m\u001b[0;34m\u001b[0m\u001b[0m\n\u001b[1;32m    408\u001b[0m             \u001b[0;32melse\u001b[0m\u001b[0;34m:\u001b[0m\u001b[0;34m\u001b[0m\u001b[0;34m\u001b[0m\u001b[0m\n\u001b[0;32m--> 409\u001b[0;31m                 \u001b[0mapplied\u001b[0m \u001b[0;34m=\u001b[0m \u001b[0mgetattr\u001b[0m\u001b[0;34m(\u001b[0m\u001b[0mb\u001b[0m\u001b[0;34m,\u001b[0m \u001b[0mf\u001b[0m\u001b[0;34m)\u001b[0m\u001b[0;34m(\u001b[0m\u001b[0;34m**\u001b[0m\u001b[0mkwargs\u001b[0m\u001b[0;34m)\u001b[0m\u001b[0;34m\u001b[0m\u001b[0;34m\u001b[0m\u001b[0m\n\u001b[0m\u001b[1;32m    410\u001b[0m             \u001b[0mresult_blocks\u001b[0m \u001b[0;34m=\u001b[0m \u001b[0m_extend_blocks\u001b[0m\u001b[0;34m(\u001b[0m\u001b[0mapplied\u001b[0m\u001b[0;34m,\u001b[0m \u001b[0mresult_blocks\u001b[0m\u001b[0;34m)\u001b[0m\u001b[0;34m\u001b[0m\u001b[0;34m\u001b[0m\u001b[0m\n\u001b[1;32m    411\u001b[0m \u001b[0;34m\u001b[0m\u001b[0m\n",
            "\u001b[0;32m/usr/local/lib/python3.7/dist-packages/pandas/core/internals/blocks.py\u001b[0m in \u001b[0;36mastype\u001b[0;34m(self, dtype, copy, errors)\u001b[0m\n\u001b[1;32m    593\u001b[0m             \u001b[0mvals1d\u001b[0m \u001b[0;34m=\u001b[0m \u001b[0mvalues\u001b[0m\u001b[0;34m.\u001b[0m\u001b[0mravel\u001b[0m\u001b[0;34m(\u001b[0m\u001b[0;34m)\u001b[0m\u001b[0;34m\u001b[0m\u001b[0;34m\u001b[0m\u001b[0m\n\u001b[1;32m    594\u001b[0m             \u001b[0;32mtry\u001b[0m\u001b[0;34m:\u001b[0m\u001b[0;34m\u001b[0m\u001b[0;34m\u001b[0m\u001b[0m\n\u001b[0;32m--> 595\u001b[0;31m                 \u001b[0mvalues\u001b[0m \u001b[0;34m=\u001b[0m \u001b[0mastype_nansafe\u001b[0m\u001b[0;34m(\u001b[0m\u001b[0mvals1d\u001b[0m\u001b[0;34m,\u001b[0m \u001b[0mdtype\u001b[0m\u001b[0;34m,\u001b[0m \u001b[0mcopy\u001b[0m\u001b[0;34m=\u001b[0m\u001b[0;32mTrue\u001b[0m\u001b[0;34m)\u001b[0m\u001b[0;34m\u001b[0m\u001b[0;34m\u001b[0m\u001b[0m\n\u001b[0m\u001b[1;32m    596\u001b[0m             \u001b[0;32mexcept\u001b[0m \u001b[0;34m(\u001b[0m\u001b[0mValueError\u001b[0m\u001b[0;34m,\u001b[0m \u001b[0mTypeError\u001b[0m\u001b[0;34m)\u001b[0m\u001b[0;34m:\u001b[0m\u001b[0;34m\u001b[0m\u001b[0;34m\u001b[0m\u001b[0m\n\u001b[1;32m    597\u001b[0m                 \u001b[0;31m# e.g. astype_nansafe can fail on object-dtype of strings\u001b[0m\u001b[0;34m\u001b[0m\u001b[0;34m\u001b[0m\u001b[0;34m\u001b[0m\u001b[0m\n",
            "\u001b[0;32m/usr/local/lib/python3.7/dist-packages/pandas/core/dtypes/cast.py\u001b[0m in \u001b[0;36mastype_nansafe\u001b[0;34m(arr, dtype, copy, skipna)\u001b[0m\n\u001b[1;32m    972\u001b[0m         \u001b[0;31m# work around NumPy brokenness, #1987\u001b[0m\u001b[0;34m\u001b[0m\u001b[0;34m\u001b[0m\u001b[0;34m\u001b[0m\u001b[0m\n\u001b[1;32m    973\u001b[0m         \u001b[0;32mif\u001b[0m \u001b[0mnp\u001b[0m\u001b[0;34m.\u001b[0m\u001b[0missubdtype\u001b[0m\u001b[0;34m(\u001b[0m\u001b[0mdtype\u001b[0m\u001b[0;34m.\u001b[0m\u001b[0mtype\u001b[0m\u001b[0;34m,\u001b[0m \u001b[0mnp\u001b[0m\u001b[0;34m.\u001b[0m\u001b[0minteger\u001b[0m\u001b[0;34m)\u001b[0m\u001b[0;34m:\u001b[0m\u001b[0;34m\u001b[0m\u001b[0;34m\u001b[0m\u001b[0m\n\u001b[0;32m--> 974\u001b[0;31m             \u001b[0;32mreturn\u001b[0m \u001b[0mlib\u001b[0m\u001b[0;34m.\u001b[0m\u001b[0mastype_intsafe\u001b[0m\u001b[0;34m(\u001b[0m\u001b[0marr\u001b[0m\u001b[0;34m.\u001b[0m\u001b[0mravel\u001b[0m\u001b[0;34m(\u001b[0m\u001b[0;34m)\u001b[0m\u001b[0;34m,\u001b[0m \u001b[0mdtype\u001b[0m\u001b[0;34m)\u001b[0m\u001b[0;34m.\u001b[0m\u001b[0mreshape\u001b[0m\u001b[0;34m(\u001b[0m\u001b[0marr\u001b[0m\u001b[0;34m.\u001b[0m\u001b[0mshape\u001b[0m\u001b[0;34m)\u001b[0m\u001b[0;34m\u001b[0m\u001b[0;34m\u001b[0m\u001b[0m\n\u001b[0m\u001b[1;32m    975\u001b[0m \u001b[0;34m\u001b[0m\u001b[0m\n\u001b[1;32m    976\u001b[0m         \u001b[0;31m# if we have a datetime/timedelta array of objects\u001b[0m\u001b[0;34m\u001b[0m\u001b[0;34m\u001b[0m\u001b[0;34m\u001b[0m\u001b[0m\n",
            "\u001b[0;32mpandas/_libs/lib.pyx\u001b[0m in \u001b[0;36mpandas._libs.lib.astype_intsafe\u001b[0;34m()\u001b[0m\n",
            "\u001b[0;31mValueError\u001b[0m: invalid literal for int() with base 10: 'Me too'"
          ]
        }
      ]
    },
    {
      "cell_type": "code",
      "metadata": {
        "id": "8NPfjhtR1ycG"
      },
      "source": [
        "miosimbolo = lambda x: x+2 "
      ],
      "execution_count": null,
      "outputs": []
    },
    {
      "cell_type": "code",
      "metadata": {
        "id": "xR9EwSwX2OEd",
        "colab": {
          "base_uri": "https://localhost:8080/"
        },
        "outputId": "249589bf-7f77-4be6-fb22-68fc4ff9c4fb"
      },
      "source": [
        "print(miosimbolo(15))"
      ],
      "execution_count": null,
      "outputs": [
        {
          "output_type": "stream",
          "text": [
            "17\n"
          ],
          "name": "stdout"
        }
      ]
    },
    {
      "cell_type": "code",
      "metadata": {
        "id": "Ij20xXpE228m",
        "colab": {
          "base_uri": "https://localhost:8080/"
        },
        "outputId": "1d1aa9a0-6577-4bc3-abf6-4a4b55a1dc97"
      },
      "source": [
        "type(25.2)"
      ],
      "execution_count": null,
      "outputs": [
        {
          "output_type": "execute_result",
          "data": {
            "text/plain": [
              "float"
            ]
          },
          "metadata": {
            "tags": []
          },
          "execution_count": 17
        }
      ]
    },
    {
      "cell_type": "code",
      "metadata": {
        "id": "8rG32OGM3JzC",
        "colab": {
          "base_uri": "https://localhost:8080/"
        },
        "outputId": "d973b490-2358-41ba-8d78-682b5cc6ed98"
      },
      "source": [
        "invoices['Meal Price'].apply(lambda x: type(x))"
      ],
      "execution_count": null,
      "outputs": [
        {
          "output_type": "execute_result",
          "data": {
            "text/plain": [
              "0        <class 'int'>\n",
              "1        <class 'int'>\n",
              "2        <class 'int'>\n",
              "3        <class 'int'>\n",
              "4        <class 'int'>\n",
              "             ...      \n",
              "50012    <class 'int'>\n",
              "50013    <class 'int'>\n",
              "50014    <class 'int'>\n",
              "50015    <class 'int'>\n",
              "50016    <class 'int'>\n",
              "Name: Meal Price, Length: 50017, dtype: object"
            ]
          },
          "metadata": {
            "tags": []
          },
          "execution_count": 18
        }
      ]
    },
    {
      "cell_type": "code",
      "metadata": {
        "colab": {
          "base_uri": "https://localhost:8080/"
        },
        "id": "mYCcf-cVynM_",
        "outputId": "5af9a2e7-0ca6-4410-97d5-dfae8cf2b0fe"
      },
      "source": [
        "invoices['Meal Price'].apply(lambda x: type(x)).value_counts()"
      ],
      "execution_count": null,
      "outputs": [
        {
          "output_type": "execute_result",
          "data": {
            "text/plain": [
              "<class 'int'>    50015\n",
              "<class 'str'>        2\n",
              "Name: Meal Price, dtype: int64"
            ]
          },
          "metadata": {
            "tags": []
          },
          "execution_count": 13
        }
      ]
    },
    {
      "cell_type": "code",
      "metadata": {
        "colab": {
          "base_uri": "https://localhost:8080/",
          "height": 362
        },
        "id": "VBkd5sgmy6nU",
        "outputId": "792a0472-0184-4547-97bd-3400000ce3a5"
      },
      "source": [
        "# Now this will not work as part is int and part str\n",
        "invoices['Meal Price'][invoices['Meal Price']<10]"
      ],
      "execution_count": null,
      "outputs": [
        {
          "output_type": "error",
          "ename": "TypeError",
          "evalue": "ignored",
          "traceback": [
            "\u001b[0;31m---------------------------------------------------------------------------\u001b[0m",
            "\u001b[0;31mTypeError\u001b[0m                                 Traceback (most recent call last)",
            "\u001b[0;32m<ipython-input-20-36a5daed87af>\u001b[0m in \u001b[0;36m<module>\u001b[0;34m()\u001b[0m\n\u001b[1;32m      1\u001b[0m \u001b[0;31m# Now this will not work as part is int and part str\u001b[0m\u001b[0;34m\u001b[0m\u001b[0;34m\u001b[0m\u001b[0;34m\u001b[0m\u001b[0m\n\u001b[0;32m----> 2\u001b[0;31m \u001b[0minvoices\u001b[0m\u001b[0;34m[\u001b[0m\u001b[0;34m'Meal Price'\u001b[0m\u001b[0;34m]\u001b[0m\u001b[0;34m[\u001b[0m\u001b[0minvoices\u001b[0m\u001b[0;34m[\u001b[0m\u001b[0;34m'Meal Price'\u001b[0m\u001b[0;34m]\u001b[0m\u001b[0;34m<\u001b[0m\u001b[0;36m10\u001b[0m\u001b[0;34m]\u001b[0m\u001b[0;34m\u001b[0m\u001b[0;34m\u001b[0m\u001b[0m\n\u001b[0m",
            "\u001b[0;32m/usr/local/lib/python3.7/dist-packages/pandas/core/ops/common.py\u001b[0m in \u001b[0;36mnew_method\u001b[0;34m(self, other)\u001b[0m\n\u001b[1;32m     63\u001b[0m         \u001b[0mother\u001b[0m \u001b[0;34m=\u001b[0m \u001b[0mitem_from_zerodim\u001b[0m\u001b[0;34m(\u001b[0m\u001b[0mother\u001b[0m\u001b[0;34m)\u001b[0m\u001b[0;34m\u001b[0m\u001b[0;34m\u001b[0m\u001b[0m\n\u001b[1;32m     64\u001b[0m \u001b[0;34m\u001b[0m\u001b[0m\n\u001b[0;32m---> 65\u001b[0;31m         \u001b[0;32mreturn\u001b[0m \u001b[0mmethod\u001b[0m\u001b[0;34m(\u001b[0m\u001b[0mself\u001b[0m\u001b[0;34m,\u001b[0m \u001b[0mother\u001b[0m\u001b[0;34m)\u001b[0m\u001b[0;34m\u001b[0m\u001b[0;34m\u001b[0m\u001b[0m\n\u001b[0m\u001b[1;32m     66\u001b[0m \u001b[0;34m\u001b[0m\u001b[0m\n\u001b[1;32m     67\u001b[0m     \u001b[0;32mreturn\u001b[0m \u001b[0mnew_method\u001b[0m\u001b[0;34m\u001b[0m\u001b[0;34m\u001b[0m\u001b[0m\n",
            "\u001b[0;32m/usr/local/lib/python3.7/dist-packages/pandas/core/ops/__init__.py\u001b[0m in \u001b[0;36mwrapper\u001b[0;34m(self, other)\u001b[0m\n\u001b[1;32m    368\u001b[0m         \u001b[0mrvalues\u001b[0m \u001b[0;34m=\u001b[0m \u001b[0mextract_array\u001b[0m\u001b[0;34m(\u001b[0m\u001b[0mother\u001b[0m\u001b[0;34m,\u001b[0m \u001b[0mextract_numpy\u001b[0m\u001b[0;34m=\u001b[0m\u001b[0;32mTrue\u001b[0m\u001b[0;34m)\u001b[0m\u001b[0;34m\u001b[0m\u001b[0;34m\u001b[0m\u001b[0m\n\u001b[1;32m    369\u001b[0m \u001b[0;34m\u001b[0m\u001b[0m\n\u001b[0;32m--> 370\u001b[0;31m         \u001b[0mres_values\u001b[0m \u001b[0;34m=\u001b[0m \u001b[0mcomparison_op\u001b[0m\u001b[0;34m(\u001b[0m\u001b[0mlvalues\u001b[0m\u001b[0;34m,\u001b[0m \u001b[0mrvalues\u001b[0m\u001b[0;34m,\u001b[0m \u001b[0mop\u001b[0m\u001b[0;34m)\u001b[0m\u001b[0;34m\u001b[0m\u001b[0;34m\u001b[0m\u001b[0m\n\u001b[0m\u001b[1;32m    371\u001b[0m \u001b[0;34m\u001b[0m\u001b[0m\n\u001b[1;32m    372\u001b[0m         \u001b[0;32mreturn\u001b[0m \u001b[0mself\u001b[0m\u001b[0;34m.\u001b[0m\u001b[0m_construct_result\u001b[0m\u001b[0;34m(\u001b[0m\u001b[0mres_values\u001b[0m\u001b[0;34m,\u001b[0m \u001b[0mname\u001b[0m\u001b[0;34m=\u001b[0m\u001b[0mres_name\u001b[0m\u001b[0;34m)\u001b[0m\u001b[0;34m\u001b[0m\u001b[0;34m\u001b[0m\u001b[0m\n",
            "\u001b[0;32m/usr/local/lib/python3.7/dist-packages/pandas/core/ops/array_ops.py\u001b[0m in \u001b[0;36mcomparison_op\u001b[0;34m(left, right, op)\u001b[0m\n\u001b[1;32m    242\u001b[0m \u001b[0;34m\u001b[0m\u001b[0m\n\u001b[1;32m    243\u001b[0m     \u001b[0;32melif\u001b[0m \u001b[0mis_object_dtype\u001b[0m\u001b[0;34m(\u001b[0m\u001b[0mlvalues\u001b[0m\u001b[0;34m.\u001b[0m\u001b[0mdtype\u001b[0m\u001b[0;34m)\u001b[0m\u001b[0;34m:\u001b[0m\u001b[0;34m\u001b[0m\u001b[0;34m\u001b[0m\u001b[0m\n\u001b[0;32m--> 244\u001b[0;31m         \u001b[0mres_values\u001b[0m \u001b[0;34m=\u001b[0m \u001b[0mcomp_method_OBJECT_ARRAY\u001b[0m\u001b[0;34m(\u001b[0m\u001b[0mop\u001b[0m\u001b[0;34m,\u001b[0m \u001b[0mlvalues\u001b[0m\u001b[0;34m,\u001b[0m \u001b[0mrvalues\u001b[0m\u001b[0;34m)\u001b[0m\u001b[0;34m\u001b[0m\u001b[0;34m\u001b[0m\u001b[0m\n\u001b[0m\u001b[1;32m    245\u001b[0m \u001b[0;34m\u001b[0m\u001b[0m\n\u001b[1;32m    246\u001b[0m     \u001b[0;32melse\u001b[0m\u001b[0;34m:\u001b[0m\u001b[0;34m\u001b[0m\u001b[0;34m\u001b[0m\u001b[0m\n",
            "\u001b[0;32m/usr/local/lib/python3.7/dist-packages/pandas/core/ops/array_ops.py\u001b[0m in \u001b[0;36mcomp_method_OBJECT_ARRAY\u001b[0;34m(op, x, y)\u001b[0m\n\u001b[1;32m     54\u001b[0m         \u001b[0mresult\u001b[0m \u001b[0;34m=\u001b[0m \u001b[0mlibops\u001b[0m\u001b[0;34m.\u001b[0m\u001b[0mvec_compare\u001b[0m\u001b[0;34m(\u001b[0m\u001b[0mx\u001b[0m\u001b[0;34m.\u001b[0m\u001b[0mravel\u001b[0m\u001b[0;34m(\u001b[0m\u001b[0;34m)\u001b[0m\u001b[0;34m,\u001b[0m \u001b[0my\u001b[0m\u001b[0;34m.\u001b[0m\u001b[0mravel\u001b[0m\u001b[0;34m(\u001b[0m\u001b[0;34m)\u001b[0m\u001b[0;34m,\u001b[0m \u001b[0mop\u001b[0m\u001b[0;34m)\u001b[0m\u001b[0;34m\u001b[0m\u001b[0;34m\u001b[0m\u001b[0m\n\u001b[1;32m     55\u001b[0m     \u001b[0;32melse\u001b[0m\u001b[0;34m:\u001b[0m\u001b[0;34m\u001b[0m\u001b[0;34m\u001b[0m\u001b[0m\n\u001b[0;32m---> 56\u001b[0;31m         \u001b[0mresult\u001b[0m \u001b[0;34m=\u001b[0m \u001b[0mlibops\u001b[0m\u001b[0;34m.\u001b[0m\u001b[0mscalar_compare\u001b[0m\u001b[0;34m(\u001b[0m\u001b[0mx\u001b[0m\u001b[0;34m.\u001b[0m\u001b[0mravel\u001b[0m\u001b[0;34m(\u001b[0m\u001b[0;34m)\u001b[0m\u001b[0;34m,\u001b[0m \u001b[0my\u001b[0m\u001b[0;34m,\u001b[0m \u001b[0mop\u001b[0m\u001b[0;34m)\u001b[0m\u001b[0;34m\u001b[0m\u001b[0;34m\u001b[0m\u001b[0m\n\u001b[0m\u001b[1;32m     57\u001b[0m     \u001b[0;32mreturn\u001b[0m \u001b[0mresult\u001b[0m\u001b[0;34m.\u001b[0m\u001b[0mreshape\u001b[0m\u001b[0;34m(\u001b[0m\u001b[0mx\u001b[0m\u001b[0;34m.\u001b[0m\u001b[0mshape\u001b[0m\u001b[0;34m)\u001b[0m\u001b[0;34m\u001b[0m\u001b[0;34m\u001b[0m\u001b[0m\n\u001b[1;32m     58\u001b[0m \u001b[0;34m\u001b[0m\u001b[0m\n",
            "\u001b[0;32mpandas/_libs/ops.pyx\u001b[0m in \u001b[0;36mpandas._libs.ops.scalar_compare\u001b[0;34m()\u001b[0m\n",
            "\u001b[0;31mTypeError\u001b[0m: '<' not supported between instances of 'str' and 'int'"
          ]
        }
      ]
    },
    {
      "cell_type": "code",
      "metadata": {
        "colab": {
          "base_uri": "https://localhost:8080/"
        },
        "id": "CCzQZiaryuAP",
        "outputId": "447bbff7-05fd-4f1e-82b9-f04db6a1e59d"
      },
      "source": [
        "# Conditionally filter by lambda condition\n",
        "invoices['Meal Price'][invoices['Meal Price'].apply(\n",
        "  lambda x: isinstance(x,str)\n",
        ")]"
      ],
      "execution_count": null,
      "outputs": [
        {
          "output_type": "execute_result",
          "data": {
            "text/plain": [
              "35612                  Me too\n",
              "45612    I am causing trouble\n",
              "Name: Meal Price, dtype: object"
            ]
          },
          "metadata": {
            "tags": []
          },
          "execution_count": 21
        }
      ]
    },
    {
      "cell_type": "markdown",
      "metadata": {
        "id": "zz7kdV2WzmXq"
      },
      "source": [
        "it would be very reasonable to just convert the values into np.nan by passing errors='coerce' to pd.to_numeric() like this:"
      ]
    },
    {
      "cell_type": "code",
      "metadata": {
        "colab": {
          "base_uri": "https://localhost:8080/"
        },
        "id": "EUWSVfx8zbo2",
        "outputId": "d9b7a065-6afd-40bb-a49f-d6c4e3a46a51"
      },
      "source": [
        "pd.to_numeric(invoices['Meal Price'],errors='coerce')"
      ],
      "execution_count": null,
      "outputs": [
        {
          "output_type": "execute_result",
          "data": {
            "text/plain": [
              "0        469.0\n",
              "1         22.0\n",
              "2        314.0\n",
              "3        438.0\n",
              "4        690.0\n",
              "         ...  \n",
              "50012      9.0\n",
              "50013     25.0\n",
              "50014    160.0\n",
              "50015    497.0\n",
              "50016    365.0\n",
              "Name: Meal Price, Length: 50017, dtype: float64"
            ]
          },
          "metadata": {
            "tags": []
          },
          "execution_count": 22
        }
      ]
    },
    {
      "cell_type": "code",
      "metadata": {
        "colab": {
          "base_uri": "https://localhost:8080/"
        },
        "id": "A40mBnJWzv3g",
        "outputId": "1f842be5-b6f4-42c5-d882-73139f5c4704"
      },
      "source": [
        "invoices.iloc[45612]"
      ],
      "execution_count": null,
      "outputs": [
        {
          "output_type": "execute_result",
          "data": {
            "text/plain": [
              "Order Id                      SJA1F92KXWZDH398\n",
              "Date                       2017-02-26 00:00:00\n",
              "Meal Id                       OOW0UEXQY5RMPPZ8\n",
              "Company Id                    ICNGUMLKEB27T1P3\n",
              "Date of Meal         2017-03-02 20:00:00+01:00\n",
              "Participants                  ['Betty Stroud']\n",
              "Meal Price                I am causing trouble\n",
              "Type of Meal                            Dinner\n",
              "Heroes Adjustment                        False\n",
              "Name: 45612, dtype: object"
            ]
          },
          "metadata": {
            "tags": []
          },
          "execution_count": 24
        }
      ]
    },
    {
      "cell_type": "code",
      "metadata": {
        "colab": {
          "base_uri": "https://localhost:8080/"
        },
        "id": "xrRxJ6mZ0ArW",
        "outputId": "2ad28800-03be-4caf-f63d-289effbfdd7e"
      },
      "source": [
        "pd.to_numeric(invoices['Meal Price'],errors='coerce')[45612]"
      ],
      "execution_count": null,
      "outputs": [
        {
          "output_type": "execute_result",
          "data": {
            "text/plain": [
              "nan"
            ]
          },
          "metadata": {
            "tags": []
          },
          "execution_count": 25
        }
      ]
    },
    {
      "cell_type": "code",
      "metadata": {
        "id": "0eZ3y8TX6IqK"
      },
      "source": [
        "invoices['Meal Price'] = pd.to_numeric(invoices['Meal Price'],errors='coerce')"
      ],
      "execution_count": null,
      "outputs": []
    },
    {
      "cell_type": "code",
      "metadata": {
        "id": "d6DkBnry6K-e"
      },
      "source": [
        "invoices['Meal Price'] = invoices['Meal Price'].fillna(invoices['Meal Price'].median())"
      ],
      "execution_count": null,
      "outputs": []
    },
    {
      "cell_type": "code",
      "metadata": {
        "id": "6y7BO8g70G6D"
      },
      "source": [
        "# Fill in the gaps with fillna and median\n",
        "invoices['Meal Price'] = pd.to_numeric(invoices['Meal Price'],errors='coerce')\n",
        "invoices['Meal Price'] = invoices['Meal Price'].fillna(invoices['Meal Price'].median())\n",
        "invoices['Meal Price'] = invoices['Meal Price'].astype(int)"
      ],
      "execution_count": null,
      "outputs": []
    },
    {
      "cell_type": "code",
      "metadata": {
        "colab": {
          "base_uri": "https://localhost:8080/",
          "height": 275
        },
        "id": "rgpO4fXd3apq",
        "outputId": "7a487eb5-b10a-473a-e601-71439b992fb2"
      },
      "source": [
        "print(invoices['Meal Price'].median())\n",
        "invoices.iloc[45610:45614] # [ ) [ )"
      ],
      "execution_count": null,
      "outputs": [
        {
          "output_type": "stream",
          "text": [
            "398.0\n"
          ],
          "name": "stdout"
        },
        {
          "output_type": "execute_result",
          "data": {
            "text/html": [
              "<div>\n",
              "<style scoped>\n",
              "    .dataframe tbody tr th:only-of-type {\n",
              "        vertical-align: middle;\n",
              "    }\n",
              "\n",
              "    .dataframe tbody tr th {\n",
              "        vertical-align: top;\n",
              "    }\n",
              "\n",
              "    .dataframe thead th {\n",
              "        text-align: right;\n",
              "    }\n",
              "</style>\n",
              "<table border=\"1\" class=\"dataframe\">\n",
              "  <thead>\n",
              "    <tr style=\"text-align: right;\">\n",
              "      <th></th>\n",
              "      <th>Order Id</th>\n",
              "      <th>Date</th>\n",
              "      <th>Meal Id</th>\n",
              "      <th>Company Id</th>\n",
              "      <th>Date of Meal</th>\n",
              "      <th>Participants</th>\n",
              "      <th>Meal Price</th>\n",
              "      <th>Type of Meal</th>\n",
              "      <th>Heroes Adjustment</th>\n",
              "    </tr>\n",
              "  </thead>\n",
              "  <tbody>\n",
              "    <tr>\n",
              "      <th>45610</th>\n",
              "      <td>DMB8H3M3WT8GJSPN</td>\n",
              "      <td>2016-08-20</td>\n",
              "      <td>AOJPWQGKNVDF9UD5</td>\n",
              "      <td>ICNGUMLKEB27T1P3</td>\n",
              "      <td>2016-08-17 21:00:00+02:00</td>\n",
              "      <td>['Betty Stroud']</td>\n",
              "      <td>49</td>\n",
              "      <td>Dinner</td>\n",
              "      <td>False</td>\n",
              "    </tr>\n",
              "    <tr>\n",
              "      <th>45611</th>\n",
              "      <td>XEEXYOB84AHVCC1J</td>\n",
              "      <td>2018-07-17</td>\n",
              "      <td>63LLVLE72VG2J157</td>\n",
              "      <td>ICNGUMLKEB27T1P3</td>\n",
              "      <td>2018-07-19 20:00:00+02:00</td>\n",
              "      <td>['Alesha Wooten']</td>\n",
              "      <td>891</td>\n",
              "      <td>Dinner</td>\n",
              "      <td>False</td>\n",
              "    </tr>\n",
              "    <tr>\n",
              "      <th>45612</th>\n",
              "      <td>SJA1F92KXWZDH398</td>\n",
              "      <td>2017-02-26</td>\n",
              "      <td>OOW0UEXQY5RMPPZ8</td>\n",
              "      <td>ICNGUMLKEB27T1P3</td>\n",
              "      <td>2017-03-02 20:00:00+01:00</td>\n",
              "      <td>['Betty Stroud']</td>\n",
              "      <td>398</td>\n",
              "      <td>Dinner</td>\n",
              "      <td>False</td>\n",
              "    </tr>\n",
              "    <tr>\n",
              "      <th>45613</th>\n",
              "      <td>HC6MTWMXF99YEB92</td>\n",
              "      <td>2018-03-01</td>\n",
              "      <td>II205DMW5FBPTGIX</td>\n",
              "      <td>ICNGUMLKEB27T1P3</td>\n",
              "      <td>2018-03-02 13:00:00+01:00</td>\n",
              "      <td>['Betty Stroud']</td>\n",
              "      <td>245</td>\n",
              "      <td>Lunch</td>\n",
              "      <td>False</td>\n",
              "    </tr>\n",
              "  </tbody>\n",
              "</table>\n",
              "</div>"
            ],
            "text/plain": [
              "               Order Id       Date           Meal Id        Company Id  \\\n",
              "45610  DMB8H3M3WT8GJSPN 2016-08-20  AOJPWQGKNVDF9UD5  ICNGUMLKEB27T1P3   \n",
              "45611  XEEXYOB84AHVCC1J 2018-07-17  63LLVLE72VG2J157  ICNGUMLKEB27T1P3   \n",
              "45612  SJA1F92KXWZDH398 2017-02-26  OOW0UEXQY5RMPPZ8  ICNGUMLKEB27T1P3   \n",
              "45613  HC6MTWMXF99YEB92 2018-03-01  II205DMW5FBPTGIX  ICNGUMLKEB27T1P3   \n",
              "\n",
              "                    Date of Meal       Participants  Meal Price Type of Meal  \\\n",
              "45610  2016-08-17 21:00:00+02:00   ['Betty Stroud']          49       Dinner   \n",
              "45611  2018-07-19 20:00:00+02:00  ['Alesha Wooten']         891       Dinner   \n",
              "45612  2017-03-02 20:00:00+01:00   ['Betty Stroud']         398       Dinner   \n",
              "45613  2018-03-02 13:00:00+01:00   ['Betty Stroud']         245        Lunch   \n",
              "\n",
              "       Heroes Adjustment  \n",
              "45610              False  \n",
              "45611              False  \n",
              "45612              False  \n",
              "45613              False  "
            ]
          },
          "metadata": {
            "tags": []
          },
          "execution_count": 33
        }
      ]
    },
    {
      "cell_type": "markdown",
      "metadata": {
        "id": "zyeHlWNg31cf"
      },
      "source": [
        "## Manipulating Date and Time in Pandas"
      ]
    },
    {
      "cell_type": "markdown",
      "metadata": {
        "id": "t4EEWymF5qRr"
      },
      "source": [
        "A tutorial on basic python date time standard lib is here:\n",
        "https://colab.research.google.com/github/thimotyb/materials/blob/master/datetime/datetime_tutorial.ipynb\n"
      ]
    },
    {
      "cell_type": "markdown",
      "metadata": {
        "id": "68V6CiM162v-"
      },
      "source": [
        "pd.to_datetime()\n",
        "Does what the name implies, the method converts a string into a datetime format. To call to_datetime on a column you would do: \n",
        "pd.to_datetime(invoices['Date of Meal']). \n",
        "\n",
        "Pandas will then guess the format and try to parse the date from the Input. And it does so impressively well:\n",
        "\n",
        "\n"
      ]
    },
    {
      "cell_type": "code",
      "metadata": {
        "colab": {
          "base_uri": "https://localhost:8080/"
        },
        "id": "2mRMf8S73xEN",
        "outputId": "cef41eb6-a593-4cbb-f25d-b73eeb46ed93"
      },
      "source": [
        "print(pd.to_datetime('2019-8-1'))\n",
        "print(pd.to_datetime('2019/8/1'))\n",
        "print(pd.to_datetime('8/1/2019'))\n",
        "print(pd.to_datetime('Aug, 1 2019'))\n",
        "print(pd.to_datetime('Aug - 1 2019'))\n",
        "print(pd.to_datetime('August - 1 2019'))\n",
        "print(pd.to_datetime('2019, August - 1'))\n",
        "print(pd.to_datetime('20190108'))"
      ],
      "execution_count": null,
      "outputs": [
        {
          "output_type": "stream",
          "text": [
            "2019-08-01 00:00:00\n",
            "2019-08-01 00:00:00\n",
            "2019-08-01 00:00:00\n",
            "2019-08-01 00:00:00\n",
            "2019-08-01 00:00:00\n",
            "2019-08-01 00:00:00\n",
            "2019-08-01 00:00:00\n",
            "2019-01-08 00:00:00\n"
          ],
          "name": "stdout"
        }
      ]
    },
    {
      "cell_type": "code",
      "metadata": {
        "colab": {
          "base_uri": "https://localhost:8080/"
        },
        "id": "gckJoeod68as",
        "outputId": "0a2ca64f-3e50-45d5-d109-648c7e18faa9"
      },
      "source": [
        "# With an arbitrary format\n",
        "print(pd.to_datetime('yolo 20190108',format='%Y%d%m', exact=False))"
      ],
      "execution_count": null,
      "outputs": [
        {
          "output_type": "stream",
          "text": [
            "2019-08-01 00:00:00\n"
          ],
          "name": "stdout"
        }
      ]
    },
    {
      "cell_type": "code",
      "metadata": {
        "id": "pDL6lWh37Pe1"
      },
      "source": [
        "invoices['Date of Meal'] = pd.to_datetime(invoices['Date of Meal'],utc=True)"
      ],
      "execution_count": null,
      "outputs": []
    },
    {
      "cell_type": "code",
      "metadata": {
        "id": "QAxtZ0ScMrN7",
        "colab": {
          "base_uri": "https://localhost:8080/"
        },
        "outputId": "81fc28bd-02bb-4f6b-e151-ecb9f53bd1c3"
      },
      "source": [
        "invoices['Date of Meal']"
      ],
      "execution_count": null,
      "outputs": [
        {
          "output_type": "execute_result",
          "data": {
            "text/plain": [
              "0       2016-05-31 05:00:00+00:00\n",
              "1       2018-10-01 18:00:00+00:00\n",
              "2       2014-08-23 12:00:00+00:00\n",
              "3       2014-04-07 19:00:00+00:00\n",
              "4       2015-07-27 12:00:00+00:00\n",
              "                   ...           \n",
              "50012   2017-09-21 06:00:00+00:00\n",
              "50013   2018-03-18 08:00:00+00:00\n",
              "50014   2017-09-22 19:00:00+00:00\n",
              "50015   2018-02-01 20:00:00+00:00\n",
              "50016   2017-09-09 12:00:00+00:00\n",
              "Name: Date of Meal, Length: 50017, dtype: datetime64[ns, UTC]"
            ]
          },
          "metadata": {
            "tags": []
          },
          "execution_count": 50
        }
      ]
    },
    {
      "cell_type": "markdown",
      "metadata": {
        "id": "tjz_8km4Fhtb"
      },
      "source": [
        "Examples taken from:\n",
        "https://github.com/pandas-dev/pandas/blob/master/doc/source/user_guide/timeseries.rst\n",
        "\n",
        "pandas captures 4 general time related concepts:\n",
        "\n",
        "* Date times: A specific date and time with timezone support. Similar to datetime.datetime from the standard library.\n",
        "* Time deltas: An absolute time duration. Similar to datetime.timedelta from the standard library.\n",
        "* Time spans: A span of time defined by a point in time and its associated frequency.\n",
        "* Date offsets: A relative time duration that respects calendar arithmetic. Similar to dateutil.relativedelta.relativedelta from the dateutil package."
      ]
    },
    {
      "cell_type": "code",
      "metadata": {
        "colab": {
          "base_uri": "https://localhost:8080/"
        },
        "id": "2NGO0w4dDgGw",
        "outputId": "926ec635-61f1-4ec7-9930-0d8456019972"
      },
      "source": [
        "# Generate fixed time series\n",
        "dti = pd.date_range(\"2018-01-01\", periods=3, freq=\"H\")\n",
        "dti"
      ],
      "execution_count": null,
      "outputs": [
        {
          "output_type": "execute_result",
          "data": {
            "text/plain": [
              "DatetimeIndex(['2018-01-01 00:00:00', '2018-01-01 01:00:00',\n",
              "               '2018-01-01 02:00:00'],\n",
              "              dtype='datetime64[ns]', freq='H')"
            ]
          },
          "metadata": {
            "tags": []
          },
          "execution_count": 51
        }
      ]
    },
    {
      "cell_type": "code",
      "metadata": {
        "id": "dc9ute5bOjeG",
        "colab": {
          "base_uri": "https://localhost:8080/"
        },
        "outputId": "067c8bac-8d7d-4055-9357-ef801c393195"
      },
      "source": [
        "list(range(len(idx)))"
      ],
      "execution_count": null,
      "outputs": [
        {
          "output_type": "execute_result",
          "data": {
            "text/plain": [
              "[0, 1, 2, 3, 4]"
            ]
          },
          "metadata": {
            "tags": []
          },
          "execution_count": 54
        }
      ]
    },
    {
      "cell_type": "code",
      "metadata": {
        "colab": {
          "base_uri": "https://localhost:8080/"
        },
        "id": "76-lrvmEDsdS",
        "outputId": "b097ff55-11a9-42d4-ff28-377975b00eb1"
      },
      "source": [
        "idx = pd.date_range(\"2018-01-01\", periods=5, freq=\"H\")\n",
        "ts = pd.Series(range(len(idx)), index=idx)\n",
        "ts"
      ],
      "execution_count": null,
      "outputs": [
        {
          "output_type": "execute_result",
          "data": {
            "text/plain": [
              "2018-01-01 00:00:00    0\n",
              "2018-01-01 01:00:00    1\n",
              "2018-01-01 02:00:00    2\n",
              "2018-01-01 03:00:00    3\n",
              "2018-01-01 04:00:00    4\n",
              "Freq: H, dtype: int64"
            ]
          },
          "metadata": {
            "tags": []
          },
          "execution_count": 55
        }
      ]
    },
    {
      "cell_type": "code",
      "metadata": {
        "id": "k33c-GwwPHqz",
        "colab": {
          "base_uri": "https://localhost:8080/"
        },
        "outputId": "cc1a010f-18f1-44a0-c041-5418f7cc8b76"
      },
      "source": [
        "friday = pd.Timestamp(\"2018-01-05\")\n",
        "print(type(friday))"
      ],
      "execution_count": null,
      "outputs": [
        {
          "output_type": "stream",
          "text": [
            "<class 'pandas._libs.tslibs.timestamps.Timestamp'>\n"
          ],
          "name": "stdout"
        }
      ]
    },
    {
      "cell_type": "code",
      "metadata": {
        "colab": {
          "base_uri": "https://localhost:8080/"
        },
        "id": "5JYlVWqWC7x4",
        "outputId": "5f1486b2-c1f7-47c1-dbb9-a85700ae14bd"
      },
      "source": [
        "# Date and Time arithmetics\n",
        "friday = pd.Timestamp(\"2018-01-05\")\n",
        "print(friday.day_name())\n",
        "# Add 1 day\n",
        "saturday = friday + pd.Timedelta(\"1 day\")\n",
        "print(saturday.day_name())\n",
        "# Add 1 business day (Friday --> Monday)\n",
        "monday = friday + pd.offsets.BDay() # Defaults to 1\n",
        "print(monday.day_name())"
      ],
      "execution_count": null,
      "outputs": [
        {
          "output_type": "stream",
          "text": [
            "Friday\n",
            "Saturday\n",
            "Monday\n"
          ],
          "name": "stdout"
        }
      ]
    },
    {
      "cell_type": "code",
      "metadata": {
        "colab": {
          "base_uri": "https://localhost:8080/"
        },
        "id": "yVavF6d2DTrq",
        "outputId": "f952a6dd-98ff-4904-e7c8-cada16f07148"
      },
      "source": [
        "# Timestamps and Periods\n",
        "dates = [\n",
        "       pd.Timestamp(\"2012-05-01\"),\n",
        "       pd.Timestamp(\"2012-05-02\"),\n",
        "       pd.Timestamp(\"2012-05-03\"),\n",
        "]\n",
        "ts = pd.Series(np.random.randn(3), dates)\n",
        "\n",
        "print(type(ts.index))\n",
        "print(ts.index)\n",
        "\n",
        "print(ts)\n",
        "\n",
        "periods = [pd.Period(\"2012-01\"), pd.Period(\"2012-02\"), pd.Period(\"2012-03\")]\n",
        "\n",
        "ts = pd.Series(np.random.randn(3), periods)\n",
        "\n",
        "print(type(ts.index))\n",
        "print(ts.index)\n",
        "\n",
        "print(ts)"
      ],
      "execution_count": null,
      "outputs": [
        {
          "output_type": "stream",
          "text": [
            "<class 'pandas.core.indexes.datetimes.DatetimeIndex'>\n",
            "DatetimeIndex(['2012-05-01', '2012-05-02', '2012-05-03'], dtype='datetime64[ns]', freq=None)\n",
            "2012-05-01   -0.869321\n",
            "2012-05-02   -0.284584\n",
            "2012-05-03    0.417973\n",
            "dtype: float64\n",
            "<class 'pandas.core.indexes.period.PeriodIndex'>\n",
            "PeriodIndex(['2012-01', '2012-02', '2012-03'], dtype='period[M]', freq='M')\n",
            "2012-01   -0.247855\n",
            "2012-02    1.089161\n",
            "2012-03    0.085413\n",
            "Freq: M, dtype: float64\n"
          ],
          "name": "stdout"
        }
      ]
    },
    {
      "cell_type": "code",
      "metadata": {
        "colab": {
          "base_uri": "https://localhost:8080/"
        },
        "id": "CEYeJqUlGuWs",
        "outputId": "f31b7270-272f-41b5-ad13-0f1c3f3655b8"
      },
      "source": [
        "# Using ranges as indexes (more compact)\n",
        "start = datetime.datetime(2011, 1, 1)\n",
        "end = datetime.datetime(2012, 1, 1)\n",
        "\n",
        "index = pd.date_range(start, end)\n",
        "print(index)\n",
        "\n",
        "index = pd.bdate_range(start, end)\n",
        "print(index)\n"
      ],
      "execution_count": null,
      "outputs": [
        {
          "output_type": "stream",
          "text": [
            "DatetimeIndex(['2011-01-01', '2011-01-02', '2011-01-03', '2011-01-04',\n",
            "               '2011-01-05', '2011-01-06', '2011-01-07', '2011-01-08',\n",
            "               '2011-01-09', '2011-01-10',\n",
            "               ...\n",
            "               '2011-12-23', '2011-12-24', '2011-12-25', '2011-12-26',\n",
            "               '2011-12-27', '2011-12-28', '2011-12-29', '2011-12-30',\n",
            "               '2011-12-31', '2012-01-01'],\n",
            "              dtype='datetime64[ns]', length=366, freq='D')\n",
            "DatetimeIndex(['2011-01-03', '2011-01-04', '2011-01-05', '2011-01-06',\n",
            "               '2011-01-07', '2011-01-10', '2011-01-11', '2011-01-12',\n",
            "               '2011-01-13', '2011-01-14',\n",
            "               ...\n",
            "               '2011-12-19', '2011-12-20', '2011-12-21', '2011-12-22',\n",
            "               '2011-12-23', '2011-12-26', '2011-12-27', '2011-12-28',\n",
            "               '2011-12-29', '2011-12-30'],\n",
            "              dtype='datetime64[ns]', length=260, freq='B')\n"
          ],
          "name": "stdout"
        }
      ]
    },
    {
      "cell_type": "code",
      "metadata": {
        "colab": {
          "base_uri": "https://localhost:8080/"
        },
        "id": "kKTg4nUyH8Bq",
        "outputId": "81b54665-903f-4997-ebfa-1298410e0b4e"
      },
      "source": [
        "pd.date_range(start, periods=1000, freq=\"M\")"
      ],
      "execution_count": null,
      "outputs": [
        {
          "output_type": "execute_result",
          "data": {
            "text/plain": [
              "DatetimeIndex(['2011-01-31', '2011-02-28', '2011-03-31', '2011-04-30',\n",
              "               '2011-05-31', '2011-06-30', '2011-07-31', '2011-08-31',\n",
              "               '2011-09-30', '2011-10-31',\n",
              "               ...\n",
              "               '2093-07-31', '2093-08-31', '2093-09-30', '2093-10-31',\n",
              "               '2093-11-30', '2093-12-31', '2094-01-31', '2094-02-28',\n",
              "               '2094-03-31', '2094-04-30'],\n",
              "              dtype='datetime64[ns]', length=1000, freq='M')"
            ]
          },
          "metadata": {
            "tags": []
          },
          "execution_count": 42
        }
      ]
    },
    {
      "cell_type": "code",
      "metadata": {
        "colab": {
          "base_uri": "https://localhost:8080/"
        },
        "id": "YD3K3gReICUa",
        "outputId": "2ef06acc-20b4-43bf-b377-b92d146fa85e"
      },
      "source": [
        "pd.bdate_range(start, periods=250, freq=\"BQS\") # Business Quarter Start frequency"
      ],
      "execution_count": null,
      "outputs": [
        {
          "output_type": "execute_result",
          "data": {
            "text/plain": [
              "DatetimeIndex(['2011-01-03', '2011-04-01', '2011-07-01', '2011-10-03',\n",
              "               '2012-01-02', '2012-04-02', '2012-07-02', '2012-10-01',\n",
              "               '2013-01-01', '2013-04-01',\n",
              "               ...\n",
              "               '2071-01-01', '2071-04-01', '2071-07-01', '2071-10-01',\n",
              "               '2072-01-01', '2072-04-01', '2072-07-01', '2072-10-03',\n",
              "               '2073-01-02', '2073-04-03'],\n",
              "              dtype='datetime64[ns]', length=250, freq='BQS-JAN')"
            ]
          },
          "metadata": {
            "tags": []
          },
          "execution_count": 43
        }
      ]
    },
    {
      "cell_type": "code",
      "metadata": {
        "colab": {
          "base_uri": "https://localhost:8080/"
        },
        "id": "fpv7cS52IQBW",
        "outputId": "c4e6ccd3-399f-440e-fb9e-9933893caf4c"
      },
      "source": [
        "# Custom calendars (holidays) and ranges\n",
        "weekmask = \"Mon Wed Fri\"\n",
        "\n",
        "holidays = [datetime.datetime(2011, 1, 5), datetime.datetime(2011, 3, 14)]\n",
        "\n",
        "pd.bdate_range(start, end, freq=\"C\", weekmask=weekmask, holidays=holidays)\n",
        "# Jan 5 2011 not listed because it is a custom holiday"
      ],
      "execution_count": null,
      "outputs": [
        {
          "output_type": "execute_result",
          "data": {
            "text/plain": [
              "DatetimeIndex(['2011-01-03', '2011-01-07', '2011-01-10', '2011-01-12',\n",
              "               '2011-01-14', '2011-01-17', '2011-01-19', '2011-01-21',\n",
              "               '2011-01-24', '2011-01-26',\n",
              "               ...\n",
              "               '2011-12-09', '2011-12-12', '2011-12-14', '2011-12-16',\n",
              "               '2011-12-19', '2011-12-21', '2011-12-23', '2011-12-26',\n",
              "               '2011-12-28', '2011-12-30'],\n",
              "              dtype='datetime64[ns]', length=154, freq='C')"
            ]
          },
          "metadata": {
            "tags": []
          },
          "execution_count": 44
        }
      ]
    },
    {
      "cell_type": "code",
      "metadata": {
        "colab": {
          "base_uri": "https://localhost:8080/"
        },
        "id": "m5eE_b4vJILk",
        "outputId": "3d724f23-59fb-4b54-bb83-8a8630d68364"
      },
      "source": [
        "# Creating a calendar class\n",
        "from pandas.tseries.holiday import (\n",
        "        Holiday,\n",
        "        USMemorialDay,\n",
        "        AbstractHolidayCalendar,\n",
        "        nearest_workday,\n",
        "        Easter,\n",
        "        Day,\n",
        ")\n",
        "\n",
        "class ExampleCalendar(AbstractHolidayCalendar):\n",
        "    rules = [\n",
        "        USMemorialDay,\n",
        "        Holiday(\"July 4th\", month=7, day=4, observance=nearest_workday),\n",
        "        # Easter on 2021 was Apr, 4th, good monday is one day later\n",
        "        Holiday('Good Monday', month=1, day=1, offset=[Easter(), Day()]),\n",
        "    ]\n",
        "\n",
        "cal = ExampleCalendar()\n",
        "# List the holidays on this calendar\n",
        "cal.holidays(datetime.datetime(2021, 1, 1), datetime.datetime(2021, 12, 31))"
      ],
      "execution_count": null,
      "outputs": [
        {
          "output_type": "execute_result",
          "data": {
            "text/plain": [
              "DatetimeIndex(['2021-04-05', '2021-05-31', '2021-07-05'], dtype='datetime64[ns]', freq=None)"
            ]
          },
          "metadata": {
            "tags": []
          },
          "execution_count": 67
        }
      ]
    },
    {
      "cell_type": "code",
      "metadata": {
        "id": "vwmiP_LHWXD7"
      },
      "source": [
        "ts = pd.Series(range(len(rng)), index=rng)"
      ],
      "execution_count": null,
      "outputs": []
    },
    {
      "cell_type": "code",
      "metadata": {
        "colab": {
          "base_uri": "https://localhost:8080/"
        },
        "id": "x1YpspTeOPBa",
        "outputId": "6cda9ed9-74b0-4575-e1c6-d485212224fe"
      },
      "source": [
        "# Shifting and lagging, slicing on time\n",
        "rng = pd.date_range(\"2012-01-01\", \"2012-01-10\")\n",
        "ts = pd.Series(range(len(rng)), index=rng)\n",
        "ts = ts[:5]\n",
        "ts.shift(1)"
      ],
      "execution_count": null,
      "outputs": [
        {
          "output_type": "execute_result",
          "data": {
            "text/plain": [
              "2012-01-01    NaN\n",
              "2012-01-02    0.0\n",
              "2012-01-03    1.0\n",
              "2012-01-04    2.0\n",
              "2012-01-05    3.0\n",
              "Freq: D, dtype: float64"
            ]
          },
          "metadata": {
            "tags": []
          },
          "execution_count": 68
        }
      ]
    },
    {
      "cell_type": "code",
      "metadata": {
        "colab": {
          "base_uri": "https://localhost:8080/"
        },
        "id": "IndShhpROtCR",
        "outputId": "8492b257-38b9-4861-dcff-7a6b047b4ee1"
      },
      "source": [
        "# shift 5 months at business end\n",
        "# When freq is specified, shift method changes all the dates in the index rather than changing the alignment of the data and the index:\n",
        "ts.shift(1, freq=\"B\")"
      ],
      "execution_count": null,
      "outputs": [
        {
          "output_type": "execute_result",
          "data": {
            "text/plain": [
              "2012-01-02    0\n",
              "2012-01-03    1\n",
              "2012-01-04    2\n",
              "2012-01-05    3\n",
              "2012-01-06    4\n",
              "2012-01-09    5\n",
              "2012-01-09    6\n",
              "2012-01-09    7\n",
              "2012-01-10    8\n",
              "2012-01-11    9\n",
              "dtype: int64"
            ]
          },
          "metadata": {
            "tags": []
          },
          "execution_count": 82
        }
      ]
    },
    {
      "cell_type": "code",
      "metadata": {
        "colab": {
          "base_uri": "https://localhost:8080/"
        },
        "id": "0KMaeyGwP4Ex",
        "outputId": "50ae28b8-5eeb-4e36-8dcf-2b4bfbeeb721"
      },
      "source": [
        "# Frequency conversion\n",
        "pd.set_option('display.max_rows', 10) # to print all 10 instances after freq conversion\n",
        "print(pd.Timestamp(\"1/1/2010\").day_name())\n",
        "dr = pd.date_range(\"1/1/2010\", periods=3, freq=3 * pd.offsets.BDay())\n",
        "ts = pd.Series(np.random.randn(3), index=dr)\n",
        "print(ts)\n",
        "print('---')\n",
        "print(ts.asfreq(pd.offsets.BDay()))"
      ],
      "execution_count": null,
      "outputs": [
        {
          "output_type": "stream",
          "text": [
            "Friday\n",
            "2010-01-01    1.301370\n",
            "2010-01-06   -0.654354\n",
            "2010-01-11    1.156066\n",
            "Freq: 3B, dtype: float64\n",
            "---\n",
            "2010-01-01    1.301370\n",
            "2010-01-04         NaN\n",
            "2010-01-05         NaN\n",
            "2010-01-06   -0.654354\n",
            "2010-01-07         NaN\n",
            "2010-01-08         NaN\n",
            "2010-01-11    1.156066\n",
            "Freq: B, dtype: float64\n"
          ],
          "name": "stdout"
        }
      ]
    },
    {
      "cell_type": "code",
      "metadata": {
        "colab": {
          "base_uri": "https://localhost:8080/"
        },
        "id": "WrFu--LWRQj3",
        "outputId": "555e2c9b-8cc6-473a-a8c3-aa13dd956e49"
      },
      "source": [
        "# With interpolation method\n",
        "ts.asfreq(pd.offsets.BDay(), method=\"ffill\")"
      ],
      "execution_count": null,
      "outputs": [
        {
          "output_type": "execute_result",
          "data": {
            "text/plain": [
              "2010-01-01    1.301370\n",
              "2010-01-04    1.301370\n",
              "2010-01-05    1.301370\n",
              "2010-01-06   -0.654354\n",
              "2010-01-07   -0.654354\n",
              "2010-01-08   -0.654354\n",
              "2010-01-11    1.156066\n",
              "Freq: B, dtype: float64"
            ]
          },
          "metadata": {
            "tags": []
          },
          "execution_count": 86
        }
      ]
    },
    {
      "cell_type": "code",
      "metadata": {
        "colab": {
          "base_uri": "https://localhost:8080/"
        },
        "id": "5H-GwiCyRc0J",
        "outputId": "df1629fd-1182-4888-a56f-8e56c543e427"
      },
      "source": [
        "# Resampling\n",
        "rng = pd.date_range(\"1/1/2012\", periods=100, freq=\"S\")\n",
        "ts = pd.Series(np.random.randint(0, 500, len(rng)), index=rng)\n",
        "print(ts)\n",
        "print('---')\n",
        "print(ts.resample(\"1Min\").sum())"
      ],
      "execution_count": null,
      "outputs": [
        {
          "output_type": "stream",
          "text": [
            "2012-01-01 00:00:00    349\n",
            "2012-01-01 00:00:01    340\n",
            "2012-01-01 00:00:02     89\n",
            "2012-01-01 00:00:03    453\n",
            "2012-01-01 00:00:04    492\n",
            "                      ... \n",
            "2012-01-01 00:01:35    367\n",
            "2012-01-01 00:01:36    276\n",
            "2012-01-01 00:01:37    311\n",
            "2012-01-01 00:01:38    218\n",
            "2012-01-01 00:01:39     41\n",
            "Freq: S, Length: 100, dtype: int64\n",
            "---\n",
            "2012-01-01 00:00:00    16586\n",
            "2012-01-01 00:01:00    10542\n",
            "Freq: T, dtype: int64\n"
          ],
          "name": "stdout"
        }
      ]
    },
    {
      "cell_type": "code",
      "metadata": {
        "colab": {
          "base_uri": "https://localhost:8080/"
        },
        "id": "OaFn0A82TK9B",
        "outputId": "8b237c88-0603-4265-9caf-2f8843e07391"
      },
      "source": [
        "# Different aggregators and labeling\n",
        "ts.resample(\"1Min\").mean()"
      ],
      "execution_count": null,
      "outputs": [
        {
          "output_type": "execute_result",
          "data": {
            "text/plain": [
              "2012-01-01 00:00:00    276.433333\n",
              "2012-01-01 00:01:00    263.550000\n",
              "Freq: T, dtype: float64"
            ]
          },
          "metadata": {
            "tags": []
          },
          "execution_count": 88
        }
      ]
    },
    {
      "cell_type": "code",
      "metadata": {
        "colab": {
          "base_uri": "https://localhost:8080/",
          "height": 110
        },
        "id": "y8Xsv3hWTZi3",
        "outputId": "cbe51082-888c-4723-beee-a10f18f871a9"
      },
      "source": [
        "# Open High Low Close\n",
        "ts.resample(\"1Min\").ohlc()"
      ],
      "execution_count": null,
      "outputs": [
        {
          "output_type": "execute_result",
          "data": {
            "text/html": [
              "<div>\n",
              "<style scoped>\n",
              "    .dataframe tbody tr th:only-of-type {\n",
              "        vertical-align: middle;\n",
              "    }\n",
              "\n",
              "    .dataframe tbody tr th {\n",
              "        vertical-align: top;\n",
              "    }\n",
              "\n",
              "    .dataframe thead th {\n",
              "        text-align: right;\n",
              "    }\n",
              "</style>\n",
              "<table border=\"1\" class=\"dataframe\">\n",
              "  <thead>\n",
              "    <tr style=\"text-align: right;\">\n",
              "      <th></th>\n",
              "      <th>open</th>\n",
              "      <th>high</th>\n",
              "      <th>low</th>\n",
              "      <th>close</th>\n",
              "    </tr>\n",
              "  </thead>\n",
              "  <tbody>\n",
              "    <tr>\n",
              "      <th>2012-01-01 00:00:00</th>\n",
              "      <td>349</td>\n",
              "      <td>496</td>\n",
              "      <td>5</td>\n",
              "      <td>166</td>\n",
              "    </tr>\n",
              "    <tr>\n",
              "      <th>2012-01-01 00:01:00</th>\n",
              "      <td>407</td>\n",
              "      <td>499</td>\n",
              "      <td>9</td>\n",
              "      <td>41</td>\n",
              "    </tr>\n",
              "  </tbody>\n",
              "</table>\n",
              "</div>"
            ],
            "text/plain": [
              "                     open  high  low  close\n",
              "2012-01-01 00:00:00   349   496    5    166\n",
              "2012-01-01 00:01:00   407   499    9     41"
            ]
          },
          "metadata": {
            "tags": []
          },
          "execution_count": 89
        }
      ]
    },
    {
      "cell_type": "code",
      "metadata": {
        "colab": {
          "base_uri": "https://localhost:8080/"
        },
        "id": "FMXMWVN0Tia9",
        "outputId": "5f711692-1d2c-473d-855f-2927e2099daf"
      },
      "source": [
        "# Upsampling\n",
        "# from secondly to every 250 milliseconds\n",
        "ts[:2].resample(\"250L\").asfreq()\n",
        "# TODO : How to interpolate?"
      ],
      "execution_count": null,
      "outputs": [
        {
          "output_type": "execute_result",
          "data": {
            "text/plain": [
              "2012-01-01 00:00:00.000    349.0\n",
              "2012-01-01 00:00:00.250      NaN\n",
              "2012-01-01 00:00:00.500      NaN\n",
              "2012-01-01 00:00:00.750      NaN\n",
              "2012-01-01 00:00:01.000    340.0\n",
              "Freq: 250L, dtype: float64"
            ]
          },
          "metadata": {
            "tags": []
          },
          "execution_count": 90
        }
      ]
    },
    {
      "cell_type": "code",
      "metadata": {
        "colab": {
          "base_uri": "https://localhost:8080/"
        },
        "id": "XAP3z62KUB5U",
        "outputId": "f67fd5dc-9d4a-4ab1-b28f-15cf98658990"
      },
      "source": [
        "ts[:2].resample(\"250L\").ffill()"
      ],
      "execution_count": null,
      "outputs": [
        {
          "output_type": "execute_result",
          "data": {
            "text/plain": [
              "2012-01-01 00:00:00.000    349\n",
              "2012-01-01 00:00:00.250    349\n",
              "2012-01-01 00:00:00.500    349\n",
              "2012-01-01 00:00:00.750    349\n",
              "2012-01-01 00:00:01.000    340\n",
              "Freq: 250L, dtype: int64"
            ]
          },
          "metadata": {
            "tags": []
          },
          "execution_count": 91
        }
      ]
    },
    {
      "cell_type": "markdown",
      "metadata": {
        "id": "grVFQBPF8A12"
      },
      "source": [
        "## Accessors\n",
        "\n",
        " a property that acts as an interface to methods specific to the type you are trying to access. Those methods are highly specialized. They serve one job and one job only. However, they are excellent and extremely concise for that particular job.\n",
        "There are three different accessors:\n",
        "* dt\n",
        "* str\n",
        "* cat"
      ]
    },
    {
      "cell_type": "code",
      "metadata": {
        "id": "u-3ECkjd-Y_X"
      },
      "source": [
        "pd.set_option('display.max_rows', 4)"
      ],
      "execution_count": null,
      "outputs": []
    },
    {
      "cell_type": "markdown",
      "metadata": {
        "id": "huGqFUiM_W7d"
      },
      "source": [
        "### dt"
      ]
    },
    {
      "cell_type": "code",
      "metadata": {
        "colab": {
          "base_uri": "https://localhost:8080/",
          "height": 172
        },
        "id": "sPQActN48Cfa",
        "outputId": "2b159cd5-c356-4118-f2b6-8decc6452fdf"
      },
      "source": [
        "invoices['Date of Meal'].dt.date"
      ],
      "execution_count": null,
      "outputs": [
        {
          "output_type": "error",
          "ename": "NameError",
          "evalue": "ignored",
          "traceback": [
            "\u001b[0;31m---------------------------------------------------------------------------\u001b[0m",
            "\u001b[0;31mNameError\u001b[0m                                 Traceback (most recent call last)",
            "\u001b[0;32m<ipython-input-10-d07bb9f7c3e5>\u001b[0m in \u001b[0;36m<module>\u001b[0;34m()\u001b[0m\n\u001b[0;32m----> 1\u001b[0;31m \u001b[0minvoices\u001b[0m\u001b[0;34m[\u001b[0m\u001b[0;34m'Date of Meal'\u001b[0m\u001b[0;34m]\u001b[0m\u001b[0;34m.\u001b[0m\u001b[0mdt\u001b[0m\u001b[0;34m.\u001b[0m\u001b[0mdate\u001b[0m\u001b[0;34m\u001b[0m\u001b[0;34m\u001b[0m\u001b[0m\n\u001b[0m",
            "\u001b[0;31mNameError\u001b[0m: name 'invoices' is not defined"
          ]
        }
      ]
    },
    {
      "cell_type": "code",
      "metadata": {
        "id": "wn9Y0z-1-PUP"
      },
      "source": [
        "invoices['Date of Meal'].dt.weekday"
      ],
      "execution_count": null,
      "outputs": []
    },
    {
      "cell_type": "code",
      "metadata": {
        "id": "ump1xuBu-ko8"
      },
      "source": [
        "invoices['Date of Meal'].dt.month"
      ],
      "execution_count": null,
      "outputs": []
    },
    {
      "cell_type": "code",
      "metadata": {
        "id": "j3MLSHh--utc"
      },
      "source": [
        "invoices['Date of Meal'].dt.isocalendar().week"
      ],
      "execution_count": null,
      "outputs": []
    },
    {
      "cell_type": "code",
      "metadata": {
        "id": "iahNicsA-89_"
      },
      "source": [
        "invoices['Date of Meal'].dt.is_month_end\n",
        "# also available: is_leap_year, is_month_start, is_month_end, is_quarter_start, is_quarter_end, is_year_start, is_year_end"
      ],
      "execution_count": null,
      "outputs": []
    },
    {
      "cell_type": "code",
      "metadata": {
        "id": "U9xScBmL_PRo"
      },
      "source": [
        "invoices[invoices['Date of Meal'].dt.is_month_end]"
      ],
      "execution_count": null,
      "outputs": []
    },
    {
      "cell_type": "code",
      "metadata": {
        "id": "PiyS1Hu4_Uh3"
      },
      "source": [
        "# converts the Pandas datetime into a regular Python datetime format \n",
        "invoices['Date of Meal'].dt.to_pydatetime()"
      ],
      "execution_count": null,
      "outputs": []
    },
    {
      "cell_type": "code",
      "metadata": {
        "id": "VaVWA1BC__Lw"
      },
      "source": [
        "# to period [available periods are W, M, Q, and Y], which converts the dates into periods.\n",
        "invoices['Date of Meal'].dt.to_period('W')"
      ],
      "execution_count": null,
      "outputs": []
    },
    {
      "cell_type": "markdown",
      "metadata": {
        "id": "Vkx5CfazE4hd"
      },
      "source": [
        "### str"
      ]
    },
    {
      "cell_type": "code",
      "metadata": {
        "id": "9tpLV58iAh-i"
      },
      "source": [
        "pd.set_option('display.max_rows', 10)\n",
        "invoices['Type of Meal'].str.lower()"
      ],
      "execution_count": null,
      "outputs": []
    },
    {
      "cell_type": "code",
      "metadata": {
        "id": "8Jli6rySFB_M"
      },
      "source": [
        "invoices['Type of Meal'].str.ljust(width=15)"
      ],
      "execution_count": null,
      "outputs": []
    },
    {
      "cell_type": "code",
      "metadata": {
        "id": "uDMN_8sAFFrp"
      },
      "source": [
        "invoices['Type of Meal'].str.zfill(width=15)"
      ],
      "execution_count": null,
      "outputs": []
    },
    {
      "cell_type": "code",
      "metadata": {
        "id": "KigzgdEPFIUy"
      },
      "source": [
        "\n",
        "invoices['Type of Meal'].str.repeat(2)"
      ],
      "execution_count": null,
      "outputs": []
    },
    {
      "cell_type": "code",
      "metadata": {
        "id": "aRxCJ9Z4FLv1"
      },
      "source": [
        "invoices['Type of Meal'].str.endswith('ast')"
      ],
      "execution_count": null,
      "outputs": []
    },
    {
      "cell_type": "code",
      "metadata": {
        "id": "ihiWYISIFPPo"
      },
      "source": [
        "invoices[invoices['Participants'].str.contains('Bruce')]"
      ],
      "execution_count": null,
      "outputs": []
    },
    {
      "cell_type": "markdown",
      "metadata": {
        "id": "jw15LaQtFXcR"
      },
      "source": [
        "### *cat*\n",
        "\n",
        "For categorical operations"
      ]
    },
    {
      "cell_type": "code",
      "metadata": {
        "id": "UT35g2-JFSkG"
      },
      "source": [
        "invoices['Type of Meal'].cat.ordered"
      ],
      "execution_count": null,
      "outputs": []
    },
    {
      "cell_type": "code",
      "metadata": {
        "id": "qvGxEvF7GIO9"
      },
      "source": [
        "invoices['Type of Meal'].cat.categories"
      ],
      "execution_count": null,
      "outputs": []
    },
    {
      "cell_type": "code",
      "metadata": {
        "id": "_Z2TqWMqGTRm"
      },
      "source": [
        "invoices['Type of Meal'].cat.codes"
      ],
      "execution_count": null,
      "outputs": []
    },
    {
      "cell_type": "markdown",
      "metadata": {
        "id": "R-gnm1cfGcYu"
      },
      "source": [
        "# Combining Dataframes"
      ]
    },
    {
      "cell_type": "markdown",
      "metadata": {
        "id": "wjydbXnrK5yv"
      },
      "source": [
        "## Concat"
      ]
    },
    {
      "cell_type": "code",
      "metadata": {
        "colab": {
          "base_uri": "https://localhost:8080/",
          "height": 190
        },
        "id": "hn1haAo6GWUh",
        "outputId": "17ec7930-6e8e-482f-d801-5b6393794ca4"
      },
      "source": [
        "# Concatenating\n",
        "invoices['Date of Meal'].dt.year.value_counts().sort_index()"
      ],
      "execution_count": null,
      "outputs": [
        {
          "output_type": "error",
          "ename": "NameError",
          "evalue": "ignored",
          "traceback": [
            "\u001b[0;31m---------------------------------------------------------------------------\u001b[0m",
            "\u001b[0;31mNameError\u001b[0m                                 Traceback (most recent call last)",
            "\u001b[0;32m<ipython-input-50-9857b5b7a998>\u001b[0m in \u001b[0;36m<module>\u001b[0;34m()\u001b[0m\n\u001b[1;32m      1\u001b[0m \u001b[0;31m# Concatenating\u001b[0m\u001b[0;34m\u001b[0m\u001b[0;34m\u001b[0m\u001b[0;34m\u001b[0m\u001b[0m\n\u001b[0;32m----> 2\u001b[0;31m \u001b[0minvoices\u001b[0m\u001b[0;34m[\u001b[0m\u001b[0;34m'Date of Meal'\u001b[0m\u001b[0;34m]\u001b[0m\u001b[0;34m.\u001b[0m\u001b[0mdt\u001b[0m\u001b[0;34m.\u001b[0m\u001b[0myear\u001b[0m\u001b[0;34m.\u001b[0m\u001b[0mvalue_counts\u001b[0m\u001b[0;34m(\u001b[0m\u001b[0;34m)\u001b[0m\u001b[0;34m.\u001b[0m\u001b[0msort_index\u001b[0m\u001b[0;34m(\u001b[0m\u001b[0;34m)\u001b[0m\u001b[0;34m\u001b[0m\u001b[0;34m\u001b[0m\u001b[0m\n\u001b[0m",
            "\u001b[0;31mNameError\u001b[0m: name 'invoices' is not defined"
          ]
        }
      ]
    },
    {
      "cell_type": "code",
      "metadata": {
        "id": "_vX_jxUrJ9dt"
      },
      "source": [
        "y_2013 = invoices[invoices['Date of Meal'].dt.year == 2013].copy()\n",
        "y_2014 = invoices[invoices['Date of Meal'].dt.year == 2014].copy()\n",
        "y_2015 = invoices[invoices['Date of Meal'].dt.year == 2015].copy()\n",
        "y_2016 = invoices[invoices['Date of Meal'].dt.year == 2016].copy()\n",
        "y_2017 = invoices[invoices['Date of Meal'].dt.year == 2017].copy()\n",
        "y_2018 = invoices[invoices['Date of Meal'].dt.year == 2018].copy()\n",
        "y_2019 = invoices[invoices['Date of Meal'].dt.year == 2019].copy()"
      ],
      "execution_count": null,
      "outputs": []
    },
    {
      "cell_type": "code",
      "metadata": {
        "colab": {
          "base_uri": "https://localhost:8080/",
          "height": 415
        },
        "id": "ShE8JAf3KAoS",
        "outputId": "6359bf51-cb93-4f64-f995-006ee458f1c0"
      },
      "source": [
        "y_2016"
      ],
      "execution_count": null,
      "outputs": [
        {
          "output_type": "execute_result",
          "data": {
            "text/html": [
              "<div>\n",
              "<style scoped>\n",
              "    .dataframe tbody tr th:only-of-type {\n",
              "        vertical-align: middle;\n",
              "    }\n",
              "\n",
              "    .dataframe tbody tr th {\n",
              "        vertical-align: top;\n",
              "    }\n",
              "\n",
              "    .dataframe thead th {\n",
              "        text-align: right;\n",
              "    }\n",
              "</style>\n",
              "<table border=\"1\" class=\"dataframe\">\n",
              "  <thead>\n",
              "    <tr style=\"text-align: right;\">\n",
              "      <th></th>\n",
              "      <th>Order Id</th>\n",
              "      <th>Date</th>\n",
              "      <th>Meal Id</th>\n",
              "      <th>Company Id</th>\n",
              "      <th>Date of Meal</th>\n",
              "      <th>Participants</th>\n",
              "      <th>Meal Price</th>\n",
              "      <th>Type of Meal</th>\n",
              "      <th>Heroes Adjustment</th>\n",
              "    </tr>\n",
              "  </thead>\n",
              "  <tbody>\n",
              "    <tr>\n",
              "      <th>0</th>\n",
              "      <td>839FKFW2LLX4LMBB</td>\n",
              "      <td>2016-05-27</td>\n",
              "      <td>INBUX904GIHI8YBD</td>\n",
              "      <td>LJKS5NK6788CYMUU</td>\n",
              "      <td>2016-05-31 05:00:00+00:00</td>\n",
              "      <td>['David Bishop']</td>\n",
              "      <td>469.0</td>\n",
              "      <td>Breakfast</td>\n",
              "      <td>False</td>\n",
              "    </tr>\n",
              "    <tr>\n",
              "      <th>9</th>\n",
              "      <td>FESGKOQN2OZZWXY3</td>\n",
              "      <td>2016-01-10</td>\n",
              "      <td>US0NQYNNHS1SQJ4S</td>\n",
              "      <td>36MFTZOYMTAJP1RK</td>\n",
              "      <td>2016-01-14 21:00:00+00:00</td>\n",
              "      <td>['Glenn Gould' 'Amanda Knowles' 'Ginger Hoagla...</td>\n",
              "      <td>451.0</td>\n",
              "      <td>Dinner</td>\n",
              "      <td>False</td>\n",
              "    </tr>\n",
              "    <tr>\n",
              "      <th>10</th>\n",
              "      <td>YITOTLOF0MWZ0VYX</td>\n",
              "      <td>2016-10-03</td>\n",
              "      <td>RGYX8772307H78ON</td>\n",
              "      <td>36MFTZOYMTAJP1RK</td>\n",
              "      <td>2016-10-01 20:00:00+00:00</td>\n",
              "      <td>['Ginger Hoagland' 'Amanda Knowles' 'Michael W...</td>\n",
              "      <td>263.0</td>\n",
              "      <td>Dinner</td>\n",
              "      <td>False</td>\n",
              "    </tr>\n",
              "    <tr>\n",
              "      <th>12</th>\n",
              "      <td>TH60C9D8TPYS7DGG</td>\n",
              "      <td>2016-12-15</td>\n",
              "      <td>KDSMP2VJ22HNEPYF</td>\n",
              "      <td>36MFTZOYMTAJP1RK</td>\n",
              "      <td>2016-12-13 07:00:00+00:00</td>\n",
              "      <td>['Cheryl Feaster' 'Bret Adams' 'Ginger Hoagland']</td>\n",
              "      <td>755.0</td>\n",
              "      <td>Breakfast</td>\n",
              "      <td>False</td>\n",
              "    </tr>\n",
              "    <tr>\n",
              "      <th>14</th>\n",
              "      <td>WKB58Q8BHLOFQAB5</td>\n",
              "      <td>2016-08-31</td>\n",
              "      <td>E2K2TQUMENXSI9RP</td>\n",
              "      <td>36MFTZOYMTAJP1RK</td>\n",
              "      <td>2016-09-03 12:00:00+00:00</td>\n",
              "      <td>['Michael White' 'Ginger Hoagland' 'Bret Adams']</td>\n",
              "      <td>502.0</td>\n",
              "      <td>Lunch</td>\n",
              "      <td>False</td>\n",
              "    </tr>\n",
              "    <tr>\n",
              "      <th>...</th>\n",
              "      <td>...</td>\n",
              "      <td>...</td>\n",
              "      <td>...</td>\n",
              "      <td>...</td>\n",
              "      <td>...</td>\n",
              "      <td>...</td>\n",
              "      <td>...</td>\n",
              "      <td>...</td>\n",
              "      <td>...</td>\n",
              "    </tr>\n",
              "    <tr>\n",
              "      <th>50003</th>\n",
              "      <td>VC858QHD5EW99MYD</td>\n",
              "      <td>2016-12-25</td>\n",
              "      <td>95XY29BUWLB0UEQR</td>\n",
              "      <td>FC1LJXHNH2883N3Y</td>\n",
              "      <td>2016-12-23 11:00:00+00:00</td>\n",
              "      <td>['Jon Ponce']</td>\n",
              "      <td>45.0</td>\n",
              "      <td>Lunch</td>\n",
              "      <td>False</td>\n",
              "    </tr>\n",
              "    <tr>\n",
              "      <th>50005</th>\n",
              "      <td>WQ9O30HM7Z20CX11</td>\n",
              "      <td>2016-08-26</td>\n",
              "      <td>R3CY4BU2QN5ZVMC0</td>\n",
              "      <td>FC1LJXHNH2883N3Y</td>\n",
              "      <td>2016-08-27 07:00:00+00:00</td>\n",
              "      <td>['Jerry Nelson' 'Alice Allen']</td>\n",
              "      <td>342.0</td>\n",
              "      <td>Breakfast</td>\n",
              "      <td>False</td>\n",
              "    </tr>\n",
              "    <tr>\n",
              "      <th>50008</th>\n",
              "      <td>UHIE76EGIC2KFP34</td>\n",
              "      <td>2016-08-06</td>\n",
              "      <td>BFLY4LHHUI5OIREM</td>\n",
              "      <td>FC1LJXHNH2883N3Y</td>\n",
              "      <td>2016-08-08 06:00:00+00:00</td>\n",
              "      <td>['Jerry Nelson']</td>\n",
              "      <td>164.0</td>\n",
              "      <td>Breakfast</td>\n",
              "      <td>False</td>\n",
              "    </tr>\n",
              "    <tr>\n",
              "      <th>50009</th>\n",
              "      <td>FWH3N8N5ARW53BE6</td>\n",
              "      <td>2016-03-17</td>\n",
              "      <td>WHVI4J3J388I8I4B</td>\n",
              "      <td>FC1LJXHNH2883N3Y</td>\n",
              "      <td>2016-03-12 08:00:00+00:00</td>\n",
              "      <td>['Jon Ponce' 'Alice Allen']</td>\n",
              "      <td>523.0</td>\n",
              "      <td>Breakfast</td>\n",
              "      <td>False</td>\n",
              "    </tr>\n",
              "    <tr>\n",
              "      <th>50010</th>\n",
              "      <td>C4MSVKV2UFVGROTR</td>\n",
              "      <td>2016-05-12</td>\n",
              "      <td>UR2WMW1QHJU3PUVS</td>\n",
              "      <td>E4K99D4JR9E40VE1</td>\n",
              "      <td>2016-05-15 20:00:00+00:00</td>\n",
              "      <td>['Regina Shirley']</td>\n",
              "      <td>539.0</td>\n",
              "      <td>Dinner</td>\n",
              "      <td>False</td>\n",
              "    </tr>\n",
              "  </tbody>\n",
              "</table>\n",
              "<p>9862 rows × 9 columns</p>\n",
              "</div>"
            ],
            "text/plain": [
              "               Order Id       Date           Meal Id        Company Id  \\\n",
              "0      839FKFW2LLX4LMBB 2016-05-27  INBUX904GIHI8YBD  LJKS5NK6788CYMUU   \n",
              "9      FESGKOQN2OZZWXY3 2016-01-10  US0NQYNNHS1SQJ4S  36MFTZOYMTAJP1RK   \n",
              "10     YITOTLOF0MWZ0VYX 2016-10-03  RGYX8772307H78ON  36MFTZOYMTAJP1RK   \n",
              "12     TH60C9D8TPYS7DGG 2016-12-15  KDSMP2VJ22HNEPYF  36MFTZOYMTAJP1RK   \n",
              "14     WKB58Q8BHLOFQAB5 2016-08-31  E2K2TQUMENXSI9RP  36MFTZOYMTAJP1RK   \n",
              "...                 ...        ...               ...               ...   \n",
              "50003  VC858QHD5EW99MYD 2016-12-25  95XY29BUWLB0UEQR  FC1LJXHNH2883N3Y   \n",
              "50005  WQ9O30HM7Z20CX11 2016-08-26  R3CY4BU2QN5ZVMC0  FC1LJXHNH2883N3Y   \n",
              "50008  UHIE76EGIC2KFP34 2016-08-06  BFLY4LHHUI5OIREM  FC1LJXHNH2883N3Y   \n",
              "50009  FWH3N8N5ARW53BE6 2016-03-17  WHVI4J3J388I8I4B  FC1LJXHNH2883N3Y   \n",
              "50010  C4MSVKV2UFVGROTR 2016-05-12  UR2WMW1QHJU3PUVS  E4K99D4JR9E40VE1   \n",
              "\n",
              "                   Date of Meal  \\\n",
              "0     2016-05-31 05:00:00+00:00   \n",
              "9     2016-01-14 21:00:00+00:00   \n",
              "10    2016-10-01 20:00:00+00:00   \n",
              "12    2016-12-13 07:00:00+00:00   \n",
              "14    2016-09-03 12:00:00+00:00   \n",
              "...                         ...   \n",
              "50003 2016-12-23 11:00:00+00:00   \n",
              "50005 2016-08-27 07:00:00+00:00   \n",
              "50008 2016-08-08 06:00:00+00:00   \n",
              "50009 2016-03-12 08:00:00+00:00   \n",
              "50010 2016-05-15 20:00:00+00:00   \n",
              "\n",
              "                                            Participants  Meal Price  \\\n",
              "0                                       ['David Bishop']       469.0   \n",
              "9      ['Glenn Gould' 'Amanda Knowles' 'Ginger Hoagla...       451.0   \n",
              "10     ['Ginger Hoagland' 'Amanda Knowles' 'Michael W...       263.0   \n",
              "12     ['Cheryl Feaster' 'Bret Adams' 'Ginger Hoagland']       755.0   \n",
              "14      ['Michael White' 'Ginger Hoagland' 'Bret Adams']       502.0   \n",
              "...                                                  ...         ...   \n",
              "50003                                      ['Jon Ponce']        45.0   \n",
              "50005                     ['Jerry Nelson' 'Alice Allen']       342.0   \n",
              "50008                                   ['Jerry Nelson']       164.0   \n",
              "50009                        ['Jon Ponce' 'Alice Allen']       523.0   \n",
              "50010                                 ['Regina Shirley']       539.0   \n",
              "\n",
              "      Type of Meal  Heroes Adjustment  \n",
              "0        Breakfast              False  \n",
              "9           Dinner              False  \n",
              "10          Dinner              False  \n",
              "12       Breakfast              False  \n",
              "14           Lunch              False  \n",
              "...            ...                ...  \n",
              "50003        Lunch              False  \n",
              "50005    Breakfast              False  \n",
              "50008    Breakfast              False  \n",
              "50009    Breakfast              False  \n",
              "50010       Dinner              False  \n",
              "\n",
              "[9862 rows x 9 columns]"
            ]
          },
          "metadata": {
            "tags": []
          },
          "execution_count": 60
        }
      ]
    },
    {
      "cell_type": "code",
      "metadata": {
        "colab": {
          "base_uri": "https://localhost:8080/",
          "height": 636
        },
        "id": "mKw4wF8mKFGO",
        "outputId": "d2de0330-7fd5-4839-b0c0-25ae401a1bcb"
      },
      "source": [
        "pd.concat(\n",
        "    [y_2013,y_2014,y_2015,y_2016,y_2017,y_2018,y_2019],\n",
        "    keys=[13,14,15,16,17,18,19],\n",
        "    names=['year','original_index']\n",
        ")"
      ],
      "execution_count": null,
      "outputs": [
        {
          "output_type": "execute_result",
          "data": {
            "text/html": [
              "<div>\n",
              "<style scoped>\n",
              "    .dataframe tbody tr th:only-of-type {\n",
              "        vertical-align: middle;\n",
              "    }\n",
              "\n",
              "    .dataframe tbody tr th {\n",
              "        vertical-align: top;\n",
              "    }\n",
              "\n",
              "    .dataframe thead th {\n",
              "        text-align: right;\n",
              "    }\n",
              "</style>\n",
              "<table border=\"1\" class=\"dataframe\">\n",
              "  <thead>\n",
              "    <tr style=\"text-align: right;\">\n",
              "      <th></th>\n",
              "      <th></th>\n",
              "      <th>Order Id</th>\n",
              "      <th>Date</th>\n",
              "      <th>Meal Id</th>\n",
              "      <th>Company Id</th>\n",
              "      <th>Date of Meal</th>\n",
              "      <th>Participants</th>\n",
              "      <th>Meal Price</th>\n",
              "      <th>Type of Meal</th>\n",
              "      <th>Heroes Adjustment</th>\n",
              "    </tr>\n",
              "    <tr>\n",
              "      <th>year</th>\n",
              "      <th>original_index</th>\n",
              "      <th></th>\n",
              "      <th></th>\n",
              "      <th></th>\n",
              "      <th></th>\n",
              "      <th></th>\n",
              "      <th></th>\n",
              "      <th></th>\n",
              "      <th></th>\n",
              "      <th></th>\n",
              "    </tr>\n",
              "  </thead>\n",
              "  <tbody>\n",
              "    <tr>\n",
              "      <th rowspan=\"5\" valign=\"top\">13</th>\n",
              "      <th>1449</th>\n",
              "      <td>HH1CUKNKIIK87D4L</td>\n",
              "      <td>2014-01-03</td>\n",
              "      <td>M4QG9N01E25U3A53</td>\n",
              "      <td>N4BN0GG5XKZV113C</td>\n",
              "      <td>2013-12-31 21:00:00+00:00</td>\n",
              "      <td>['Jason Cuevas']</td>\n",
              "      <td>546.0</td>\n",
              "      <td>Dinner</td>\n",
              "      <td>False</td>\n",
              "    </tr>\n",
              "    <tr>\n",
              "      <th>4256</th>\n",
              "      <td>KFXTYDP0YG9C6AZF</td>\n",
              "      <td>2014-01-03</td>\n",
              "      <td>RUMIZCB9KM3N57BN</td>\n",
              "      <td>9FOCJR50GUHXT2S0</td>\n",
              "      <td>2013-12-31 12:00:00+00:00</td>\n",
              "      <td>['Robert Hairfield' 'Ray Dowty' 'Adam Bowers' ...</td>\n",
              "      <td>586.0</td>\n",
              "      <td>Lunch</td>\n",
              "      <td>False</td>\n",
              "    </tr>\n",
              "    <tr>\n",
              "      <th>4747</th>\n",
              "      <td>D5NR6EP8NQZ0TGW6</td>\n",
              "      <td>2014-01-05</td>\n",
              "      <td>5GDXSLG0F4WA3JEZ</td>\n",
              "      <td>RJ1NLTCTP1COK3YS</td>\n",
              "      <td>2013-12-31 21:00:00+00:00</td>\n",
              "      <td>['Leta Stevens']</td>\n",
              "      <td>549.0</td>\n",
              "      <td>Dinner</td>\n",
              "      <td>False</td>\n",
              "    </tr>\n",
              "    <tr>\n",
              "      <th>5097</th>\n",
              "      <td>2T71YISMHMPBKE3Z</td>\n",
              "      <td>2014-01-03</td>\n",
              "      <td>0C7DIKEPG5KXNRFR</td>\n",
              "      <td>R835HX2AVB1KJJL0</td>\n",
              "      <td>2013-12-30 19:00:00+00:00</td>\n",
              "      <td>['Hunter Marquez']</td>\n",
              "      <td>338.0</td>\n",
              "      <td>Dinner</td>\n",
              "      <td>False</td>\n",
              "    </tr>\n",
              "    <tr>\n",
              "      <th>5154</th>\n",
              "      <td>V226RP8DLAQQKU51</td>\n",
              "      <td>2014-01-04</td>\n",
              "      <td>6C9WDEPC4Q05WBSR</td>\n",
              "      <td>23B3R2N3LSYQJQMF</td>\n",
              "      <td>2013-12-30 13:00:00+00:00</td>\n",
              "      <td>['Erin Jones' 'Blake Newman' 'John Truett' 'Go...</td>\n",
              "      <td>377.0</td>\n",
              "      <td>Lunch</td>\n",
              "      <td>False</td>\n",
              "    </tr>\n",
              "    <tr>\n",
              "      <th>...</th>\n",
              "      <th>...</th>\n",
              "      <td>...</td>\n",
              "      <td>...</td>\n",
              "      <td>...</td>\n",
              "      <td>...</td>\n",
              "      <td>...</td>\n",
              "      <td>...</td>\n",
              "      <td>...</td>\n",
              "      <td>...</td>\n",
              "      <td>...</td>\n",
              "    </tr>\n",
              "    <tr>\n",
              "      <th rowspan=\"5\" valign=\"top\">19</th>\n",
              "      <th>33833</th>\n",
              "      <td>IVSKD45PB8FZ0DRT</td>\n",
              "      <td>2018-12-31</td>\n",
              "      <td>6M3DK5ZNSTNHD50B</td>\n",
              "      <td>EIX79KCQQWJKLP21</td>\n",
              "      <td>2019-01-04 08:00:00+00:00</td>\n",
              "      <td>['Bob Fulton' 'Jermaine Rawls']</td>\n",
              "      <td>388.0</td>\n",
              "      <td>Breakfast</td>\n",
              "      <td>False</td>\n",
              "    </tr>\n",
              "    <tr>\n",
              "      <th>35406</th>\n",
              "      <td>IASPC12JU67ANTA5</td>\n",
              "      <td>2018-12-29</td>\n",
              "      <td>0MJH7DMFHIPI2T81</td>\n",
              "      <td>90KJEJUQ6MQO6NEW</td>\n",
              "      <td>2019-01-02 11:00:00+00:00</td>\n",
              "      <td>['Ted Pickering']</td>\n",
              "      <td>285.0</td>\n",
              "      <td>Lunch</td>\n",
              "      <td>False</td>\n",
              "    </tr>\n",
              "    <tr>\n",
              "      <th>36958</th>\n",
              "      <td>0GNFQ2XTTI56QE1E</td>\n",
              "      <td>2018-12-30</td>\n",
              "      <td>9UPI7YU9WQDSBR1P</td>\n",
              "      <td>9IPX1GTNSJJOULSB</td>\n",
              "      <td>2019-01-03 11:00:00+00:00</td>\n",
              "      <td>['John Hightower' 'Adam Hill' 'Betty Sagen']</td>\n",
              "      <td>600.0</td>\n",
              "      <td>Lunch</td>\n",
              "      <td>False</td>\n",
              "    </tr>\n",
              "    <tr>\n",
              "      <th>43534</th>\n",
              "      <td>8YHA5UTWAT7BOC24</td>\n",
              "      <td>2018-12-31</td>\n",
              "      <td>041RWJS7KUFPFVV9</td>\n",
              "      <td>Z19C6Y8F5Q22DMFK</td>\n",
              "      <td>2019-01-03 07:00:00+00:00</td>\n",
              "      <td>['Marva Cormier' 'Amy Boothe']</td>\n",
              "      <td>377.0</td>\n",
              "      <td>Breakfast</td>\n",
              "      <td>False</td>\n",
              "    </tr>\n",
              "    <tr>\n",
              "      <th>48207</th>\n",
              "      <td>J5FBQ0JWGIKWFSCO</td>\n",
              "      <td>2018-12-30</td>\n",
              "      <td>V8HPYOK6H6W5C5WQ</td>\n",
              "      <td>5AI9YF2ROZIV8QPJ</td>\n",
              "      <td>2019-01-01 06:00:00+00:00</td>\n",
              "      <td>['Pamela Davis']</td>\n",
              "      <td>536.0</td>\n",
              "      <td>Breakfast</td>\n",
              "      <td>False</td>\n",
              "    </tr>\n",
              "  </tbody>\n",
              "</table>\n",
              "<p>50017 rows × 9 columns</p>\n",
              "</div>"
            ],
            "text/plain": [
              "                             Order Id       Date           Meal Id  \\\n",
              "year original_index                                                  \n",
              "13   1449            HH1CUKNKIIK87D4L 2014-01-03  M4QG9N01E25U3A53   \n",
              "     4256            KFXTYDP0YG9C6AZF 2014-01-03  RUMIZCB9KM3N57BN   \n",
              "     4747            D5NR6EP8NQZ0TGW6 2014-01-05  5GDXSLG0F4WA3JEZ   \n",
              "     5097            2T71YISMHMPBKE3Z 2014-01-03  0C7DIKEPG5KXNRFR   \n",
              "     5154            V226RP8DLAQQKU51 2014-01-04  6C9WDEPC4Q05WBSR   \n",
              "...                               ...        ...               ...   \n",
              "19   33833           IVSKD45PB8FZ0DRT 2018-12-31  6M3DK5ZNSTNHD50B   \n",
              "     35406           IASPC12JU67ANTA5 2018-12-29  0MJH7DMFHIPI2T81   \n",
              "     36958           0GNFQ2XTTI56QE1E 2018-12-30  9UPI7YU9WQDSBR1P   \n",
              "     43534           8YHA5UTWAT7BOC24 2018-12-31  041RWJS7KUFPFVV9   \n",
              "     48207           J5FBQ0JWGIKWFSCO 2018-12-30  V8HPYOK6H6W5C5WQ   \n",
              "\n",
              "                           Company Id              Date of Meal  \\\n",
              "year original_index                                               \n",
              "13   1449            N4BN0GG5XKZV113C 2013-12-31 21:00:00+00:00   \n",
              "     4256            9FOCJR50GUHXT2S0 2013-12-31 12:00:00+00:00   \n",
              "     4747            RJ1NLTCTP1COK3YS 2013-12-31 21:00:00+00:00   \n",
              "     5097            R835HX2AVB1KJJL0 2013-12-30 19:00:00+00:00   \n",
              "     5154            23B3R2N3LSYQJQMF 2013-12-30 13:00:00+00:00   \n",
              "...                               ...                       ...   \n",
              "19   33833           EIX79KCQQWJKLP21 2019-01-04 08:00:00+00:00   \n",
              "     35406           90KJEJUQ6MQO6NEW 2019-01-02 11:00:00+00:00   \n",
              "     36958           9IPX1GTNSJJOULSB 2019-01-03 11:00:00+00:00   \n",
              "     43534           Z19C6Y8F5Q22DMFK 2019-01-03 07:00:00+00:00   \n",
              "     48207           5AI9YF2ROZIV8QPJ 2019-01-01 06:00:00+00:00   \n",
              "\n",
              "                                                          Participants  \\\n",
              "year original_index                                                      \n",
              "13   1449                                             ['Jason Cuevas']   \n",
              "     4256            ['Robert Hairfield' 'Ray Dowty' 'Adam Bowers' ...   \n",
              "     4747                                             ['Leta Stevens']   \n",
              "     5097                                           ['Hunter Marquez']   \n",
              "     5154            ['Erin Jones' 'Blake Newman' 'John Truett' 'Go...   \n",
              "...                                                                ...   \n",
              "19   33833                             ['Bob Fulton' 'Jermaine Rawls']   \n",
              "     35406                                           ['Ted Pickering']   \n",
              "     36958                ['John Hightower' 'Adam Hill' 'Betty Sagen']   \n",
              "     43534                              ['Marva Cormier' 'Amy Boothe']   \n",
              "     48207                                            ['Pamela Davis']   \n",
              "\n",
              "                     Meal Price Type of Meal  Heroes Adjustment  \n",
              "year original_index                                              \n",
              "13   1449                 546.0       Dinner              False  \n",
              "     4256                 586.0        Lunch              False  \n",
              "     4747                 549.0       Dinner              False  \n",
              "     5097                 338.0       Dinner              False  \n",
              "     5154                 377.0        Lunch              False  \n",
              "...                         ...          ...                ...  \n",
              "19   33833                388.0    Breakfast              False  \n",
              "     35406                285.0        Lunch              False  \n",
              "     36958                600.0        Lunch              False  \n",
              "     43534                377.0    Breakfast              False  \n",
              "     48207                536.0    Breakfast              False  \n",
              "\n",
              "[50017 rows x 9 columns]"
            ]
          },
          "metadata": {
            "tags": []
          },
          "execution_count": 61
        }
      ]
    },
    {
      "cell_type": "code",
      "metadata": {
        "colab": {
          "base_uri": "https://localhost:8080/",
          "height": 415
        },
        "id": "OZ7v6GQDKJxM",
        "outputId": "4349dc7f-d4dc-4cc5-8e4a-cb0ba82a0d7e"
      },
      "source": [
        "# Horizontal stacking\n",
        "range_a = pd.date_range(\n",
        "    datetime.datetime(2019,1,2),\n",
        "    datetime.datetime(2019,1,8)\n",
        ")\n",
        "df_a = pd.DataFrame(\n",
        "    index=range_a, \n",
        "    data=np.random.randint(2,10,size=len(range_a)),\n",
        "    columns=['observations_A']\n",
        ")\n",
        "\n",
        "range_b = pd.date_range(\n",
        "    datetime.datetime(2019,1,5),\n",
        "    datetime.datetime(2019,1,12)\n",
        ")\n",
        "\n",
        "df_b = pd.DataFrame(\n",
        "    index=range_b, \n",
        "    data=np.random.randint(2,10,size=len(range_b)),\n",
        "    columns=['observations_B']\n",
        ")\n",
        "\n",
        "pd.concat([df_a,df_b],axis=1)"
      ],
      "execution_count": null,
      "outputs": [
        {
          "output_type": "execute_result",
          "data": {
            "text/html": [
              "<div>\n",
              "<style scoped>\n",
              "    .dataframe tbody tr th:only-of-type {\n",
              "        vertical-align: middle;\n",
              "    }\n",
              "\n",
              "    .dataframe tbody tr th {\n",
              "        vertical-align: top;\n",
              "    }\n",
              "\n",
              "    .dataframe thead th {\n",
              "        text-align: right;\n",
              "    }\n",
              "</style>\n",
              "<table border=\"1\" class=\"dataframe\">\n",
              "  <thead>\n",
              "    <tr style=\"text-align: right;\">\n",
              "      <th></th>\n",
              "      <th>observations_A</th>\n",
              "      <th>observations_B</th>\n",
              "    </tr>\n",
              "  </thead>\n",
              "  <tbody>\n",
              "    <tr>\n",
              "      <th>2019-01-02</th>\n",
              "      <td>5.0</td>\n",
              "      <td>NaN</td>\n",
              "    </tr>\n",
              "    <tr>\n",
              "      <th>2019-01-03</th>\n",
              "      <td>2.0</td>\n",
              "      <td>NaN</td>\n",
              "    </tr>\n",
              "    <tr>\n",
              "      <th>2019-01-04</th>\n",
              "      <td>4.0</td>\n",
              "      <td>NaN</td>\n",
              "    </tr>\n",
              "    <tr>\n",
              "      <th>2019-01-05</th>\n",
              "      <td>4.0</td>\n",
              "      <td>7.0</td>\n",
              "    </tr>\n",
              "    <tr>\n",
              "      <th>2019-01-06</th>\n",
              "      <td>7.0</td>\n",
              "      <td>5.0</td>\n",
              "    </tr>\n",
              "    <tr>\n",
              "      <th>...</th>\n",
              "      <td>...</td>\n",
              "      <td>...</td>\n",
              "    </tr>\n",
              "    <tr>\n",
              "      <th>2019-01-08</th>\n",
              "      <td>7.0</td>\n",
              "      <td>8.0</td>\n",
              "    </tr>\n",
              "    <tr>\n",
              "      <th>2019-01-09</th>\n",
              "      <td>NaN</td>\n",
              "      <td>7.0</td>\n",
              "    </tr>\n",
              "    <tr>\n",
              "      <th>2019-01-10</th>\n",
              "      <td>NaN</td>\n",
              "      <td>3.0</td>\n",
              "    </tr>\n",
              "    <tr>\n",
              "      <th>2019-01-11</th>\n",
              "      <td>NaN</td>\n",
              "      <td>8.0</td>\n",
              "    </tr>\n",
              "    <tr>\n",
              "      <th>2019-01-12</th>\n",
              "      <td>NaN</td>\n",
              "      <td>9.0</td>\n",
              "    </tr>\n",
              "  </tbody>\n",
              "</table>\n",
              "<p>11 rows × 2 columns</p>\n",
              "</div>"
            ],
            "text/plain": [
              "            observations_A  observations_B\n",
              "2019-01-02             5.0             NaN\n",
              "2019-01-03             2.0             NaN\n",
              "2019-01-04             4.0             NaN\n",
              "2019-01-05             4.0             7.0\n",
              "2019-01-06             7.0             5.0\n",
              "...                    ...             ...\n",
              "2019-01-08             7.0             8.0\n",
              "2019-01-09             NaN             7.0\n",
              "2019-01-10             NaN             3.0\n",
              "2019-01-11             NaN             8.0\n",
              "2019-01-12             NaN             9.0\n",
              "\n",
              "[11 rows x 2 columns]"
            ]
          },
          "metadata": {
            "tags": []
          },
          "execution_count": 62
        }
      ]
    },
    {
      "cell_type": "markdown",
      "metadata": {
        "id": "-s7nr6iyK8WE"
      },
      "source": [
        "## Merge"
      ]
    },
    {
      "cell_type": "markdown",
      "metadata": {
        "id": "08lM9SlzLLhu"
      },
      "source": [
        "![image.png](data:image/png;base64,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)"
      ]
    },
    {
      "cell_type": "code",
      "metadata": {
        "id": "5ccBrkiNKyAC"
      },
      "source": [
        "order_data = pd.read_csv('https://raw.githubusercontent.com/thimotyb/you-datascientist/master/order_leads.csv',parse_dates=[3])\n",
        "sales_team = pd.read_csv('https://raw.githubusercontent.com/thimotyb/you-datascientist/master/sales_team.csv')"
      ],
      "execution_count": null,
      "outputs": []
    },
    {
      "cell_type": "code",
      "metadata": {
        "colab": {
          "base_uri": "https://localhost:8080/",
          "height": 172
        },
        "id": "T5TCi4OoMHFg",
        "outputId": "8aa292a4-1a4b-46c1-bb56-b465c45d18c1"
      },
      "source": [
        "invoices.head(3)"
      ],
      "execution_count": null,
      "outputs": [
        {
          "output_type": "error",
          "ename": "NameError",
          "evalue": "ignored",
          "traceback": [
            "\u001b[0;31m---------------------------------------------------------------------------\u001b[0m",
            "\u001b[0;31mNameError\u001b[0m                                 Traceback (most recent call last)",
            "\u001b[0;32m<ipython-input-54-d69e7d6f93c4>\u001b[0m in \u001b[0;36m<module>\u001b[0;34m()\u001b[0m\n\u001b[0;32m----> 1\u001b[0;31m \u001b[0minvoices\u001b[0m\u001b[0;34m.\u001b[0m\u001b[0mhead\u001b[0m\u001b[0;34m(\u001b[0m\u001b[0;36m3\u001b[0m\u001b[0;34m)\u001b[0m\u001b[0;34m\u001b[0m\u001b[0;34m\u001b[0m\u001b[0m\n\u001b[0m",
            "\u001b[0;31mNameError\u001b[0m: name 'invoices' is not defined"
          ]
        }
      ]
    },
    {
      "cell_type": "code",
      "metadata": {
        "colab": {
          "base_uri": "https://localhost:8080/",
          "height": 142
        },
        "id": "RYEhH7QjMl4N",
        "outputId": "78652397-07ad-4fe7-c1e7-0b362ea2113b"
      },
      "source": [
        "\n",
        "order_data.head(3)"
      ],
      "execution_count": null,
      "outputs": [
        {
          "output_type": "execute_result",
          "data": {
            "text/html": [
              "<div>\n",
              "<style scoped>\n",
              "    .dataframe tbody tr th:only-of-type {\n",
              "        vertical-align: middle;\n",
              "    }\n",
              "\n",
              "    .dataframe tbody tr th {\n",
              "        vertical-align: top;\n",
              "    }\n",
              "\n",
              "    .dataframe thead th {\n",
              "        text-align: right;\n",
              "    }\n",
              "</style>\n",
              "<table border=\"1\" class=\"dataframe\">\n",
              "  <thead>\n",
              "    <tr style=\"text-align: right;\">\n",
              "      <th></th>\n",
              "      <th>Order Id</th>\n",
              "      <th>Company Id</th>\n",
              "      <th>Company Name</th>\n",
              "      <th>Date</th>\n",
              "      <th>Order Value</th>\n",
              "      <th>Converted</th>\n",
              "    </tr>\n",
              "  </thead>\n",
              "  <tbody>\n",
              "    <tr>\n",
              "      <th>0</th>\n",
              "      <td>80EYLOKP9E762WKG</td>\n",
              "      <td>LJKS5NK6788CYMUU</td>\n",
              "      <td>Chimera-Chasing Casbah</td>\n",
              "      <td>2017-02-18</td>\n",
              "      <td>4875</td>\n",
              "      <td>1</td>\n",
              "    </tr>\n",
              "    <tr>\n",
              "      <th>1</th>\n",
              "      <td>TLEXR1HZWTUTBHPB</td>\n",
              "      <td>LJKS5NK6788CYMUU</td>\n",
              "      <td>Chimera-Chasing Casbah</td>\n",
              "      <td>2015-07-30</td>\n",
              "      <td>8425</td>\n",
              "      <td>0</td>\n",
              "    </tr>\n",
              "    <tr>\n",
              "      <th>2</th>\n",
              "      <td>839FKFW2LLX4LMBB</td>\n",
              "      <td>LJKS5NK6788CYMUU</td>\n",
              "      <td>Chimera-Chasing Casbah</td>\n",
              "      <td>2016-05-27</td>\n",
              "      <td>4837</td>\n",
              "      <td>0</td>\n",
              "    </tr>\n",
              "  </tbody>\n",
              "</table>\n",
              "</div>"
            ],
            "text/plain": [
              "           Order Id        Company Id            Company Name       Date  \\\n",
              "0  80EYLOKP9E762WKG  LJKS5NK6788CYMUU  Chimera-Chasing Casbah 2017-02-18   \n",
              "1  TLEXR1HZWTUTBHPB  LJKS5NK6788CYMUU  Chimera-Chasing Casbah 2015-07-30   \n",
              "2  839FKFW2LLX4LMBB  LJKS5NK6788CYMUU  Chimera-Chasing Casbah 2016-05-27   \n",
              "\n",
              "   Order Value  Converted  \n",
              "0         4875          1  \n",
              "1         8425          0  \n",
              "2         4837          0  "
            ]
          },
          "metadata": {
            "tags": []
          },
          "execution_count": 55
        }
      ]
    },
    {
      "cell_type": "code",
      "metadata": {
        "colab": {
          "base_uri": "https://localhost:8080/",
          "height": 142
        },
        "id": "17O0RyMLMoHR",
        "outputId": "ef18f8a4-891f-473a-cede-6a4c3ff7730e"
      },
      "source": [
        "sales_team.head(3)"
      ],
      "execution_count": null,
      "outputs": [
        {
          "output_type": "execute_result",
          "data": {
            "text/html": [
              "<div>\n",
              "<style scoped>\n",
              "    .dataframe tbody tr th:only-of-type {\n",
              "        vertical-align: middle;\n",
              "    }\n",
              "\n",
              "    .dataframe tbody tr th {\n",
              "        vertical-align: top;\n",
              "    }\n",
              "\n",
              "    .dataframe thead th {\n",
              "        text-align: right;\n",
              "    }\n",
              "</style>\n",
              "<table border=\"1\" class=\"dataframe\">\n",
              "  <thead>\n",
              "    <tr style=\"text-align: right;\">\n",
              "      <th></th>\n",
              "      <th>Sales Rep</th>\n",
              "      <th>Sales Rep Id</th>\n",
              "      <th>Company Name</th>\n",
              "      <th>Company Id</th>\n",
              "    </tr>\n",
              "  </thead>\n",
              "  <tbody>\n",
              "    <tr>\n",
              "      <th>0</th>\n",
              "      <td>Jessie Mcallister</td>\n",
              "      <td>97UNNAT790E0WM4N</td>\n",
              "      <td>Chimera-Chasing Casbah</td>\n",
              "      <td>LJKS5NK6788CYMUU</td>\n",
              "    </tr>\n",
              "    <tr>\n",
              "      <th>1</th>\n",
              "      <td>Jessie Mcallister</td>\n",
              "      <td>97UNNAT790E0WM4N</td>\n",
              "      <td>Tangential Sheds</td>\n",
              "      <td>36MFTZOYMTAJP1RK</td>\n",
              "    </tr>\n",
              "    <tr>\n",
              "      <th>2</th>\n",
              "      <td>Jessie Mcallister</td>\n",
              "      <td>97UNNAT790E0WM4N</td>\n",
              "      <td>Two-Mile Grab</td>\n",
              "      <td>H3JRC7XX7WJAD4ZO</td>\n",
              "    </tr>\n",
              "  </tbody>\n",
              "</table>\n",
              "</div>"
            ],
            "text/plain": [
              "           Sales Rep      Sales Rep Id            Company Name  \\\n",
              "0  Jessie Mcallister  97UNNAT790E0WM4N  Chimera-Chasing Casbah   \n",
              "1  Jessie Mcallister  97UNNAT790E0WM4N        Tangential Sheds   \n",
              "2  Jessie Mcallister  97UNNAT790E0WM4N           Two-Mile Grab   \n",
              "\n",
              "         Company Id  \n",
              "0  LJKS5NK6788CYMUU  \n",
              "1  36MFTZOYMTAJP1RK  \n",
              "2  H3JRC7XX7WJAD4ZO  "
            ]
          },
          "metadata": {
            "tags": []
          },
          "execution_count": 56
        }
      ]
    },
    {
      "cell_type": "markdown",
      "metadata": {
        "id": "quV2eHnlNFmI"
      },
      "source": [
        "No parameters provided: All parameters will use their defaults.\n",
        "The merge is going to be an inner merge (equivalent to how='inner').\n",
        "The merge is going to be done on all common columns, i.e., Date, Order Id, and Company Id(equivalent to on=['Date','Order Id','Company Id]).\n",
        "Suffixes are not relevant as all common columns will be used to merge on, so there will no be duplicated columns remaining."
      ]
    },
    {
      "cell_type": "code",
      "metadata": {
        "id": "ig_agjjYMrVh"
      },
      "source": [
        "\n",
        "pd.merge(order_data,invoices)"
      ],
      "execution_count": null,
      "outputs": []
    },
    {
      "cell_type": "markdown",
      "metadata": {
        "id": "ZEncblqyNVuj"
      },
      "source": [
        "how='left' : Again, the merge is based on all common columns. Suffixes are not relevant as all common columns will be used to merge on, so there will no be duplicated columns remaining.\n",
        "However, this time around, we merge with how='left' which means that we will take all rows from the left frame and only add data from the right frame where we find some."
      ]
    },
    {
      "cell_type": "code",
      "metadata": {
        "id": "qER4foQ4Mwc6"
      },
      "source": [
        "pd.merge(order_data,invoices,how='left')"
      ],
      "execution_count": null,
      "outputs": []
    },
    {
      "cell_type": "markdown",
      "metadata": {
        "id": "Z7QaD9uqNnwS"
      },
      "source": [
        "how='right' : Again, the merge is based on all common columns. Suffixes are not relevant as all common columns will be used to merge on, so there will no be duplicated columns remaining.\n",
        "However, this time around, we merge with how='right' which means that we will take all rows from the right frame and only add data from the left frame where we find some. This case is equivalent to 'inner' in our example as every row in the left DataFrame has a corresponding row in the right DataFrame."
      ]
    },
    {
      "cell_type": "code",
      "metadata": {
        "id": "7hj9NbEvNQE-"
      },
      "source": [
        "pd.merge(order_data,invoices,how='right')"
      ],
      "execution_count": null,
      "outputs": []
    },
    {
      "cell_type": "markdown",
      "metadata": {
        "id": "IidL2Q8cN4Nn"
      },
      "source": [
        "how='outer' : Again, the merge is based on all common columns. Suffixes are not relevant as all common columns will be used to merge on, so there will no be duplicated columns remaining.\n",
        "However, this time around, we merge with how='outer'. We take all rows from either, the left or the right DataFrame and add corresponding data where we find some in the other DataFrame. This case is equivalent to 'left' in our example as every row in the left DataFrame has a corresponding row in the right DataFrame."
      ]
    },
    {
      "cell_type": "code",
      "metadata": {
        "id": "zcxtyLlhNl4l"
      },
      "source": [
        "pd.merge(order_data,invoices,how='outer')"
      ],
      "execution_count": null,
      "outputs": []
    },
    {
      "cell_type": "code",
      "metadata": {
        "id": "s9B8ftGgNzZK"
      },
      "source": [
        "pd.merge(order_data,invoices,on='Order Id',suffixes=('_base','_join'))"
      ],
      "execution_count": null,
      "outputs": []
    },
    {
      "cell_type": "markdown",
      "metadata": {
        "id": "QgJFWtdlORYK"
      },
      "source": [
        "You would typically use the left_on and right_on parameters when the columns are named differently in the two DataFrames."
      ]
    },
    {
      "cell_type": "code",
      "metadata": {
        "id": "qjcChkA6OD28"
      },
      "source": [
        "pd.merge(\n",
        "    order_data,\n",
        "    invoices.rename(columns={'Order Id':'New Id'}),\n",
        "    left_on='Order Id',\n",
        "    right_on='New Id'\n",
        ")"
      ],
      "execution_count": null,
      "outputs": []
    },
    {
      "cell_type": "markdown",
      "metadata": {
        "id": "YkH79LTHObdA"
      },
      "source": [
        "## Map"
      ]
    },
    {
      "cell_type": "code",
      "metadata": {
        "id": "R0BP-mDcOKKx",
        "colab": {
          "base_uri": "https://localhost:8080/"
        },
        "outputId": "e71ebe08-eb39-48be-ed05-a6404fa7d172"
      },
      "source": [
        "# Creating a new series from a column, contextually setting the index from another column\n",
        "lookup = sales_team.set_index(\"Company Name\")['Sales Rep']\n",
        "lookup"
      ],
      "execution_count": null,
      "outputs": [
        {
          "output_type": "execute_result",
          "data": {
            "text/plain": [
              "Company Name\n",
              "Chimera-Chasing Casbah            Jessie Mcallister\n",
              "Tangential Sheds                  Jessie Mcallister\n",
              "Two-Mile Grab                     Jessie Mcallister\n",
              "Three-Men-And-A-Helper Congo'S    Jessie Mcallister\n",
              "Biophysical Battleground          Jessie Mcallister\n",
              "                                        ...        \n",
              "Jammed-Together Stable                Joel Woodbury\n",
              "Laureate Barbital                     Joel Woodbury\n",
              "Spotty Adoniram                     Hazel Dickerson\n",
              "Physicochemical Impatience          Hazel Dickerson\n",
              "Fierce Productivity                 Hazel Dickerson\n",
              "Name: Sales Rep, Length: 4725, dtype: object"
            ]
          },
          "metadata": {
            "tags": []
          },
          "execution_count": 60
        }
      ]
    },
    {
      "cell_type": "code",
      "metadata": {
        "colab": {
          "base_uri": "https://localhost:8080/",
          "height": 606
        },
        "id": "lpRvw7yWWO5L",
        "outputId": "11a00e27-ed4d-43ca-f2fe-b659f3e7b175"
      },
      "source": [
        "# Using an indexed series as a mapping function to create new columns\n",
        "order_data['Sales Rep'] = order_data['Company Name'].map(lookup)\n",
        "order_data"
      ],
      "execution_count": null,
      "outputs": [
        {
          "output_type": "execute_result",
          "data": {
            "text/html": [
              "<div>\n",
              "<style scoped>\n",
              "    .dataframe tbody tr th:only-of-type {\n",
              "        vertical-align: middle;\n",
              "    }\n",
              "\n",
              "    .dataframe tbody tr th {\n",
              "        vertical-align: top;\n",
              "    }\n",
              "\n",
              "    .dataframe thead th {\n",
              "        text-align: right;\n",
              "    }\n",
              "</style>\n",
              "<table border=\"1\" class=\"dataframe\">\n",
              "  <thead>\n",
              "    <tr style=\"text-align: right;\">\n",
              "      <th></th>\n",
              "      <th>Order Id</th>\n",
              "      <th>Company Id</th>\n",
              "      <th>Company Name</th>\n",
              "      <th>Date</th>\n",
              "      <th>Order Value</th>\n",
              "      <th>Converted</th>\n",
              "      <th>Sales Rep</th>\n",
              "    </tr>\n",
              "  </thead>\n",
              "  <tbody>\n",
              "    <tr>\n",
              "      <th>0</th>\n",
              "      <td>80EYLOKP9E762WKG</td>\n",
              "      <td>LJKS5NK6788CYMUU</td>\n",
              "      <td>Chimera-Chasing Casbah</td>\n",
              "      <td>2017-02-18</td>\n",
              "      <td>4875</td>\n",
              "      <td>1</td>\n",
              "      <td>Jessie Mcallister</td>\n",
              "    </tr>\n",
              "    <tr>\n",
              "      <th>1</th>\n",
              "      <td>TLEXR1HZWTUTBHPB</td>\n",
              "      <td>LJKS5NK6788CYMUU</td>\n",
              "      <td>Chimera-Chasing Casbah</td>\n",
              "      <td>2015-07-30</td>\n",
              "      <td>8425</td>\n",
              "      <td>0</td>\n",
              "      <td>Jessie Mcallister</td>\n",
              "    </tr>\n",
              "    <tr>\n",
              "      <th>2</th>\n",
              "      <td>839FKFW2LLX4LMBB</td>\n",
              "      <td>LJKS5NK6788CYMUU</td>\n",
              "      <td>Chimera-Chasing Casbah</td>\n",
              "      <td>2016-05-27</td>\n",
              "      <td>4837</td>\n",
              "      <td>0</td>\n",
              "      <td>Jessie Mcallister</td>\n",
              "    </tr>\n",
              "    <tr>\n",
              "      <th>3</th>\n",
              "      <td>97OX39BGVMHODLJM</td>\n",
              "      <td>LJKS5NK6788CYMUU</td>\n",
              "      <td>Chimera-Chasing Casbah</td>\n",
              "      <td>2018-09-27</td>\n",
              "      <td>343</td>\n",
              "      <td>0</td>\n",
              "      <td>Jessie Mcallister</td>\n",
              "    </tr>\n",
              "    <tr>\n",
              "      <th>4</th>\n",
              "      <td>5T4LGH4XGBWOD49Z</td>\n",
              "      <td>LJKS5NK6788CYMUU</td>\n",
              "      <td>Chimera-Chasing Casbah</td>\n",
              "      <td>2016-01-14</td>\n",
              "      <td>983</td>\n",
              "      <td>0</td>\n",
              "      <td>Jessie Mcallister</td>\n",
              "    </tr>\n",
              "    <tr>\n",
              "      <th>...</th>\n",
              "      <td>...</td>\n",
              "      <td>...</td>\n",
              "      <td>...</td>\n",
              "      <td>...</td>\n",
              "      <td>...</td>\n",
              "      <td>...</td>\n",
              "      <td>...</td>\n",
              "    </tr>\n",
              "    <tr>\n",
              "      <th>99995</th>\n",
              "      <td>4MFHIAQKH0HCACJM</td>\n",
              "      <td>E4K99D4JR9E40VE1</td>\n",
              "      <td>Fierce Productivity</td>\n",
              "      <td>2015-07-25</td>\n",
              "      <td>4851</td>\n",
              "      <td>0</td>\n",
              "      <td>Hazel Dickerson</td>\n",
              "    </tr>\n",
              "    <tr>\n",
              "      <th>99996</th>\n",
              "      <td>K1UP23P8SIY1YION</td>\n",
              "      <td>E4K99D4JR9E40VE1</td>\n",
              "      <td>Fierce Productivity</td>\n",
              "      <td>2015-08-24</td>\n",
              "      <td>7868</td>\n",
              "      <td>0</td>\n",
              "      <td>Hazel Dickerson</td>\n",
              "    </tr>\n",
              "    <tr>\n",
              "      <th>99997</th>\n",
              "      <td>NKHFWT5I2J9LPAPG</td>\n",
              "      <td>E4K99D4JR9E40VE1</td>\n",
              "      <td>Fierce Productivity</td>\n",
              "      <td>2017-09-06</td>\n",
              "      <td>5138</td>\n",
              "      <td>0</td>\n",
              "      <td>Hazel Dickerson</td>\n",
              "    </tr>\n",
              "    <tr>\n",
              "      <th>99998</th>\n",
              "      <td>OF79M3H9C44UM6PO</td>\n",
              "      <td>E4K99D4JR9E40VE1</td>\n",
              "      <td>Fierce Productivity</td>\n",
              "      <td>2015-10-29</td>\n",
              "      <td>2036</td>\n",
              "      <td>0</td>\n",
              "      <td>Hazel Dickerson</td>\n",
              "    </tr>\n",
              "    <tr>\n",
              "      <th>99999</th>\n",
              "      <td>EHN2QR78K2RX0FQ9</td>\n",
              "      <td>E4K99D4JR9E40VE1</td>\n",
              "      <td>Fierce Productivity</td>\n",
              "      <td>2015-03-07</td>\n",
              "      <td>7183</td>\n",
              "      <td>0</td>\n",
              "      <td>Hazel Dickerson</td>\n",
              "    </tr>\n",
              "  </tbody>\n",
              "</table>\n",
              "<p>100000 rows × 7 columns</p>\n",
              "</div>"
            ],
            "text/plain": [
              "               Order Id        Company Id            Company Name       Date  \\\n",
              "0      80EYLOKP9E762WKG  LJKS5NK6788CYMUU  Chimera-Chasing Casbah 2017-02-18   \n",
              "1      TLEXR1HZWTUTBHPB  LJKS5NK6788CYMUU  Chimera-Chasing Casbah 2015-07-30   \n",
              "2      839FKFW2LLX4LMBB  LJKS5NK6788CYMUU  Chimera-Chasing Casbah 2016-05-27   \n",
              "3      97OX39BGVMHODLJM  LJKS5NK6788CYMUU  Chimera-Chasing Casbah 2018-09-27   \n",
              "4      5T4LGH4XGBWOD49Z  LJKS5NK6788CYMUU  Chimera-Chasing Casbah 2016-01-14   \n",
              "...                 ...               ...                     ...        ...   \n",
              "99995  4MFHIAQKH0HCACJM  E4K99D4JR9E40VE1     Fierce Productivity 2015-07-25   \n",
              "99996  K1UP23P8SIY1YION  E4K99D4JR9E40VE1     Fierce Productivity 2015-08-24   \n",
              "99997  NKHFWT5I2J9LPAPG  E4K99D4JR9E40VE1     Fierce Productivity 2017-09-06   \n",
              "99998  OF79M3H9C44UM6PO  E4K99D4JR9E40VE1     Fierce Productivity 2015-10-29   \n",
              "99999  EHN2QR78K2RX0FQ9  E4K99D4JR9E40VE1     Fierce Productivity 2015-03-07   \n",
              "\n",
              "       Order Value  Converted          Sales Rep  \n",
              "0             4875          1  Jessie Mcallister  \n",
              "1             8425          0  Jessie Mcallister  \n",
              "2             4837          0  Jessie Mcallister  \n",
              "3              343          0  Jessie Mcallister  \n",
              "4              983          0  Jessie Mcallister  \n",
              "...            ...        ...                ...  \n",
              "99995         4851          0    Hazel Dickerson  \n",
              "99996         7868          0    Hazel Dickerson  \n",
              "99997         5138          0    Hazel Dickerson  \n",
              "99998         2036          0    Hazel Dickerson  \n",
              "99999         7183          0    Hazel Dickerson  \n",
              "\n",
              "[100000 rows x 7 columns]"
            ]
          },
          "metadata": {
            "tags": []
          },
          "execution_count": 62
        }
      ]
    },
    {
      "cell_type": "markdown",
      "metadata": {
        "id": "vhd80lJqXOR6"
      },
      "source": [
        "# Reshaping Dataframes"
      ]
    },
    {
      "cell_type": "markdown",
      "metadata": {
        "id": "uy_Yq2pxZ82h"
      },
      "source": [
        "## Transpose"
      ]
    },
    {
      "cell_type": "code",
      "metadata": {
        "colab": {
          "base_uri": "https://localhost:8080/",
          "height": 343
        },
        "id": "X1IzkMDcWy_T",
        "outputId": "1a898b8e-846b-421d-d3c7-c80978bcbd00"
      },
      "source": [
        "# Transpose\n",
        "invoices.head(5)"
      ],
      "execution_count": null,
      "outputs": [
        {
          "output_type": "execute_result",
          "data": {
            "text/html": [
              "<div>\n",
              "<style scoped>\n",
              "    .dataframe tbody tr th:only-of-type {\n",
              "        vertical-align: middle;\n",
              "    }\n",
              "\n",
              "    .dataframe tbody tr th {\n",
              "        vertical-align: top;\n",
              "    }\n",
              "\n",
              "    .dataframe thead th {\n",
              "        text-align: right;\n",
              "    }\n",
              "</style>\n",
              "<table border=\"1\" class=\"dataframe\">\n",
              "  <thead>\n",
              "    <tr style=\"text-align: right;\">\n",
              "      <th></th>\n",
              "      <th>Order Id</th>\n",
              "      <th>Date</th>\n",
              "      <th>Meal Id</th>\n",
              "      <th>Company Id</th>\n",
              "      <th>Date of Meal</th>\n",
              "      <th>Participants</th>\n",
              "      <th>Meal Price</th>\n",
              "      <th>Type of Meal</th>\n",
              "      <th>Heroes Adjustment</th>\n",
              "    </tr>\n",
              "  </thead>\n",
              "  <tbody>\n",
              "    <tr>\n",
              "      <th>0</th>\n",
              "      <td>839FKFW2LLX4LMBB</td>\n",
              "      <td>2016-05-27</td>\n",
              "      <td>INBUX904GIHI8YBD</td>\n",
              "      <td>LJKS5NK6788CYMUU</td>\n",
              "      <td>2016-05-31 07:00:00+02:00</td>\n",
              "      <td>['David Bishop']</td>\n",
              "      <td>469.0</td>\n",
              "      <td>Breakfast</td>\n",
              "      <td>False</td>\n",
              "    </tr>\n",
              "    <tr>\n",
              "      <th>1</th>\n",
              "      <td>97OX39BGVMHODLJM</td>\n",
              "      <td>2018-09-27</td>\n",
              "      <td>J0MMOOPP709DIDIE</td>\n",
              "      <td>LJKS5NK6788CYMUU</td>\n",
              "      <td>2018-10-01 20:00:00+02:00</td>\n",
              "      <td>['David Bishop']</td>\n",
              "      <td>22.0</td>\n",
              "      <td>Dinner</td>\n",
              "      <td>False</td>\n",
              "    </tr>\n",
              "    <tr>\n",
              "      <th>2</th>\n",
              "      <td>041ORQM5OIHTIU6L</td>\n",
              "      <td>2014-08-24</td>\n",
              "      <td>E4UJLQNCI16UX5CS</td>\n",
              "      <td>LJKS5NK6788CYMUU</td>\n",
              "      <td>2014-08-23 14:00:00+02:00</td>\n",
              "      <td>['Karen Stansell']</td>\n",
              "      <td>314.0</td>\n",
              "      <td>Lunch</td>\n",
              "      <td>False</td>\n",
              "    </tr>\n",
              "    <tr>\n",
              "      <th>3</th>\n",
              "      <td>YT796QI18WNGZ7ZJ</td>\n",
              "      <td>2014-04-12</td>\n",
              "      <td>C9SDFHF7553BE247</td>\n",
              "      <td>LJKS5NK6788CYMUU</td>\n",
              "      <td>2014-04-07 21:00:00+02:00</td>\n",
              "      <td>['Addie Patino']</td>\n",
              "      <td>438.0</td>\n",
              "      <td>Dinner</td>\n",
              "      <td>False</td>\n",
              "    </tr>\n",
              "    <tr>\n",
              "      <th>4</th>\n",
              "      <td>6YLROQT27B6HRF4E</td>\n",
              "      <td>2015-07-28</td>\n",
              "      <td>48EQXS6IHYNZDDZ5</td>\n",
              "      <td>LJKS5NK6788CYMUU</td>\n",
              "      <td>2015-07-27 14:00:00+02:00</td>\n",
              "      <td>['Addie Patino' 'Susan Guerrero']</td>\n",
              "      <td>690.0</td>\n",
              "      <td>Lunch</td>\n",
              "      <td>False</td>\n",
              "    </tr>\n",
              "  </tbody>\n",
              "</table>\n",
              "</div>"
            ],
            "text/plain": [
              "           Order Id        Date           Meal Id        Company Id  \\\n",
              "0  839FKFW2LLX4LMBB  2016-05-27  INBUX904GIHI8YBD  LJKS5NK6788CYMUU   \n",
              "1  97OX39BGVMHODLJM  2018-09-27  J0MMOOPP709DIDIE  LJKS5NK6788CYMUU   \n",
              "2  041ORQM5OIHTIU6L  2014-08-24  E4UJLQNCI16UX5CS  LJKS5NK6788CYMUU   \n",
              "3  YT796QI18WNGZ7ZJ  2014-04-12  C9SDFHF7553BE247  LJKS5NK6788CYMUU   \n",
              "4  6YLROQT27B6HRF4E  2015-07-28  48EQXS6IHYNZDDZ5  LJKS5NK6788CYMUU   \n",
              "\n",
              "                Date of Meal                       Participants  Meal Price  \\\n",
              "0  2016-05-31 07:00:00+02:00                   ['David Bishop']       469.0   \n",
              "1  2018-10-01 20:00:00+02:00                   ['David Bishop']        22.0   \n",
              "2  2014-08-23 14:00:00+02:00                 ['Karen Stansell']       314.0   \n",
              "3  2014-04-07 21:00:00+02:00                   ['Addie Patino']       438.0   \n",
              "4  2015-07-27 14:00:00+02:00  ['Addie Patino' 'Susan Guerrero']       690.0   \n",
              "\n",
              "  Type of Meal  Heroes Adjustment  \n",
              "0    Breakfast              False  \n",
              "1       Dinner              False  \n",
              "2        Lunch              False  \n",
              "3       Dinner              False  \n",
              "4        Lunch              False  "
            ]
          },
          "metadata": {
            "tags": []
          },
          "execution_count": 65
        }
      ]
    },
    {
      "cell_type": "code",
      "metadata": {
        "id": "TyKm0BPdZKcM",
        "colab": {
          "base_uri": "https://localhost:8080/",
          "height": 416
        },
        "outputId": "2ad34d4e-8186-49c2-93ad-8992cb161836"
      },
      "source": [
        "invoices.head(5).T"
      ],
      "execution_count": null,
      "outputs": [
        {
          "output_type": "execute_result",
          "data": {
            "text/html": [
              "<div>\n",
              "<style scoped>\n",
              "    .dataframe tbody tr th:only-of-type {\n",
              "        vertical-align: middle;\n",
              "    }\n",
              "\n",
              "    .dataframe tbody tr th {\n",
              "        vertical-align: top;\n",
              "    }\n",
              "\n",
              "    .dataframe thead th {\n",
              "        text-align: right;\n",
              "    }\n",
              "</style>\n",
              "<table border=\"1\" class=\"dataframe\">\n",
              "  <thead>\n",
              "    <tr style=\"text-align: right;\">\n",
              "      <th></th>\n",
              "      <th>0</th>\n",
              "      <th>1</th>\n",
              "      <th>2</th>\n",
              "      <th>3</th>\n",
              "      <th>4</th>\n",
              "    </tr>\n",
              "  </thead>\n",
              "  <tbody>\n",
              "    <tr>\n",
              "      <th>Order Id</th>\n",
              "      <td>839FKFW2LLX4LMBB</td>\n",
              "      <td>97OX39BGVMHODLJM</td>\n",
              "      <td>041ORQM5OIHTIU6L</td>\n",
              "      <td>YT796QI18WNGZ7ZJ</td>\n",
              "      <td>6YLROQT27B6HRF4E</td>\n",
              "    </tr>\n",
              "    <tr>\n",
              "      <th>Date</th>\n",
              "      <td>2016-05-27</td>\n",
              "      <td>2018-09-27</td>\n",
              "      <td>2014-08-24</td>\n",
              "      <td>2014-04-12</td>\n",
              "      <td>2015-07-28</td>\n",
              "    </tr>\n",
              "    <tr>\n",
              "      <th>Meal Id</th>\n",
              "      <td>INBUX904GIHI8YBD</td>\n",
              "      <td>J0MMOOPP709DIDIE</td>\n",
              "      <td>E4UJLQNCI16UX5CS</td>\n",
              "      <td>C9SDFHF7553BE247</td>\n",
              "      <td>48EQXS6IHYNZDDZ5</td>\n",
              "    </tr>\n",
              "    <tr>\n",
              "      <th>Company Id</th>\n",
              "      <td>LJKS5NK6788CYMUU</td>\n",
              "      <td>LJKS5NK6788CYMUU</td>\n",
              "      <td>LJKS5NK6788CYMUU</td>\n",
              "      <td>LJKS5NK6788CYMUU</td>\n",
              "      <td>LJKS5NK6788CYMUU</td>\n",
              "    </tr>\n",
              "    <tr>\n",
              "      <th>Date of Meal</th>\n",
              "      <td>2016-05-31 07:00:00+02:00</td>\n",
              "      <td>2018-10-01 20:00:00+02:00</td>\n",
              "      <td>2014-08-23 14:00:00+02:00</td>\n",
              "      <td>2014-04-07 21:00:00+02:00</td>\n",
              "      <td>2015-07-27 14:00:00+02:00</td>\n",
              "    </tr>\n",
              "    <tr>\n",
              "      <th>Participants</th>\n",
              "      <td>['David Bishop']</td>\n",
              "      <td>['David Bishop']</td>\n",
              "      <td>['Karen Stansell']</td>\n",
              "      <td>['Addie Patino']</td>\n",
              "      <td>['Addie Patino' 'Susan Guerrero']</td>\n",
              "    </tr>\n",
              "    <tr>\n",
              "      <th>Meal Price</th>\n",
              "      <td>469</td>\n",
              "      <td>22</td>\n",
              "      <td>314</td>\n",
              "      <td>438</td>\n",
              "      <td>690</td>\n",
              "    </tr>\n",
              "    <tr>\n",
              "      <th>Type of Meal</th>\n",
              "      <td>Breakfast</td>\n",
              "      <td>Dinner</td>\n",
              "      <td>Lunch</td>\n",
              "      <td>Dinner</td>\n",
              "      <td>Lunch</td>\n",
              "    </tr>\n",
              "    <tr>\n",
              "      <th>Heroes Adjustment</th>\n",
              "      <td>False</td>\n",
              "      <td>False</td>\n",
              "      <td>False</td>\n",
              "      <td>False</td>\n",
              "      <td>False</td>\n",
              "    </tr>\n",
              "  </tbody>\n",
              "</table>\n",
              "</div>"
            ],
            "text/plain": [
              "                                           0                          1  \\\n",
              "Order Id                    839FKFW2LLX4LMBB           97OX39BGVMHODLJM   \n",
              "Date                              2016-05-27                 2018-09-27   \n",
              "Meal Id                     INBUX904GIHI8YBD           J0MMOOPP709DIDIE   \n",
              "Company Id                  LJKS5NK6788CYMUU           LJKS5NK6788CYMUU   \n",
              "Date of Meal       2016-05-31 07:00:00+02:00  2018-10-01 20:00:00+02:00   \n",
              "Participants                ['David Bishop']           ['David Bishop']   \n",
              "Meal Price                               469                         22   \n",
              "Type of Meal                       Breakfast                     Dinner   \n",
              "Heroes Adjustment                      False                      False   \n",
              "\n",
              "                                           2                          3  \\\n",
              "Order Id                    041ORQM5OIHTIU6L           YT796QI18WNGZ7ZJ   \n",
              "Date                              2014-08-24                 2014-04-12   \n",
              "Meal Id                     E4UJLQNCI16UX5CS           C9SDFHF7553BE247   \n",
              "Company Id                  LJKS5NK6788CYMUU           LJKS5NK6788CYMUU   \n",
              "Date of Meal       2014-08-23 14:00:00+02:00  2014-04-07 21:00:00+02:00   \n",
              "Participants              ['Karen Stansell']           ['Addie Patino']   \n",
              "Meal Price                               314                        438   \n",
              "Type of Meal                           Lunch                     Dinner   \n",
              "Heroes Adjustment                      False                      False   \n",
              "\n",
              "                                                   4  \n",
              "Order Id                            6YLROQT27B6HRF4E  \n",
              "Date                                      2015-07-28  \n",
              "Meal Id                             48EQXS6IHYNZDDZ5  \n",
              "Company Id                          LJKS5NK6788CYMUU  \n",
              "Date of Meal               2015-07-27 14:00:00+02:00  \n",
              "Participants       ['Addie Patino' 'Susan Guerrero']  \n",
              "Meal Price                                       690  \n",
              "Type of Meal                                   Lunch  \n",
              "Heroes Adjustment                              False  "
            ]
          },
          "metadata": {
            "tags": []
          },
          "execution_count": 66
        }
      ]
    },
    {
      "cell_type": "markdown",
      "metadata": {
        "id": "5Uie2SMaZ_P5"
      },
      "source": [
        "## Pivot"
      ]
    },
    {
      "cell_type": "code",
      "metadata": {
        "id": "ESyVFcn4ZSLI",
        "colab": {
          "base_uri": "https://localhost:8080/",
          "height": 450
        },
        "outputId": "e57878ef-f39d-4956-a16e-249280df169e"
      },
      "source": [
        "pd.pivot_table(\n",
        "    invoices,\n",
        "    index=['Company Id','Type of Meal'],\n",
        "    values='Meal Price',\n",
        "    aggfunc=np.mean,\n",
        "    margins=True\n",
        ")"
      ],
      "execution_count": null,
      "outputs": [
        {
          "output_type": "execute_result",
          "data": {
            "text/html": [
              "<div>\n",
              "<style scoped>\n",
              "    .dataframe tbody tr th:only-of-type {\n",
              "        vertical-align: middle;\n",
              "    }\n",
              "\n",
              "    .dataframe tbody tr th {\n",
              "        vertical-align: top;\n",
              "    }\n",
              "\n",
              "    .dataframe thead th {\n",
              "        text-align: right;\n",
              "    }\n",
              "</style>\n",
              "<table border=\"1\" class=\"dataframe\">\n",
              "  <thead>\n",
              "    <tr style=\"text-align: right;\">\n",
              "      <th></th>\n",
              "      <th></th>\n",
              "      <th>Meal Price</th>\n",
              "    </tr>\n",
              "    <tr>\n",
              "      <th>Company Id</th>\n",
              "      <th>Type of Meal</th>\n",
              "      <th></th>\n",
              "    </tr>\n",
              "  </thead>\n",
              "  <tbody>\n",
              "    <tr>\n",
              "      <th rowspan=\"3\" valign=\"top\">007RF0BCBVMXTL80</th>\n",
              "      <th>Breakfast</th>\n",
              "      <td>301.666667</td>\n",
              "    </tr>\n",
              "    <tr>\n",
              "      <th>Dinner</th>\n",
              "      <td>453.000000</td>\n",
              "    </tr>\n",
              "    <tr>\n",
              "      <th>Lunch</th>\n",
              "      <td>112.000000</td>\n",
              "    </tr>\n",
              "    <tr>\n",
              "      <th rowspan=\"2\" valign=\"top\">00CVEIVO8C92FFBO</th>\n",
              "      <th>Breakfast</th>\n",
              "      <td>346.500000</td>\n",
              "    </tr>\n",
              "    <tr>\n",
              "      <th>Dinner</th>\n",
              "      <td>425.000000</td>\n",
              "    </tr>\n",
              "    <tr>\n",
              "      <th>...</th>\n",
              "      <th>...</th>\n",
              "      <td>...</td>\n",
              "    </tr>\n",
              "    <tr>\n",
              "      <th>ZZY3WSHGJWPKJBCV</th>\n",
              "      <th>Lunch</th>\n",
              "      <td>511.333333</td>\n",
              "    </tr>\n",
              "    <tr>\n",
              "      <th rowspan=\"3\" valign=\"top\">ZZYB9JLJKXRH7U6O</th>\n",
              "      <th>Breakfast</th>\n",
              "      <td>729.000000</td>\n",
              "    </tr>\n",
              "    <tr>\n",
              "      <th>Dinner</th>\n",
              "      <td>336.000000</td>\n",
              "    </tr>\n",
              "    <tr>\n",
              "      <th>Lunch</th>\n",
              "      <td>149.000000</td>\n",
              "    </tr>\n",
              "    <tr>\n",
              "      <th>All</th>\n",
              "      <th></th>\n",
              "      <td>403.256713</td>\n",
              "    </tr>\n",
              "  </tbody>\n",
              "</table>\n",
              "<p>13802 rows × 1 columns</p>\n",
              "</div>"
            ],
            "text/plain": [
              "                               Meal Price\n",
              "Company Id       Type of Meal            \n",
              "007RF0BCBVMXTL80 Breakfast     301.666667\n",
              "                 Dinner        453.000000\n",
              "                 Lunch         112.000000\n",
              "00CVEIVO8C92FFBO Breakfast     346.500000\n",
              "                 Dinner        425.000000\n",
              "...                                   ...\n",
              "ZZY3WSHGJWPKJBCV Lunch         511.333333\n",
              "ZZYB9JLJKXRH7U6O Breakfast     729.000000\n",
              "                 Dinner        336.000000\n",
              "                 Lunch         149.000000\n",
              "All                            403.256713\n",
              "\n",
              "[13802 rows x 1 columns]"
            ]
          },
          "metadata": {
            "tags": []
          },
          "execution_count": 71
        }
      ]
    },
    {
      "cell_type": "code",
      "metadata": {
        "id": "ZnFzokiSaa1p",
        "colab": {
          "base_uri": "https://localhost:8080/",
          "height": 450
        },
        "outputId": "6ff07586-9b3f-48bd-971a-4657d7f4508f"
      },
      "source": [
        "pd.pivot_table(\n",
        "    invoices,\n",
        "    index=['Company Id'],\n",
        "    columns=['Type of Meal'],\n",
        "    values='Meal Price',\n",
        "    aggfunc=np.mean,\n",
        "    margins=True\n",
        ")"
      ],
      "execution_count": null,
      "outputs": [
        {
          "output_type": "execute_result",
          "data": {
            "text/html": [
              "<div>\n",
              "<style scoped>\n",
              "    .dataframe tbody tr th:only-of-type {\n",
              "        vertical-align: middle;\n",
              "    }\n",
              "\n",
              "    .dataframe tbody tr th {\n",
              "        vertical-align: top;\n",
              "    }\n",
              "\n",
              "    .dataframe thead th {\n",
              "        text-align: right;\n",
              "    }\n",
              "</style>\n",
              "<table border=\"1\" class=\"dataframe\">\n",
              "  <thead>\n",
              "    <tr style=\"text-align: right;\">\n",
              "      <th>Type of Meal</th>\n",
              "      <th>Breakfast</th>\n",
              "      <th>Dinner</th>\n",
              "      <th>Lunch</th>\n",
              "      <th>All</th>\n",
              "    </tr>\n",
              "    <tr>\n",
              "      <th>Company Id</th>\n",
              "      <th></th>\n",
              "      <th></th>\n",
              "      <th></th>\n",
              "      <th></th>\n",
              "    </tr>\n",
              "  </thead>\n",
              "  <tbody>\n",
              "    <tr>\n",
              "      <th>007RF0BCBVMXTL80</th>\n",
              "      <td>301.666667</td>\n",
              "      <td>453.000000</td>\n",
              "      <td>112.000000</td>\n",
              "      <td>373.500000</td>\n",
              "    </tr>\n",
              "    <tr>\n",
              "      <th>00CVEIVO8C92FFBO</th>\n",
              "      <td>346.500000</td>\n",
              "      <td>425.000000</td>\n",
              "      <td>426.428571</td>\n",
              "      <td>403.285714</td>\n",
              "    </tr>\n",
              "    <tr>\n",
              "      <th>00OFNRZV8983KC3L</th>\n",
              "      <td>571.500000</td>\n",
              "      <td>665.333333</td>\n",
              "      <td>357.000000</td>\n",
              "      <td>550.428571</td>\n",
              "    </tr>\n",
              "    <tr>\n",
              "      <th>00R1H0DBLAVXHOTZ</th>\n",
              "      <td>778.000000</td>\n",
              "      <td>332.333333</td>\n",
              "      <td>694.200000</td>\n",
              "      <td>582.888889</td>\n",
              "    </tr>\n",
              "    <tr>\n",
              "      <th>00WJ866YXWT58K2S</th>\n",
              "      <td>392.166667</td>\n",
              "      <td>342.666667</td>\n",
              "      <td>383.600000</td>\n",
              "      <td>378.500000</td>\n",
              "    </tr>\n",
              "    <tr>\n",
              "      <th>...</th>\n",
              "      <td>...</td>\n",
              "      <td>...</td>\n",
              "      <td>...</td>\n",
              "      <td>...</td>\n",
              "    </tr>\n",
              "    <tr>\n",
              "      <th>ZZ99YI36NDHV7ELT</th>\n",
              "      <td>672.000000</td>\n",
              "      <td>341.000000</td>\n",
              "      <td>401.200000</td>\n",
              "      <td>504.000000</td>\n",
              "    </tr>\n",
              "    <tr>\n",
              "      <th>ZZD813K8WK65MND6</th>\n",
              "      <td>339.000000</td>\n",
              "      <td>82.000000</td>\n",
              "      <td>276.333333</td>\n",
              "      <td>250.000000</td>\n",
              "    </tr>\n",
              "    <tr>\n",
              "      <th>ZZY3WSHGJWPKJBCV</th>\n",
              "      <td>448.571429</td>\n",
              "      <td>351.428571</td>\n",
              "      <td>511.333333</td>\n",
              "      <td>419.647059</td>\n",
              "    </tr>\n",
              "    <tr>\n",
              "      <th>ZZYB9JLJKXRH7U6O</th>\n",
              "      <td>729.000000</td>\n",
              "      <td>336.000000</td>\n",
              "      <td>149.000000</td>\n",
              "      <td>480.636364</td>\n",
              "    </tr>\n",
              "    <tr>\n",
              "      <th>All</th>\n",
              "      <td>404.625338</td>\n",
              "      <td>400.074528</td>\n",
              "      <td>405.087956</td>\n",
              "      <td>403.256713</td>\n",
              "    </tr>\n",
              "  </tbody>\n",
              "</table>\n",
              "<p>4726 rows × 4 columns</p>\n",
              "</div>"
            ],
            "text/plain": [
              "Type of Meal       Breakfast      Dinner       Lunch         All\n",
              "Company Id                                                      \n",
              "007RF0BCBVMXTL80  301.666667  453.000000  112.000000  373.500000\n",
              "00CVEIVO8C92FFBO  346.500000  425.000000  426.428571  403.285714\n",
              "00OFNRZV8983KC3L  571.500000  665.333333  357.000000  550.428571\n",
              "00R1H0DBLAVXHOTZ  778.000000  332.333333  694.200000  582.888889\n",
              "00WJ866YXWT58K2S  392.166667  342.666667  383.600000  378.500000\n",
              "...                      ...         ...         ...         ...\n",
              "ZZ99YI36NDHV7ELT  672.000000  341.000000  401.200000  504.000000\n",
              "ZZD813K8WK65MND6  339.000000   82.000000  276.333333  250.000000\n",
              "ZZY3WSHGJWPKJBCV  448.571429  351.428571  511.333333  419.647059\n",
              "ZZYB9JLJKXRH7U6O  729.000000  336.000000  149.000000  480.636364\n",
              "All               404.625338  400.074528  405.087956  403.256713\n",
              "\n",
              "[4726 rows x 4 columns]"
            ]
          },
          "metadata": {
            "tags": []
          },
          "execution_count": 72
        }
      ]
    },
    {
      "cell_type": "code",
      "metadata": {
        "id": "ytLcwJ-aaBqY",
        "outputId": "bd013c1b-7164-45f0-cb25-8b5c857e0471",
        "colab": {
          "base_uri": "https://localhost:8080/",
          "height": 425
        }
      },
      "source": [
        "import pandas as pd\n",
        "df_long = pd.DataFrame({\n",
        "        \"student\":\n",
        "            [\"Andy\", \"Bernie\", \"Cindy\", \"Deb\",\n",
        "             \"Andy\", \"Bernie\", \"Cindy\", \"Deb\",\n",
        "             \"Andy\", \"Bernie\", \"Cindy\", \"Deb\"],\n",
        "        \"school\":\n",
        "            [\"Z\", \"Y\", \"Z\", \"Y\",\n",
        "             \"Z\", \"Y\", \"Z\", \"Y\",\n",
        "             \"Z\", \"Y\", \"Z\", \"Y\"],\n",
        "        \"class\":\n",
        "            [\"english\", \"english\", \"english\", \"english\",\n",
        "             \"math\", \"math\", \"math\", \"math\",\n",
        "             \"physics\", \"physics\", \"physics\", \"physics\"],\n",
        "        \"grade\":\n",
        "            [10, 100, 1000, 10000,\n",
        "             20, 200, 2000, 20000,\n",
        "             30, 300, 3000, 30000]\n",
        "})\n",
        "df_long"
      ],
      "execution_count": 2,
      "outputs": [
        {
          "output_type": "execute_result",
          "data": {
            "text/html": [
              "<div>\n",
              "<style scoped>\n",
              "    .dataframe tbody tr th:only-of-type {\n",
              "        vertical-align: middle;\n",
              "    }\n",
              "\n",
              "    .dataframe tbody tr th {\n",
              "        vertical-align: top;\n",
              "    }\n",
              "\n",
              "    .dataframe thead th {\n",
              "        text-align: right;\n",
              "    }\n",
              "</style>\n",
              "<table border=\"1\" class=\"dataframe\">\n",
              "  <thead>\n",
              "    <tr style=\"text-align: right;\">\n",
              "      <th></th>\n",
              "      <th>student</th>\n",
              "      <th>school</th>\n",
              "      <th>class</th>\n",
              "      <th>grade</th>\n",
              "    </tr>\n",
              "  </thead>\n",
              "  <tbody>\n",
              "    <tr>\n",
              "      <th>0</th>\n",
              "      <td>Andy</td>\n",
              "      <td>Z</td>\n",
              "      <td>english</td>\n",
              "      <td>10</td>\n",
              "    </tr>\n",
              "    <tr>\n",
              "      <th>1</th>\n",
              "      <td>Bernie</td>\n",
              "      <td>Y</td>\n",
              "      <td>english</td>\n",
              "      <td>100</td>\n",
              "    </tr>\n",
              "    <tr>\n",
              "      <th>2</th>\n",
              "      <td>Cindy</td>\n",
              "      <td>Z</td>\n",
              "      <td>english</td>\n",
              "      <td>1000</td>\n",
              "    </tr>\n",
              "    <tr>\n",
              "      <th>3</th>\n",
              "      <td>Deb</td>\n",
              "      <td>Y</td>\n",
              "      <td>english</td>\n",
              "      <td>10000</td>\n",
              "    </tr>\n",
              "    <tr>\n",
              "      <th>4</th>\n",
              "      <td>Andy</td>\n",
              "      <td>Z</td>\n",
              "      <td>math</td>\n",
              "      <td>20</td>\n",
              "    </tr>\n",
              "    <tr>\n",
              "      <th>5</th>\n",
              "      <td>Bernie</td>\n",
              "      <td>Y</td>\n",
              "      <td>math</td>\n",
              "      <td>200</td>\n",
              "    </tr>\n",
              "    <tr>\n",
              "      <th>6</th>\n",
              "      <td>Cindy</td>\n",
              "      <td>Z</td>\n",
              "      <td>math</td>\n",
              "      <td>2000</td>\n",
              "    </tr>\n",
              "    <tr>\n",
              "      <th>7</th>\n",
              "      <td>Deb</td>\n",
              "      <td>Y</td>\n",
              "      <td>math</td>\n",
              "      <td>20000</td>\n",
              "    </tr>\n",
              "    <tr>\n",
              "      <th>8</th>\n",
              "      <td>Andy</td>\n",
              "      <td>Z</td>\n",
              "      <td>physics</td>\n",
              "      <td>30</td>\n",
              "    </tr>\n",
              "    <tr>\n",
              "      <th>9</th>\n",
              "      <td>Bernie</td>\n",
              "      <td>Y</td>\n",
              "      <td>physics</td>\n",
              "      <td>300</td>\n",
              "    </tr>\n",
              "    <tr>\n",
              "      <th>10</th>\n",
              "      <td>Cindy</td>\n",
              "      <td>Z</td>\n",
              "      <td>physics</td>\n",
              "      <td>3000</td>\n",
              "    </tr>\n",
              "    <tr>\n",
              "      <th>11</th>\n",
              "      <td>Deb</td>\n",
              "      <td>Y</td>\n",
              "      <td>physics</td>\n",
              "      <td>30000</td>\n",
              "    </tr>\n",
              "  </tbody>\n",
              "</table>\n",
              "</div>"
            ],
            "text/plain": [
              "   student school    class  grade\n",
              "0     Andy      Z  english     10\n",
              "1   Bernie      Y  english    100\n",
              "2    Cindy      Z  english   1000\n",
              "3      Deb      Y  english  10000\n",
              "4     Andy      Z     math     20\n",
              "5   Bernie      Y     math    200\n",
              "6    Cindy      Z     math   2000\n",
              "7      Deb      Y     math  20000\n",
              "8     Andy      Z  physics     30\n",
              "9   Bernie      Y  physics    300\n",
              "10   Cindy      Z  physics   3000\n",
              "11     Deb      Y  physics  30000"
            ]
          },
          "metadata": {
            "tags": []
          },
          "execution_count": 2
        }
      ]
    },
    {
      "cell_type": "code",
      "metadata": {
        "id": "0dYQRGPgpTJv",
        "outputId": "fceafd31-1228-412f-af7e-b09aba0dcd78",
        "colab": {
          "base_uri": "https://localhost:8080/",
          "height": 206
        }
      },
      "source": [
        "df_long.pivot_table(index=[\"student\", \"school\"], \n",
        "                    columns='class', \n",
        "                    values='grade')"
      ],
      "execution_count": 3,
      "outputs": [
        {
          "output_type": "execute_result",
          "data": {
            "text/html": [
              "<div>\n",
              "<style scoped>\n",
              "    .dataframe tbody tr th:only-of-type {\n",
              "        vertical-align: middle;\n",
              "    }\n",
              "\n",
              "    .dataframe tbody tr th {\n",
              "        vertical-align: top;\n",
              "    }\n",
              "\n",
              "    .dataframe thead th {\n",
              "        text-align: right;\n",
              "    }\n",
              "</style>\n",
              "<table border=\"1\" class=\"dataframe\">\n",
              "  <thead>\n",
              "    <tr style=\"text-align: right;\">\n",
              "      <th></th>\n",
              "      <th>class</th>\n",
              "      <th>english</th>\n",
              "      <th>math</th>\n",
              "      <th>physics</th>\n",
              "    </tr>\n",
              "    <tr>\n",
              "      <th>student</th>\n",
              "      <th>school</th>\n",
              "      <th></th>\n",
              "      <th></th>\n",
              "      <th></th>\n",
              "    </tr>\n",
              "  </thead>\n",
              "  <tbody>\n",
              "    <tr>\n",
              "      <th>Andy</th>\n",
              "      <th>Z</th>\n",
              "      <td>10</td>\n",
              "      <td>20</td>\n",
              "      <td>30</td>\n",
              "    </tr>\n",
              "    <tr>\n",
              "      <th>Bernie</th>\n",
              "      <th>Y</th>\n",
              "      <td>100</td>\n",
              "      <td>200</td>\n",
              "      <td>300</td>\n",
              "    </tr>\n",
              "    <tr>\n",
              "      <th>Cindy</th>\n",
              "      <th>Z</th>\n",
              "      <td>1000</td>\n",
              "      <td>2000</td>\n",
              "      <td>3000</td>\n",
              "    </tr>\n",
              "    <tr>\n",
              "      <th>Deb</th>\n",
              "      <th>Y</th>\n",
              "      <td>10000</td>\n",
              "      <td>20000</td>\n",
              "      <td>30000</td>\n",
              "    </tr>\n",
              "  </tbody>\n",
              "</table>\n",
              "</div>"
            ],
            "text/plain": [
              "class           english   math  physics\n",
              "student school                         \n",
              "Andy    Z            10     20       30\n",
              "Bernie  Y           100    200      300\n",
              "Cindy   Z          1000   2000     3000\n",
              "Deb     Y         10000  20000    30000"
            ]
          },
          "metadata": {
            "tags": []
          },
          "execution_count": 3
        }
      ]
    },
    {
      "cell_type": "code",
      "metadata": {
        "id": "IqXfifnspqRG",
        "outputId": "cdad6a39-362c-4a0d-982d-74315c82360c",
        "colab": {
          "base_uri": "https://localhost:8080/",
          "height": 174
        }
      },
      "source": [
        "df_long.pivot_table(index=[\"student\", \"school\"], \n",
        "                    columns='class', \n",
        "                    values='grade').reset_index()"
      ],
      "execution_count": 4,
      "outputs": [
        {
          "output_type": "execute_result",
          "data": {
            "text/html": [
              "<div>\n",
              "<style scoped>\n",
              "    .dataframe tbody tr th:only-of-type {\n",
              "        vertical-align: middle;\n",
              "    }\n",
              "\n",
              "    .dataframe tbody tr th {\n",
              "        vertical-align: top;\n",
              "    }\n",
              "\n",
              "    .dataframe thead th {\n",
              "        text-align: right;\n",
              "    }\n",
              "</style>\n",
              "<table border=\"1\" class=\"dataframe\">\n",
              "  <thead>\n",
              "    <tr style=\"text-align: right;\">\n",
              "      <th>class</th>\n",
              "      <th>student</th>\n",
              "      <th>school</th>\n",
              "      <th>english</th>\n",
              "      <th>math</th>\n",
              "      <th>physics</th>\n",
              "    </tr>\n",
              "  </thead>\n",
              "  <tbody>\n",
              "    <tr>\n",
              "      <th>0</th>\n",
              "      <td>Andy</td>\n",
              "      <td>Z</td>\n",
              "      <td>10</td>\n",
              "      <td>20</td>\n",
              "      <td>30</td>\n",
              "    </tr>\n",
              "    <tr>\n",
              "      <th>1</th>\n",
              "      <td>Bernie</td>\n",
              "      <td>Y</td>\n",
              "      <td>100</td>\n",
              "      <td>200</td>\n",
              "      <td>300</td>\n",
              "    </tr>\n",
              "    <tr>\n",
              "      <th>2</th>\n",
              "      <td>Cindy</td>\n",
              "      <td>Z</td>\n",
              "      <td>1000</td>\n",
              "      <td>2000</td>\n",
              "      <td>3000</td>\n",
              "    </tr>\n",
              "    <tr>\n",
              "      <th>3</th>\n",
              "      <td>Deb</td>\n",
              "      <td>Y</td>\n",
              "      <td>10000</td>\n",
              "      <td>20000</td>\n",
              "      <td>30000</td>\n",
              "    </tr>\n",
              "  </tbody>\n",
              "</table>\n",
              "</div>"
            ],
            "text/plain": [
              "class student school  english   math  physics\n",
              "0        Andy      Z       10     20       30\n",
              "1      Bernie      Y      100    200      300\n",
              "2       Cindy      Z     1000   2000     3000\n",
              "3         Deb      Y    10000  20000    30000"
            ]
          },
          "metadata": {
            "tags": []
          },
          "execution_count": 4
        }
      ]
    },
    {
      "cell_type": "code",
      "metadata": {
        "id": "7YxFkk05ptlN",
        "outputId": "8a277ecf-376e-4238-81fc-c609dd35d3a5",
        "colab": {
          "base_uri": "https://localhost:8080/",
          "height": 206
        }
      },
      "source": [
        "df_long.pivot_table(index=[\"student\", \"school\"], \n",
        "                    columns='class', \n",
        "                    values='grade',\n",
        "                    margins=True,\n",
        "                    aggfunc='sum').reset_index()"
      ],
      "execution_count": 5,
      "outputs": [
        {
          "output_type": "execute_result",
          "data": {
            "text/html": [
              "<div>\n",
              "<style scoped>\n",
              "    .dataframe tbody tr th:only-of-type {\n",
              "        vertical-align: middle;\n",
              "    }\n",
              "\n",
              "    .dataframe tbody tr th {\n",
              "        vertical-align: top;\n",
              "    }\n",
              "\n",
              "    .dataframe thead th {\n",
              "        text-align: right;\n",
              "    }\n",
              "</style>\n",
              "<table border=\"1\" class=\"dataframe\">\n",
              "  <thead>\n",
              "    <tr style=\"text-align: right;\">\n",
              "      <th>class</th>\n",
              "      <th>student</th>\n",
              "      <th>school</th>\n",
              "      <th>english</th>\n",
              "      <th>math</th>\n",
              "      <th>physics</th>\n",
              "      <th>All</th>\n",
              "    </tr>\n",
              "  </thead>\n",
              "  <tbody>\n",
              "    <tr>\n",
              "      <th>0</th>\n",
              "      <td>Andy</td>\n",
              "      <td>Z</td>\n",
              "      <td>10</td>\n",
              "      <td>20</td>\n",
              "      <td>30</td>\n",
              "      <td>60</td>\n",
              "    </tr>\n",
              "    <tr>\n",
              "      <th>1</th>\n",
              "      <td>Bernie</td>\n",
              "      <td>Y</td>\n",
              "      <td>100</td>\n",
              "      <td>200</td>\n",
              "      <td>300</td>\n",
              "      <td>600</td>\n",
              "    </tr>\n",
              "    <tr>\n",
              "      <th>2</th>\n",
              "      <td>Cindy</td>\n",
              "      <td>Z</td>\n",
              "      <td>1000</td>\n",
              "      <td>2000</td>\n",
              "      <td>3000</td>\n",
              "      <td>6000</td>\n",
              "    </tr>\n",
              "    <tr>\n",
              "      <th>3</th>\n",
              "      <td>Deb</td>\n",
              "      <td>Y</td>\n",
              "      <td>10000</td>\n",
              "      <td>20000</td>\n",
              "      <td>30000</td>\n",
              "      <td>60000</td>\n",
              "    </tr>\n",
              "    <tr>\n",
              "      <th>4</th>\n",
              "      <td>All</td>\n",
              "      <td></td>\n",
              "      <td>11110</td>\n",
              "      <td>22220</td>\n",
              "      <td>33330</td>\n",
              "      <td>66660</td>\n",
              "    </tr>\n",
              "  </tbody>\n",
              "</table>\n",
              "</div>"
            ],
            "text/plain": [
              "class student school  english   math  physics    All\n",
              "0        Andy      Z       10     20       30     60\n",
              "1      Bernie      Y      100    200      300    600\n",
              "2       Cindy      Z     1000   2000     3000   6000\n",
              "3         Deb      Y    10000  20000    30000  60000\n",
              "4         All           11110  22220    33330  66660"
            ]
          },
          "metadata": {
            "tags": []
          },
          "execution_count": 5
        }
      ]
    },
    {
      "cell_type": "code",
      "metadata": {
        "id": "UzYzdWHjpxci",
        "outputId": "e1fb53d0-a1c2-4493-e40d-65771d09ea3c",
        "colab": {
          "base_uri": "https://localhost:8080/",
          "height": 174
        }
      },
      "source": [
        "df_long.pivot_table(index=[\"student\", \"school\"]).reset_index()"
      ],
      "execution_count": 6,
      "outputs": [
        {
          "output_type": "execute_result",
          "data": {
            "text/html": [
              "<div>\n",
              "<style scoped>\n",
              "    .dataframe tbody tr th:only-of-type {\n",
              "        vertical-align: middle;\n",
              "    }\n",
              "\n",
              "    .dataframe tbody tr th {\n",
              "        vertical-align: top;\n",
              "    }\n",
              "\n",
              "    .dataframe thead th {\n",
              "        text-align: right;\n",
              "    }\n",
              "</style>\n",
              "<table border=\"1\" class=\"dataframe\">\n",
              "  <thead>\n",
              "    <tr style=\"text-align: right;\">\n",
              "      <th></th>\n",
              "      <th>student</th>\n",
              "      <th>school</th>\n",
              "      <th>grade</th>\n",
              "    </tr>\n",
              "  </thead>\n",
              "  <tbody>\n",
              "    <tr>\n",
              "      <th>0</th>\n",
              "      <td>Andy</td>\n",
              "      <td>Z</td>\n",
              "      <td>20</td>\n",
              "    </tr>\n",
              "    <tr>\n",
              "      <th>1</th>\n",
              "      <td>Bernie</td>\n",
              "      <td>Y</td>\n",
              "      <td>200</td>\n",
              "    </tr>\n",
              "    <tr>\n",
              "      <th>2</th>\n",
              "      <td>Cindy</td>\n",
              "      <td>Z</td>\n",
              "      <td>2000</td>\n",
              "    </tr>\n",
              "    <tr>\n",
              "      <th>3</th>\n",
              "      <td>Deb</td>\n",
              "      <td>Y</td>\n",
              "      <td>20000</td>\n",
              "    </tr>\n",
              "  </tbody>\n",
              "</table>\n",
              "</div>"
            ],
            "text/plain": [
              "  student school  grade\n",
              "0    Andy      Z     20\n",
              "1  Bernie      Y    200\n",
              "2   Cindy      Z   2000\n",
              "3     Deb      Y  20000"
            ]
          },
          "metadata": {
            "tags": []
          },
          "execution_count": 6
        }
      ]
    },
    {
      "cell_type": "markdown",
      "metadata": {
        "id": "2XNZsWgdqbun"
      },
      "source": [
        "## Melt"
      ]
    },
    {
      "cell_type": "code",
      "metadata": {
        "id": "84kIrmVGp3E2",
        "outputId": "d1823ad4-f04d-423b-9c05-c335484a550e",
        "colab": {
          "base_uri": "https://localhost:8080/",
          "height": 174
        }
      },
      "source": [
        "import pandas as pd\n",
        "df_wide = pd.DataFrame(\n",
        "  {\"student\": [\"Andy\", \"Bernie\", \"Cindy\", \"Deb\"],\n",
        "   \"school\":  [\"Z\", \"Y\", \"Z\", \"Y\"],\n",
        "   \"english\": [10, 100, 1000, 10000],  # eng grades\n",
        "   \"math\":    [20, 200, 2000, 20000],  # math grades\n",
        "   \"physics\": [30, 300, 3000, 30000]   # physics grades\n",
        "  }\n",
        ")\n",
        "df_wide"
      ],
      "execution_count": 8,
      "outputs": [
        {
          "output_type": "execute_result",
          "data": {
            "text/html": [
              "<div>\n",
              "<style scoped>\n",
              "    .dataframe tbody tr th:only-of-type {\n",
              "        vertical-align: middle;\n",
              "    }\n",
              "\n",
              "    .dataframe tbody tr th {\n",
              "        vertical-align: top;\n",
              "    }\n",
              "\n",
              "    .dataframe thead th {\n",
              "        text-align: right;\n",
              "    }\n",
              "</style>\n",
              "<table border=\"1\" class=\"dataframe\">\n",
              "  <thead>\n",
              "    <tr style=\"text-align: right;\">\n",
              "      <th></th>\n",
              "      <th>student</th>\n",
              "      <th>school</th>\n",
              "      <th>english</th>\n",
              "      <th>math</th>\n",
              "      <th>physics</th>\n",
              "    </tr>\n",
              "  </thead>\n",
              "  <tbody>\n",
              "    <tr>\n",
              "      <th>0</th>\n",
              "      <td>Andy</td>\n",
              "      <td>Z</td>\n",
              "      <td>10</td>\n",
              "      <td>20</td>\n",
              "      <td>30</td>\n",
              "    </tr>\n",
              "    <tr>\n",
              "      <th>1</th>\n",
              "      <td>Bernie</td>\n",
              "      <td>Y</td>\n",
              "      <td>100</td>\n",
              "      <td>200</td>\n",
              "      <td>300</td>\n",
              "    </tr>\n",
              "    <tr>\n",
              "      <th>2</th>\n",
              "      <td>Cindy</td>\n",
              "      <td>Z</td>\n",
              "      <td>1000</td>\n",
              "      <td>2000</td>\n",
              "      <td>3000</td>\n",
              "    </tr>\n",
              "    <tr>\n",
              "      <th>3</th>\n",
              "      <td>Deb</td>\n",
              "      <td>Y</td>\n",
              "      <td>10000</td>\n",
              "      <td>20000</td>\n",
              "      <td>30000</td>\n",
              "    </tr>\n",
              "  </tbody>\n",
              "</table>\n",
              "</div>"
            ],
            "text/plain": [
              "  student school  english   math  physics\n",
              "0    Andy      Z       10     20       30\n",
              "1  Bernie      Y      100    200      300\n",
              "2   Cindy      Z     1000   2000     3000\n",
              "3     Deb      Y    10000  20000    30000"
            ]
          },
          "metadata": {
            "tags": []
          },
          "execution_count": 8
        }
      ]
    },
    {
      "cell_type": "markdown",
      "metadata": {
        "id": "beNjxxlttPuy"
      },
      "source": [
        "![image.png](data:image/png;base64,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)"
      ]
    },
    {
      "cell_type": "code",
      "metadata": {
        "id": "XjBxna9WqhHe",
        "outputId": "5c348076-0087-4029-fa1e-7ef2ead4e8da",
        "colab": {
          "base_uri": "https://localhost:8080/",
          "height": 425
        }
      },
      "source": [
        "df_wide.melt(id_vars=[\"student\", \"school\"],\n",
        "             var_name=\"cLaSs\",  # rename\n",
        "             value_name=\"gRaDe\")  # rename"
      ],
      "execution_count": 9,
      "outputs": [
        {
          "output_type": "execute_result",
          "data": {
            "text/html": [
              "<div>\n",
              "<style scoped>\n",
              "    .dataframe tbody tr th:only-of-type {\n",
              "        vertical-align: middle;\n",
              "    }\n",
              "\n",
              "    .dataframe tbody tr th {\n",
              "        vertical-align: top;\n",
              "    }\n",
              "\n",
              "    .dataframe thead th {\n",
              "        text-align: right;\n",
              "    }\n",
              "</style>\n",
              "<table border=\"1\" class=\"dataframe\">\n",
              "  <thead>\n",
              "    <tr style=\"text-align: right;\">\n",
              "      <th></th>\n",
              "      <th>student</th>\n",
              "      <th>school</th>\n",
              "      <th>cLaSs</th>\n",
              "      <th>gRaDe</th>\n",
              "    </tr>\n",
              "  </thead>\n",
              "  <tbody>\n",
              "    <tr>\n",
              "      <th>0</th>\n",
              "      <td>Andy</td>\n",
              "      <td>Z</td>\n",
              "      <td>english</td>\n",
              "      <td>10</td>\n",
              "    </tr>\n",
              "    <tr>\n",
              "      <th>1</th>\n",
              "      <td>Bernie</td>\n",
              "      <td>Y</td>\n",
              "      <td>english</td>\n",
              "      <td>100</td>\n",
              "    </tr>\n",
              "    <tr>\n",
              "      <th>2</th>\n",
              "      <td>Cindy</td>\n",
              "      <td>Z</td>\n",
              "      <td>english</td>\n",
              "      <td>1000</td>\n",
              "    </tr>\n",
              "    <tr>\n",
              "      <th>3</th>\n",
              "      <td>Deb</td>\n",
              "      <td>Y</td>\n",
              "      <td>english</td>\n",
              "      <td>10000</td>\n",
              "    </tr>\n",
              "    <tr>\n",
              "      <th>4</th>\n",
              "      <td>Andy</td>\n",
              "      <td>Z</td>\n",
              "      <td>math</td>\n",
              "      <td>20</td>\n",
              "    </tr>\n",
              "    <tr>\n",
              "      <th>5</th>\n",
              "      <td>Bernie</td>\n",
              "      <td>Y</td>\n",
              "      <td>math</td>\n",
              "      <td>200</td>\n",
              "    </tr>\n",
              "    <tr>\n",
              "      <th>6</th>\n",
              "      <td>Cindy</td>\n",
              "      <td>Z</td>\n",
              "      <td>math</td>\n",
              "      <td>2000</td>\n",
              "    </tr>\n",
              "    <tr>\n",
              "      <th>7</th>\n",
              "      <td>Deb</td>\n",
              "      <td>Y</td>\n",
              "      <td>math</td>\n",
              "      <td>20000</td>\n",
              "    </tr>\n",
              "    <tr>\n",
              "      <th>8</th>\n",
              "      <td>Andy</td>\n",
              "      <td>Z</td>\n",
              "      <td>physics</td>\n",
              "      <td>30</td>\n",
              "    </tr>\n",
              "    <tr>\n",
              "      <th>9</th>\n",
              "      <td>Bernie</td>\n",
              "      <td>Y</td>\n",
              "      <td>physics</td>\n",
              "      <td>300</td>\n",
              "    </tr>\n",
              "    <tr>\n",
              "      <th>10</th>\n",
              "      <td>Cindy</td>\n",
              "      <td>Z</td>\n",
              "      <td>physics</td>\n",
              "      <td>3000</td>\n",
              "    </tr>\n",
              "    <tr>\n",
              "      <th>11</th>\n",
              "      <td>Deb</td>\n",
              "      <td>Y</td>\n",
              "      <td>physics</td>\n",
              "      <td>30000</td>\n",
              "    </tr>\n",
              "  </tbody>\n",
              "</table>\n",
              "</div>"
            ],
            "text/plain": [
              "   student school    cLaSs  gRaDe\n",
              "0     Andy      Z  english     10\n",
              "1   Bernie      Y  english    100\n",
              "2    Cindy      Z  english   1000\n",
              "3      Deb      Y  english  10000\n",
              "4     Andy      Z     math     20\n",
              "5   Bernie      Y     math    200\n",
              "6    Cindy      Z     math   2000\n",
              "7      Deb      Y     math  20000\n",
              "8     Andy      Z  physics     30\n",
              "9   Bernie      Y  physics    300\n",
              "10   Cindy      Z  physics   3000\n",
              "11     Deb      Y  physics  30000"
            ]
          },
          "metadata": {
            "tags": []
          },
          "execution_count": 9
        }
      ]
    },
    {
      "cell_type": "code",
      "metadata": {
        "id": "GApwThOAtFYT",
        "outputId": "2b1d1710-b91a-4e3d-e97a-c19ae9141ec5",
        "colab": {
          "base_uri": "https://localhost:8080/",
          "height": 300
        }
      },
      "source": [
        "df_wide.melt(id_vars=\"student\", \n",
        "             value_vars=[\"english\", \"math\"], \n",
        "             var_name=\"cLaSs\",  # rename\n",
        "             value_name=\"gRaDe\")  # rename"
      ],
      "execution_count": 10,
      "outputs": [
        {
          "output_type": "execute_result",
          "data": {
            "text/html": [
              "<div>\n",
              "<style scoped>\n",
              "    .dataframe tbody tr th:only-of-type {\n",
              "        vertical-align: middle;\n",
              "    }\n",
              "\n",
              "    .dataframe tbody tr th {\n",
              "        vertical-align: top;\n",
              "    }\n",
              "\n",
              "    .dataframe thead th {\n",
              "        text-align: right;\n",
              "    }\n",
              "</style>\n",
              "<table border=\"1\" class=\"dataframe\">\n",
              "  <thead>\n",
              "    <tr style=\"text-align: right;\">\n",
              "      <th></th>\n",
              "      <th>student</th>\n",
              "      <th>cLaSs</th>\n",
              "      <th>gRaDe</th>\n",
              "    </tr>\n",
              "  </thead>\n",
              "  <tbody>\n",
              "    <tr>\n",
              "      <th>0</th>\n",
              "      <td>Andy</td>\n",
              "      <td>english</td>\n",
              "      <td>10</td>\n",
              "    </tr>\n",
              "    <tr>\n",
              "      <th>1</th>\n",
              "      <td>Bernie</td>\n",
              "      <td>english</td>\n",
              "      <td>100</td>\n",
              "    </tr>\n",
              "    <tr>\n",
              "      <th>2</th>\n",
              "      <td>Cindy</td>\n",
              "      <td>english</td>\n",
              "      <td>1000</td>\n",
              "    </tr>\n",
              "    <tr>\n",
              "      <th>3</th>\n",
              "      <td>Deb</td>\n",
              "      <td>english</td>\n",
              "      <td>10000</td>\n",
              "    </tr>\n",
              "    <tr>\n",
              "      <th>4</th>\n",
              "      <td>Andy</td>\n",
              "      <td>math</td>\n",
              "      <td>20</td>\n",
              "    </tr>\n",
              "    <tr>\n",
              "      <th>5</th>\n",
              "      <td>Bernie</td>\n",
              "      <td>math</td>\n",
              "      <td>200</td>\n",
              "    </tr>\n",
              "    <tr>\n",
              "      <th>6</th>\n",
              "      <td>Cindy</td>\n",
              "      <td>math</td>\n",
              "      <td>2000</td>\n",
              "    </tr>\n",
              "    <tr>\n",
              "      <th>7</th>\n",
              "      <td>Deb</td>\n",
              "      <td>math</td>\n",
              "      <td>20000</td>\n",
              "    </tr>\n",
              "  </tbody>\n",
              "</table>\n",
              "</div>"
            ],
            "text/plain": [
              "  student    cLaSs  gRaDe\n",
              "0    Andy  english     10\n",
              "1  Bernie  english    100\n",
              "2   Cindy  english   1000\n",
              "3     Deb  english  10000\n",
              "4    Andy     math     20\n",
              "5  Bernie     math    200\n",
              "6   Cindy     math   2000\n",
              "7     Deb     math  20000"
            ]
          },
          "metadata": {
            "tags": []
          },
          "execution_count": 10
        }
      ]
    },
    {
      "cell_type": "code",
      "metadata": {
        "id": "Yi-Y4-56tW8l",
        "outputId": "b3287930-21f2-43fb-cc5c-620657419346",
        "colab": {
          "base_uri": "https://localhost:8080/",
          "height": 550
        }
      },
      "source": [
        "df_wide.melt(id_vars=\"student\",\n",
        "             var_name=\"cLaSs\",  # rename\n",
        "             value_name=\"gRaDe\")  # rename"
      ],
      "execution_count": 11,
      "outputs": [
        {
          "output_type": "execute_result",
          "data": {
            "text/html": [
              "<div>\n",
              "<style scoped>\n",
              "    .dataframe tbody tr th:only-of-type {\n",
              "        vertical-align: middle;\n",
              "    }\n",
              "\n",
              "    .dataframe tbody tr th {\n",
              "        vertical-align: top;\n",
              "    }\n",
              "\n",
              "    .dataframe thead th {\n",
              "        text-align: right;\n",
              "    }\n",
              "</style>\n",
              "<table border=\"1\" class=\"dataframe\">\n",
              "  <thead>\n",
              "    <tr style=\"text-align: right;\">\n",
              "      <th></th>\n",
              "      <th>student</th>\n",
              "      <th>cLaSs</th>\n",
              "      <th>gRaDe</th>\n",
              "    </tr>\n",
              "  </thead>\n",
              "  <tbody>\n",
              "    <tr>\n",
              "      <th>0</th>\n",
              "      <td>Andy</td>\n",
              "      <td>school</td>\n",
              "      <td>Z</td>\n",
              "    </tr>\n",
              "    <tr>\n",
              "      <th>1</th>\n",
              "      <td>Bernie</td>\n",
              "      <td>school</td>\n",
              "      <td>Y</td>\n",
              "    </tr>\n",
              "    <tr>\n",
              "      <th>2</th>\n",
              "      <td>Cindy</td>\n",
              "      <td>school</td>\n",
              "      <td>Z</td>\n",
              "    </tr>\n",
              "    <tr>\n",
              "      <th>3</th>\n",
              "      <td>Deb</td>\n",
              "      <td>school</td>\n",
              "      <td>Y</td>\n",
              "    </tr>\n",
              "    <tr>\n",
              "      <th>4</th>\n",
              "      <td>Andy</td>\n",
              "      <td>english</td>\n",
              "      <td>10</td>\n",
              "    </tr>\n",
              "    <tr>\n",
              "      <th>5</th>\n",
              "      <td>Bernie</td>\n",
              "      <td>english</td>\n",
              "      <td>100</td>\n",
              "    </tr>\n",
              "    <tr>\n",
              "      <th>6</th>\n",
              "      <td>Cindy</td>\n",
              "      <td>english</td>\n",
              "      <td>1000</td>\n",
              "    </tr>\n",
              "    <tr>\n",
              "      <th>7</th>\n",
              "      <td>Deb</td>\n",
              "      <td>english</td>\n",
              "      <td>10000</td>\n",
              "    </tr>\n",
              "    <tr>\n",
              "      <th>8</th>\n",
              "      <td>Andy</td>\n",
              "      <td>math</td>\n",
              "      <td>20</td>\n",
              "    </tr>\n",
              "    <tr>\n",
              "      <th>9</th>\n",
              "      <td>Bernie</td>\n",
              "      <td>math</td>\n",
              "      <td>200</td>\n",
              "    </tr>\n",
              "    <tr>\n",
              "      <th>10</th>\n",
              "      <td>Cindy</td>\n",
              "      <td>math</td>\n",
              "      <td>2000</td>\n",
              "    </tr>\n",
              "    <tr>\n",
              "      <th>11</th>\n",
              "      <td>Deb</td>\n",
              "      <td>math</td>\n",
              "      <td>20000</td>\n",
              "    </tr>\n",
              "    <tr>\n",
              "      <th>12</th>\n",
              "      <td>Andy</td>\n",
              "      <td>physics</td>\n",
              "      <td>30</td>\n",
              "    </tr>\n",
              "    <tr>\n",
              "      <th>13</th>\n",
              "      <td>Bernie</td>\n",
              "      <td>physics</td>\n",
              "      <td>300</td>\n",
              "    </tr>\n",
              "    <tr>\n",
              "      <th>14</th>\n",
              "      <td>Cindy</td>\n",
              "      <td>physics</td>\n",
              "      <td>3000</td>\n",
              "    </tr>\n",
              "    <tr>\n",
              "      <th>15</th>\n",
              "      <td>Deb</td>\n",
              "      <td>physics</td>\n",
              "      <td>30000</td>\n",
              "    </tr>\n",
              "  </tbody>\n",
              "</table>\n",
              "</div>"
            ],
            "text/plain": [
              "   student    cLaSs  gRaDe\n",
              "0     Andy   school      Z\n",
              "1   Bernie   school      Y\n",
              "2    Cindy   school      Z\n",
              "3      Deb   school      Y\n",
              "4     Andy  english     10\n",
              "5   Bernie  english    100\n",
              "6    Cindy  english   1000\n",
              "7      Deb  english  10000\n",
              "8     Andy     math     20\n",
              "9   Bernie     math    200\n",
              "10   Cindy     math   2000\n",
              "11     Deb     math  20000\n",
              "12    Andy  physics     30\n",
              "13  Bernie  physics    300\n",
              "14   Cindy  physics   3000\n",
              "15     Deb  physics  30000"
            ]
          },
          "metadata": {
            "tags": []
          },
          "execution_count": 11
        }
      ]
    },
    {
      "cell_type": "code",
      "metadata": {
        "id": "GpzzwND1tdN9"
      },
      "source": [
        ""
      ],
      "execution_count": null,
      "outputs": []
    }
  ]
}