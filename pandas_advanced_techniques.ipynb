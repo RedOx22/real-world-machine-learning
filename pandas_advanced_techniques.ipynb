{
  "nbformat": 4,
  "nbformat_minor": 0,
  "metadata": {
    "colab": {
      "name": "pandas_advanced_techniques.ipynb",
      "provenance": [],
      "authorship_tag": "ABX9TyPFOD9okuDo8+7/h7ipZG/Y",
      "include_colab_link": true
    },
    "kernelspec": {
      "name": "python3",
      "display_name": "Python 3"
    },
    "language_info": {
      "name": "python"
    }
  },
  "cells": [
    {
      "cell_type": "markdown",
      "metadata": {
        "id": "view-in-github",
        "colab_type": "text"
      },
      "source": [
        "<a href=\"https://colab.research.google.com/github/thimotyb/real-world-machine-learning/blob/python3/pandas_advanced_techniques.ipynb\" target=\"_parent\"><img src=\"https://colab.research.google.com/assets/colab-badge.svg\" alt=\"Open In Colab\"/></a>"
      ]
    },
    {
      "cell_type": "markdown",
      "metadata": {
        "id": "kT7eVosar9hV"
      },
      "source": [
        "# Pandas - Advanced Techniques\n",
        "\n",
        "This lesson is taken and optimized from the following web sources:\n",
        "\n",
        "1.   https://towardsdatascience.com/learn-advanced-features-for-pythons-main-data-analysis-library-in-20-minutes-d0eedd90d086\n",
        "2.   List item\n",
        "\n",
        "\n",
        "\n",
        "\n"
      ]
    },
    {
      "cell_type": "markdown",
      "metadata": {
        "id": "pKL9o5fNs62U"
      },
      "source": [
        "## Data Types\n",
        "\n",
        "let’s quickly summarize all the available Pandas data types. In total, there are seven types:\n",
        "* object : This data type is used for strings (i.e., sequences of characters)\n",
        "* int64 : Used for integers (whole numbers, no decimals)\n",
        "* float64 : Used for floating-point numbers (i.e., figures with decimals/fractions)\n",
        "* bool : Used for values that can only be True/False\n",
        "* datetime64 : Used for date and time values\n",
        "* timedelta : Used to represent the difference between datetimes\n",
        "* category : Used for values that take one out of a limited number of available options (categories don’t have to, but can have explicit ordering)"
      ]
    },
    {
      "cell_type": "code",
      "metadata": {
        "colab": {
          "base_uri": "https://localhost:8080/",
          "height": 17
        },
        "id": "BqPRbnJsr3e5",
        "outputId": "e5c4532b-4557-4ebc-ac4a-ec3e6d8e6e88"
      },
      "source": [
        "import pandas as pd\n",
        "import numpy as np\n",
        "import datetime\n",
        "import pytz\n",
        "from IPython.core.display import display, HTML\n",
        "display(HTML(\"<style>.container {width:90% !important;}</style>\"))\n",
        "pd.set_option('display.max_columns', 50)\n",
        "pd.set_option('display.max_rows', 10)"
      ],
      "execution_count": 1,
      "outputs": [
        {
          "output_type": "display_data",
          "data": {
            "text/html": [
              "<style>.container {width:90% !important;}</style>"
            ],
            "text/plain": [
              "<IPython.core.display.HTML object>"
            ]
          },
          "metadata": {
            "tags": []
          }
        }
      ]
    },
    {
      "cell_type": "code",
      "metadata": {
        "id": "hkJk5tuytJ6w"
      },
      "source": [
        "data = pd.read_csv('https://raw.githubusercontent.com/thimotyb/you-datascientist/master/happiness_with_continent.csv')"
      ],
      "execution_count": 2,
      "outputs": []
    },
    {
      "cell_type": "code",
      "metadata": {
        "id": "_5MIgeDItSBS"
      },
      "source": [
        "invoices = pd.read_csv('https://raw.githubusercontent.com/thimotyb/you-datascientist/master/invoices.csv')"
      ],
      "execution_count": 17,
      "outputs": []
    },
    {
      "cell_type": "code",
      "metadata": {
        "colab": {
          "base_uri": "https://localhost:8080/",
          "height": 202
        },
        "id": "qNkVyNowtXld",
        "outputId": "2b954a1b-962f-4646-955a-034347b7e609"
      },
      "source": [
        "invoices.tail(5)"
      ],
      "execution_count": 12,
      "outputs": [
        {
          "output_type": "execute_result",
          "data": {
            "text/html": [
              "<div>\n",
              "<style scoped>\n",
              "    .dataframe tbody tr th:only-of-type {\n",
              "        vertical-align: middle;\n",
              "    }\n",
              "\n",
              "    .dataframe tbody tr th {\n",
              "        vertical-align: top;\n",
              "    }\n",
              "\n",
              "    .dataframe thead th {\n",
              "        text-align: right;\n",
              "    }\n",
              "</style>\n",
              "<table border=\"1\" class=\"dataframe\">\n",
              "  <thead>\n",
              "    <tr style=\"text-align: right;\">\n",
              "      <th></th>\n",
              "      <th>Order Id</th>\n",
              "      <th>Date</th>\n",
              "      <th>Meal Id</th>\n",
              "      <th>Company Id</th>\n",
              "      <th>Date of Meal</th>\n",
              "      <th>Participants</th>\n",
              "      <th>Meal Price</th>\n",
              "      <th>Type of Meal</th>\n",
              "      <th>Heroes Adjustment</th>\n",
              "    </tr>\n",
              "  </thead>\n",
              "  <tbody>\n",
              "    <tr>\n",
              "      <th>50012</th>\n",
              "      <td>4OMS8ZSA0UX8LHWI</td>\n",
              "      <td>2017-09-20</td>\n",
              "      <td>1TD5MROATV1NHZ4Y</td>\n",
              "      <td>E4K99D4JR9E40VE1</td>\n",
              "      <td>2017-09-21 08:00:00+02:00</td>\n",
              "      <td>['Regina Shirley']</td>\n",
              "      <td>9</td>\n",
              "      <td>Breakfast</td>\n",
              "      <td>False</td>\n",
              "    </tr>\n",
              "    <tr>\n",
              "      <th>50013</th>\n",
              "      <td>RR0VKJN8V0KHNKGG</td>\n",
              "      <td>2018-03-19</td>\n",
              "      <td>22EX9VZSJKHP4AIP</td>\n",
              "      <td>E4K99D4JR9E40VE1</td>\n",
              "      <td>2018-03-18 09:00:00+01:00</td>\n",
              "      <td>['Robin Ramos' 'Chester Mortimer']</td>\n",
              "      <td>25</td>\n",
              "      <td>Breakfast</td>\n",
              "      <td>False</td>\n",
              "    </tr>\n",
              "    <tr>\n",
              "      <th>50014</th>\n",
              "      <td>STJ6QJC30WPRM93H</td>\n",
              "      <td>2017-09-21</td>\n",
              "      <td>LMX18PNGWCIMG1QW</td>\n",
              "      <td>E4K99D4JR9E40VE1</td>\n",
              "      <td>2017-09-22 21:00:00+02:00</td>\n",
              "      <td>['Robin Ramos']</td>\n",
              "      <td>160</td>\n",
              "      <td>Dinner</td>\n",
              "      <td>False</td>\n",
              "    </tr>\n",
              "    <tr>\n",
              "      <th>50015</th>\n",
              "      <td>QHEUIYNC0XQX7GDR</td>\n",
              "      <td>2018-01-28</td>\n",
              "      <td>4U0VH2TGQL30X23X</td>\n",
              "      <td>E4K99D4JR9E40VE1</td>\n",
              "      <td>2018-02-01 21:00:00+01:00</td>\n",
              "      <td>['Chester Mortimer' 'Robin Ramos']</td>\n",
              "      <td>497</td>\n",
              "      <td>Dinner</td>\n",
              "      <td>False</td>\n",
              "    </tr>\n",
              "    <tr>\n",
              "      <th>50016</th>\n",
              "      <td>NKHFWT5I2J9LPAPG</td>\n",
              "      <td>2017-09-06</td>\n",
              "      <td>ORWFRT5TUSYGNYG7</td>\n",
              "      <td>E4K99D4JR9E40VE1</td>\n",
              "      <td>2017-09-09 14:00:00+02:00</td>\n",
              "      <td>['Chester Mortimer' 'Robin Ramos']</td>\n",
              "      <td>365</td>\n",
              "      <td>Lunch</td>\n",
              "      <td>False</td>\n",
              "    </tr>\n",
              "  </tbody>\n",
              "</table>\n",
              "</div>"
            ],
            "text/plain": [
              "               Order Id       Date           Meal Id        Company Id  \\\n",
              "50012  4OMS8ZSA0UX8LHWI 2017-09-20  1TD5MROATV1NHZ4Y  E4K99D4JR9E40VE1   \n",
              "50013  RR0VKJN8V0KHNKGG 2018-03-19  22EX9VZSJKHP4AIP  E4K99D4JR9E40VE1   \n",
              "50014  STJ6QJC30WPRM93H 2017-09-21  LMX18PNGWCIMG1QW  E4K99D4JR9E40VE1   \n",
              "50015  QHEUIYNC0XQX7GDR 2018-01-28  4U0VH2TGQL30X23X  E4K99D4JR9E40VE1   \n",
              "50016  NKHFWT5I2J9LPAPG 2017-09-06  ORWFRT5TUSYGNYG7  E4K99D4JR9E40VE1   \n",
              "\n",
              "                    Date of Meal                        Participants  \\\n",
              "50012  2017-09-21 08:00:00+02:00                  ['Regina Shirley']   \n",
              "50013  2018-03-18 09:00:00+01:00  ['Robin Ramos' 'Chester Mortimer']   \n",
              "50014  2017-09-22 21:00:00+02:00                     ['Robin Ramos']   \n",
              "50015  2018-02-01 21:00:00+01:00  ['Chester Mortimer' 'Robin Ramos']   \n",
              "50016  2017-09-09 14:00:00+02:00  ['Chester Mortimer' 'Robin Ramos']   \n",
              "\n",
              "      Meal Price Type of Meal  Heroes Adjustment  \n",
              "50012          9    Breakfast              False  \n",
              "50013         25    Breakfast              False  \n",
              "50014        160       Dinner              False  \n",
              "50015        497       Dinner              False  \n",
              "50016        365        Lunch              False  "
            ]
          },
          "metadata": {
            "tags": []
          },
          "execution_count": 12
        }
      ]
    },
    {
      "cell_type": "code",
      "metadata": {
        "colab": {
          "base_uri": "https://localhost:8080/"
        },
        "id": "QJHAyaRztr0o",
        "outputId": "ebea15ea-ad11-477e-bde2-fda40b7a0f04"
      },
      "source": [
        "invoices.info()"
      ],
      "execution_count": 7,
      "outputs": [
        {
          "output_type": "stream",
          "text": [
            "<class 'pandas.core.frame.DataFrame'>\n",
            "RangeIndex: 50017 entries, 0 to 50016\n",
            "Data columns (total 9 columns):\n",
            " #   Column             Non-Null Count  Dtype  \n",
            "---  ------             --------------  -----  \n",
            " 0   Order Id           50017 non-null  object \n",
            " 1   Date               50017 non-null  object \n",
            " 2   Meal Id            50017 non-null  object \n",
            " 3   Company Id         50017 non-null  object \n",
            " 4   Date of Meal       50017 non-null  object \n",
            " 5   Participants       50017 non-null  object \n",
            " 6   Meal Price         50017 non-null  float64\n",
            " 7   Type of Meal       50017 non-null  object \n",
            " 8   Heroes Adjustment  50017 non-null  bool   \n",
            "dtypes: bool(1), float64(1), object(7)\n",
            "memory usage: 3.1+ MB\n"
          ],
          "name": "stdout"
        }
      ]
    },
    {
      "cell_type": "code",
      "metadata": {
        "id": "FgTMpvgwwNbI"
      },
      "source": [
        "invoices['Type of Meal'] = invoices['Type of Meal'].astype('category')\n",
        "invoices['Date'] = invoices['Date'].astype('datetime64[ns]')\n",
        "invoices['Meal Price'] = invoices['Meal Price'].astype('int')"
      ],
      "execution_count": 18,
      "outputs": []
    },
    {
      "cell_type": "code",
      "metadata": {
        "colab": {
          "base_uri": "https://localhost:8080/"
        },
        "id": "ys5m6ZSgwPDM",
        "outputId": "54978707-4624-4877-f735-211f99ae5418"
      },
      "source": [
        "invoices.info()"
      ],
      "execution_count": 9,
      "outputs": [
        {
          "output_type": "stream",
          "text": [
            "<class 'pandas.core.frame.DataFrame'>\n",
            "RangeIndex: 50017 entries, 0 to 50016\n",
            "Data columns (total 9 columns):\n",
            " #   Column             Non-Null Count  Dtype         \n",
            "---  ------             --------------  -----         \n",
            " 0   Order Id           50017 non-null  object        \n",
            " 1   Date               50017 non-null  datetime64[ns]\n",
            " 2   Meal Id            50017 non-null  object        \n",
            " 3   Company Id         50017 non-null  object        \n",
            " 4   Date of Meal       50017 non-null  object        \n",
            " 5   Participants       50017 non-null  object        \n",
            " 6   Meal Price         50017 non-null  int64         \n",
            " 7   Type of Meal       50017 non-null  category      \n",
            " 8   Heroes Adjustment  50017 non-null  bool          \n",
            "dtypes: bool(1), category(1), datetime64[ns](1), int64(1), object(5)\n",
            "memory usage: 2.8+ MB\n"
          ],
          "name": "stdout"
        }
      ]
    },
    {
      "cell_type": "markdown",
      "metadata": {
        "id": "eVax2OSQxHK5"
      },
      "source": [
        "With conversion helpers,  it is possible to specify the behavior in case a value is encountered, that can not be converted.\n",
        "Both functions accept an additional parameter errors that defines how errors should be treated. We could choose to ignore errors by passingerrors='ignore' , or turn the offending values into np.nan values by passing errors='coerce'. The default behavior is to raise errors.\n",
        "\n",
        "We create an error and we demonstrate how to handle conversion errors."
      ]
    },
    {
      "cell_type": "code",
      "metadata": {
        "id": "2Vrpme6uxPId"
      },
      "source": [
        "invoices.loc[45612,'Meal Price'] = 'I am causing trouble'\n",
        "invoices.loc[35612,'Meal Price'] = 'Me too'"
      ],
      "execution_count": 21,
      "outputs": []
    },
    {
      "cell_type": "code",
      "metadata": {
        "colab": {
          "base_uri": "https://localhost:8080/",
          "height": 345
        },
        "id": "guNIbv7Kybhp",
        "outputId": "e3efddd0-517c-4fd1-c7d5-a6f103748b1c"
      },
      "source": [
        "invoices['Meal Price'].astype(int)"
      ],
      "execution_count": 11,
      "outputs": [
        {
          "output_type": "error",
          "ename": "ValueError",
          "evalue": "ignored",
          "traceback": [
            "\u001b[0;31m---------------------------------------------------------------------------\u001b[0m",
            "\u001b[0;31mValueError\u001b[0m                                Traceback (most recent call last)",
            "\u001b[0;32m<ipython-input-11-7a45f8f5d74c>\u001b[0m in \u001b[0;36m<module>\u001b[0;34m()\u001b[0m\n\u001b[0;32m----> 1\u001b[0;31m \u001b[0minvoices\u001b[0m\u001b[0;34m[\u001b[0m\u001b[0;34m'Meal Price'\u001b[0m\u001b[0;34m]\u001b[0m\u001b[0;34m.\u001b[0m\u001b[0mastype\u001b[0m\u001b[0;34m(\u001b[0m\u001b[0mint\u001b[0m\u001b[0;34m)\u001b[0m\u001b[0;34m\u001b[0m\u001b[0;34m\u001b[0m\u001b[0m\n\u001b[0m",
            "\u001b[0;32m/usr/local/lib/python3.7/dist-packages/pandas/core/generic.py\u001b[0m in \u001b[0;36mastype\u001b[0;34m(self, dtype, copy, errors)\u001b[0m\n\u001b[1;32m   5546\u001b[0m         \u001b[0;32melse\u001b[0m\u001b[0;34m:\u001b[0m\u001b[0;34m\u001b[0m\u001b[0;34m\u001b[0m\u001b[0m\n\u001b[1;32m   5547\u001b[0m             \u001b[0;31m# else, only a single dtype is given\u001b[0m\u001b[0;34m\u001b[0m\u001b[0;34m\u001b[0m\u001b[0;34m\u001b[0m\u001b[0m\n\u001b[0;32m-> 5548\u001b[0;31m             \u001b[0mnew_data\u001b[0m \u001b[0;34m=\u001b[0m \u001b[0mself\u001b[0m\u001b[0;34m.\u001b[0m\u001b[0m_mgr\u001b[0m\u001b[0;34m.\u001b[0m\u001b[0mastype\u001b[0m\u001b[0;34m(\u001b[0m\u001b[0mdtype\u001b[0m\u001b[0;34m=\u001b[0m\u001b[0mdtype\u001b[0m\u001b[0;34m,\u001b[0m \u001b[0mcopy\u001b[0m\u001b[0;34m=\u001b[0m\u001b[0mcopy\u001b[0m\u001b[0;34m,\u001b[0m \u001b[0merrors\u001b[0m\u001b[0;34m=\u001b[0m\u001b[0merrors\u001b[0m\u001b[0;34m,\u001b[0m\u001b[0;34m)\u001b[0m\u001b[0;34m\u001b[0m\u001b[0;34m\u001b[0m\u001b[0m\n\u001b[0m\u001b[1;32m   5549\u001b[0m             \u001b[0;32mreturn\u001b[0m \u001b[0mself\u001b[0m\u001b[0;34m.\u001b[0m\u001b[0m_constructor\u001b[0m\u001b[0;34m(\u001b[0m\u001b[0mnew_data\u001b[0m\u001b[0;34m)\u001b[0m\u001b[0;34m.\u001b[0m\u001b[0m__finalize__\u001b[0m\u001b[0;34m(\u001b[0m\u001b[0mself\u001b[0m\u001b[0;34m,\u001b[0m \u001b[0mmethod\u001b[0m\u001b[0;34m=\u001b[0m\u001b[0;34m\"astype\"\u001b[0m\u001b[0;34m)\u001b[0m\u001b[0;34m\u001b[0m\u001b[0;34m\u001b[0m\u001b[0m\n\u001b[1;32m   5550\u001b[0m \u001b[0;34m\u001b[0m\u001b[0m\n",
            "\u001b[0;32m/usr/local/lib/python3.7/dist-packages/pandas/core/internals/managers.py\u001b[0m in \u001b[0;36mastype\u001b[0;34m(self, dtype, copy, errors)\u001b[0m\n\u001b[1;32m    602\u001b[0m         \u001b[0mself\u001b[0m\u001b[0;34m,\u001b[0m \u001b[0mdtype\u001b[0m\u001b[0;34m,\u001b[0m \u001b[0mcopy\u001b[0m\u001b[0;34m:\u001b[0m \u001b[0mbool\u001b[0m \u001b[0;34m=\u001b[0m \u001b[0;32mFalse\u001b[0m\u001b[0;34m,\u001b[0m \u001b[0merrors\u001b[0m\u001b[0;34m:\u001b[0m \u001b[0mstr\u001b[0m \u001b[0;34m=\u001b[0m \u001b[0;34m\"raise\"\u001b[0m\u001b[0;34m\u001b[0m\u001b[0;34m\u001b[0m\u001b[0m\n\u001b[1;32m    603\u001b[0m     ) -> \"BlockManager\":\n\u001b[0;32m--> 604\u001b[0;31m         \u001b[0;32mreturn\u001b[0m \u001b[0mself\u001b[0m\u001b[0;34m.\u001b[0m\u001b[0mapply\u001b[0m\u001b[0;34m(\u001b[0m\u001b[0;34m\"astype\"\u001b[0m\u001b[0;34m,\u001b[0m \u001b[0mdtype\u001b[0m\u001b[0;34m=\u001b[0m\u001b[0mdtype\u001b[0m\u001b[0;34m,\u001b[0m \u001b[0mcopy\u001b[0m\u001b[0;34m=\u001b[0m\u001b[0mcopy\u001b[0m\u001b[0;34m,\u001b[0m \u001b[0merrors\u001b[0m\u001b[0;34m=\u001b[0m\u001b[0merrors\u001b[0m\u001b[0;34m)\u001b[0m\u001b[0;34m\u001b[0m\u001b[0;34m\u001b[0m\u001b[0m\n\u001b[0m\u001b[1;32m    605\u001b[0m \u001b[0;34m\u001b[0m\u001b[0m\n\u001b[1;32m    606\u001b[0m     def convert(\n",
            "\u001b[0;32m/usr/local/lib/python3.7/dist-packages/pandas/core/internals/managers.py\u001b[0m in \u001b[0;36mapply\u001b[0;34m(self, f, align_keys, **kwargs)\u001b[0m\n\u001b[1;32m    407\u001b[0m                 \u001b[0mapplied\u001b[0m \u001b[0;34m=\u001b[0m \u001b[0mb\u001b[0m\u001b[0;34m.\u001b[0m\u001b[0mapply\u001b[0m\u001b[0;34m(\u001b[0m\u001b[0mf\u001b[0m\u001b[0;34m,\u001b[0m \u001b[0;34m**\u001b[0m\u001b[0mkwargs\u001b[0m\u001b[0;34m)\u001b[0m\u001b[0;34m\u001b[0m\u001b[0;34m\u001b[0m\u001b[0m\n\u001b[1;32m    408\u001b[0m             \u001b[0;32melse\u001b[0m\u001b[0;34m:\u001b[0m\u001b[0;34m\u001b[0m\u001b[0;34m\u001b[0m\u001b[0m\n\u001b[0;32m--> 409\u001b[0;31m                 \u001b[0mapplied\u001b[0m \u001b[0;34m=\u001b[0m \u001b[0mgetattr\u001b[0m\u001b[0;34m(\u001b[0m\u001b[0mb\u001b[0m\u001b[0;34m,\u001b[0m \u001b[0mf\u001b[0m\u001b[0;34m)\u001b[0m\u001b[0;34m(\u001b[0m\u001b[0;34m**\u001b[0m\u001b[0mkwargs\u001b[0m\u001b[0;34m)\u001b[0m\u001b[0;34m\u001b[0m\u001b[0;34m\u001b[0m\u001b[0m\n\u001b[0m\u001b[1;32m    410\u001b[0m             \u001b[0mresult_blocks\u001b[0m \u001b[0;34m=\u001b[0m \u001b[0m_extend_blocks\u001b[0m\u001b[0;34m(\u001b[0m\u001b[0mapplied\u001b[0m\u001b[0;34m,\u001b[0m \u001b[0mresult_blocks\u001b[0m\u001b[0;34m)\u001b[0m\u001b[0;34m\u001b[0m\u001b[0;34m\u001b[0m\u001b[0m\n\u001b[1;32m    411\u001b[0m \u001b[0;34m\u001b[0m\u001b[0m\n",
            "\u001b[0;32m/usr/local/lib/python3.7/dist-packages/pandas/core/internals/blocks.py\u001b[0m in \u001b[0;36mastype\u001b[0;34m(self, dtype, copy, errors)\u001b[0m\n\u001b[1;32m    593\u001b[0m             \u001b[0mvals1d\u001b[0m \u001b[0;34m=\u001b[0m \u001b[0mvalues\u001b[0m\u001b[0;34m.\u001b[0m\u001b[0mravel\u001b[0m\u001b[0;34m(\u001b[0m\u001b[0;34m)\u001b[0m\u001b[0;34m\u001b[0m\u001b[0;34m\u001b[0m\u001b[0m\n\u001b[1;32m    594\u001b[0m             \u001b[0;32mtry\u001b[0m\u001b[0;34m:\u001b[0m\u001b[0;34m\u001b[0m\u001b[0;34m\u001b[0m\u001b[0m\n\u001b[0;32m--> 595\u001b[0;31m                 \u001b[0mvalues\u001b[0m \u001b[0;34m=\u001b[0m \u001b[0mastype_nansafe\u001b[0m\u001b[0;34m(\u001b[0m\u001b[0mvals1d\u001b[0m\u001b[0;34m,\u001b[0m \u001b[0mdtype\u001b[0m\u001b[0;34m,\u001b[0m \u001b[0mcopy\u001b[0m\u001b[0;34m=\u001b[0m\u001b[0;32mTrue\u001b[0m\u001b[0;34m)\u001b[0m\u001b[0;34m\u001b[0m\u001b[0;34m\u001b[0m\u001b[0m\n\u001b[0m\u001b[1;32m    596\u001b[0m             \u001b[0;32mexcept\u001b[0m \u001b[0;34m(\u001b[0m\u001b[0mValueError\u001b[0m\u001b[0;34m,\u001b[0m \u001b[0mTypeError\u001b[0m\u001b[0;34m)\u001b[0m\u001b[0;34m:\u001b[0m\u001b[0;34m\u001b[0m\u001b[0;34m\u001b[0m\u001b[0m\n\u001b[1;32m    597\u001b[0m                 \u001b[0;31m# e.g. astype_nansafe can fail on object-dtype of strings\u001b[0m\u001b[0;34m\u001b[0m\u001b[0;34m\u001b[0m\u001b[0;34m\u001b[0m\u001b[0m\n",
            "\u001b[0;32m/usr/local/lib/python3.7/dist-packages/pandas/core/dtypes/cast.py\u001b[0m in \u001b[0;36mastype_nansafe\u001b[0;34m(arr, dtype, copy, skipna)\u001b[0m\n\u001b[1;32m    972\u001b[0m         \u001b[0;31m# work around NumPy brokenness, #1987\u001b[0m\u001b[0;34m\u001b[0m\u001b[0;34m\u001b[0m\u001b[0;34m\u001b[0m\u001b[0m\n\u001b[1;32m    973\u001b[0m         \u001b[0;32mif\u001b[0m \u001b[0mnp\u001b[0m\u001b[0;34m.\u001b[0m\u001b[0missubdtype\u001b[0m\u001b[0;34m(\u001b[0m\u001b[0mdtype\u001b[0m\u001b[0;34m.\u001b[0m\u001b[0mtype\u001b[0m\u001b[0;34m,\u001b[0m \u001b[0mnp\u001b[0m\u001b[0;34m.\u001b[0m\u001b[0minteger\u001b[0m\u001b[0;34m)\u001b[0m\u001b[0;34m:\u001b[0m\u001b[0;34m\u001b[0m\u001b[0;34m\u001b[0m\u001b[0m\n\u001b[0;32m--> 974\u001b[0;31m             \u001b[0;32mreturn\u001b[0m \u001b[0mlib\u001b[0m\u001b[0;34m.\u001b[0m\u001b[0mastype_intsafe\u001b[0m\u001b[0;34m(\u001b[0m\u001b[0marr\u001b[0m\u001b[0;34m.\u001b[0m\u001b[0mravel\u001b[0m\u001b[0;34m(\u001b[0m\u001b[0;34m)\u001b[0m\u001b[0;34m,\u001b[0m \u001b[0mdtype\u001b[0m\u001b[0;34m)\u001b[0m\u001b[0;34m.\u001b[0m\u001b[0mreshape\u001b[0m\u001b[0;34m(\u001b[0m\u001b[0marr\u001b[0m\u001b[0;34m.\u001b[0m\u001b[0mshape\u001b[0m\u001b[0;34m)\u001b[0m\u001b[0;34m\u001b[0m\u001b[0;34m\u001b[0m\u001b[0m\n\u001b[0m\u001b[1;32m    975\u001b[0m \u001b[0;34m\u001b[0m\u001b[0m\n\u001b[1;32m    976\u001b[0m         \u001b[0;31m# if we have a datetime/timedelta array of objects\u001b[0m\u001b[0;34m\u001b[0m\u001b[0;34m\u001b[0m\u001b[0;34m\u001b[0m\u001b[0m\n",
            "\u001b[0;32mpandas/_libs/lib.pyx\u001b[0m in \u001b[0;36mpandas._libs.lib.astype_intsafe\u001b[0;34m()\u001b[0m\n",
            "\u001b[0;31mValueError\u001b[0m: invalid literal for int() with base 10: 'Me too'"
          ]
        }
      ]
    },
    {
      "cell_type": "code",
      "metadata": {
        "colab": {
          "base_uri": "https://localhost:8080/"
        },
        "id": "mYCcf-cVynM_",
        "outputId": "5af9a2e7-0ca6-4410-97d5-dfae8cf2b0fe"
      },
      "source": [
        "invoices['Meal Price'].apply(lambda x: type(x)).value_counts()"
      ],
      "execution_count": 13,
      "outputs": [
        {
          "output_type": "execute_result",
          "data": {
            "text/plain": [
              "<class 'int'>    50015\n",
              "<class 'str'>        2\n",
              "Name: Meal Price, dtype: int64"
            ]
          },
          "metadata": {
            "tags": []
          },
          "execution_count": 13
        }
      ]
    },
    {
      "cell_type": "code",
      "metadata": {
        "colab": {
          "base_uri": "https://localhost:8080/"
        },
        "id": "VBkd5sgmy6nU",
        "outputId": "e33d4d02-e733-47b4-ae48-e79fe19d2b4c"
      },
      "source": [
        "# Now this will not work as part is int and part str\n",
        "invoices['Meal Price'][invoices['Meal Price']<10]"
      ],
      "execution_count": 19,
      "outputs": [
        {
          "output_type": "execute_result",
          "data": {
            "text/plain": [
              "536      8\n",
              "984      7\n",
              "1041     7\n",
              "1528     9\n",
              "2294     8\n",
              "        ..\n",
              "46517    9\n",
              "47225    9\n",
              "48936    9\n",
              "48975    8\n",
              "50012    9\n",
              "Name: Meal Price, Length: 100, dtype: int64"
            ]
          },
          "metadata": {
            "tags": []
          },
          "execution_count": 19
        }
      ]
    },
    {
      "cell_type": "code",
      "metadata": {
        "colab": {
          "base_uri": "https://localhost:8080/"
        },
        "id": "CCzQZiaryuAP",
        "outputId": "a5f10c13-5eab-49d3-c9f3-4ca1a5267b53"
      },
      "source": [
        "# Conditionally filter by lambda condition\n",
        "invoices['Meal Price'][invoices['Meal Price'].apply(\n",
        "  lambda x: isinstance(x,str)\n",
        ")]"
      ],
      "execution_count": 22,
      "outputs": [
        {
          "output_type": "execute_result",
          "data": {
            "text/plain": [
              "35612                  Me too\n",
              "45612    I am causing trouble\n",
              "Name: Meal Price, dtype: object"
            ]
          },
          "metadata": {
            "tags": []
          },
          "execution_count": 22
        }
      ]
    },
    {
      "cell_type": "markdown",
      "metadata": {
        "id": "zz7kdV2WzmXq"
      },
      "source": [
        "it would be very reasonable to just convert the values into np.nan by passing errors='coerce' to pd.to_numeric() like this:"
      ]
    },
    {
      "cell_type": "code",
      "metadata": {
        "colab": {
          "base_uri": "https://localhost:8080/"
        },
        "id": "EUWSVfx8zbo2",
        "outputId": "b35f91ac-6c86-4786-b308-3689e05b932c"
      },
      "source": [
        "pd.to_numeric(invoices['Meal Price'],errors='coerce')"
      ],
      "execution_count": 23,
      "outputs": [
        {
          "output_type": "execute_result",
          "data": {
            "text/plain": [
              "0        469.0\n",
              "1         22.0\n",
              "2        314.0\n",
              "3        438.0\n",
              "4        690.0\n",
              "         ...  \n",
              "50012      9.0\n",
              "50013     25.0\n",
              "50014    160.0\n",
              "50015    497.0\n",
              "50016    365.0\n",
              "Name: Meal Price, Length: 50017, dtype: float64"
            ]
          },
          "metadata": {
            "tags": []
          },
          "execution_count": 23
        }
      ]
    },
    {
      "cell_type": "code",
      "metadata": {
        "colab": {
          "base_uri": "https://localhost:8080/"
        },
        "id": "A40mBnJWzv3g",
        "outputId": "a7c87b83-fd24-45de-81d7-e6b4d34ebd3e"
      },
      "source": [
        "invoices.iloc[45612]"
      ],
      "execution_count": 25,
      "outputs": [
        {
          "output_type": "execute_result",
          "data": {
            "text/plain": [
              "Order Id                      SJA1F92KXWZDH398\n",
              "Date                       2017-02-26 00:00:00\n",
              "Meal Id                       OOW0UEXQY5RMPPZ8\n",
              "Company Id                    ICNGUMLKEB27T1P3\n",
              "Date of Meal         2017-03-02 20:00:00+01:00\n",
              "Participants                  ['Betty Stroud']\n",
              "Meal Price                I am causing trouble\n",
              "Type of Meal                            Dinner\n",
              "Heroes Adjustment                        False\n",
              "Name: 45612, dtype: object"
            ]
          },
          "metadata": {
            "tags": []
          },
          "execution_count": 25
        }
      ]
    },
    {
      "cell_type": "code",
      "metadata": {
        "colab": {
          "base_uri": "https://localhost:8080/"
        },
        "id": "xrRxJ6mZ0ArW",
        "outputId": "34b27eec-00fa-4d0e-9bc4-798bf3154aad"
      },
      "source": [
        "pd.to_numeric(invoices['Meal Price'],errors='coerce')[45612]"
      ],
      "execution_count": 26,
      "outputs": [
        {
          "output_type": "execute_result",
          "data": {
            "text/plain": [
              "nan"
            ]
          },
          "metadata": {
            "tags": []
          },
          "execution_count": 26
        }
      ]
    },
    {
      "cell_type": "code",
      "metadata": {
        "id": "6y7BO8g70G6D"
      },
      "source": [
        ""
      ],
      "execution_count": null,
      "outputs": []
    }
  ]
}