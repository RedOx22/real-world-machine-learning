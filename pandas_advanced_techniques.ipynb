{
  "nbformat": 4,
  "nbformat_minor": 0,
  "metadata": {
    "colab": {
      "name": "pandas_advanced_techniques.ipynb",
      "provenance": [],
      "toc_visible": true,
      "authorship_tag": "ABX9TyOjfLjXUnQKfJtptPGJJE4q",
      "include_colab_link": true
    },
    "kernelspec": {
      "name": "python3",
      "display_name": "Python 3"
    },
    "language_info": {
      "name": "python"
    }
  },
  "cells": [
    {
      "cell_type": "markdown",
      "metadata": {
        "id": "view-in-github",
        "colab_type": "text"
      },
      "source": [
        "<a href=\"https://colab.research.google.com/github/thimotyb/real-world-machine-learning/blob/python3/pandas_advanced_techniques.ipynb\" target=\"_parent\"><img src=\"https://colab.research.google.com/assets/colab-badge.svg\" alt=\"Open In Colab\"/></a>"
      ]
    },
    {
      "cell_type": "markdown",
      "metadata": {
        "id": "kT7eVosar9hV"
      },
      "source": [
        "# Pandas - Advanced Techniques\n",
        "\n",
        "This lesson is taken and optimized from the following web sources:\n",
        "\n",
        "1.   https://towardsdatascience.com/learn-advanced-features-for-pythons-main-data-analysis-library-in-20-minutes-d0eedd90d086\n",
        "2.   https://colab.research.google.com/github/thimotyb/real-world-machine-learning/blob/python3/Importing_data_with_pandas.ipynb\n",
        "3.   https://nvie.com/posts/iterators-vs-generators/\n",
        "4.   https://www.dataquest.io/blog/tutorial-time-series-analysis-with-pandas/\n",
        "5.   https://pandas.pydata.org/pandas-docs/stable/user_guide/timeseries.html\n",
        "\n",
        "\n",
        "\n",
        "\n",
        "\n"
      ]
    },
    {
      "cell_type": "markdown",
      "metadata": {
        "id": "pKL9o5fNs62U"
      },
      "source": [
        "## Data Types\n",
        "\n",
        "let’s quickly summarize all the available Pandas data types. In total, there are seven types:\n",
        "* object : This data type is used for strings (i.e., sequences of characters)\n",
        "* int64 : Used for integers (whole numbers, no decimals)\n",
        "* float64 : Used for floating-point numbers (i.e., figures with decimals/fractions)\n",
        "* bool : Used for values that can only be True/False\n",
        "* datetime64 : Used for date and time values\n",
        "* timedelta : Used to represent the difference between datetimes\n",
        "* category : Used for values that take one out of a limited number of available options (categories don’t have to, but can have explicit ordering)"
      ]
    },
    {
      "cell_type": "code",
      "metadata": {
        "colab": {
          "base_uri": "https://localhost:8080/",
          "height": 17
        },
        "id": "BqPRbnJsr3e5",
        "outputId": "be74d24a-8a20-4153-9da5-cc7b83663e04"
      },
      "source": [
        "import pandas as pd\n",
        "import numpy as np\n",
        "import datetime\n",
        "import pytz\n",
        "from IPython.core.display import display, HTML\n",
        "display(HTML(\"<style>.container {width:90% !important;}</style>\"))\n",
        "pd.set_option('display.max_columns', 50)\n",
        "pd.set_option('display.max_rows', 10)"
      ],
      "execution_count": 2,
      "outputs": [
        {
          "output_type": "display_data",
          "data": {
            "text/html": [
              "<style>.container {width:90% !important;}</style>"
            ],
            "text/plain": [
              "<IPython.core.display.HTML object>"
            ]
          },
          "metadata": {
            "tags": []
          }
        }
      ]
    },
    {
      "cell_type": "code",
      "metadata": {
        "id": "hkJk5tuytJ6w"
      },
      "source": [
        "data = pd.read_csv('https://raw.githubusercontent.com/thimotyb/you-datascientist/master/happiness_with_continent.csv')"
      ],
      "execution_count": null,
      "outputs": []
    },
    {
      "cell_type": "code",
      "metadata": {
        "id": "_5MIgeDItSBS"
      },
      "source": [
        "invoices = pd.read_csv('https://raw.githubusercontent.com/thimotyb/you-datascientist/master/invoices.csv')"
      ],
      "execution_count": 64,
      "outputs": []
    },
    {
      "cell_type": "code",
      "metadata": {
        "colab": {
          "base_uri": "https://localhost:8080/",
          "height": 202
        },
        "id": "qNkVyNowtXld",
        "outputId": "2b954a1b-962f-4646-955a-034347b7e609"
      },
      "source": [
        "invoices.tail(5)"
      ],
      "execution_count": null,
      "outputs": [
        {
          "output_type": "execute_result",
          "data": {
            "text/html": [
              "<div>\n",
              "<style scoped>\n",
              "    .dataframe tbody tr th:only-of-type {\n",
              "        vertical-align: middle;\n",
              "    }\n",
              "\n",
              "    .dataframe tbody tr th {\n",
              "        vertical-align: top;\n",
              "    }\n",
              "\n",
              "    .dataframe thead th {\n",
              "        text-align: right;\n",
              "    }\n",
              "</style>\n",
              "<table border=\"1\" class=\"dataframe\">\n",
              "  <thead>\n",
              "    <tr style=\"text-align: right;\">\n",
              "      <th></th>\n",
              "      <th>Order Id</th>\n",
              "      <th>Date</th>\n",
              "      <th>Meal Id</th>\n",
              "      <th>Company Id</th>\n",
              "      <th>Date of Meal</th>\n",
              "      <th>Participants</th>\n",
              "      <th>Meal Price</th>\n",
              "      <th>Type of Meal</th>\n",
              "      <th>Heroes Adjustment</th>\n",
              "    </tr>\n",
              "  </thead>\n",
              "  <tbody>\n",
              "    <tr>\n",
              "      <th>50012</th>\n",
              "      <td>4OMS8ZSA0UX8LHWI</td>\n",
              "      <td>2017-09-20</td>\n",
              "      <td>1TD5MROATV1NHZ4Y</td>\n",
              "      <td>E4K99D4JR9E40VE1</td>\n",
              "      <td>2017-09-21 08:00:00+02:00</td>\n",
              "      <td>['Regina Shirley']</td>\n",
              "      <td>9</td>\n",
              "      <td>Breakfast</td>\n",
              "      <td>False</td>\n",
              "    </tr>\n",
              "    <tr>\n",
              "      <th>50013</th>\n",
              "      <td>RR0VKJN8V0KHNKGG</td>\n",
              "      <td>2018-03-19</td>\n",
              "      <td>22EX9VZSJKHP4AIP</td>\n",
              "      <td>E4K99D4JR9E40VE1</td>\n",
              "      <td>2018-03-18 09:00:00+01:00</td>\n",
              "      <td>['Robin Ramos' 'Chester Mortimer']</td>\n",
              "      <td>25</td>\n",
              "      <td>Breakfast</td>\n",
              "      <td>False</td>\n",
              "    </tr>\n",
              "    <tr>\n",
              "      <th>50014</th>\n",
              "      <td>STJ6QJC30WPRM93H</td>\n",
              "      <td>2017-09-21</td>\n",
              "      <td>LMX18PNGWCIMG1QW</td>\n",
              "      <td>E4K99D4JR9E40VE1</td>\n",
              "      <td>2017-09-22 21:00:00+02:00</td>\n",
              "      <td>['Robin Ramos']</td>\n",
              "      <td>160</td>\n",
              "      <td>Dinner</td>\n",
              "      <td>False</td>\n",
              "    </tr>\n",
              "    <tr>\n",
              "      <th>50015</th>\n",
              "      <td>QHEUIYNC0XQX7GDR</td>\n",
              "      <td>2018-01-28</td>\n",
              "      <td>4U0VH2TGQL30X23X</td>\n",
              "      <td>E4K99D4JR9E40VE1</td>\n",
              "      <td>2018-02-01 21:00:00+01:00</td>\n",
              "      <td>['Chester Mortimer' 'Robin Ramos']</td>\n",
              "      <td>497</td>\n",
              "      <td>Dinner</td>\n",
              "      <td>False</td>\n",
              "    </tr>\n",
              "    <tr>\n",
              "      <th>50016</th>\n",
              "      <td>NKHFWT5I2J9LPAPG</td>\n",
              "      <td>2017-09-06</td>\n",
              "      <td>ORWFRT5TUSYGNYG7</td>\n",
              "      <td>E4K99D4JR9E40VE1</td>\n",
              "      <td>2017-09-09 14:00:00+02:00</td>\n",
              "      <td>['Chester Mortimer' 'Robin Ramos']</td>\n",
              "      <td>365</td>\n",
              "      <td>Lunch</td>\n",
              "      <td>False</td>\n",
              "    </tr>\n",
              "  </tbody>\n",
              "</table>\n",
              "</div>"
            ],
            "text/plain": [
              "               Order Id       Date           Meal Id        Company Id  \\\n",
              "50012  4OMS8ZSA0UX8LHWI 2017-09-20  1TD5MROATV1NHZ4Y  E4K99D4JR9E40VE1   \n",
              "50013  RR0VKJN8V0KHNKGG 2018-03-19  22EX9VZSJKHP4AIP  E4K99D4JR9E40VE1   \n",
              "50014  STJ6QJC30WPRM93H 2017-09-21  LMX18PNGWCIMG1QW  E4K99D4JR9E40VE1   \n",
              "50015  QHEUIYNC0XQX7GDR 2018-01-28  4U0VH2TGQL30X23X  E4K99D4JR9E40VE1   \n",
              "50016  NKHFWT5I2J9LPAPG 2017-09-06  ORWFRT5TUSYGNYG7  E4K99D4JR9E40VE1   \n",
              "\n",
              "                    Date of Meal                        Participants  \\\n",
              "50012  2017-09-21 08:00:00+02:00                  ['Regina Shirley']   \n",
              "50013  2018-03-18 09:00:00+01:00  ['Robin Ramos' 'Chester Mortimer']   \n",
              "50014  2017-09-22 21:00:00+02:00                     ['Robin Ramos']   \n",
              "50015  2018-02-01 21:00:00+01:00  ['Chester Mortimer' 'Robin Ramos']   \n",
              "50016  2017-09-09 14:00:00+02:00  ['Chester Mortimer' 'Robin Ramos']   \n",
              "\n",
              "      Meal Price Type of Meal  Heroes Adjustment  \n",
              "50012          9    Breakfast              False  \n",
              "50013         25    Breakfast              False  \n",
              "50014        160       Dinner              False  \n",
              "50015        497       Dinner              False  \n",
              "50016        365        Lunch              False  "
            ]
          },
          "metadata": {
            "tags": []
          },
          "execution_count": 12
        }
      ]
    },
    {
      "cell_type": "code",
      "metadata": {
        "colab": {
          "base_uri": "https://localhost:8080/"
        },
        "id": "QJHAyaRztr0o",
        "outputId": "ebea15ea-ad11-477e-bde2-fda40b7a0f04"
      },
      "source": [
        "invoices.info()"
      ],
      "execution_count": null,
      "outputs": [
        {
          "output_type": "stream",
          "text": [
            "<class 'pandas.core.frame.DataFrame'>\n",
            "RangeIndex: 50017 entries, 0 to 50016\n",
            "Data columns (total 9 columns):\n",
            " #   Column             Non-Null Count  Dtype  \n",
            "---  ------             --------------  -----  \n",
            " 0   Order Id           50017 non-null  object \n",
            " 1   Date               50017 non-null  object \n",
            " 2   Meal Id            50017 non-null  object \n",
            " 3   Company Id         50017 non-null  object \n",
            " 4   Date of Meal       50017 non-null  object \n",
            " 5   Participants       50017 non-null  object \n",
            " 6   Meal Price         50017 non-null  float64\n",
            " 7   Type of Meal       50017 non-null  object \n",
            " 8   Heroes Adjustment  50017 non-null  bool   \n",
            "dtypes: bool(1), float64(1), object(7)\n",
            "memory usage: 3.1+ MB\n"
          ],
          "name": "stdout"
        }
      ]
    },
    {
      "cell_type": "code",
      "metadata": {
        "id": "FgTMpvgwwNbI"
      },
      "source": [
        "invoices['Type of Meal'] = invoices['Type of Meal'].astype('category')\n",
        "invoices['Date'] = invoices['Date'].astype('datetime64[ns]')\n",
        "invoices['Meal Price'] = invoices['Meal Price'].astype('int')"
      ],
      "execution_count": null,
      "outputs": []
    },
    {
      "cell_type": "code",
      "metadata": {
        "colab": {
          "base_uri": "https://localhost:8080/"
        },
        "id": "ys5m6ZSgwPDM",
        "outputId": "54978707-4624-4877-f735-211f99ae5418"
      },
      "source": [
        "invoices.info()"
      ],
      "execution_count": null,
      "outputs": [
        {
          "output_type": "stream",
          "text": [
            "<class 'pandas.core.frame.DataFrame'>\n",
            "RangeIndex: 50017 entries, 0 to 50016\n",
            "Data columns (total 9 columns):\n",
            " #   Column             Non-Null Count  Dtype         \n",
            "---  ------             --------------  -----         \n",
            " 0   Order Id           50017 non-null  object        \n",
            " 1   Date               50017 non-null  datetime64[ns]\n",
            " 2   Meal Id            50017 non-null  object        \n",
            " 3   Company Id         50017 non-null  object        \n",
            " 4   Date of Meal       50017 non-null  object        \n",
            " 5   Participants       50017 non-null  object        \n",
            " 6   Meal Price         50017 non-null  int64         \n",
            " 7   Type of Meal       50017 non-null  category      \n",
            " 8   Heroes Adjustment  50017 non-null  bool          \n",
            "dtypes: bool(1), category(1), datetime64[ns](1), int64(1), object(5)\n",
            "memory usage: 2.8+ MB\n"
          ],
          "name": "stdout"
        }
      ]
    },
    {
      "cell_type": "markdown",
      "metadata": {
        "id": "eVax2OSQxHK5"
      },
      "source": [
        "With conversion helpers,  it is possible to specify the behavior in case a value is encountered, that can not be converted.\n",
        "Both functions accept an additional parameter errors that defines how errors should be treated. We could choose to ignore errors by passingerrors='ignore' , or turn the offending values into np.nan values by passing errors='coerce'. The default behavior is to raise errors.\n",
        "\n",
        "We create an error and we demonstrate how to handle conversion errors."
      ]
    },
    {
      "cell_type": "code",
      "metadata": {
        "id": "2Vrpme6uxPId"
      },
      "source": [
        "invoices.loc[45612,'Meal Price'] = 'I am causing trouble'\n",
        "invoices.loc[35612,'Meal Price'] = 'Me too'"
      ],
      "execution_count": null,
      "outputs": []
    },
    {
      "cell_type": "code",
      "metadata": {
        "colab": {
          "base_uri": "https://localhost:8080/",
          "height": 345
        },
        "id": "guNIbv7Kybhp",
        "outputId": "e3efddd0-517c-4fd1-c7d5-a6f103748b1c"
      },
      "source": [
        "invoices['Meal Price'].astype(int)"
      ],
      "execution_count": null,
      "outputs": [
        {
          "output_type": "error",
          "ename": "ValueError",
          "evalue": "ignored",
          "traceback": [
            "\u001b[0;31m---------------------------------------------------------------------------\u001b[0m",
            "\u001b[0;31mValueError\u001b[0m                                Traceback (most recent call last)",
            "\u001b[0;32m<ipython-input-11-7a45f8f5d74c>\u001b[0m in \u001b[0;36m<module>\u001b[0;34m()\u001b[0m\n\u001b[0;32m----> 1\u001b[0;31m \u001b[0minvoices\u001b[0m\u001b[0;34m[\u001b[0m\u001b[0;34m'Meal Price'\u001b[0m\u001b[0;34m]\u001b[0m\u001b[0;34m.\u001b[0m\u001b[0mastype\u001b[0m\u001b[0;34m(\u001b[0m\u001b[0mint\u001b[0m\u001b[0;34m)\u001b[0m\u001b[0;34m\u001b[0m\u001b[0;34m\u001b[0m\u001b[0m\n\u001b[0m",
            "\u001b[0;32m/usr/local/lib/python3.7/dist-packages/pandas/core/generic.py\u001b[0m in \u001b[0;36mastype\u001b[0;34m(self, dtype, copy, errors)\u001b[0m\n\u001b[1;32m   5546\u001b[0m         \u001b[0;32melse\u001b[0m\u001b[0;34m:\u001b[0m\u001b[0;34m\u001b[0m\u001b[0;34m\u001b[0m\u001b[0m\n\u001b[1;32m   5547\u001b[0m             \u001b[0;31m# else, only a single dtype is given\u001b[0m\u001b[0;34m\u001b[0m\u001b[0;34m\u001b[0m\u001b[0;34m\u001b[0m\u001b[0m\n\u001b[0;32m-> 5548\u001b[0;31m             \u001b[0mnew_data\u001b[0m \u001b[0;34m=\u001b[0m \u001b[0mself\u001b[0m\u001b[0;34m.\u001b[0m\u001b[0m_mgr\u001b[0m\u001b[0;34m.\u001b[0m\u001b[0mastype\u001b[0m\u001b[0;34m(\u001b[0m\u001b[0mdtype\u001b[0m\u001b[0;34m=\u001b[0m\u001b[0mdtype\u001b[0m\u001b[0;34m,\u001b[0m \u001b[0mcopy\u001b[0m\u001b[0;34m=\u001b[0m\u001b[0mcopy\u001b[0m\u001b[0;34m,\u001b[0m \u001b[0merrors\u001b[0m\u001b[0;34m=\u001b[0m\u001b[0merrors\u001b[0m\u001b[0;34m,\u001b[0m\u001b[0;34m)\u001b[0m\u001b[0;34m\u001b[0m\u001b[0;34m\u001b[0m\u001b[0m\n\u001b[0m\u001b[1;32m   5549\u001b[0m             \u001b[0;32mreturn\u001b[0m \u001b[0mself\u001b[0m\u001b[0;34m.\u001b[0m\u001b[0m_constructor\u001b[0m\u001b[0;34m(\u001b[0m\u001b[0mnew_data\u001b[0m\u001b[0;34m)\u001b[0m\u001b[0;34m.\u001b[0m\u001b[0m__finalize__\u001b[0m\u001b[0;34m(\u001b[0m\u001b[0mself\u001b[0m\u001b[0;34m,\u001b[0m \u001b[0mmethod\u001b[0m\u001b[0;34m=\u001b[0m\u001b[0;34m\"astype\"\u001b[0m\u001b[0;34m)\u001b[0m\u001b[0;34m\u001b[0m\u001b[0;34m\u001b[0m\u001b[0m\n\u001b[1;32m   5550\u001b[0m \u001b[0;34m\u001b[0m\u001b[0m\n",
            "\u001b[0;32m/usr/local/lib/python3.7/dist-packages/pandas/core/internals/managers.py\u001b[0m in \u001b[0;36mastype\u001b[0;34m(self, dtype, copy, errors)\u001b[0m\n\u001b[1;32m    602\u001b[0m         \u001b[0mself\u001b[0m\u001b[0;34m,\u001b[0m \u001b[0mdtype\u001b[0m\u001b[0;34m,\u001b[0m \u001b[0mcopy\u001b[0m\u001b[0;34m:\u001b[0m \u001b[0mbool\u001b[0m \u001b[0;34m=\u001b[0m \u001b[0;32mFalse\u001b[0m\u001b[0;34m,\u001b[0m \u001b[0merrors\u001b[0m\u001b[0;34m:\u001b[0m \u001b[0mstr\u001b[0m \u001b[0;34m=\u001b[0m \u001b[0;34m\"raise\"\u001b[0m\u001b[0;34m\u001b[0m\u001b[0;34m\u001b[0m\u001b[0m\n\u001b[1;32m    603\u001b[0m     ) -> \"BlockManager\":\n\u001b[0;32m--> 604\u001b[0;31m         \u001b[0;32mreturn\u001b[0m \u001b[0mself\u001b[0m\u001b[0;34m.\u001b[0m\u001b[0mapply\u001b[0m\u001b[0;34m(\u001b[0m\u001b[0;34m\"astype\"\u001b[0m\u001b[0;34m,\u001b[0m \u001b[0mdtype\u001b[0m\u001b[0;34m=\u001b[0m\u001b[0mdtype\u001b[0m\u001b[0;34m,\u001b[0m \u001b[0mcopy\u001b[0m\u001b[0;34m=\u001b[0m\u001b[0mcopy\u001b[0m\u001b[0;34m,\u001b[0m \u001b[0merrors\u001b[0m\u001b[0;34m=\u001b[0m\u001b[0merrors\u001b[0m\u001b[0;34m)\u001b[0m\u001b[0;34m\u001b[0m\u001b[0;34m\u001b[0m\u001b[0m\n\u001b[0m\u001b[1;32m    605\u001b[0m \u001b[0;34m\u001b[0m\u001b[0m\n\u001b[1;32m    606\u001b[0m     def convert(\n",
            "\u001b[0;32m/usr/local/lib/python3.7/dist-packages/pandas/core/internals/managers.py\u001b[0m in \u001b[0;36mapply\u001b[0;34m(self, f, align_keys, **kwargs)\u001b[0m\n\u001b[1;32m    407\u001b[0m                 \u001b[0mapplied\u001b[0m \u001b[0;34m=\u001b[0m \u001b[0mb\u001b[0m\u001b[0;34m.\u001b[0m\u001b[0mapply\u001b[0m\u001b[0;34m(\u001b[0m\u001b[0mf\u001b[0m\u001b[0;34m,\u001b[0m \u001b[0;34m**\u001b[0m\u001b[0mkwargs\u001b[0m\u001b[0;34m)\u001b[0m\u001b[0;34m\u001b[0m\u001b[0;34m\u001b[0m\u001b[0m\n\u001b[1;32m    408\u001b[0m             \u001b[0;32melse\u001b[0m\u001b[0;34m:\u001b[0m\u001b[0;34m\u001b[0m\u001b[0;34m\u001b[0m\u001b[0m\n\u001b[0;32m--> 409\u001b[0;31m                 \u001b[0mapplied\u001b[0m \u001b[0;34m=\u001b[0m \u001b[0mgetattr\u001b[0m\u001b[0;34m(\u001b[0m\u001b[0mb\u001b[0m\u001b[0;34m,\u001b[0m \u001b[0mf\u001b[0m\u001b[0;34m)\u001b[0m\u001b[0;34m(\u001b[0m\u001b[0;34m**\u001b[0m\u001b[0mkwargs\u001b[0m\u001b[0;34m)\u001b[0m\u001b[0;34m\u001b[0m\u001b[0;34m\u001b[0m\u001b[0m\n\u001b[0m\u001b[1;32m    410\u001b[0m             \u001b[0mresult_blocks\u001b[0m \u001b[0;34m=\u001b[0m \u001b[0m_extend_blocks\u001b[0m\u001b[0;34m(\u001b[0m\u001b[0mapplied\u001b[0m\u001b[0;34m,\u001b[0m \u001b[0mresult_blocks\u001b[0m\u001b[0;34m)\u001b[0m\u001b[0;34m\u001b[0m\u001b[0;34m\u001b[0m\u001b[0m\n\u001b[1;32m    411\u001b[0m \u001b[0;34m\u001b[0m\u001b[0m\n",
            "\u001b[0;32m/usr/local/lib/python3.7/dist-packages/pandas/core/internals/blocks.py\u001b[0m in \u001b[0;36mastype\u001b[0;34m(self, dtype, copy, errors)\u001b[0m\n\u001b[1;32m    593\u001b[0m             \u001b[0mvals1d\u001b[0m \u001b[0;34m=\u001b[0m \u001b[0mvalues\u001b[0m\u001b[0;34m.\u001b[0m\u001b[0mravel\u001b[0m\u001b[0;34m(\u001b[0m\u001b[0;34m)\u001b[0m\u001b[0;34m\u001b[0m\u001b[0;34m\u001b[0m\u001b[0m\n\u001b[1;32m    594\u001b[0m             \u001b[0;32mtry\u001b[0m\u001b[0;34m:\u001b[0m\u001b[0;34m\u001b[0m\u001b[0;34m\u001b[0m\u001b[0m\n\u001b[0;32m--> 595\u001b[0;31m                 \u001b[0mvalues\u001b[0m \u001b[0;34m=\u001b[0m \u001b[0mastype_nansafe\u001b[0m\u001b[0;34m(\u001b[0m\u001b[0mvals1d\u001b[0m\u001b[0;34m,\u001b[0m \u001b[0mdtype\u001b[0m\u001b[0;34m,\u001b[0m \u001b[0mcopy\u001b[0m\u001b[0;34m=\u001b[0m\u001b[0;32mTrue\u001b[0m\u001b[0;34m)\u001b[0m\u001b[0;34m\u001b[0m\u001b[0;34m\u001b[0m\u001b[0m\n\u001b[0m\u001b[1;32m    596\u001b[0m             \u001b[0;32mexcept\u001b[0m \u001b[0;34m(\u001b[0m\u001b[0mValueError\u001b[0m\u001b[0;34m,\u001b[0m \u001b[0mTypeError\u001b[0m\u001b[0;34m)\u001b[0m\u001b[0;34m:\u001b[0m\u001b[0;34m\u001b[0m\u001b[0;34m\u001b[0m\u001b[0m\n\u001b[1;32m    597\u001b[0m                 \u001b[0;31m# e.g. astype_nansafe can fail on object-dtype of strings\u001b[0m\u001b[0;34m\u001b[0m\u001b[0;34m\u001b[0m\u001b[0;34m\u001b[0m\u001b[0m\n",
            "\u001b[0;32m/usr/local/lib/python3.7/dist-packages/pandas/core/dtypes/cast.py\u001b[0m in \u001b[0;36mastype_nansafe\u001b[0;34m(arr, dtype, copy, skipna)\u001b[0m\n\u001b[1;32m    972\u001b[0m         \u001b[0;31m# work around NumPy brokenness, #1987\u001b[0m\u001b[0;34m\u001b[0m\u001b[0;34m\u001b[0m\u001b[0;34m\u001b[0m\u001b[0m\n\u001b[1;32m    973\u001b[0m         \u001b[0;32mif\u001b[0m \u001b[0mnp\u001b[0m\u001b[0;34m.\u001b[0m\u001b[0missubdtype\u001b[0m\u001b[0;34m(\u001b[0m\u001b[0mdtype\u001b[0m\u001b[0;34m.\u001b[0m\u001b[0mtype\u001b[0m\u001b[0;34m,\u001b[0m \u001b[0mnp\u001b[0m\u001b[0;34m.\u001b[0m\u001b[0minteger\u001b[0m\u001b[0;34m)\u001b[0m\u001b[0;34m:\u001b[0m\u001b[0;34m\u001b[0m\u001b[0;34m\u001b[0m\u001b[0m\n\u001b[0;32m--> 974\u001b[0;31m             \u001b[0;32mreturn\u001b[0m \u001b[0mlib\u001b[0m\u001b[0;34m.\u001b[0m\u001b[0mastype_intsafe\u001b[0m\u001b[0;34m(\u001b[0m\u001b[0marr\u001b[0m\u001b[0;34m.\u001b[0m\u001b[0mravel\u001b[0m\u001b[0;34m(\u001b[0m\u001b[0;34m)\u001b[0m\u001b[0;34m,\u001b[0m \u001b[0mdtype\u001b[0m\u001b[0;34m)\u001b[0m\u001b[0;34m.\u001b[0m\u001b[0mreshape\u001b[0m\u001b[0;34m(\u001b[0m\u001b[0marr\u001b[0m\u001b[0;34m.\u001b[0m\u001b[0mshape\u001b[0m\u001b[0;34m)\u001b[0m\u001b[0;34m\u001b[0m\u001b[0;34m\u001b[0m\u001b[0m\n\u001b[0m\u001b[1;32m    975\u001b[0m \u001b[0;34m\u001b[0m\u001b[0m\n\u001b[1;32m    976\u001b[0m         \u001b[0;31m# if we have a datetime/timedelta array of objects\u001b[0m\u001b[0;34m\u001b[0m\u001b[0;34m\u001b[0m\u001b[0;34m\u001b[0m\u001b[0m\n",
            "\u001b[0;32mpandas/_libs/lib.pyx\u001b[0m in \u001b[0;36mpandas._libs.lib.astype_intsafe\u001b[0;34m()\u001b[0m\n",
            "\u001b[0;31mValueError\u001b[0m: invalid literal for int() with base 10: 'Me too'"
          ]
        }
      ]
    },
    {
      "cell_type": "code",
      "metadata": {
        "colab": {
          "base_uri": "https://localhost:8080/"
        },
        "id": "mYCcf-cVynM_",
        "outputId": "5af9a2e7-0ca6-4410-97d5-dfae8cf2b0fe"
      },
      "source": [
        "invoices['Meal Price'].apply(lambda x: type(x)).value_counts()"
      ],
      "execution_count": null,
      "outputs": [
        {
          "output_type": "execute_result",
          "data": {
            "text/plain": [
              "<class 'int'>    50015\n",
              "<class 'str'>        2\n",
              "Name: Meal Price, dtype: int64"
            ]
          },
          "metadata": {
            "tags": []
          },
          "execution_count": 13
        }
      ]
    },
    {
      "cell_type": "code",
      "metadata": {
        "colab": {
          "base_uri": "https://localhost:8080/"
        },
        "id": "VBkd5sgmy6nU",
        "outputId": "e33d4d02-e733-47b4-ae48-e79fe19d2b4c"
      },
      "source": [
        "# Now this will not work as part is int and part str\n",
        "invoices['Meal Price'][invoices['Meal Price']<10]"
      ],
      "execution_count": null,
      "outputs": [
        {
          "output_type": "execute_result",
          "data": {
            "text/plain": [
              "536      8\n",
              "984      7\n",
              "1041     7\n",
              "1528     9\n",
              "2294     8\n",
              "        ..\n",
              "46517    9\n",
              "47225    9\n",
              "48936    9\n",
              "48975    8\n",
              "50012    9\n",
              "Name: Meal Price, Length: 100, dtype: int64"
            ]
          },
          "metadata": {
            "tags": []
          },
          "execution_count": 19
        }
      ]
    },
    {
      "cell_type": "code",
      "metadata": {
        "colab": {
          "base_uri": "https://localhost:8080/"
        },
        "id": "CCzQZiaryuAP",
        "outputId": "a5f10c13-5eab-49d3-c9f3-4ca1a5267b53"
      },
      "source": [
        "# Conditionally filter by lambda condition\n",
        "invoices['Meal Price'][invoices['Meal Price'].apply(\n",
        "  lambda x: isinstance(x,str)\n",
        ")]"
      ],
      "execution_count": null,
      "outputs": [
        {
          "output_type": "execute_result",
          "data": {
            "text/plain": [
              "35612                  Me too\n",
              "45612    I am causing trouble\n",
              "Name: Meal Price, dtype: object"
            ]
          },
          "metadata": {
            "tags": []
          },
          "execution_count": 22
        }
      ]
    },
    {
      "cell_type": "markdown",
      "metadata": {
        "id": "zz7kdV2WzmXq"
      },
      "source": [
        "it would be very reasonable to just convert the values into np.nan by passing errors='coerce' to pd.to_numeric() like this:"
      ]
    },
    {
      "cell_type": "code",
      "metadata": {
        "colab": {
          "base_uri": "https://localhost:8080/"
        },
        "id": "EUWSVfx8zbo2",
        "outputId": "b35f91ac-6c86-4786-b308-3689e05b932c"
      },
      "source": [
        "pd.to_numeric(invoices['Meal Price'],errors='coerce')"
      ],
      "execution_count": null,
      "outputs": [
        {
          "output_type": "execute_result",
          "data": {
            "text/plain": [
              "0        469.0\n",
              "1         22.0\n",
              "2        314.0\n",
              "3        438.0\n",
              "4        690.0\n",
              "         ...  \n",
              "50012      9.0\n",
              "50013     25.0\n",
              "50014    160.0\n",
              "50015    497.0\n",
              "50016    365.0\n",
              "Name: Meal Price, Length: 50017, dtype: float64"
            ]
          },
          "metadata": {
            "tags": []
          },
          "execution_count": 23
        }
      ]
    },
    {
      "cell_type": "code",
      "metadata": {
        "colab": {
          "base_uri": "https://localhost:8080/"
        },
        "id": "A40mBnJWzv3g",
        "outputId": "a7c87b83-fd24-45de-81d7-e6b4d34ebd3e"
      },
      "source": [
        "invoices.iloc[45612]"
      ],
      "execution_count": null,
      "outputs": [
        {
          "output_type": "execute_result",
          "data": {
            "text/plain": [
              "Order Id                      SJA1F92KXWZDH398\n",
              "Date                       2017-02-26 00:00:00\n",
              "Meal Id                       OOW0UEXQY5RMPPZ8\n",
              "Company Id                    ICNGUMLKEB27T1P3\n",
              "Date of Meal         2017-03-02 20:00:00+01:00\n",
              "Participants                  ['Betty Stroud']\n",
              "Meal Price                I am causing trouble\n",
              "Type of Meal                            Dinner\n",
              "Heroes Adjustment                        False\n",
              "Name: 45612, dtype: object"
            ]
          },
          "metadata": {
            "tags": []
          },
          "execution_count": 25
        }
      ]
    },
    {
      "cell_type": "code",
      "metadata": {
        "colab": {
          "base_uri": "https://localhost:8080/"
        },
        "id": "xrRxJ6mZ0ArW",
        "outputId": "34b27eec-00fa-4d0e-9bc4-798bf3154aad"
      },
      "source": [
        "pd.to_numeric(invoices['Meal Price'],errors='coerce')[45612]"
      ],
      "execution_count": null,
      "outputs": [
        {
          "output_type": "execute_result",
          "data": {
            "text/plain": [
              "nan"
            ]
          },
          "metadata": {
            "tags": []
          },
          "execution_count": 26
        }
      ]
    },
    {
      "cell_type": "code",
      "metadata": {
        "colab": {
          "base_uri": "https://localhost:8080/"
        },
        "id": "6y7BO8g70G6D",
        "outputId": "52b8c209-a13a-4233-d14c-7097e43581de"
      },
      "source": [
        "# Fill in the gaps with fillna and median\n",
        "invoices['Meal Price'] = pd.to_numeric(invoices['Meal Price'],errors='coerce')\n",
        "invoices['Meal Price'] = invoices['Meal Price'].fillna(invoices['Meal Price'].median())\n",
        "invoices['Meal Price'].astype(int)"
      ],
      "execution_count": null,
      "outputs": [
        {
          "output_type": "execute_result",
          "data": {
            "text/plain": [
              "0        469\n",
              "1         22\n",
              "2        314\n",
              "3        438\n",
              "4        690\n",
              "        ... \n",
              "50012      9\n",
              "50013     25\n",
              "50014    160\n",
              "50015    497\n",
              "50016    365\n",
              "Name: Meal Price, Length: 50017, dtype: int64"
            ]
          },
          "metadata": {
            "tags": []
          },
          "execution_count": 27
        }
      ]
    },
    {
      "cell_type": "code",
      "metadata": {
        "colab": {
          "base_uri": "https://localhost:8080/",
          "height": 188
        },
        "id": "rgpO4fXd3apq",
        "outputId": "9b96ffe5-d972-469a-96ef-8797c97f6e5d"
      },
      "source": [
        "print(invoices['Meal Price'].median())\n",
        "invoices.iloc[45610:45614]"
      ],
      "execution_count": null,
      "outputs": [
        {
          "output_type": "stream",
          "text": [
            "398.0\n"
          ],
          "name": "stdout"
        },
        {
          "output_type": "execute_result",
          "data": {
            "text/html": [
              "<div>\n",
              "<style scoped>\n",
              "    .dataframe tbody tr th:only-of-type {\n",
              "        vertical-align: middle;\n",
              "    }\n",
              "\n",
              "    .dataframe tbody tr th {\n",
              "        vertical-align: top;\n",
              "    }\n",
              "\n",
              "    .dataframe thead th {\n",
              "        text-align: right;\n",
              "    }\n",
              "</style>\n",
              "<table border=\"1\" class=\"dataframe\">\n",
              "  <thead>\n",
              "    <tr style=\"text-align: right;\">\n",
              "      <th></th>\n",
              "      <th>Order Id</th>\n",
              "      <th>Date</th>\n",
              "      <th>Meal Id</th>\n",
              "      <th>Company Id</th>\n",
              "      <th>Date of Meal</th>\n",
              "      <th>Participants</th>\n",
              "      <th>Meal Price</th>\n",
              "      <th>Type of Meal</th>\n",
              "      <th>Heroes Adjustment</th>\n",
              "    </tr>\n",
              "  </thead>\n",
              "  <tbody>\n",
              "    <tr>\n",
              "      <th>45610</th>\n",
              "      <td>DMB8H3M3WT8GJSPN</td>\n",
              "      <td>2016-08-20</td>\n",
              "      <td>AOJPWQGKNVDF9UD5</td>\n",
              "      <td>ICNGUMLKEB27T1P3</td>\n",
              "      <td>2016-08-17 21:00:00+02:00</td>\n",
              "      <td>['Betty Stroud']</td>\n",
              "      <td>49.0</td>\n",
              "      <td>Dinner</td>\n",
              "      <td>False</td>\n",
              "    </tr>\n",
              "    <tr>\n",
              "      <th>45611</th>\n",
              "      <td>XEEXYOB84AHVCC1J</td>\n",
              "      <td>2018-07-17</td>\n",
              "      <td>63LLVLE72VG2J157</td>\n",
              "      <td>ICNGUMLKEB27T1P3</td>\n",
              "      <td>2018-07-19 20:00:00+02:00</td>\n",
              "      <td>['Alesha Wooten']</td>\n",
              "      <td>891.0</td>\n",
              "      <td>Dinner</td>\n",
              "      <td>False</td>\n",
              "    </tr>\n",
              "    <tr>\n",
              "      <th>45612</th>\n",
              "      <td>SJA1F92KXWZDH398</td>\n",
              "      <td>2017-02-26</td>\n",
              "      <td>OOW0UEXQY5RMPPZ8</td>\n",
              "      <td>ICNGUMLKEB27T1P3</td>\n",
              "      <td>2017-03-02 20:00:00+01:00</td>\n",
              "      <td>['Betty Stroud']</td>\n",
              "      <td>398.0</td>\n",
              "      <td>Dinner</td>\n",
              "      <td>False</td>\n",
              "    </tr>\n",
              "    <tr>\n",
              "      <th>45613</th>\n",
              "      <td>HC6MTWMXF99YEB92</td>\n",
              "      <td>2018-03-01</td>\n",
              "      <td>II205DMW5FBPTGIX</td>\n",
              "      <td>ICNGUMLKEB27T1P3</td>\n",
              "      <td>2018-03-02 13:00:00+01:00</td>\n",
              "      <td>['Betty Stroud']</td>\n",
              "      <td>245.0</td>\n",
              "      <td>Lunch</td>\n",
              "      <td>False</td>\n",
              "    </tr>\n",
              "  </tbody>\n",
              "</table>\n",
              "</div>"
            ],
            "text/plain": [
              "               Order Id       Date           Meal Id        Company Id  \\\n",
              "45610  DMB8H3M3WT8GJSPN 2016-08-20  AOJPWQGKNVDF9UD5  ICNGUMLKEB27T1P3   \n",
              "45611  XEEXYOB84AHVCC1J 2018-07-17  63LLVLE72VG2J157  ICNGUMLKEB27T1P3   \n",
              "45612  SJA1F92KXWZDH398 2017-02-26  OOW0UEXQY5RMPPZ8  ICNGUMLKEB27T1P3   \n",
              "45613  HC6MTWMXF99YEB92 2018-03-01  II205DMW5FBPTGIX  ICNGUMLKEB27T1P3   \n",
              "\n",
              "                    Date of Meal       Participants  Meal Price Type of Meal  \\\n",
              "45610  2016-08-17 21:00:00+02:00   ['Betty Stroud']        49.0       Dinner   \n",
              "45611  2018-07-19 20:00:00+02:00  ['Alesha Wooten']       891.0       Dinner   \n",
              "45612  2017-03-02 20:00:00+01:00   ['Betty Stroud']       398.0       Dinner   \n",
              "45613  2018-03-02 13:00:00+01:00   ['Betty Stroud']       245.0        Lunch   \n",
              "\n",
              "       Heroes Adjustment  \n",
              "45610              False  \n",
              "45611              False  \n",
              "45612              False  \n",
              "45613              False  "
            ]
          },
          "metadata": {
            "tags": []
          },
          "execution_count": 30
        }
      ]
    },
    {
      "cell_type": "markdown",
      "metadata": {
        "id": "zyeHlWNg31cf"
      },
      "source": [
        "## Manipulating Date and Time in Pandas"
      ]
    },
    {
      "cell_type": "markdown",
      "metadata": {
        "id": "t4EEWymF5qRr"
      },
      "source": [
        "A tutorial on basic python date time standard lib is here:\n",
        "https://colab.research.google.com/github/thimotyb/materials/blob/master/datetime/datetime_tutorial.ipynb\n"
      ]
    },
    {
      "cell_type": "markdown",
      "metadata": {
        "id": "68V6CiM162v-"
      },
      "source": [
        "pd.to_datetime()\n",
        "Does what the name implies, the method converts a string into a datetime format. To call to_datetime on a column you would do: \n",
        "pd.to_datetime(invoices['Date of Meal']). \n",
        "\n",
        "Pandas will then guess the format and try to parse the date from the Input. And it does so impressively well:\n",
        "\n",
        "\n"
      ]
    },
    {
      "cell_type": "code",
      "metadata": {
        "colab": {
          "base_uri": "https://localhost:8080/"
        },
        "id": "2mRMf8S73xEN",
        "outputId": "35e47e43-b626-4e65-9829-35ae7f7305bd"
      },
      "source": [
        "print(pd.to_datetime('2019-8-1'))\n",
        "print(pd.to_datetime('2019/8/1'))\n",
        "print(pd.to_datetime('8/1/2019'))\n",
        "print(pd.to_datetime('Aug, 1 2019'))\n",
        "print(pd.to_datetime('Aug - 1 2019'))\n",
        "print(pd.to_datetime('August - 1 2019'))\n",
        "print(pd.to_datetime('2019, August - 1'))\n",
        "print(pd.to_datetime('20190108'))"
      ],
      "execution_count": null,
      "outputs": [
        {
          "output_type": "stream",
          "text": [
            "2019-08-01 00:00:00\n",
            "2019-08-01 00:00:00\n",
            "2019-08-01 00:00:00\n",
            "2019-08-01 00:00:00\n",
            "2019-08-01 00:00:00\n",
            "2019-08-01 00:00:00\n",
            "2019-08-01 00:00:00\n",
            "2019-01-08 00:00:00\n"
          ],
          "name": "stdout"
        }
      ]
    },
    {
      "cell_type": "code",
      "metadata": {
        "colab": {
          "base_uri": "https://localhost:8080/"
        },
        "id": "gckJoeod68as",
        "outputId": "a357febe-e02b-423c-f1e0-fe5bbf99cad5"
      },
      "source": [
        "# With an arbitrary format\n",
        "print(pd.to_datetime('yolo 20190108',format='%Y%d%m', exact=False))"
      ],
      "execution_count": null,
      "outputs": [
        {
          "output_type": "stream",
          "text": [
            "2019-08-01 00:00:00\n"
          ],
          "name": "stdout"
        }
      ]
    },
    {
      "cell_type": "code",
      "metadata": {
        "id": "pDL6lWh37Pe1"
      },
      "source": [
        "invoices['Date of Meal'] = pd.to_datetime(invoices['Date of Meal'],utc=True)"
      ],
      "execution_count": null,
      "outputs": []
    },
    {
      "cell_type": "markdown",
      "metadata": {
        "id": "tjz_8km4Fhtb"
      },
      "source": [
        "Examples taken from:\n",
        "https://github.com/pandas-dev/pandas/blob/master/doc/source/user_guide/timeseries.rst\n",
        "\n",
        "pandas captures 4 general time related concepts:\n",
        "\n",
        "* Date times: A specific date and time with timezone support. Similar to datetime.datetime from the standard library.\n",
        "* Time deltas: An absolute time duration. Similar to datetime.timedelta from the standard library.\n",
        "* Time spans: A span of time defined by a point in time and its associated frequency.\n",
        "* Date offsets: A relative time duration that respects calendar arithmetic. Similar to dateutil.relativedelta.relativedelta from the dateutil package."
      ]
    },
    {
      "cell_type": "code",
      "metadata": {
        "colab": {
          "base_uri": "https://localhost:8080/"
        },
        "id": "2NGO0w4dDgGw",
        "outputId": "c60883c6-8f69-436d-ce76-ad51fde4aa17"
      },
      "source": [
        "# Generate fixed time series\n",
        "dti = pd.date_range(\"2018-01-01\", periods=3, freq=\"H\")\n",
        "dti"
      ],
      "execution_count": 6,
      "outputs": [
        {
          "output_type": "execute_result",
          "data": {
            "text/plain": [
              "DatetimeIndex(['2018-01-01 00:00:00', '2018-01-01 01:00:00',\n",
              "               '2018-01-01 02:00:00'],\n",
              "              dtype='datetime64[ns]', freq='H')"
            ]
          },
          "metadata": {
            "tags": []
          },
          "execution_count": 6
        }
      ]
    },
    {
      "cell_type": "code",
      "metadata": {
        "colab": {
          "base_uri": "https://localhost:8080/"
        },
        "id": "76-lrvmEDsdS",
        "outputId": "78698de7-3607-4b0f-97dc-8d6e8de8d671"
      },
      "source": [
        "idx = pd.date_range(\"2018-01-01\", periods=5, freq=\"H\")\n",
        "ts = pd.Series(range(len(idx)), index=idx)\n",
        "ts"
      ],
      "execution_count": 7,
      "outputs": [
        {
          "output_type": "execute_result",
          "data": {
            "text/plain": [
              "2018-01-01 00:00:00    0\n",
              "2018-01-01 01:00:00    1\n",
              "2018-01-01 02:00:00    2\n",
              "2018-01-01 03:00:00    3\n",
              "2018-01-01 04:00:00    4\n",
              "Freq: H, dtype: int64"
            ]
          },
          "metadata": {
            "tags": []
          },
          "execution_count": 7
        }
      ]
    },
    {
      "cell_type": "code",
      "metadata": {
        "colab": {
          "base_uri": "https://localhost:8080/"
        },
        "id": "5JYlVWqWC7x4",
        "outputId": "337f6036-7c94-4f75-f00a-4262966e8f4a"
      },
      "source": [
        "# Date and Time arithmetics\n",
        "friday = pd.Timestamp(\"2018-01-05\")\n",
        "print(friday.day_name())\n",
        "# Add 1 day\n",
        "saturday = friday + pd.Timedelta(\"1 day\")\n",
        "print(saturday.day_name())\n",
        "# Add 1 business day (Friday --> Monday)\n",
        "monday = friday + pd.offsets.BDay() # Defaults to 1\n",
        "print(monday.day_name())"
      ],
      "execution_count": 14,
      "outputs": [
        {
          "output_type": "stream",
          "text": [
            "Friday\n",
            "Saturday\n",
            "Tuesday\n"
          ],
          "name": "stdout"
        }
      ]
    },
    {
      "cell_type": "code",
      "metadata": {
        "colab": {
          "base_uri": "https://localhost:8080/"
        },
        "id": "yVavF6d2DTrq",
        "outputId": "fc2a8a1e-dbad-4700-b4e0-2db25b77751a"
      },
      "source": [
        "# Timestamps and Periods\n",
        "dates = [\n",
        "       pd.Timestamp(\"2012-05-01\"),\n",
        "       pd.Timestamp(\"2012-05-02\"),\n",
        "       pd.Timestamp(\"2012-05-03\"),\n",
        "]\n",
        "ts = pd.Series(np.random.randn(3), dates)\n",
        "\n",
        "print(type(ts.index))\n",
        "print(ts.index)\n",
        "\n",
        "print(ts)\n",
        "\n",
        "periods = [pd.Period(\"2012-01\"), pd.Period(\"2012-02\"), pd.Period(\"2012-03\")]\n",
        "\n",
        "ts = pd.Series(np.random.randn(3), periods)\n",
        "\n",
        "print(type(ts.index))\n",
        "print(ts.index)\n",
        "\n",
        "print(ts)"
      ],
      "execution_count": 15,
      "outputs": [
        {
          "output_type": "stream",
          "text": [
            "<class 'pandas.core.indexes.datetimes.DatetimeIndex'>\n",
            "DatetimeIndex(['2012-05-01', '2012-05-02', '2012-05-03'], dtype='datetime64[ns]', freq=None)\n",
            "2012-05-01    0.370727\n",
            "2012-05-02    0.237339\n",
            "2012-05-03    0.133812\n",
            "dtype: float64\n",
            "<class 'pandas.core.indexes.period.PeriodIndex'>\n",
            "PeriodIndex(['2012-01', '2012-02', '2012-03'], dtype='period[M]', freq='M')\n",
            "2012-01    0.275041\n",
            "2012-02    0.350740\n",
            "2012-03    0.403516\n",
            "Freq: M, dtype: float64\n"
          ],
          "name": "stdout"
        }
      ]
    },
    {
      "cell_type": "code",
      "metadata": {
        "colab": {
          "base_uri": "https://localhost:8080/"
        },
        "id": "CEYeJqUlGuWs",
        "outputId": "1a4c6dd4-8c4f-478f-d03f-3c2a93f12048"
      },
      "source": [
        "# Using ranges as indexes (more compact)\n",
        "start = datetime.datetime(2011, 1, 1)\n",
        "end = datetime.datetime(2012, 1, 1)\n",
        "\n",
        "index = pd.date_range(start, end)\n",
        "print(index)\n",
        "\n",
        "index = pd.bdate_range(start, end)\n",
        "print(index)\n"
      ],
      "execution_count": 16,
      "outputs": [
        {
          "output_type": "stream",
          "text": [
            "DatetimeIndex(['2011-01-01', '2011-01-02', '2011-01-03', '2011-01-04',\n",
            "               '2011-01-05', '2011-01-06', '2011-01-07', '2011-01-08',\n",
            "               '2011-01-09', '2011-01-10',\n",
            "               ...\n",
            "               '2011-12-23', '2011-12-24', '2011-12-25', '2011-12-26',\n",
            "               '2011-12-27', '2011-12-28', '2011-12-29', '2011-12-30',\n",
            "               '2011-12-31', '2012-01-01'],\n",
            "              dtype='datetime64[ns]', length=366, freq='D')\n",
            "DatetimeIndex(['2011-01-03', '2011-01-04', '2011-01-05', '2011-01-06',\n",
            "               '2011-01-07', '2011-01-10', '2011-01-11', '2011-01-12',\n",
            "               '2011-01-13', '2011-01-14',\n",
            "               ...\n",
            "               '2011-12-19', '2011-12-20', '2011-12-21', '2011-12-22',\n",
            "               '2011-12-23', '2011-12-26', '2011-12-27', '2011-12-28',\n",
            "               '2011-12-29', '2011-12-30'],\n",
            "              dtype='datetime64[ns]', length=260, freq='B')\n"
          ],
          "name": "stdout"
        }
      ]
    },
    {
      "cell_type": "code",
      "metadata": {
        "colab": {
          "base_uri": "https://localhost:8080/"
        },
        "id": "kKTg4nUyH8Bq",
        "outputId": "6cf7abfe-c55b-445e-e7e0-db1243e1e5a0"
      },
      "source": [
        "pd.date_range(start, periods=1000, freq=\"M\")"
      ],
      "execution_count": 17,
      "outputs": [
        {
          "output_type": "execute_result",
          "data": {
            "text/plain": [
              "DatetimeIndex(['2011-01-31', '2011-02-28', '2011-03-31', '2011-04-30',\n",
              "               '2011-05-31', '2011-06-30', '2011-07-31', '2011-08-31',\n",
              "               '2011-09-30', '2011-10-31',\n",
              "               ...\n",
              "               '2093-07-31', '2093-08-31', '2093-09-30', '2093-10-31',\n",
              "               '2093-11-30', '2093-12-31', '2094-01-31', '2094-02-28',\n",
              "               '2094-03-31', '2094-04-30'],\n",
              "              dtype='datetime64[ns]', length=1000, freq='M')"
            ]
          },
          "metadata": {
            "tags": []
          },
          "execution_count": 17
        }
      ]
    },
    {
      "cell_type": "code",
      "metadata": {
        "colab": {
          "base_uri": "https://localhost:8080/"
        },
        "id": "YD3K3gReICUa",
        "outputId": "1c9cffbb-9d7e-449e-9004-47daeb33eb24"
      },
      "source": [
        "pd.bdate_range(start, periods=250, freq=\"BQS\") # Business Quarter Start frequency"
      ],
      "execution_count": 18,
      "outputs": [
        {
          "output_type": "execute_result",
          "data": {
            "text/plain": [
              "DatetimeIndex(['2011-01-03', '2011-04-01', '2011-07-01', '2011-10-03',\n",
              "               '2012-01-02', '2012-04-02', '2012-07-02', '2012-10-01',\n",
              "               '2013-01-01', '2013-04-01',\n",
              "               ...\n",
              "               '2071-01-01', '2071-04-01', '2071-07-01', '2071-10-01',\n",
              "               '2072-01-01', '2072-04-01', '2072-07-01', '2072-10-03',\n",
              "               '2073-01-02', '2073-04-03'],\n",
              "              dtype='datetime64[ns]', length=250, freq='BQS-JAN')"
            ]
          },
          "metadata": {
            "tags": []
          },
          "execution_count": 18
        }
      ]
    },
    {
      "cell_type": "code",
      "metadata": {
        "colab": {
          "base_uri": "https://localhost:8080/"
        },
        "id": "fpv7cS52IQBW",
        "outputId": "bf72e3a5-3b05-4b96-fc44-b58316caa3f1"
      },
      "source": [
        "# Custom calendars (holidays) and ranges\n",
        "weekmask = \"Mon Wed Fri\"\n",
        "\n",
        "holidays = [datetime.datetime(2011, 1, 5), datetime.datetime(2011, 3, 14)]\n",
        "\n",
        "pd.bdate_range(start, end, freq=\"C\", weekmask=weekmask, holidays=holidays)\n",
        "# Jan 5 2011 not listed because it is a custom holiday"
      ],
      "execution_count": 20,
      "outputs": [
        {
          "output_type": "execute_result",
          "data": {
            "text/plain": [
              "DatetimeIndex(['2011-01-03', '2011-01-07', '2011-01-10', '2011-01-12',\n",
              "               '2011-01-14', '2011-01-17', '2011-01-19', '2011-01-21',\n",
              "               '2011-01-24', '2011-01-26',\n",
              "               ...\n",
              "               '2011-12-09', '2011-12-12', '2011-12-14', '2011-12-16',\n",
              "               '2011-12-19', '2011-12-21', '2011-12-23', '2011-12-26',\n",
              "               '2011-12-28', '2011-12-30'],\n",
              "              dtype='datetime64[ns]', length=154, freq='C')"
            ]
          },
          "metadata": {
            "tags": []
          },
          "execution_count": 20
        }
      ]
    },
    {
      "cell_type": "code",
      "metadata": {
        "colab": {
          "base_uri": "https://localhost:8080/"
        },
        "id": "m5eE_b4vJILk",
        "outputId": "1796339d-706e-4e6b-f301-94d5dc66ee32"
      },
      "source": [
        "# Creating a calendar class\n",
        "from pandas.tseries.holiday import (\n",
        "        Holiday,\n",
        "        USMemorialDay,\n",
        "        AbstractHolidayCalendar,\n",
        "        nearest_workday,\n",
        "        Day,\n",
        ")\n",
        "\n",
        "class ExampleCalendar(AbstractHolidayCalendar):\n",
        "    rules = [\n",
        "        USMemorialDay,\n",
        "        Holiday(\"July 4th\", month=7, day=4, observance=nearest_workday),\n",
        "        # Easter on 2021 was Apr, 4th, good monday is one day later\n",
        "        Holiday('Good Monday', month=1, day=1, offset=[Easter(), Day()]),\n",
        "    ]\n",
        "\n",
        "cal = ExampleCalendar()\n",
        "# List the holidays on this calendar\n",
        "cal.holidays(datetime.datetime(2021, 1, 1), datetime.datetime(2021, 12, 31))"
      ],
      "execution_count": 31,
      "outputs": [
        {
          "output_type": "execute_result",
          "data": {
            "text/plain": [
              "DatetimeIndex(['2021-04-05', '2021-05-31', '2021-07-05'], dtype='datetime64[ns]', freq=None)"
            ]
          },
          "metadata": {
            "tags": []
          },
          "execution_count": 31
        }
      ]
    },
    {
      "cell_type": "code",
      "metadata": {
        "colab": {
          "base_uri": "https://localhost:8080/"
        },
        "id": "x1YpspTeOPBa",
        "outputId": "e5f841c3-ad3c-4a3e-ba01-d6d89101ee6b"
      },
      "source": [
        "# Shifting and lagging, slicing on time\n",
        "rng = pd.date_range(\"2012-01-01\", \"2012-01-10\")\n",
        "ts = pd.Series(range(len(rng)), index=rng)\n",
        "ts = ts[:5]\n",
        "ts.shift(1)"
      ],
      "execution_count": 34,
      "outputs": [
        {
          "output_type": "execute_result",
          "data": {
            "text/plain": [
              "2012-01-01    NaN\n",
              "2012-01-02    0.0\n",
              "             ... \n",
              "2012-01-04    2.0\n",
              "2012-01-05    3.0\n",
              "Freq: D, Length: 5, dtype: float64"
            ]
          },
          "metadata": {
            "tags": []
          },
          "execution_count": 34
        }
      ]
    },
    {
      "cell_type": "code",
      "metadata": {
        "colab": {
          "base_uri": "https://localhost:8080/"
        },
        "id": "IndShhpROtCR",
        "outputId": "bb0cfff0-8869-4da3-bcec-21459c69bcfd"
      },
      "source": [
        "# shift 5 months at business end\n",
        "# When freq is specified, shift method changes all the dates in the index rather than changing the alignment of the data and the index:\n",
        "ts.shift(5, freq=\"BM\")"
      ],
      "execution_count": 35,
      "outputs": [
        {
          "output_type": "execute_result",
          "data": {
            "text/plain": [
              "2012-05-31    0\n",
              "2012-05-31    1\n",
              "             ..\n",
              "2012-05-31    3\n",
              "2012-05-31    4\n",
              "Length: 5, dtype: int64"
            ]
          },
          "metadata": {
            "tags": []
          },
          "execution_count": 35
        }
      ]
    },
    {
      "cell_type": "code",
      "metadata": {
        "colab": {
          "base_uri": "https://localhost:8080/"
        },
        "id": "0KMaeyGwP4Ex",
        "outputId": "a13e8c74-6677-41e3-887e-96e748eb8a3d"
      },
      "source": [
        "# Frequency conversion\n",
        "pd.set_option('display.max_rows', 10) # to print all 10 instances after freq conversion\n",
        "print(pd.Timestamp(\"1/1/2010\").day_name())\n",
        "dr = pd.date_range(\"1/1/2010\", periods=3, freq=3 * pd.offsets.BDay())\n",
        "ts = pd.Series(np.random.randn(3), index=dr)\n",
        "print(ts)\n",
        "print('---')\n",
        "print(ts.asfreq(pd.offsets.BDay()))"
      ],
      "execution_count": 40,
      "outputs": [
        {
          "output_type": "stream",
          "text": [
            "Friday\n",
            "2010-01-01    0.390461\n",
            "2010-01-06    2.409988\n",
            "2010-01-11    0.417015\n",
            "Freq: 3B, dtype: float64\n",
            "---\n",
            "2010-01-01    0.390461\n",
            "2010-01-04         NaN\n",
            "2010-01-05         NaN\n",
            "2010-01-06    2.409988\n",
            "2010-01-07         NaN\n",
            "2010-01-08         NaN\n",
            "2010-01-11    0.417015\n",
            "Freq: B, dtype: float64\n"
          ],
          "name": "stdout"
        }
      ]
    },
    {
      "cell_type": "code",
      "metadata": {
        "colab": {
          "base_uri": "https://localhost:8080/"
        },
        "id": "WrFu--LWRQj3",
        "outputId": "c6f7b01b-b405-41e3-b40a-b328ebeec193"
      },
      "source": [
        "# With interpolation method\n",
        "ts.asfreq(pd.offsets.BDay(), method=\"pad\")"
      ],
      "execution_count": 41,
      "outputs": [
        {
          "output_type": "execute_result",
          "data": {
            "text/plain": [
              "2010-01-01    0.390461\n",
              "2010-01-04    0.390461\n",
              "2010-01-05    0.390461\n",
              "2010-01-06    2.409988\n",
              "2010-01-07    2.409988\n",
              "2010-01-08    2.409988\n",
              "2010-01-11    0.417015\n",
              "Freq: B, dtype: float64"
            ]
          },
          "metadata": {
            "tags": []
          },
          "execution_count": 41
        }
      ]
    },
    {
      "cell_type": "code",
      "metadata": {
        "colab": {
          "base_uri": "https://localhost:8080/"
        },
        "id": "5H-GwiCyRc0J",
        "outputId": "11ae4541-b1a7-4625-bcd8-87999628bc6b"
      },
      "source": [
        "# Resampling\n",
        "rng = pd.date_range(\"1/1/2012\", periods=100, freq=\"S\")\n",
        "ts = pd.Series(np.random.randint(0, 500, len(rng)), index=rng)\n",
        "print(ts)\n",
        "print('---')\n",
        "print(ts.resample(\"1Min\").sum())"
      ],
      "execution_count": 44,
      "outputs": [
        {
          "output_type": "stream",
          "text": [
            "2012-01-01 00:00:00    390\n",
            "2012-01-01 00:00:01    446\n",
            "2012-01-01 00:00:02    167\n",
            "2012-01-01 00:00:03    138\n",
            "2012-01-01 00:00:04    211\n",
            "                      ... \n",
            "2012-01-01 00:01:35    438\n",
            "2012-01-01 00:01:36    301\n",
            "2012-01-01 00:01:37    153\n",
            "2012-01-01 00:01:38     44\n",
            "2012-01-01 00:01:39    446\n",
            "Freq: S, Length: 100, dtype: int64\n",
            "---\n",
            "2012-01-01 00:00:00    15665\n",
            "2012-01-01 00:01:00    10984\n",
            "Freq: T, dtype: int64\n"
          ],
          "name": "stdout"
        }
      ]
    },
    {
      "cell_type": "code",
      "metadata": {
        "colab": {
          "base_uri": "https://localhost:8080/"
        },
        "id": "OaFn0A82TK9B",
        "outputId": "38e0043f-c54e-4e7e-f02b-26c12873aa5c"
      },
      "source": [
        "# Different aggregators and labeling\n",
        "ts.resample(\"1Min\").mean()"
      ],
      "execution_count": 46,
      "outputs": [
        {
          "output_type": "execute_result",
          "data": {
            "text/plain": [
              "2012-01-01 00:00:00    261.083333\n",
              "2012-01-01 00:01:00    274.600000\n",
              "Freq: T, dtype: float64"
            ]
          },
          "metadata": {
            "tags": []
          },
          "execution_count": 46
        }
      ]
    },
    {
      "cell_type": "code",
      "metadata": {
        "colab": {
          "base_uri": "https://localhost:8080/",
          "height": 111
        },
        "id": "y8Xsv3hWTZi3",
        "outputId": "b314ed3d-b42a-4ecf-a950-eac5a7812980"
      },
      "source": [
        "# Open High Low Close\n",
        "ts.resample(\"1Min\").ohlc()"
      ],
      "execution_count": 47,
      "outputs": [
        {
          "output_type": "execute_result",
          "data": {
            "text/html": [
              "<div>\n",
              "<style scoped>\n",
              "    .dataframe tbody tr th:only-of-type {\n",
              "        vertical-align: middle;\n",
              "    }\n",
              "\n",
              "    .dataframe tbody tr th {\n",
              "        vertical-align: top;\n",
              "    }\n",
              "\n",
              "    .dataframe thead th {\n",
              "        text-align: right;\n",
              "    }\n",
              "</style>\n",
              "<table border=\"1\" class=\"dataframe\">\n",
              "  <thead>\n",
              "    <tr style=\"text-align: right;\">\n",
              "      <th></th>\n",
              "      <th>open</th>\n",
              "      <th>high</th>\n",
              "      <th>low</th>\n",
              "      <th>close</th>\n",
              "    </tr>\n",
              "  </thead>\n",
              "  <tbody>\n",
              "    <tr>\n",
              "      <th>2012-01-01 00:00:00</th>\n",
              "      <td>390</td>\n",
              "      <td>495</td>\n",
              "      <td>19</td>\n",
              "      <td>148</td>\n",
              "    </tr>\n",
              "    <tr>\n",
              "      <th>2012-01-01 00:01:00</th>\n",
              "      <td>327</td>\n",
              "      <td>499</td>\n",
              "      <td>12</td>\n",
              "      <td>446</td>\n",
              "    </tr>\n",
              "  </tbody>\n",
              "</table>\n",
              "</div>"
            ],
            "text/plain": [
              "                     open  high  low  close\n",
              "2012-01-01 00:00:00   390   495   19    148\n",
              "2012-01-01 00:01:00   327   499   12    446"
            ]
          },
          "metadata": {
            "tags": []
          },
          "execution_count": 47
        }
      ]
    },
    {
      "cell_type": "code",
      "metadata": {
        "colab": {
          "base_uri": "https://localhost:8080/"
        },
        "id": "FMXMWVN0Tia9",
        "outputId": "63b75f3b-9766-45a8-bd47-a120af5299cf"
      },
      "source": [
        "# Upsampling\n",
        "# from secondly to every 250 milliseconds\n",
        "ts[:2].resample(\"250L\").asfreq()"
      ],
      "execution_count": 48,
      "outputs": [
        {
          "output_type": "execute_result",
          "data": {
            "text/plain": [
              "2012-01-01 00:00:00.000    390.0\n",
              "2012-01-01 00:00:00.250      NaN\n",
              "2012-01-01 00:00:00.500      NaN\n",
              "2012-01-01 00:00:00.750      NaN\n",
              "2012-01-01 00:00:01.000    446.0\n",
              "Freq: 250L, dtype: float64"
            ]
          },
          "metadata": {
            "tags": []
          },
          "execution_count": 48
        }
      ]
    },
    {
      "cell_type": "code",
      "metadata": {
        "colab": {
          "base_uri": "https://localhost:8080/"
        },
        "id": "XAP3z62KUB5U",
        "outputId": "5d5dec56-c4f6-4092-bd85-f9ed68019b37"
      },
      "source": [
        "ts[:2].resample(\"250L\").ffill()"
      ],
      "execution_count": 49,
      "outputs": [
        {
          "output_type": "execute_result",
          "data": {
            "text/plain": [
              "2012-01-01 00:00:00.000    390\n",
              "2012-01-01 00:00:00.250    390\n",
              "2012-01-01 00:00:00.500    390\n",
              "2012-01-01 00:00:00.750    390\n",
              "2012-01-01 00:00:01.000    446\n",
              "Freq: 250L, dtype: int64"
            ]
          },
          "metadata": {
            "tags": []
          },
          "execution_count": 49
        }
      ]
    },
    {
      "cell_type": "markdown",
      "metadata": {
        "id": "grVFQBPF8A12"
      },
      "source": [
        "## Accessors\n",
        "\n",
        " a property that acts as an interface to methods specific to the type you are trying to access. Those methods are highly specialized. They serve one job and one job only. However, they are excellent and extremely concise for that particular job.\n",
        "There are three different accessors:\n",
        "* dt\n",
        "* str\n",
        "* cat"
      ]
    },
    {
      "cell_type": "code",
      "metadata": {
        "id": "u-3ECkjd-Y_X"
      },
      "source": [
        "pd.set_option('display.max_rows', 4)"
      ],
      "execution_count": 9,
      "outputs": []
    },
    {
      "cell_type": "markdown",
      "metadata": {
        "id": "huGqFUiM_W7d"
      },
      "source": [
        "### dt"
      ]
    },
    {
      "cell_type": "code",
      "metadata": {
        "colab": {
          "base_uri": "https://localhost:8080/",
          "height": 172
        },
        "id": "sPQActN48Cfa",
        "outputId": "2b159cd5-c356-4118-f2b6-8decc6452fdf"
      },
      "source": [
        "invoices['Date of Meal'].dt.date"
      ],
      "execution_count": 10,
      "outputs": [
        {
          "output_type": "error",
          "ename": "NameError",
          "evalue": "ignored",
          "traceback": [
            "\u001b[0;31m---------------------------------------------------------------------------\u001b[0m",
            "\u001b[0;31mNameError\u001b[0m                                 Traceback (most recent call last)",
            "\u001b[0;32m<ipython-input-10-d07bb9f7c3e5>\u001b[0m in \u001b[0;36m<module>\u001b[0;34m()\u001b[0m\n\u001b[0;32m----> 1\u001b[0;31m \u001b[0minvoices\u001b[0m\u001b[0;34m[\u001b[0m\u001b[0;34m'Date of Meal'\u001b[0m\u001b[0;34m]\u001b[0m\u001b[0;34m.\u001b[0m\u001b[0mdt\u001b[0m\u001b[0;34m.\u001b[0m\u001b[0mdate\u001b[0m\u001b[0;34m\u001b[0m\u001b[0;34m\u001b[0m\u001b[0m\n\u001b[0m",
            "\u001b[0;31mNameError\u001b[0m: name 'invoices' is not defined"
          ]
        }
      ]
    },
    {
      "cell_type": "code",
      "metadata": {
        "id": "wn9Y0z-1-PUP"
      },
      "source": [
        "invoices['Date of Meal'].dt.weekday"
      ],
      "execution_count": null,
      "outputs": []
    },
    {
      "cell_type": "code",
      "metadata": {
        "id": "ump1xuBu-ko8"
      },
      "source": [
        "invoices['Date of Meal'].dt.month"
      ],
      "execution_count": null,
      "outputs": []
    },
    {
      "cell_type": "code",
      "metadata": {
        "id": "j3MLSHh--utc"
      },
      "source": [
        "invoices['Date of Meal'].dt.isocalendar().week"
      ],
      "execution_count": null,
      "outputs": []
    },
    {
      "cell_type": "code",
      "metadata": {
        "id": "iahNicsA-89_"
      },
      "source": [
        "invoices['Date of Meal'].dt.is_month_end\n",
        "# also available: is_leap_year, is_month_start, is_month_end, is_quarter_start, is_quarter_end, is_year_start, is_year_end"
      ],
      "execution_count": null,
      "outputs": []
    },
    {
      "cell_type": "code",
      "metadata": {
        "id": "U9xScBmL_PRo"
      },
      "source": [
        "invoices[invoices['Date of Meal'].dt.is_month_end]"
      ],
      "execution_count": null,
      "outputs": []
    },
    {
      "cell_type": "code",
      "metadata": {
        "id": "PiyS1Hu4_Uh3"
      },
      "source": [
        "# converts the Pandas datetime into a regular Python datetime format \n",
        "invoices['Date of Meal'].dt.to_pydatetime()"
      ],
      "execution_count": null,
      "outputs": []
    },
    {
      "cell_type": "code",
      "metadata": {
        "id": "VaVWA1BC__Lw"
      },
      "source": [
        "# to period [available periods are W, M, Q, and Y], which converts the dates into periods.\n",
        "invoices['Date of Meal'].dt.to_period('W')"
      ],
      "execution_count": null,
      "outputs": []
    },
    {
      "cell_type": "markdown",
      "metadata": {
        "id": "Vkx5CfazE4hd"
      },
      "source": [
        "### str"
      ]
    },
    {
      "cell_type": "code",
      "metadata": {
        "id": "9tpLV58iAh-i"
      },
      "source": [
        "pd.set_option('display.max_rows', 10)\n",
        "invoices['Type of Meal'].str.lower()"
      ],
      "execution_count": null,
      "outputs": []
    },
    {
      "cell_type": "code",
      "metadata": {
        "id": "8Jli6rySFB_M"
      },
      "source": [
        "invoices['Type of Meal'].str.ljust(width=15)"
      ],
      "execution_count": null,
      "outputs": []
    },
    {
      "cell_type": "code",
      "metadata": {
        "id": "uDMN_8sAFFrp"
      },
      "source": [
        "invoices['Type of Meal'].str.zfill(width=15)"
      ],
      "execution_count": null,
      "outputs": []
    },
    {
      "cell_type": "code",
      "metadata": {
        "id": "KigzgdEPFIUy"
      },
      "source": [
        "\n",
        "invoices['Type of Meal'].str.repeat(2)"
      ],
      "execution_count": null,
      "outputs": []
    },
    {
      "cell_type": "code",
      "metadata": {
        "id": "aRxCJ9Z4FLv1"
      },
      "source": [
        "invoices['Type of Meal'].str.endswith('ast')"
      ],
      "execution_count": null,
      "outputs": []
    },
    {
      "cell_type": "code",
      "metadata": {
        "id": "ihiWYISIFPPo"
      },
      "source": [
        "invoices[invoices['Participants'].str.contains('Bruce')]"
      ],
      "execution_count": null,
      "outputs": []
    },
    {
      "cell_type": "markdown",
      "metadata": {
        "id": "jw15LaQtFXcR"
      },
      "source": [
        "### *cat*\n",
        "\n",
        "For categorical operations"
      ]
    },
    {
      "cell_type": "code",
      "metadata": {
        "id": "UT35g2-JFSkG"
      },
      "source": [
        "invoices['Type of Meal'].cat.ordered"
      ],
      "execution_count": null,
      "outputs": []
    },
    {
      "cell_type": "code",
      "metadata": {
        "id": "qvGxEvF7GIO9"
      },
      "source": [
        "invoices['Type of Meal'].cat.categories"
      ],
      "execution_count": null,
      "outputs": []
    },
    {
      "cell_type": "code",
      "metadata": {
        "id": "_Z2TqWMqGTRm"
      },
      "source": [
        "invoices['Type of Meal'].cat.codes"
      ],
      "execution_count": null,
      "outputs": []
    },
    {
      "cell_type": "markdown",
      "metadata": {
        "id": "R-gnm1cfGcYu"
      },
      "source": [
        "# Combining Dataframes"
      ]
    },
    {
      "cell_type": "markdown",
      "metadata": {
        "id": "wjydbXnrK5yv"
      },
      "source": [
        "## Concat"
      ]
    },
    {
      "cell_type": "code",
      "metadata": {
        "colab": {
          "base_uri": "https://localhost:8080/",
          "height": 190
        },
        "id": "hn1haAo6GWUh",
        "outputId": "17ec7930-6e8e-482f-d801-5b6393794ca4"
      },
      "source": [
        "# Concatenating\n",
        "invoices['Date of Meal'].dt.year.value_counts().sort_index()"
      ],
      "execution_count": 50,
      "outputs": [
        {
          "output_type": "error",
          "ename": "NameError",
          "evalue": "ignored",
          "traceback": [
            "\u001b[0;31m---------------------------------------------------------------------------\u001b[0m",
            "\u001b[0;31mNameError\u001b[0m                                 Traceback (most recent call last)",
            "\u001b[0;32m<ipython-input-50-9857b5b7a998>\u001b[0m in \u001b[0;36m<module>\u001b[0;34m()\u001b[0m\n\u001b[1;32m      1\u001b[0m \u001b[0;31m# Concatenating\u001b[0m\u001b[0;34m\u001b[0m\u001b[0;34m\u001b[0m\u001b[0;34m\u001b[0m\u001b[0m\n\u001b[0;32m----> 2\u001b[0;31m \u001b[0minvoices\u001b[0m\u001b[0;34m[\u001b[0m\u001b[0;34m'Date of Meal'\u001b[0m\u001b[0;34m]\u001b[0m\u001b[0;34m.\u001b[0m\u001b[0mdt\u001b[0m\u001b[0;34m.\u001b[0m\u001b[0myear\u001b[0m\u001b[0;34m.\u001b[0m\u001b[0mvalue_counts\u001b[0m\u001b[0;34m(\u001b[0m\u001b[0;34m)\u001b[0m\u001b[0;34m.\u001b[0m\u001b[0msort_index\u001b[0m\u001b[0;34m(\u001b[0m\u001b[0;34m)\u001b[0m\u001b[0;34m\u001b[0m\u001b[0;34m\u001b[0m\u001b[0m\n\u001b[0m",
            "\u001b[0;31mNameError\u001b[0m: name 'invoices' is not defined"
          ]
        }
      ]
    },
    {
      "cell_type": "code",
      "metadata": {
        "id": "_vX_jxUrJ9dt"
      },
      "source": [
        "y_2013 = invoices[invoices['Date of Meal'].dt.year == 2013].copy()\n",
        "y_2014 = invoices[invoices['Date of Meal'].dt.year == 2014].copy()\n",
        "y_2015 = invoices[invoices['Date of Meal'].dt.year == 2015].copy()\n",
        "y_2016 = invoices[invoices['Date of Meal'].dt.year == 2016].copy()\n",
        "y_2017 = invoices[invoices['Date of Meal'].dt.year == 2017].copy()\n",
        "y_2018 = invoices[invoices['Date of Meal'].dt.year == 2018].copy()\n",
        "y_2019 = invoices[invoices['Date of Meal'].dt.year == 2019].copy()"
      ],
      "execution_count": null,
      "outputs": []
    },
    {
      "cell_type": "code",
      "metadata": {
        "colab": {
          "base_uri": "https://localhost:8080/",
          "height": 415
        },
        "id": "ShE8JAf3KAoS",
        "outputId": "6359bf51-cb93-4f64-f995-006ee458f1c0"
      },
      "source": [
        "y_2016"
      ],
      "execution_count": null,
      "outputs": [
        {
          "output_type": "execute_result",
          "data": {
            "text/html": [
              "<div>\n",
              "<style scoped>\n",
              "    .dataframe tbody tr th:only-of-type {\n",
              "        vertical-align: middle;\n",
              "    }\n",
              "\n",
              "    .dataframe tbody tr th {\n",
              "        vertical-align: top;\n",
              "    }\n",
              "\n",
              "    .dataframe thead th {\n",
              "        text-align: right;\n",
              "    }\n",
              "</style>\n",
              "<table border=\"1\" class=\"dataframe\">\n",
              "  <thead>\n",
              "    <tr style=\"text-align: right;\">\n",
              "      <th></th>\n",
              "      <th>Order Id</th>\n",
              "      <th>Date</th>\n",
              "      <th>Meal Id</th>\n",
              "      <th>Company Id</th>\n",
              "      <th>Date of Meal</th>\n",
              "      <th>Participants</th>\n",
              "      <th>Meal Price</th>\n",
              "      <th>Type of Meal</th>\n",
              "      <th>Heroes Adjustment</th>\n",
              "    </tr>\n",
              "  </thead>\n",
              "  <tbody>\n",
              "    <tr>\n",
              "      <th>0</th>\n",
              "      <td>839FKFW2LLX4LMBB</td>\n",
              "      <td>2016-05-27</td>\n",
              "      <td>INBUX904GIHI8YBD</td>\n",
              "      <td>LJKS5NK6788CYMUU</td>\n",
              "      <td>2016-05-31 05:00:00+00:00</td>\n",
              "      <td>['David Bishop']</td>\n",
              "      <td>469.0</td>\n",
              "      <td>Breakfast</td>\n",
              "      <td>False</td>\n",
              "    </tr>\n",
              "    <tr>\n",
              "      <th>9</th>\n",
              "      <td>FESGKOQN2OZZWXY3</td>\n",
              "      <td>2016-01-10</td>\n",
              "      <td>US0NQYNNHS1SQJ4S</td>\n",
              "      <td>36MFTZOYMTAJP1RK</td>\n",
              "      <td>2016-01-14 21:00:00+00:00</td>\n",
              "      <td>['Glenn Gould' 'Amanda Knowles' 'Ginger Hoagla...</td>\n",
              "      <td>451.0</td>\n",
              "      <td>Dinner</td>\n",
              "      <td>False</td>\n",
              "    </tr>\n",
              "    <tr>\n",
              "      <th>10</th>\n",
              "      <td>YITOTLOF0MWZ0VYX</td>\n",
              "      <td>2016-10-03</td>\n",
              "      <td>RGYX8772307H78ON</td>\n",
              "      <td>36MFTZOYMTAJP1RK</td>\n",
              "      <td>2016-10-01 20:00:00+00:00</td>\n",
              "      <td>['Ginger Hoagland' 'Amanda Knowles' 'Michael W...</td>\n",
              "      <td>263.0</td>\n",
              "      <td>Dinner</td>\n",
              "      <td>False</td>\n",
              "    </tr>\n",
              "    <tr>\n",
              "      <th>12</th>\n",
              "      <td>TH60C9D8TPYS7DGG</td>\n",
              "      <td>2016-12-15</td>\n",
              "      <td>KDSMP2VJ22HNEPYF</td>\n",
              "      <td>36MFTZOYMTAJP1RK</td>\n",
              "      <td>2016-12-13 07:00:00+00:00</td>\n",
              "      <td>['Cheryl Feaster' 'Bret Adams' 'Ginger Hoagland']</td>\n",
              "      <td>755.0</td>\n",
              "      <td>Breakfast</td>\n",
              "      <td>False</td>\n",
              "    </tr>\n",
              "    <tr>\n",
              "      <th>14</th>\n",
              "      <td>WKB58Q8BHLOFQAB5</td>\n",
              "      <td>2016-08-31</td>\n",
              "      <td>E2K2TQUMENXSI9RP</td>\n",
              "      <td>36MFTZOYMTAJP1RK</td>\n",
              "      <td>2016-09-03 12:00:00+00:00</td>\n",
              "      <td>['Michael White' 'Ginger Hoagland' 'Bret Adams']</td>\n",
              "      <td>502.0</td>\n",
              "      <td>Lunch</td>\n",
              "      <td>False</td>\n",
              "    </tr>\n",
              "    <tr>\n",
              "      <th>...</th>\n",
              "      <td>...</td>\n",
              "      <td>...</td>\n",
              "      <td>...</td>\n",
              "      <td>...</td>\n",
              "      <td>...</td>\n",
              "      <td>...</td>\n",
              "      <td>...</td>\n",
              "      <td>...</td>\n",
              "      <td>...</td>\n",
              "    </tr>\n",
              "    <tr>\n",
              "      <th>50003</th>\n",
              "      <td>VC858QHD5EW99MYD</td>\n",
              "      <td>2016-12-25</td>\n",
              "      <td>95XY29BUWLB0UEQR</td>\n",
              "      <td>FC1LJXHNH2883N3Y</td>\n",
              "      <td>2016-12-23 11:00:00+00:00</td>\n",
              "      <td>['Jon Ponce']</td>\n",
              "      <td>45.0</td>\n",
              "      <td>Lunch</td>\n",
              "      <td>False</td>\n",
              "    </tr>\n",
              "    <tr>\n",
              "      <th>50005</th>\n",
              "      <td>WQ9O30HM7Z20CX11</td>\n",
              "      <td>2016-08-26</td>\n",
              "      <td>R3CY4BU2QN5ZVMC0</td>\n",
              "      <td>FC1LJXHNH2883N3Y</td>\n",
              "      <td>2016-08-27 07:00:00+00:00</td>\n",
              "      <td>['Jerry Nelson' 'Alice Allen']</td>\n",
              "      <td>342.0</td>\n",
              "      <td>Breakfast</td>\n",
              "      <td>False</td>\n",
              "    </tr>\n",
              "    <tr>\n",
              "      <th>50008</th>\n",
              "      <td>UHIE76EGIC2KFP34</td>\n",
              "      <td>2016-08-06</td>\n",
              "      <td>BFLY4LHHUI5OIREM</td>\n",
              "      <td>FC1LJXHNH2883N3Y</td>\n",
              "      <td>2016-08-08 06:00:00+00:00</td>\n",
              "      <td>['Jerry Nelson']</td>\n",
              "      <td>164.0</td>\n",
              "      <td>Breakfast</td>\n",
              "      <td>False</td>\n",
              "    </tr>\n",
              "    <tr>\n",
              "      <th>50009</th>\n",
              "      <td>FWH3N8N5ARW53BE6</td>\n",
              "      <td>2016-03-17</td>\n",
              "      <td>WHVI4J3J388I8I4B</td>\n",
              "      <td>FC1LJXHNH2883N3Y</td>\n",
              "      <td>2016-03-12 08:00:00+00:00</td>\n",
              "      <td>['Jon Ponce' 'Alice Allen']</td>\n",
              "      <td>523.0</td>\n",
              "      <td>Breakfast</td>\n",
              "      <td>False</td>\n",
              "    </tr>\n",
              "    <tr>\n",
              "      <th>50010</th>\n",
              "      <td>C4MSVKV2UFVGROTR</td>\n",
              "      <td>2016-05-12</td>\n",
              "      <td>UR2WMW1QHJU3PUVS</td>\n",
              "      <td>E4K99D4JR9E40VE1</td>\n",
              "      <td>2016-05-15 20:00:00+00:00</td>\n",
              "      <td>['Regina Shirley']</td>\n",
              "      <td>539.0</td>\n",
              "      <td>Dinner</td>\n",
              "      <td>False</td>\n",
              "    </tr>\n",
              "  </tbody>\n",
              "</table>\n",
              "<p>9862 rows × 9 columns</p>\n",
              "</div>"
            ],
            "text/plain": [
              "               Order Id       Date           Meal Id        Company Id  \\\n",
              "0      839FKFW2LLX4LMBB 2016-05-27  INBUX904GIHI8YBD  LJKS5NK6788CYMUU   \n",
              "9      FESGKOQN2OZZWXY3 2016-01-10  US0NQYNNHS1SQJ4S  36MFTZOYMTAJP1RK   \n",
              "10     YITOTLOF0MWZ0VYX 2016-10-03  RGYX8772307H78ON  36MFTZOYMTAJP1RK   \n",
              "12     TH60C9D8TPYS7DGG 2016-12-15  KDSMP2VJ22HNEPYF  36MFTZOYMTAJP1RK   \n",
              "14     WKB58Q8BHLOFQAB5 2016-08-31  E2K2TQUMENXSI9RP  36MFTZOYMTAJP1RK   \n",
              "...                 ...        ...               ...               ...   \n",
              "50003  VC858QHD5EW99MYD 2016-12-25  95XY29BUWLB0UEQR  FC1LJXHNH2883N3Y   \n",
              "50005  WQ9O30HM7Z20CX11 2016-08-26  R3CY4BU2QN5ZVMC0  FC1LJXHNH2883N3Y   \n",
              "50008  UHIE76EGIC2KFP34 2016-08-06  BFLY4LHHUI5OIREM  FC1LJXHNH2883N3Y   \n",
              "50009  FWH3N8N5ARW53BE6 2016-03-17  WHVI4J3J388I8I4B  FC1LJXHNH2883N3Y   \n",
              "50010  C4MSVKV2UFVGROTR 2016-05-12  UR2WMW1QHJU3PUVS  E4K99D4JR9E40VE1   \n",
              "\n",
              "                   Date of Meal  \\\n",
              "0     2016-05-31 05:00:00+00:00   \n",
              "9     2016-01-14 21:00:00+00:00   \n",
              "10    2016-10-01 20:00:00+00:00   \n",
              "12    2016-12-13 07:00:00+00:00   \n",
              "14    2016-09-03 12:00:00+00:00   \n",
              "...                         ...   \n",
              "50003 2016-12-23 11:00:00+00:00   \n",
              "50005 2016-08-27 07:00:00+00:00   \n",
              "50008 2016-08-08 06:00:00+00:00   \n",
              "50009 2016-03-12 08:00:00+00:00   \n",
              "50010 2016-05-15 20:00:00+00:00   \n",
              "\n",
              "                                            Participants  Meal Price  \\\n",
              "0                                       ['David Bishop']       469.0   \n",
              "9      ['Glenn Gould' 'Amanda Knowles' 'Ginger Hoagla...       451.0   \n",
              "10     ['Ginger Hoagland' 'Amanda Knowles' 'Michael W...       263.0   \n",
              "12     ['Cheryl Feaster' 'Bret Adams' 'Ginger Hoagland']       755.0   \n",
              "14      ['Michael White' 'Ginger Hoagland' 'Bret Adams']       502.0   \n",
              "...                                                  ...         ...   \n",
              "50003                                      ['Jon Ponce']        45.0   \n",
              "50005                     ['Jerry Nelson' 'Alice Allen']       342.0   \n",
              "50008                                   ['Jerry Nelson']       164.0   \n",
              "50009                        ['Jon Ponce' 'Alice Allen']       523.0   \n",
              "50010                                 ['Regina Shirley']       539.0   \n",
              "\n",
              "      Type of Meal  Heroes Adjustment  \n",
              "0        Breakfast              False  \n",
              "9           Dinner              False  \n",
              "10          Dinner              False  \n",
              "12       Breakfast              False  \n",
              "14           Lunch              False  \n",
              "...            ...                ...  \n",
              "50003        Lunch              False  \n",
              "50005    Breakfast              False  \n",
              "50008    Breakfast              False  \n",
              "50009    Breakfast              False  \n",
              "50010       Dinner              False  \n",
              "\n",
              "[9862 rows x 9 columns]"
            ]
          },
          "metadata": {
            "tags": []
          },
          "execution_count": 60
        }
      ]
    },
    {
      "cell_type": "code",
      "metadata": {
        "colab": {
          "base_uri": "https://localhost:8080/",
          "height": 636
        },
        "id": "mKw4wF8mKFGO",
        "outputId": "d2de0330-7fd5-4839-b0c0-25ae401a1bcb"
      },
      "source": [
        "pd.concat(\n",
        "    [y_2013,y_2014,y_2015,y_2016,y_2017,y_2018,y_2019],\n",
        "    keys=[13,14,15,16,17,18,19],\n",
        "    names=['year','original_index']\n",
        ")"
      ],
      "execution_count": null,
      "outputs": [
        {
          "output_type": "execute_result",
          "data": {
            "text/html": [
              "<div>\n",
              "<style scoped>\n",
              "    .dataframe tbody tr th:only-of-type {\n",
              "        vertical-align: middle;\n",
              "    }\n",
              "\n",
              "    .dataframe tbody tr th {\n",
              "        vertical-align: top;\n",
              "    }\n",
              "\n",
              "    .dataframe thead th {\n",
              "        text-align: right;\n",
              "    }\n",
              "</style>\n",
              "<table border=\"1\" class=\"dataframe\">\n",
              "  <thead>\n",
              "    <tr style=\"text-align: right;\">\n",
              "      <th></th>\n",
              "      <th></th>\n",
              "      <th>Order Id</th>\n",
              "      <th>Date</th>\n",
              "      <th>Meal Id</th>\n",
              "      <th>Company Id</th>\n",
              "      <th>Date of Meal</th>\n",
              "      <th>Participants</th>\n",
              "      <th>Meal Price</th>\n",
              "      <th>Type of Meal</th>\n",
              "      <th>Heroes Adjustment</th>\n",
              "    </tr>\n",
              "    <tr>\n",
              "      <th>year</th>\n",
              "      <th>original_index</th>\n",
              "      <th></th>\n",
              "      <th></th>\n",
              "      <th></th>\n",
              "      <th></th>\n",
              "      <th></th>\n",
              "      <th></th>\n",
              "      <th></th>\n",
              "      <th></th>\n",
              "      <th></th>\n",
              "    </tr>\n",
              "  </thead>\n",
              "  <tbody>\n",
              "    <tr>\n",
              "      <th rowspan=\"5\" valign=\"top\">13</th>\n",
              "      <th>1449</th>\n",
              "      <td>HH1CUKNKIIK87D4L</td>\n",
              "      <td>2014-01-03</td>\n",
              "      <td>M4QG9N01E25U3A53</td>\n",
              "      <td>N4BN0GG5XKZV113C</td>\n",
              "      <td>2013-12-31 21:00:00+00:00</td>\n",
              "      <td>['Jason Cuevas']</td>\n",
              "      <td>546.0</td>\n",
              "      <td>Dinner</td>\n",
              "      <td>False</td>\n",
              "    </tr>\n",
              "    <tr>\n",
              "      <th>4256</th>\n",
              "      <td>KFXTYDP0YG9C6AZF</td>\n",
              "      <td>2014-01-03</td>\n",
              "      <td>RUMIZCB9KM3N57BN</td>\n",
              "      <td>9FOCJR50GUHXT2S0</td>\n",
              "      <td>2013-12-31 12:00:00+00:00</td>\n",
              "      <td>['Robert Hairfield' 'Ray Dowty' 'Adam Bowers' ...</td>\n",
              "      <td>586.0</td>\n",
              "      <td>Lunch</td>\n",
              "      <td>False</td>\n",
              "    </tr>\n",
              "    <tr>\n",
              "      <th>4747</th>\n",
              "      <td>D5NR6EP8NQZ0TGW6</td>\n",
              "      <td>2014-01-05</td>\n",
              "      <td>5GDXSLG0F4WA3JEZ</td>\n",
              "      <td>RJ1NLTCTP1COK3YS</td>\n",
              "      <td>2013-12-31 21:00:00+00:00</td>\n",
              "      <td>['Leta Stevens']</td>\n",
              "      <td>549.0</td>\n",
              "      <td>Dinner</td>\n",
              "      <td>False</td>\n",
              "    </tr>\n",
              "    <tr>\n",
              "      <th>5097</th>\n",
              "      <td>2T71YISMHMPBKE3Z</td>\n",
              "      <td>2014-01-03</td>\n",
              "      <td>0C7DIKEPG5KXNRFR</td>\n",
              "      <td>R835HX2AVB1KJJL0</td>\n",
              "      <td>2013-12-30 19:00:00+00:00</td>\n",
              "      <td>['Hunter Marquez']</td>\n",
              "      <td>338.0</td>\n",
              "      <td>Dinner</td>\n",
              "      <td>False</td>\n",
              "    </tr>\n",
              "    <tr>\n",
              "      <th>5154</th>\n",
              "      <td>V226RP8DLAQQKU51</td>\n",
              "      <td>2014-01-04</td>\n",
              "      <td>6C9WDEPC4Q05WBSR</td>\n",
              "      <td>23B3R2N3LSYQJQMF</td>\n",
              "      <td>2013-12-30 13:00:00+00:00</td>\n",
              "      <td>['Erin Jones' 'Blake Newman' 'John Truett' 'Go...</td>\n",
              "      <td>377.0</td>\n",
              "      <td>Lunch</td>\n",
              "      <td>False</td>\n",
              "    </tr>\n",
              "    <tr>\n",
              "      <th>...</th>\n",
              "      <th>...</th>\n",
              "      <td>...</td>\n",
              "      <td>...</td>\n",
              "      <td>...</td>\n",
              "      <td>...</td>\n",
              "      <td>...</td>\n",
              "      <td>...</td>\n",
              "      <td>...</td>\n",
              "      <td>...</td>\n",
              "      <td>...</td>\n",
              "    </tr>\n",
              "    <tr>\n",
              "      <th rowspan=\"5\" valign=\"top\">19</th>\n",
              "      <th>33833</th>\n",
              "      <td>IVSKD45PB8FZ0DRT</td>\n",
              "      <td>2018-12-31</td>\n",
              "      <td>6M3DK5ZNSTNHD50B</td>\n",
              "      <td>EIX79KCQQWJKLP21</td>\n",
              "      <td>2019-01-04 08:00:00+00:00</td>\n",
              "      <td>['Bob Fulton' 'Jermaine Rawls']</td>\n",
              "      <td>388.0</td>\n",
              "      <td>Breakfast</td>\n",
              "      <td>False</td>\n",
              "    </tr>\n",
              "    <tr>\n",
              "      <th>35406</th>\n",
              "      <td>IASPC12JU67ANTA5</td>\n",
              "      <td>2018-12-29</td>\n",
              "      <td>0MJH7DMFHIPI2T81</td>\n",
              "      <td>90KJEJUQ6MQO6NEW</td>\n",
              "      <td>2019-01-02 11:00:00+00:00</td>\n",
              "      <td>['Ted Pickering']</td>\n",
              "      <td>285.0</td>\n",
              "      <td>Lunch</td>\n",
              "      <td>False</td>\n",
              "    </tr>\n",
              "    <tr>\n",
              "      <th>36958</th>\n",
              "      <td>0GNFQ2XTTI56QE1E</td>\n",
              "      <td>2018-12-30</td>\n",
              "      <td>9UPI7YU9WQDSBR1P</td>\n",
              "      <td>9IPX1GTNSJJOULSB</td>\n",
              "      <td>2019-01-03 11:00:00+00:00</td>\n",
              "      <td>['John Hightower' 'Adam Hill' 'Betty Sagen']</td>\n",
              "      <td>600.0</td>\n",
              "      <td>Lunch</td>\n",
              "      <td>False</td>\n",
              "    </tr>\n",
              "    <tr>\n",
              "      <th>43534</th>\n",
              "      <td>8YHA5UTWAT7BOC24</td>\n",
              "      <td>2018-12-31</td>\n",
              "      <td>041RWJS7KUFPFVV9</td>\n",
              "      <td>Z19C6Y8F5Q22DMFK</td>\n",
              "      <td>2019-01-03 07:00:00+00:00</td>\n",
              "      <td>['Marva Cormier' 'Amy Boothe']</td>\n",
              "      <td>377.0</td>\n",
              "      <td>Breakfast</td>\n",
              "      <td>False</td>\n",
              "    </tr>\n",
              "    <tr>\n",
              "      <th>48207</th>\n",
              "      <td>J5FBQ0JWGIKWFSCO</td>\n",
              "      <td>2018-12-30</td>\n",
              "      <td>V8HPYOK6H6W5C5WQ</td>\n",
              "      <td>5AI9YF2ROZIV8QPJ</td>\n",
              "      <td>2019-01-01 06:00:00+00:00</td>\n",
              "      <td>['Pamela Davis']</td>\n",
              "      <td>536.0</td>\n",
              "      <td>Breakfast</td>\n",
              "      <td>False</td>\n",
              "    </tr>\n",
              "  </tbody>\n",
              "</table>\n",
              "<p>50017 rows × 9 columns</p>\n",
              "</div>"
            ],
            "text/plain": [
              "                             Order Id       Date           Meal Id  \\\n",
              "year original_index                                                  \n",
              "13   1449            HH1CUKNKIIK87D4L 2014-01-03  M4QG9N01E25U3A53   \n",
              "     4256            KFXTYDP0YG9C6AZF 2014-01-03  RUMIZCB9KM3N57BN   \n",
              "     4747            D5NR6EP8NQZ0TGW6 2014-01-05  5GDXSLG0F4WA3JEZ   \n",
              "     5097            2T71YISMHMPBKE3Z 2014-01-03  0C7DIKEPG5KXNRFR   \n",
              "     5154            V226RP8DLAQQKU51 2014-01-04  6C9WDEPC4Q05WBSR   \n",
              "...                               ...        ...               ...   \n",
              "19   33833           IVSKD45PB8FZ0DRT 2018-12-31  6M3DK5ZNSTNHD50B   \n",
              "     35406           IASPC12JU67ANTA5 2018-12-29  0MJH7DMFHIPI2T81   \n",
              "     36958           0GNFQ2XTTI56QE1E 2018-12-30  9UPI7YU9WQDSBR1P   \n",
              "     43534           8YHA5UTWAT7BOC24 2018-12-31  041RWJS7KUFPFVV9   \n",
              "     48207           J5FBQ0JWGIKWFSCO 2018-12-30  V8HPYOK6H6W5C5WQ   \n",
              "\n",
              "                           Company Id              Date of Meal  \\\n",
              "year original_index                                               \n",
              "13   1449            N4BN0GG5XKZV113C 2013-12-31 21:00:00+00:00   \n",
              "     4256            9FOCJR50GUHXT2S0 2013-12-31 12:00:00+00:00   \n",
              "     4747            RJ1NLTCTP1COK3YS 2013-12-31 21:00:00+00:00   \n",
              "     5097            R835HX2AVB1KJJL0 2013-12-30 19:00:00+00:00   \n",
              "     5154            23B3R2N3LSYQJQMF 2013-12-30 13:00:00+00:00   \n",
              "...                               ...                       ...   \n",
              "19   33833           EIX79KCQQWJKLP21 2019-01-04 08:00:00+00:00   \n",
              "     35406           90KJEJUQ6MQO6NEW 2019-01-02 11:00:00+00:00   \n",
              "     36958           9IPX1GTNSJJOULSB 2019-01-03 11:00:00+00:00   \n",
              "     43534           Z19C6Y8F5Q22DMFK 2019-01-03 07:00:00+00:00   \n",
              "     48207           5AI9YF2ROZIV8QPJ 2019-01-01 06:00:00+00:00   \n",
              "\n",
              "                                                          Participants  \\\n",
              "year original_index                                                      \n",
              "13   1449                                             ['Jason Cuevas']   \n",
              "     4256            ['Robert Hairfield' 'Ray Dowty' 'Adam Bowers' ...   \n",
              "     4747                                             ['Leta Stevens']   \n",
              "     5097                                           ['Hunter Marquez']   \n",
              "     5154            ['Erin Jones' 'Blake Newman' 'John Truett' 'Go...   \n",
              "...                                                                ...   \n",
              "19   33833                             ['Bob Fulton' 'Jermaine Rawls']   \n",
              "     35406                                           ['Ted Pickering']   \n",
              "     36958                ['John Hightower' 'Adam Hill' 'Betty Sagen']   \n",
              "     43534                              ['Marva Cormier' 'Amy Boothe']   \n",
              "     48207                                            ['Pamela Davis']   \n",
              "\n",
              "                     Meal Price Type of Meal  Heroes Adjustment  \n",
              "year original_index                                              \n",
              "13   1449                 546.0       Dinner              False  \n",
              "     4256                 586.0        Lunch              False  \n",
              "     4747                 549.0       Dinner              False  \n",
              "     5097                 338.0       Dinner              False  \n",
              "     5154                 377.0        Lunch              False  \n",
              "...                         ...          ...                ...  \n",
              "19   33833                388.0    Breakfast              False  \n",
              "     35406                285.0        Lunch              False  \n",
              "     36958                600.0        Lunch              False  \n",
              "     43534                377.0    Breakfast              False  \n",
              "     48207                536.0    Breakfast              False  \n",
              "\n",
              "[50017 rows x 9 columns]"
            ]
          },
          "metadata": {
            "tags": []
          },
          "execution_count": 61
        }
      ]
    },
    {
      "cell_type": "code",
      "metadata": {
        "colab": {
          "base_uri": "https://localhost:8080/",
          "height": 415
        },
        "id": "OZ7v6GQDKJxM",
        "outputId": "4349dc7f-d4dc-4cc5-8e4a-cb0ba82a0d7e"
      },
      "source": [
        "# Horizontal stacking\n",
        "range_a = pd.date_range(\n",
        "    datetime.datetime(2019,1,2),\n",
        "    datetime.datetime(2019,1,8)\n",
        ")\n",
        "df_a = pd.DataFrame(\n",
        "    index=range_a, \n",
        "    data=np.random.randint(2,10,size=len(range_a)),\n",
        "    columns=['observations_A']\n",
        ")\n",
        "\n",
        "range_b = pd.date_range(\n",
        "    datetime.datetime(2019,1,5),\n",
        "    datetime.datetime(2019,1,12)\n",
        ")\n",
        "\n",
        "df_b = pd.DataFrame(\n",
        "    index=range_b, \n",
        "    data=np.random.randint(2,10,size=len(range_b)),\n",
        "    columns=['observations_B']\n",
        ")\n",
        "\n",
        "pd.concat([df_a,df_b],axis=1)"
      ],
      "execution_count": null,
      "outputs": [
        {
          "output_type": "execute_result",
          "data": {
            "text/html": [
              "<div>\n",
              "<style scoped>\n",
              "    .dataframe tbody tr th:only-of-type {\n",
              "        vertical-align: middle;\n",
              "    }\n",
              "\n",
              "    .dataframe tbody tr th {\n",
              "        vertical-align: top;\n",
              "    }\n",
              "\n",
              "    .dataframe thead th {\n",
              "        text-align: right;\n",
              "    }\n",
              "</style>\n",
              "<table border=\"1\" class=\"dataframe\">\n",
              "  <thead>\n",
              "    <tr style=\"text-align: right;\">\n",
              "      <th></th>\n",
              "      <th>observations_A</th>\n",
              "      <th>observations_B</th>\n",
              "    </tr>\n",
              "  </thead>\n",
              "  <tbody>\n",
              "    <tr>\n",
              "      <th>2019-01-02</th>\n",
              "      <td>5.0</td>\n",
              "      <td>NaN</td>\n",
              "    </tr>\n",
              "    <tr>\n",
              "      <th>2019-01-03</th>\n",
              "      <td>2.0</td>\n",
              "      <td>NaN</td>\n",
              "    </tr>\n",
              "    <tr>\n",
              "      <th>2019-01-04</th>\n",
              "      <td>4.0</td>\n",
              "      <td>NaN</td>\n",
              "    </tr>\n",
              "    <tr>\n",
              "      <th>2019-01-05</th>\n",
              "      <td>4.0</td>\n",
              "      <td>7.0</td>\n",
              "    </tr>\n",
              "    <tr>\n",
              "      <th>2019-01-06</th>\n",
              "      <td>7.0</td>\n",
              "      <td>5.0</td>\n",
              "    </tr>\n",
              "    <tr>\n",
              "      <th>...</th>\n",
              "      <td>...</td>\n",
              "      <td>...</td>\n",
              "    </tr>\n",
              "    <tr>\n",
              "      <th>2019-01-08</th>\n",
              "      <td>7.0</td>\n",
              "      <td>8.0</td>\n",
              "    </tr>\n",
              "    <tr>\n",
              "      <th>2019-01-09</th>\n",
              "      <td>NaN</td>\n",
              "      <td>7.0</td>\n",
              "    </tr>\n",
              "    <tr>\n",
              "      <th>2019-01-10</th>\n",
              "      <td>NaN</td>\n",
              "      <td>3.0</td>\n",
              "    </tr>\n",
              "    <tr>\n",
              "      <th>2019-01-11</th>\n",
              "      <td>NaN</td>\n",
              "      <td>8.0</td>\n",
              "    </tr>\n",
              "    <tr>\n",
              "      <th>2019-01-12</th>\n",
              "      <td>NaN</td>\n",
              "      <td>9.0</td>\n",
              "    </tr>\n",
              "  </tbody>\n",
              "</table>\n",
              "<p>11 rows × 2 columns</p>\n",
              "</div>"
            ],
            "text/plain": [
              "            observations_A  observations_B\n",
              "2019-01-02             5.0             NaN\n",
              "2019-01-03             2.0             NaN\n",
              "2019-01-04             4.0             NaN\n",
              "2019-01-05             4.0             7.0\n",
              "2019-01-06             7.0             5.0\n",
              "...                    ...             ...\n",
              "2019-01-08             7.0             8.0\n",
              "2019-01-09             NaN             7.0\n",
              "2019-01-10             NaN             3.0\n",
              "2019-01-11             NaN             8.0\n",
              "2019-01-12             NaN             9.0\n",
              "\n",
              "[11 rows x 2 columns]"
            ]
          },
          "metadata": {
            "tags": []
          },
          "execution_count": 62
        }
      ]
    },
    {
      "cell_type": "markdown",
      "metadata": {
        "id": "-s7nr6iyK8WE"
      },
      "source": [
        "## Merge"
      ]
    },
    {
      "cell_type": "markdown",
      "metadata": {
        "id": "08lM9SlzLLhu"
      },
      "source": [
        "![image.png](data:image/png;base64,iVBORw0KGgoAAAANSUhEUgAAAhcAAACRCAYAAABwr5qkAAAgAElEQVR4AezdB7QsWVU38Ou3XCqiIiI5g0QFJAjMKKKEUUCSIEl45CFnEMmSh/wQRHISBwHJMCiCgBGziJExEYeBQXIO/a3fmffvu2/djrf7dvd9r2qt7lN16oR99v7vffYJVbU1WMHxzW9+c/Cd73xnWNPXv/71gZ9DfL33rW99axifDPI7vv3tbw9/8rt2fPnLX25hyqllpzxpv/GNb7R0/sTnnlDelPfFL35xmK7S/rWvfa3FKyd1iajlKqOWm4K+8IUvtNPcq/mTpg/HcyA8rnIKL4MPuavsU1rS5VpY86TsyD/X0qS83Kv113Ii969+9avDapJHWOur8RIHC6lrWEB/0jgQ/rjAoyoDvMz9yDnX7oXX0d3cUxaZ+CVO2sgPBhIfMbhXZVRlmvPkD63JK1ReykRr8qTM1Jl2JBzVhtxTrnJSb9qcPLX+Y/U8stf+8LrbZ4Q3eElG+Fd57H7KqfGVz5GBtNIop6atdiU4SP5cy5u4hOmPQnPihSmz5ldGaEn90iZN8ki3n8fWfhbel91zoOdAz4GeAz0Heg4cexzonYtjT+Z9i3sO9BzoOdBzoOfAvnKgdy72lb194T0Heg70HOg50HPg2ONA71wcezLvW9xzoOdAz4GeAz0H9pUDvXOxr+ztC+850HOg50DPgaVy4JQTB1tbW0d+xw8On7rU0vetsFNOPJPm4+chOG09/vBgrmYmX+PTbDw69fDhwSml9Xuit+Sf3bnYA7GlnrWdjmRQ2jKvwFbcipG0r5iGPVcXHs8B7j3XtcSMq+R5V5mX0YxV0r8Memcq42jB0o52nLjDkM/Eh8EpgxOHnaqOarvT6GLpqMRBYdKph48/YM7FqYPDxx9xiObod7bbOT9etvNu46SwcOdpw2atY2/01kJndy4Gg8FcxNZa1nY+mkHb7ajMXBuRYyoeTfuYxBsZvc3nGcC9ES1YIc93KfMyGLBC+pdB7hxlHC1YSqe/tTWv7dl2LE48ZTBIOc4Hu7B09OIgkDl4eNiW2VYTWlqyf+HMPBo6vTsxGYztld6j3LlYvUCXCZVFhbtMWvZS1szg3kvh+5RnJTwfo8zLaNJK6F8GoXOWcbRgaSifeZ2LUw8Pjj8ya7FjWn0Mlob1rKgjm1OcCyffgYdTtnmzNXJWYNsxO3M5pXaixRHLrNCJpwydt+HySyu3lLMHvobmYdYi08xCJU3r0IeyNeNRaS79WmguYfAxLMsM1xgebac5MqvSyjmzrtwb0jun1PbuXIwhdrv+IohC8Jn31yjQUQLbETdeEGeOECKECemGTOjwoEppGrDKTFHNNiz6AJwEnE1xDipehnzuyLKj7DuxQTk7GD8ixG2eBEddw9Gppwr/GMDMkN2dk22+7UHvdsiqIxe2aVWdSZtkiNx3dhaD7pJHlfsO+3Qk/4mnlJnklLmNpfCrFtNh6YG+TPta56/jL7qxo83D+PA78q+zqVXnkm7cTP0pgxOPVDB04ErHPnRGalwIarRsl98EMJTt8YPDh08cHH/iiWc6kUecpO06tvMN4+JI1TLKxoxZeHTqqacWR2q7jkbbKHrnQM0enYutQfMQh4LbGoR/20RtA30wNLSbIdChcIrRmSSIeILaNmu6QXgTAHSvFVZBMQJYZ5bREfgcwl130km8Okh4GcpyiJdRBqqOJo7ILDI/0oE1/ExV5iO61RIfGZEFQ+KOcsyMw+zRgqVRtmeIr8g5uMl1xcLW1iD2aD87hnFy2JT4bTwc6VPCs8Kf7X7nTAcytA/zVv4O9Wq7L9uW1Xb+Uw+fuMAG0lMHh0/sbMws9Wb5odW7y4HZbVOCgx2OaTGsw3Zmb85IHo2wW2GUfrtL7/De9JM9OhcHW6DboNnuuGcVxKzpUsc2AEZ0SFOA1ZRjAeFOF//+ppiNV+HLtgKjaph37QZgdvoi8+EUZlHmGA5t25XuiBgSfyxjZhwih3iYaChnl9W2k7baziQyHmKk4GGi3AuWttONx9JBtx3jcJD4SXgY6toYnu3K2wotsxetgzZDcXjXJsxTDnecgxC017D0AcUvGJa2Cy8j29Sl/czsu9pZ8g55VPBXMTkkYIGTpTkXQ2JLA6oS7GpoI7rLlNUIdJfAamc2wngN2zZzutKuOj125HzIlynAWkCuG5F1l8wLNoY8LXFDvozi87rwMgd9u3BV8g7bO1aZe8xMAu1RgaWRsp9R7gVLVU92YW4SE4+ie8vHQ8dRO+XENhu/s55TBofLY6TbvK/LUiPOR3kNkcWUPmC7ju2B8DAuA69hGXVloAzQpvRpw/KGM7MhbrFwzc7FegQ6ipk7QdR6t+EGqtoxzJSuGIKad5eohqDYHj3tSnOAI+blVTWau/Ie4cMO2a3CABRZTqNvB23oLXkrDnalm5B2l/iPcszsau+RiF14GMXbEjdNVordIYdVYKlbJyIKzRUju/hQ0tW27WjDrkxHb8R+4KHOZg1H8ZXvxy+yJDJGFlP0eZx8t9t/xJmJo1Gq2U6ze6WhYm1cHaWoPZ2u3blYh0BHMXNWQcyWroxGRgh9KKkpwBqmO6AnM/GqKm8ZFezKGx4Unq3EAMxB3y5clbzTlbnHTEQ8KtyFh1G8LXG1A96VNxWsGkujnIu6kXOSrRjTtl2YS9uO8nCXTAt/tnVte5ms4mHIs138Ljo4nG3YLmP0kygLMrpgcFhlKXJIa51V0NZdtJdMR05n41HHyd5dzJ5jlu9cDDdvbm888qnXt9zliId13LMGHzryqfQzPwF7yuCuWTo48ZT2CdnvfOfUwTOO205/6ne+M/w8cT43q8U+j1uv80lZ9/LJ25wL3ZfnraFl666Dtx/5FHxXEF//16cPjit0pZ7tdMe1jT3f+vdnlhmOt6vGcGTwrNC/dWa6IzdaMPzk7RRg1TwH8XybV5M8523l3UwDMDt9uwzBSIM3Tpm368ljaSNlfpRjZmSb2wC/89Kkkbzd5uFmYmmU7Ldpnij30t6RbaudzzgmHkXxs9mWOjOUZYVtB2JSZ17vpa7K96Wxcoo+77IppX8d9WRKpTF0D3FVMLTtgHWXT3Yu/SzSzn1wLjZfoLsF1mVwbcOYjYZT1rF2zMgUL5PAh8CdAqxFBLsJeWcF9/bU8IYagKFSTqav297t60kYKspc8FBHSccSZsbhdpuXkxzVqreTZZV6YguGOtmKONORqYY66RcNU99w1k2Bs8h9iMHtQZusO/lSsLQooZucv/LLAPD4Ewcn5u2XRwaEVZ7b9iX7IXbuTdjR1FZ2sHPkTuP9hDw7Cpjjosg0jsIOune102bS6oymPTvDVsauvJN4VMvstH2O5nSTzu5czEVsVfI0fIJwVinQXe04PDh1V9wYQcyaLlzupq+PSU0DVso4qGG37QfVAIT/u+Q1Cs9VSbe2n1nfZfBquo4yd/l2LGEmvO6GXZ4cVCztakd58qB7r8p9xL3tkecELHX52F8fJRzYnn2JU7Ij3OGhrK/JszsX66Oxr7nnQM+BngM9B3oO9Bw4skdn9KzamU7H6HurZ13vXKye532NPQd6DvQc6DnQc2B+DmQGddTsRJvh6syEzl/D0nL0zsXSWNkX1HOg50DPgZ4DPQf2mwNjlkVGORz7TcqE8nvnYgJz+ls9B3oO9BzoOdBzoOfA/BzonYv5edbn6DnQc6DnQM+BngM9ByZwoHcuJjCnv9VzoOdAz4GeAz0Heg7Mz4G1OxdebJWfF1X55Vo47kiacffXFT+J5nXRdJDr3VQ5z8rTvHxNeud5uZt2Oe+P/eXAJH2cdG9/qepL30QOpO8JbZuGD/R0f6G1GyZdN36V12t3LkY1NoxJOCrNpsR1AYkudIv364/94wA+jzqCm3H3R+XZr7iKgdC1X3X15e7mAAfOL/q4CZjYTeV2DPpCa+98bvNlv868sTl6GZykrk3AyjQapt1PW9YRrt25INBNZtBehaJNtWPZazl9vskcwOdR+NkU/lfa6vnkVvV3jxUO9JjYXElvgv3eBBr2KqG1Oxfd74PEaz+ISncQad4rcDYlH57DjHCT+d+l03U/Mt0UFK2Pjk3G7Pq4shk1b4JsujS4jr3bDC6Np2LtzkWXNAY301Ndxta07k26X9Pu53mcoYSbQtd+tnmVZR8N/Oy2oXu9Sn4ea3UZvPjNalfWxR+YQGPoTbgueo6VejcdF105zGo7Zk3XLX+Z1xvnXHQbh0mjDvE69HUf4+hbN11HS/2TvPRRvA8uRt3bFJ5sMm2bwqNV0NHLYRVcPhh1HFQsjKNb/Lr7x7U7F2FCtxNx7dPkfrz4UUwcFbduKKMVzZtI27p5s5f6R/FRXPj89a9/fYcSuZeZr73Ut9954PprX/taj5H9ZvSR8rt2pVY7Clv1/irOx9GHNvf6Y/85gNdsNrtxUA60xo5sav+4duciwiTgKBSmfe5znxucfvrpg6985SsDHcgmCx7daPz85z8/+NSnPjU444wzBl/+8pd74xDhLjmEBfyGDTj56le/uqMG8tjUA62f/exnG90w0h/7y4FPf/rTjd9f+tKXGmY2rcOO3cMF5zo5tH7mM59p9m9/udOX/sUvfrHxmt1mS7qDlU3hUHASjHzhC18YwPYm948LOxcam4PRr8obrzxpXOc+5vzFX/zF4MUvfvHgEY94xOBWt7rV4Bd/8RcH17rWtQbHH3/84KpXvWr7Xe1qV2vXP/uzPzu4znWuM/iVX/mVwUMf+tDBK1/5ysH73ve+gXJSJg/OzzVaQk/qD52VDnHuJ41Qvnoo00Hx//3f/33we7/3e4Pf+I3fGJx44omD613veoPrXve6A/Sh9ad+6qca3drwMz/zM+3ejW9848Hd7na3wbOe9azBu9/97sFHP/rRBuLUAdA5OFY5arw4dIXOpDmoYXgc3mpH2ibUdh3xH//xHw9e8YpXDH7913+9YeSEE04YXOMa12g8/smf/MnBFa5whcGVr3zlxv8b3OAGg5vf/OaDO9/5zoPHPe5xLR9e10688rDKOhhCRz0Pf4Ormkdc2pF0MPKxj31s8Ja3vGXw+Mc/fnCnO91pcJvb3GZwoxvdaPDzP//zDSNXutKVBmi/4hWvOLjmNa/Z4n/5l3958IAHPGDw3Oc+d/CHf/iHDSPhCXqUG16hYRSNaEl80oauTQ1DL/oqL6vDqO1VL8IX4Sc+8YnBn/3Znw1+67d+a3Cf+9xncItb3KLZkZ/+6Z8e4DMeX+UqV2l8Z1PoJZzQx0c96lGDk08+efAP//APOxxU/K11wGKlDT1JU+l37l6OnFfMuKdD+Nu//dvB7/zO7zQa7njHOzaaf+7nfq5hmx0JzVe/+tUbRtgZ2L7nPe85+M3f/M3Bn/7pn7a2Ky80BBfCKn/XuRfa6v3EbWoYO6idkYMw59oSHtT4xNHHP/qjPxo873nPG9zvfvcbsMd08drXvnazI8cdd9wAn9lu+GBjbnrTmzYssfOvetWrBv/yL/8yxIg61ImntT78E+cQH767DhacVyynbYlPfgOQv/u7vxu87GUva7bsDne4w+D6179+wwJaYZvtY0fQzSai+5a3vGWzlS9/+ctbX8N5qvWpx4G+2EW04VXqPpJk4WBh5wIFiPeLMBGJYGEErzEE9OQnP3nwS7/0S02ImHTo0KHGDB3In/zJnww+8IEPDP71X/918OEPf7iNOP77v/978J//+Z8tL4X63d/93cGjH/3o1tFQRorIMXna057WhBGOqK8eril1aMy9mg6t3WvAfN3rXje4613v2mim9MDJwaHk73znOwd//ud/3miWlgfM4P3Xf/1Xi3Pv7W9/e0urowEC7QZexvCtb33rAAAc6s+ROPRWAEpTr5N+U8O0Cc2Vt+jNvdAOQ/j1lKc8pfHnEpe4xLAzwH8Owwte8ILBa17zmtZ5n3LKKQ0zb3rTmwYvfelLB7/92789eMYznjH4tV/7tcGtb33rpmzKYEjwGsY4hznCRzwOLsRFydBTr+u50WUOskbTQx7ykOYAX+Yyl2kypugPf/jDm5MBKxziN7zhDQ0Pf/AHf9CcCHjmYNOLe9zjHk03GDsGQ8i4cUhDn0435/gXXUuc65yHvk0P8TlHZJJrmIk8xDGIMPKYxzymdcicBzpFn+51r3sNnvCEJwxe+MIXDjGCd5y1t73tbYM3vvGNraPg5D/oQQ8a3P72tx+wIYw0Y327292uGXMYCTZrp1DP0VJtXugVorm2yTWMvOhFL2qDI3UZeHAoOc0cI3j4+7//+2brTjvttDYqZUvYvg9+8IMN5wY1cMJ51jFquw7H4Owv//Ivh51fl7bKQ+c5uu1J/CaGFdPoDn8TojmdJdmxDXSH7hv46Xg5cWwLHTSw1dfoZz75yU+22WZ2+z/+4z8aLw0OOH/sPFvCZutrdPLsCHk6KjbRVekMH4NpdFW7kXjp5NXvwe6v/uqvNqfncpe7XJMvXJIx54i9+P3f//3Wvve85z0tRCv7wzY+9rGPbX0VB5qjxBZxSp/61Kc2valOu3q71+hI3Ki2pE2zhEtxLiqDUykiHZYInvnMZzYDYORAwBFOl3jljCpLOQQThU8drj/0oQ+1joXQAcBIUAdjxJoDLTUvBQt9YaS0MRZmQzgUOgcCvtnNbjZ4+tOfPnj/+9+/AxzK8Ou2Q1nqCHjUwbHJYbmHoeMkmanRkdz//vdvxiV5pB1XdspJG3K9qWEcJfRFDpVnp556ausUKANPnPPGkWAg/uZv/mbwT//0T03O0nFQjTR59Yyx0DVD4d6//du/tR9FdW1Uy/G4973v3XitfB0RQ43XMbaVHnxFZ7AojFwSL5/REONulOwHg89//vPbqPKf//mfW/1o90Nffv/4j/84qD+0wrH2Cd3jkDI0HGf4+PEf//HBAx/4wGaA0BB6Qj/exrg6157welNxga7aOWhTeN7FNr5wHOg4nbztbW/b9JzjwNnQAesY8BKfYQIf4eOv//qvB3/1V3/VzmFCOjiRhyPhXpxDjsrlL3/5Vr5ZJJ1Bl5ZZ+In///d//zcwgmRHGHm4fslLXtLqjj2oZZOl+PAg9Sir4lM8m6J8ThNc6PjwRocKe0mfsoIXedVTcZN6NjUMjrWlds7aqB146JxsDSw4b+yqmUCDP9ip7U875YW/lJ94obpSrnR0C14OHz7c5EjfzSbBDeekHpFpeO9eraPGm6HgdHJ+4M7svUHKq1/96oZXtoM84VX74Bpe2cXgPDbQ/dgQtErDjphBvclNbtKcUU6t6zrICj2hG73VltS2zXO+FOcC42IkCIKgP/KRj7QG/diP/VjzxHhXtZMJkVEC12lk7tXGJi6hfH7ySIcGex7Ug5EAxuPEcDQ5AKwKOWWJV5Z1zuc85zktrxHNs5/97IFRRKVDfcpImSlDfvG5121L0sknjfQO18BhJMUAGZEYiXfLz7V8yZsyD0JI9nhS+QL8lrmMHC0tGVGavWL8jdjiNAjxSHodhZBjofMwvRwng9JxAKURL3TPT5lGG+94xzuaMdaJ6LA5omacHKNmtrq8DUYYco4KY2YkwYCZZVOvUSR6GQY0oj80ul9/4hkJoXzol0deZaBbnFkPU/4XvehF20jEclEwYa04B6zO0o6k34RQO+gEbFRsO+fAHTp0aHDxi1+8LWdwuPApjgFe4pOf8zgSzvHUD//x1Dns+Ekf2UjrnAz9YIRc2QA6+chHPrLJFq+i387TYaFTfA44MIK89KUvPfiFX/iF1nlwBBzaGHvjOnlrfvGuU37S4VPVH+e1EzAa5+Cime3TsVTbpTzXtQxlb/IRWtFdB4I65RzaecMb3nBw2ctets1QkjO+4lf6paQd50xIq46uHGr9lddwwnHkMMImeX/84x8f4jflyR9a0JDy/+d//qctq8sLIzp8WNfp0/nYjmCWbYs9q/YkDgYMB9vywLN78ihPuQZa+jSOzE/8xE+0flKe2kbn4Rm6FzkWdi7CvDBOo3Tul7rUpZpSMsYhVpoK9i7hysL8NDZl1ka6V+/XMuQNAHUkD3vYwwacm7vc5S7NICVtQKRceSg+4Uqrs9PBheaAIXkTVpoS1w1Da8Lu/W4Z6rQGbA+Bzu/1r3/9jhmPtBtwD9IRukOzkSYPHb+tfTMO//u//9u8c/ihKOmgnVMQv3QKlEc8hRPWjsU9HU8UiyLKx/BKT8k4LhTNWio6LnCBC7SZDc6pI04wYxwDDyNGzpZZjIpMUWoHIxNHQN1RdnW5H6OATvf90IumUW0Sn3aGdunVodNCt1kYjg0HB+9ywA+8BrMZHef+JoZ0seoBrLh+17ve1fapXOxiF2vO4Hvf+94mO3zAYzjBPyGe4ll4Hf6Jj8MmzjWe4qe0MCG+lufaSJFBNguiA+HUXfKSl2wdl2l0R0bQ6bDFmS21NHPhC1+4TU3L7yCPave69kB7Kw+kr9etkCl/tSOFYyNsMzw6koqRFBP6c72pYe3Q0RhsOzeQNINgxlOnGb2N7U6b8BJ/qt0Mv7qySB5h8lVZSE/moQOv2RQOMMdfn8OW5Yj9cI0u9uK+971vw4i9WGZnYTEzEzDKVsS+GVjAJNwG6+6Jh1864Nr95I1dEQ/byncuv3pg2DIcO6KfNgOjz9O2eqSNNW6e84WdC5URlE7dZiNK+MQnPrHtPXAPQyMcISWTXkMiPNca0m2M+Bzdhrt2P2XXvOKiPJYgLDnoFMwOWKZxROivfe1r20yF6W3Md8QQhM4W2QF24qTxC/2VJmnQmV/ydEP01jTK4mTY38EjBxb300Z1dBWoW+amXEc+6OGt2zuhw3jwgx/cOkrTeBSFAlAQnUE91xHUH0Xzoyzi08FQInHJn/vKyhKFtO6rJw4BZaOkFEynYIage5h6NhNm7RZe0knJqyzl+qFHvTEInBzX6E0a59IpI8YCjfKIFycUh1b51aF9KZdxcE7P0MwhxltHsBtD223Lpl5HXzl+1pjNKjHC+IUneIkPrusPn1zjp19kEB7jm3hppI2clAkDyS998tbydRzwY53echq67J+JHQs/deZmDOC7OhUZ7EhHf+lujsgq13ScvsQeJF6Y+BqX+Niyek9dyrMMYwaFgxSMVJ2seTb1PLM+oZvjpz2WETh/BrCOyt9qk5NvXPvCd6FDWM+Tr8pOXGyw8skSXfZLsG+WR2s5ZhfNkpKFzd0cI45GdBseYyuCZdf1nM7HJgS/FbPSB/fBc+wdnLNzsVeuDcANVszS6R9h1wAmR3iQ63nDpTgX1rSNpBgFyyGjwE4wo4idJPiavgpqXCMJuCpzhC49o2VGxdSZKWVT4Ta98O4JOgfApF4hwFYax7Uj+bthlDzxyooSOE9d7tfzXFtDRSNDG77Gm7c35KAcjAAvGc+tk1uuSmfAyFMMht85xXEupATuUQrpk8595+775TrKqIOIIgpz7r57SU/h1MPw2hDFOTZNKZ5BML1sRGJqnPGQNgaBYoa+0Eap3Udb6oyiJ0wb5BUnb8pFVxwNPEoaNEsbJ0Maxsl9G/zMAnE2MltRMbvJGAmddNeGXNPEHGqbtzme+BHeaLMf/sY5jBwjd7yNc4BfZOBaGX7i8Cy/Wk7yKVM6Dk3wQhYwYlmGE2GjYOiyz4vjaabK0bUR9D0dkfuu/bpHeJF4PGETxPtV++C829mxD91y2Qp52Y+LXOQibdn3IDme2pk2aZ+9WPTRvoTYeu0LL6THa7yrh/vho3O/ys+aVny9p7zUJZ3r0KSc1JUQ5vI0ioGA2Qkz0fbF2CTKjnBYzRbAFyyyN8Eq7MEiHPrVc/gOJtmf2JKkq3qgXPHKFg/PypIHdt2nS7BtSUb/yPmBce1a9FjYubDkoMO2T2DSQVhdBUn63Bt1P4CowpYveSLkeh9jqjJH6PJ5OuO85z3v4Hu+53vaY2CVhpSV8lPmOEYrV5pJv5SfMuu1c+3LkbYmTP2m2RhcBkzn4jgoBkIHzZtnkO1n0RYjO8CO0lAqSkCphH7pJIR+7uUXBaIY4pI2eVMWBUpeeZwnjbrlxU/nOgaevGsb5DgZF7zgBdt0p44O3cmT+pJXOcoXpk3SiHOduFp36NIG93Wa7rsO3fiiTPHSpN7kxUOdI0NlCc1Ml8e1jbYdVQdaxIb+2aVviphh44RaXsCHtDM8DI+128/98CT86crCdTfNqGtx0ubnGt/xN3IjFx2Dex5jPf/5zz8429nO1p72ia7GVrh2nuuwPuly7X61AYmfNYytSPqUr9yc5x4e2dBn5Gy036Ut6TYpDG/YDPuyLPPAu8O9tFGYtJX+3K9x087xJbwZVWbyVx4nXR0AmuE661nP2gZVT3rSk5o9oJuwTd9jP+DauZ9z+Kp4hDvxcBjcRxcSVtzKG50J/qvOuKcsdKiTncFTA24zLvTQJuS6lyttniecybmonW4KJ2xPf+g4GOUchBkGR0C5t59hrauO3iJ0dducad3cBkI78C2FZKowIOyG+0nzrGWHJgDlGHn22ZE2Z0pZXGYzcm/WOhZJV+sKrRwvwDdtb0bLGrpOA8h50sAM4FGkdYVVaSlbljKsSdqx7ZoCprOL0kb510V36kUbQ4VOPPUUhSlOu9gdcayjExyO6ESV2yLynyVvtSF1FMhx48h5LFM7jKLgIsY37VxnyLjjc2TP9sGNgQpbcve7333H02lx6vC36kP4RCaRQeL2O4ys8d5j2TDiUcYcue8azaukL3UHowmDXUtS6PVYaPiJzvQzacO6woptNOCxpRwdtFktTx6ahYMZGILlrjOwLnyjB7bZZDQYRJnF8FQn2212JDzvtnMav2dyLhRSC1b5ec5znjYSjaEAhIBE2hA0jYBl3A8I62g+Ch4lsdfCTmrrdJTK2pL3TpiGxeAK1LRpGbQtowzti8IxvGaKbByqRgD9SUMOfrVNy6BjWhnpuNRtJgs4PcILuDoNHnK8cJ1KvOp1KVbqTafhGk0ciXQoFC80J33CTaA/HaHkgigAACAASURBVDGazb6YhsVzsy7e/eIIDqKf4ur5NLkucr/WA5/RVVgx/cpZttOec2QPi5kCvxi78HoTQrzmHMODH37DtD0vNtdyOmJ3hFU/w8PYI9f1PPeXHeJ3eF5lYXpeh21vVzYys9vBivPkWzZN3fJqf9HtN7zXgwP35je/ufGTjUeXPJtwVJ6iyzUc460lVXYum745zDDE3nA0NsF+0CsOBHrYkDj4sG2PiP7RrKi2kY0QbmfB7lTnohZi/U6nYcOKfQsZJROySnNUhiduv8MKtpxn86YRc6aMdXIMGebx0sxk6ASz7yIOijZsgpNR+Y+HlJ9jxJhxlhwxaOFxlUXi9isEOLyqdNqDYw+AaUGgNRUoxPMoFKOc2YB1dhzVmXCe6UPnOrkYAdd+66R1VN3oY6zMWqTDMxtnVG1t2hKPIxiB7xjwhPuFjVpu8KFO+snxsQfAC8QsNeiYGeLwX5tGtXfVccFE6EGfDgJ2OZ7sCZoOHTrUZmDs7arTydrNjqT9lSfpyGvcfpxXOVebrR06D+8hQl8wUtPvBz21zNQlZLfCE+f2VZiix2O0xTYnzyrtXKV51Hn4qqPGU5skORmwDTv2V8BJbF5wtWo8d+tDR7AND5wLNiX2xFNxnqazMbhieJa+capzgZEE62c63oyFDXkBIjCkM1d5zuVbhfDTYICLU4OG0KcjBlDTPITNscBgDCVowveGvHOc4xztfQXozgzAKBCtIy7tqgL19j5vOrUsFcVEWxRvVXSqLz+ysGZnLdq0PEPLMFAswNWBhPcMs7gu2Fd9nc4iChYHIoomvt7L/bRj1fR26+MA4bFX4bsXvor3AiHPs3vc11HxE/1YBU5SV2yDmQpPXXiRGYygG0YYtNAPK5zRbnvXcU3+5M55E8KMOEbYDIuRqWlvHYqBinQGYukow+PqhEenc2+/w3TM6rGMGjuBbvuhPEknLnRVG7qftIVHCdWFBktN3lDrAYHuoV8Jlrr31nEdWozwOcw24cN1HGUdNtwE267hxwBrHXiudaJFn4geNk8fKfToNx2EbY/smwm1Z64uwU/j9UzOBWEb2XMsdMgOAq4duzjXAe20ipd1X51+UQoGNDTYKEZxGFcGmPHK8/KYismYysHwpMA5z3nO9gKdtG9ZNC5SjrZUJy3njJe2erLBa6NjwNWV9ocni9Q/LW/qks5jnDDipVL24eAxBWOE4Qav/VxTtsiggn3V5xlJpMNwzQgI0UjR0Iwu1/kFO6umt1ufDjgjDcYq9Or0GGZ4994Urw9mwMmL8xzdnSbfRe9XfDj3+mUG2Dq0PVDoR3P47jwzXBykbnvXcR28kr1zP3QGv/ABM2ZCPVV0vvOdr9kbvMPryoOqkzV+UT6Py1/rk2ZUnTbymQmFkdyvjui4spcVH8cnM83osHm9OhbsXTrx1Nu9TvyqQzyjb3Dtra46a50yh59dgW2/2EPOJ2xnoLsOTKfO2L1gHK6doxG9fmZC6SvbbikzGKl9ziieT3UuGCHKbinEIzWOTAEB7ijw6gCnVTyKmL3GqS90ZNaB4bJz3qYa0/KUHyMJ1WY9hiIdiHidoWl8hgFQHOnI90rXsvJF0ckiiqhsQrZxyGPAvOUIHS9W3XnYdMW75Vjw2oESQONQBKiuAdiPDALydYVwgU5YiIKhJXSj07m4OBahO/Hroj10pn50aUOcozjSZhrNJnGgo7urwrcOgC2AR99F8HQFO6LjsPcpOhh80E/y4ChpR9q2zhCNZJ2RJvrwGTbc83NPCPu+F2IGI29+xYNqS6KbdbS+LFsxqhz2Q13qjY3IeeymNhmIkVFsaO6NKnNZcV2+mEW2wTeOReVRdSZqvmXRspdy0GdwahnY5xxgVv8BG7Csb4ndgBE4ci3NJtgPmA0tMK2vR6dztGsP3TQw98kKDpSZDDgKlsbxbapzYVmBx+JFQjnS2bmOonQVyL1VgLM2MB2v0COy3t6WaR5eovUwjONsYBgGRvAYaXbDZjhrTAF32ryuMPyl8OFn2pl7XjsL3NbFonRVEfeTdjRZK7fOaANQprbxU4dgai3K5l5A6x7er7PTUDccxNEJHih9fpW+YKXGrftcp6ANjAD60K0d2gT7MK+T02lc6EIXahv44Kbq8H7iI2Xbo3Wuc52rPYHD6DJicSLQ6xzt9BNPxcHNuvmLj+FnpQ1d+M2uwD9s43WW/rxQ0IxRNktGd/FjlbyPjYgchOJiJ1zHVuhobLDNGz2rba35l32OH+jhBBvcwbIjfMI799Htp0Ov9C+bnnnK8xpyts+yktkKvzgWMO48Dobz2BVY0s514zs2A43kD8/O0ac/RHP0EMa9CdVEg1mZafiY6lx43FSHa1rKEbASeD0PQKWJt1kVah6BzZM2NBgdBXC+AGefBWYxDMIY4BitCBYjGTZAYPQw0KfUPQ++KUf4SZhpY9ot9NMeTiCwRhbThL+M9nF0vBzGejNHlBcPePiMJgYX/9EVkLpHyQB73cqFligYmtDjetxv3fR264dffA7tMV7iYsDsZyAbL6myyZPRcKxCP9VhFtFTWvZamGINv9OWOBniYYVBi7ORNOsK8RdG1I+3ztEXRwOm2Qzp2A/XnDr0eyeDj2fFwchsLr2ks6vQz+h4bILr2A6yCQZi341KOUXktAr6Qhd8mvn0JKJ6Y/NCX9pRw7Sjxq363BdH/bLEETywezAALxnIBsObgu2KaboHw37RT22hj37wDudm+L3jpTrO43i+1QUQYSbOphqMi1KkkAg+1+sOAzKhjg1IvaaZkkegk0KMI3CMZZSl5VT5XLYjClDbuSk8iKzQ5gVEZjB0+ImvzkjiEtb2TDrvtrXyw8uPYAQgdVr4H75Tqkl87++d+bKc/eQDuUQOOgxv87Senc4kco+OV1lXOSfduDAbvVKOdNFLG4994Mljsjpo+hanbj/bvgllm+Knl3Su8sZ1+DOOp6uMr7Jm93xzZxTNaIr9qFgZR+uoNsoXp0G9bJT3QTzmMY9pZQebSTOu7FXEh36yC49iUy3heEzW8p5Blf6D45lf+pJNwOFeaYizYUZGO9l2+uvdRew+/oQfXXm0mYswrTLSGrqd5nYT54jjEXAlzP11hAEi4TvnFHg2mpeV0dwkxsahYIAzwmYE7fw13cWTrkdl5CaAP7SRhfabjrUk5DCtWGmM/JIn8s71uFC6pK0G0kj4ile8Ylsyo1z4TKEyc2EkN4n3/b3VOBcMApxzoMnHrBxDTu/jFJB99DnhODzMEh+99Mip+oyC6FhGds7RdLRjwAY4HRBdqEem/GvcOs6rg+CcfYMJr68+6aSTGiZcJx1szIsP6WOHYke0NWXaL6ajUk+1Nevgx6g6u7KiNwZSlgc4jrF9GelznGF7lv5n0/HPXmgPmx5nydKffhGu7eMiXzxJ3xgZN+cikYQtISGb9rBO6wCMdCrJKJ3fJhwBLo/bO9w5Fn48yGnCCwgyrWV5xGjPkyZ2LfOo8SMOmPbmPLxYJw/IIPJDh70iHvOzadVR70kb2t2bRX5po7Q1vekxG0l570bEAWCmAmfh/TTZ9PcXdz6MMuCZPIQMof1TZvcYP0f0Z5ysW6Ixf/CUfMFaQh2q78noYD1JQZ5oUC9HPjMqR7Oc6cmhQ4fadxvoD96EP+lcx7B2ZdHZwBm64IGcvAiKY1qPYCVLPfXeuPPkcT9YiR0ie5sE4bIe6W9q3DrOQzvZVSfDU3pm9nW0HA3LIHCdGTn8S2d8kPHNbmiXnz7S3im6691R2XzrtQg5yBWv8G3LRX4SGHHY9eqtcw6JwmDX6WACjpZozX/o02A7tG1GAlQ75WcRLoZxKOKMAAoGYqZZGyPzvOkwgKeEm9L+KGsF/ite8Yr2jHjipIncYkDmEVnypi55fVradDfHQgfGSdOZCLNhNjNBB1m5jhbaGT2GgnwYBp9b9r0aByxHxtF114mbhpVgKjoR3PlypfewWE/HR3hAA5wwxsKjhb/j2sEGaWve6zGNl+u6H0eHzCNPgysyDA4iXzQmzSz0xm7EfiovA1k2xOPJ4jg5SavcYHGWOlaZxiP3HC+yhek4Fc7rjBwHYxwuDkq8NtBZ/aTzOE9svgGD1/bbV5SZSnIgQ1jZsaFThM6VIhiBEngVcD13rwJhlcKtdUUpbnazmzWDif4IdZbODTAImtEVMngAgqHy+76EzaEYaQZj0w5yqEdGITxrz1zniGJ3ZZj7k8J0FtLIjzd44pFC/MOnOt3tfhTuoCjR0Uon2ZCH9tFpv8jMa+Rt4HNElys+EjcJG+7VTid5vMnXJk5PUqiTUcosSnRO3NHK97QL7w1SDFB83Riv8Gieznka/xe5H92OHYn8xXvTKJo9Xo7myDkdSdJOql++lB1bHYx4BblvPLmOfVLWpvCmtktb0YUnHtn1FuLqHHM04Jq86dzRgm3tiO7GhsS+a++73/3u5mjZNB75hm87nAsCNqKx8z8HhspUgRRwBGxJu67QR7FMv2p0HAOCdx0lHxdyKuKdSaOTZAzDSMsMviLoYz+OMHBTnCt0RDYJxTHqFPf0009vdMeIVBnNo8QxEPLjhylBI1L8ttlHx+GXjiO8HMf3Pn7xJY9ZeAjfZEQuDGBm6Zw/61nPahjp4qDKuuJl1Hk6y+49zq0Z0KxHRzc5/9ZvzRTStVnacNDTsCfa7UVV3mAb/m6K/QwdwUF9F4pO1NJwaJbGuT4g/UBX9vU6Nilh6mJHLWFzQnMv9af8Ws66zuP0aCvaPYl4rWtdq83O6jfolZ8OmK6RtR8Hw++gY5ftyGBdW+isdmam3yy1vsAHE8kvssSvLRdOeKOmSy0DYI4jo+CawXkAsi6B13p1mre61a3ae+g1GO0MGQbUjm6ckCm9tMAhPacka0vOMdZHc8zmmL2Iko3qrCtdqz6PrNRLPpTClJXvBjjQHTm6JnO/aUfNIy2F8TgjT9V5Oo1Mm+G/jgvfKijH8b+P318nI5gmC45FDATZkZMOLy/FmYaFWe/n8++WA+iWOtUfIwwr8HMs4EP78YGTxbGw4TwbF2fl536ni03LjIT6cs6WwIh3UDjS2eb+rLTFccjgzH4+X6XuOhIpX7mz2KdZ618kXWyrd1p4yMFr69m99C9wHEeC/dMBxy4edPumXdpZ7bt+0eBVu9kQ2wjMcGkreWYyYqsKkAdy3/ved4ccaqdUO1RgqXl3ZFrhBSNlepcCp7Obp3MLSDgXQJEpoMx8uLZpx/q0Xc2beERxKWYMBdnY1HmlK11p+CGlpNOGrtMwqV0136FDh9rTKHiCz4AXAOq88M0MhvCgK9bRQD8ZkYtOLnqhXYwgx9qTVde97nWHnUaW/uBjFv2WRlq/2Ar7tazDGtXQHzrmp844GDk/Gng8qQ0MMD4zxhwM74Txjabo6SS9W8U9zkNkqL6q65H/4cOH2/4qNEfG3bSz0hrnAua89C84G8WPUXGz1rPsdGyrp+M8+USPyBSWydcPBozyg3edcRzrSfjY9Htpm7aGVrrsnN3XRnruA4lmL4IZ/G/LIgRsKswaqdF5ZiY2SbgBC1odacTtb3/71jANTOMJ2XkYk/i9hBjIENp7YVYnxjf0bHroeXVTm44o9jw0BwMw4QkasxYMJR5Tsr3wtM+zv7MV8/CX0bB8Zmkxsp4HH9LWDolTabMbB7PHx9/ucLR1SGYSvWcEr2PD5uX3qtPrG7ztWEcSmmOHZ6EluEpoFsRXqjMjMEsZ60yT/tCjlx491R/oYJfRv8yjq5uYljOFD5Y6vWPJBn8YYROac0HoPn1sZ/e80137LXS0EW6AWevT2flyno1BFFeHFw8rDsaiAsE4ZTOWvlXiAy6OKFmlZxPPjTo4YDEGwnlpD+99e+UGN7hB81ijYIvyt8+/XkfDUqI30t7//vdv8I2sE07DdDed2T3f84GP3rk4c4DDdhikwLr3A+io2aeDcLAVRu1Gph71dx2Zx6ZMa4f0Sevc/rUnPOEJw9myafk34b7ZP7NOWc7jRB8NMxOL2t/0t/jhoQpv8w4+hhs6rX9l5zhh1tHIuoXbpSWeJKfCemDWgzL9ypsi+DR8EQYyAsrzQSIG+Na3vnVjR2hYN2+m1W/TpZEp+h2Vl7M6GQyD9hpx+X4IZ0vHsSwHbhH59HkXc07ojqcBrJn6CF46DwYiRmISxpIGrgxMjEgNVDgt/cjuzKljzgVesEn00FttfdwsvJvE3025Z7bSQM4sRuzGrPRLH+fCgNBSrWXVg3CkjV5OeKc73aktbZEl+9c7F2cuBeGHJ6IMPn/u535uOEO+ZarcRk4bjfIVP2CondC6QRAwh47QpqN/yEMe0qZiCJoTEIdCg3O+SAekDHsxvEzGrIWXi1GQg+Jc4BmPMksj4aUw5+HrqDBGgTLZ1IoXy+LtInLp8y7mVIR/9IZhYPBtxHQEFzGso3BR46SnD7BhaZWTn/XY1HOshuxHHHF6o1N90Yte1Nbuo1uVl5t6nsEFJ8MRjMxCb9op9GVNS7V14+YsZawrjXbaawjXNqHGaTawIs9jFddpdxwsgxSvB+dH6Ifxrb1E6+STT24dEAECwDzA2W+hA3U1cjn3vLE1MO9aoLwEzahpmJBSL0P4pncxUnkcDFOaFASfojT7zYNFy7dxylR1eKc8Mq7X4+qII2et2PchjLwoVpy5gKwPl9PZr5qPHAKvuzdVbflsL0cc7Uc+8pGtDHqiHTE8q27TJtXHFmUJMQ4Xu+SpAx3Vph/VzhnIZcZlL/u3tNVDA975sUl9zDQZxGk29Z9+Jg70JmFtHbToF/3UjT/6GY/r6lvassg97nGP4VsogSmdziYAIIYrAAhtHn8xi8CZ0NlRVOthFFljMxW5KMOVxSuLEfbhJ+uPB+UgTyNTvOKQObo8ndSWYMBjrY9//OPbyAtPl+G4LSqbPv/iDg05cs5tWDZ7EWcycp+EDfeij849/++VwHH2e4yc+el4T7LhiQ4JZjlfecld5d80Xq/jPvpgQWggd+1rX3s4qJqF9joAMwNgcMY2O+axQ+toe+r0HR5PQpCbDhT9+pve/mzbH46zflIfYRAKM1uefgB0wM8RQG2a8ANU9Bkl+TIbYXMAKC8HgLNB6OKizIuAgOOCcQCVKU2PUdXHcsO3TQwJmRx9iMiUJt6Fj7PS++lPf7rt2/DCm9ph4PEivO3zbivnuniRmTkb1jgXrh3pUKZhJB2MvT0cWI8/0xc4qVhZV/vWXS9+ci6EsSVsFvvl/Tzh3zQ+r/s+PJx22mntxVdemucQN+3QvqTDA/u2zjjjjJbtILSds+2lgV44p29JfyPsZ+bOtF/0HW/I19KqpRFY2XLj+OOP3/Ve92mgWeX9rM8lBMqb3vSmbWeqR1CjuHV0wLPkECxqXPCngkiZpjQ//vGPHwjDEAU25f285z1vSPOsDob8FMlHyjgTOgxGsjpyi/K4z79eJ4N84dzTUJZIc8yKEek8XugdAHTFCIZjvwzn/qBjg9HFWzqTAQ/b5EVM7G70MzzftLDS59zG/ywLz7o0kkdOPTCQb5XMiq1188NsL1zbbxc50hf9QO0XDjpO90o/TOMHfMO6n6dqDFa27Oy2TlKPCqgav5fzOATy8mArIGepR5qkCyDNGnhKhMAzQkq4VyZNywdMwOXHKFiWCT3T+GLmIGm1JZ582pWp6Gnl7PW+ur0A5g53uEMrIvXPWp7NoNe73vXatGAUbFmj0jgsQsoahQXSY6VzCg84ydqNB+mMnIvD98RL53wZ/FE2R9HXOy35PfShD50VFi1dcG0d3VMQDE3KFE7Tq2n3tRF/pIuOK9cvfEv8qHBa+ft9H41+5EmG9doG6TzFFT7OxfwjiesM87y6Pa2+0JXQnol8aGxa3txPH+CzEk984hOX+n4LbWdHwwP9C1pjU/EjtKNH2mqDQ+O4EJ7NyJGfwWtwtwzd22/sKR+9aPVjN+h68Bg9ojfBZaVJXL0edy6/cvHHwMKyiH1+Ww9+8IPbFy4xtyuEcQyfNz5r/ckXTzada+LHhd10ebrlne9859DgxLCMY8Cy4jHPl/y8TKVL1yj6x/G0xjvPMgvlmKXcUXWNi1Oe6SpPjVTjM2s9j33sY9tno80SpbMbBca98Bg/7ZVheNMxBayu91LmQcuDl+lEc64NeOKXUQF+uE8GiV+0rQyM8sjW2vKhQ4fGwWhkfDDkMW2bQi0dBhvkuCh9aFOmchgw18pHN4c/ej8uXLT+ZeWPDMkZrej3aGeWKsPHkUyeEpkOlB3p2pUpWafeDl2xGxwLck781ALKvhzOq8FsHIJZ8s6TpvuOpvQzyuBsVN4kblr59pl4vJK+kVmwvSxc7Hc56IU3tiMY1BZx7qm/tinYTPw0+lJ+0nlNgUd27b3YMhXqxReOeH/d82kCmOU+wXaFP0s+aQJs50DNyOSRF8yovzRyWWGYx+tjGGzquetd79p2Tc9Kf9oQcONzgF+VNN52yq3tTtxeQ4phw139KFHomVamzUzWiHVA1o8z7R1wLsJrHQSe8nrJUeeB1zahkvMiZR+EvOGhEL78Qre4vByOQcCrjJ6kEZe0ew3xXF4yfcUrXtH25sDnvNgzWtHxwIg2LIM2dMEtzMEIWvEgcZyOqvujzvfKl2XlC01w7Rxv0E+u1vLxvNpdusgmVLswST9jU5OeTqe8xE3KP+u94OFtb3vb8FXgs9oPdZi9MPvpK5qOefJOojFtTRr11Lh6njQZyOV6UugpOa+zhz/6WJ3b6O6ysLIf5cSusBvsKv1Rj/ZwOGJzpINP2Ow6H5Pokk8eZXNelGuQYpZ865KXvOTw+fYKxmWNoHVm2cBDiMr1Pg1CD2AnCde9Spc8XvpjHYwhi/ImnMSIvdyrTJdfnY94xCPaZtJpdLtP+Sv92h0n4pOf/GRTskwbhjfyJc0sdcySxqbMbLRJ+lkUHO02sNqvwZhX52Iv/OzmITdLTGYv8JoSAKk3Gbrupj/aril3lDpto6yMGJ689a1vbXyXBl8o/tvf/vZmGKRJnr2GypWXcVCuKeAvfvGLcxl/mPYUgJfaZRe9NixDfsrAI3s6gj080HabR/fa7lXmw2NtUGfkzY7YB+VNlfTeUe1EPY++jgrZibyfKI4Gvf7MZz4zKvme40IPnJC1Omax38kHU5aysxkUIbm3Z6KOZMyAyaunKy+9FI6NdeBT7o1yOMbRYEbuXve6V6M7jgVMLgvf+41D8kK3zfi+8J0BGyfvve99b7M9aIiuxhYJEzeJRnjGi+ikPsIH+rzJeet85ztfey94OhoC9wOcZQjf8sF5znOeNjJShyc8jHL2coQ2L6HhBfsQECbU3yRG7OVegMSwExTmnXTSSW1D6Txt6AKakp3//OdvBl05+O31uje5yU2Ghj2zG/PUMyotvuE958Ia7zyyRbdPLucFMoAKTHiZcC98TR6ertdPX+QiF2k4NIL2tkgvSHMv6Y7WMPiqvHROaXWm5zznOQde4c7pwhu8sucnndWifIkRYRwsM3qbK4M8q+5L54kzm7iMapVHT5ZJn3Yz8Be72MWak0EHPXVgU/ei7d/v/OSLJ+oR4os42NYmj7XH9s7SWXf1m12iO3m5lftG2kaOyxigBAcJzSga2H3+85/vkjLyOvk4O97eaqCZ9ubeyIwzRqYsdure9753+/6TOLMT9rR4o/CnPvWpYWnqnIcvpvgf9ahHtUFltX2R6X7jZ9HyOfuvec1r2jehrFCYrdBvWiL3MU66SvfVA5d+89QZfOONfOyUx9qtiGyd4xznaJ5NvLq9AHwouREnOkjGUGNU/gM/8AOtE1HPrHUBhF/Sm6qy65iRIeT6m4cxs6TFPMbe7leMIyyvObXvYpYjQI4i5Rr4ddq+55JDp2pKaZ5pu+SdFIZvDDIwUb7ETcrnHlrks3kWMNPxCZehYOgxS3H2s5+9GQftv9CFLtRmp/B7FhkdDWl0OhRUiK8UHo919t5o6FFP/PfiOJhh5KPQi7YfxtXn42X2ARgBznrAtQ5Dvsw2kVuWLxalzUhLR2zm4kd/9EfbaJ+zddaznrVhpOr+qPNF6180f4x1aFOeOLbLS6nudre7DR252Ijwvnud+Bqy2xe84AUHT3rSk1qnaRb0whe+cHsj7yz5a1mjzrt2woctPdZ++umnj0q+Kw4N7I3ZFRgxuxIbuGz66MsP/dAPta/OstGc0Upn6g2R3evE15CuGUyy+9ET9USui+Jjv/PTa9jzUTEbrj3lSDcvcIELtM9ZsClsMDrYnji/s9IVPkTf8cYsCYxs/eAP/mCrPCBKWBm86LnpFwpwtrOdbbhXoS6VTCsfOCsQbTC84x3v2NYto7QJZ2XKrOkCKIZcHdZKzZzwzOY56sxFzj2FYfZCB25GgaOXmYV5yp6WNgquk8oGsml5cj+j0je84Q2tc8MDAATaAGtWXo5KpwzTdY9+9KMHP/IjP9JmuXz8SucJqKPyHE1x+IkHXcWm8AyafQw6VWmMQM573vO2kYHOKUZhGfwgTx05Z0ZnXvUtWBgVSsdgmRUz1cqx0CYj6mXID12WhzzN4s1/7JWZULN8o5ZF1V1/y+DNImVER9CkHKE48jMiPnTo0A5eV/tbz0fxPnH2Q9l0yLHgILK1tVNNur2EXRrMAlzjGtdo7zGYFSPsHVkZpOjQ2XPHrPkn0a2s2FPpDDy///u/v3Web3nLW1od2oA3aQsacj6pbPfMAnkSyuxZZBjnIrJdBB+ryGumwosyzeTQT8sWHFCbVTkXdAwd2rOXNsUhid5ZrrR0tnWWs5ylVYiRhJ3fNKbPe98ofWtrq4EseWcFFzDUtA972MOax88IpkEJly0szMZ8gOJgMAo2YZkanOWIIkmbvRVRBp2qZSnANRrz9rvck35WBZhER8owwrEcZXQ5z2E90zsuPNuOTvzAazwBqkX5rQzlKccSgJGH5QD8DugXrWOTpgniXgAAIABJREFU82t7FDo4C18ZAvLiUFheNIJiIKQPHhdtW8pSHmfF7Bk5BzezYAWOvYCLc6ETCf3LkB/6lIM2s4cXv/jFB2wWJ1l89H5cuCh/lpU/GMdnZeKTHfVeA1B5Tf9jM2r8ODmwi8o797nP3Tp8jxJbUhQ/y8h8XLmJr3YXPfZOcCQtnWW2O2nHhdpDVkazKU84S/vGldmNDy36hO/93u9te4diSxPKU2eFk6dbVr1mMzkXHH2yy74nuPRbFj72qxx6A3tmE2DE0uV973vfNouEV+QSTKJBWtfB6yx06RfVQ+/lZQcMUrYYcxE5IoiAIPF7DQGIB8koAiVPfZ4j9ERRXDOypniMZlYlZPUw9kDmFcc2OS7j8Fpto3bLRrzu8D3tXkYdysC/E044oY1OU2bqyvWo0DQmR8pLfwAoQASonM8CwHFpKKv9J9aeL3GJS7T1Y142J25cnmMpHuYYONOzsGINGO6XxQNGhFEwI8coWBe3BDPP4UN+przf8Y53NMcETsh1HgM1rj1wxgCiz3ctOBdm+2CEcRyXb1Pi2Q18CJ/TIaHdjIPHM+lhdDEdbsJZ5CCtkaIRqdAsYy1zljKmpQk9ljfsr/nsZz87s/PCuTB6NrtS92qkzGl1T7ofOylU3gMe8ICGYbM3r3zlKxsfci/lpN44cYkfFXL+8hQU2QXb8LUM+7ffOKU7nHI2w/YE/BFaRqNTi9YP1+kL1MVe6e/bzIXRospzdEGe+L2GPF1vtLSxBiFmL+xKd2QkP0vZoUsn+dznPndw85vfvBmXKOuiTBqXn+FFd+ohELMMs+65mNa2l73sZYPLXOYybU3MB6SqUZjFs55Wfu7jG+U2DTbPQTFNg9qkIy8+4YXfMpQLPz0RYeqf04a3RqaWACjyOLkcK/GWyRgC05j2onhfCQdX570M/sA2XjIMntox4tCBzGJ4gyO78jkX9JpxgQsGZxkyQp/2vvnNb25r6F7C9IIXvGDw3d/93e1tosuoYz/LiJ7gh3N8FsZZ4iSls8PP8D32LjyeFErrqRPOOaM+r/wmlR3aQg8bxbkw6EjHPim/e8pAk04NVpQlLmVOyz/tfp6S0Y8ZnbPZbInlEfqTI7MWaVPiJ4UGw4973ONaX5NONH3CfuJmWWWjOUsf97vf/ZoduexlL9v2MMHiovXQT3UI/dgkzq0B6VbWXjA4TCf0gHwS42e5Z38E0BOsDs47E1zb6DkrOGs6555csH8gnd2iDJqUvwIJE404KLKpx2Uc+Gwzo++7OPBo2Qe54jej4AVk8yo2p8S0PIPIMPoFTJN4N8s9nZFdy6bjzVaQqc1Hloh0oLOUcTSngTkKe65znavN/hkB4r+4ZRgHvEuHZ72ec6EDmNWxhSVpdRyWztAVjNCdRWUTZ8XTYZe61KUaBjkvHpllJNW1aB37nZ+u2M8i1B584TB5usFbK6utrbZuls43ecnsu77ruwZ3uctdhp127Pki9qTSozzLORxJdmrW8rXD8qpZMbNcygzdi9CWvKGRY8UuG7R6OsWgFj/yWG6cEHT7zYLxe97zngMvmmT3K57pTL3ebwzttXz2A610Br2ccn0N/C1jcAjT6ogewrfXvLcNndbTjZ4dEXjCCG+RUMPqs80Eb+d3fTxoWvm1wwVUG0YYMx0RBmlgZX73ut7by3mMpdBGQx6gx8iWcXh76Q//8A+3ZYfq1NU2L1qPcq2RUm71zWoUUq9ZGh/uoWDhxbKUy2jDxlabfoEfUN/znve0N/lZV9+LvI6mPHgC42YYbQC0H8LObPzHu0XbqnwOgTrMDli65IjOagNgCb44oOwIo6VMOhiDswiN8EDPGSwzXBxcZeOBjdWLlL2KvOEDR5nMYps40jpCjwemc6Rv9Rxfpx3hv5kBgxRT0jlmyZ+048JqK5zju5fxzYoP5UqrXQY38KGcefKPo028svxsPGdDsuzCcbAUwKnLIZ1jHttq6cpSJNtHdrAN1/QFNleBoUXrQDO+2xj9fd/3fW0VITq/aNnyKz/lsE/Pfvaz2wvitqznmvZxhPnLEnwrtJRr9iKAn6eOpE1eDbniFa/YhB0mpdNzLwq8DOOm/HhmjAPnwjqcqeplHGZhLAnYFFcPbU57a/xez/HFbu1MDc5TDu/fCIthVw6+4sUylIuSplzn+K1syuxcfcfyj2NuzddTEtndbXSA9/i1KG+Ug89kYLlBxzGP8YUjdsOeIUsWmVlZBm1pGycKH+Dufe97Xxv96+RWMXMZGvYaskXRE7iOY8jY2wNl+S92Fy/ndS6SB0bsa8unFmIz59HzcWnZodgij6Szf5XOcfkSL602mn2yL6eWlzR7DUOX/KEpMxS5x9HoYtq9WWYufJPJu4fIC97IMvuJltG/7BVX8+SDO52+F4LpazhhbMgy6YdzP3yyqdg3aLa8V8CmIkeEvkxgBjQRpI1AOWappype8umIjbC89AeTGDKMCrPS0FzPI4hu2hhy8c4xz5TPa1/72qHCha69hDqMJz/5yTv2n2hzfnsps+aJghn5+cRz5Xnu1fTdc2kYrnyUCm/xAs+XsWwRw5tQ2fGEl1F+V54H7VrHb4+R2TJ8wXdx+BWnbJE2pUxOM6NglDYLLipOYMpmS04o5wI9y3IutDNOhJChpNfoXoZ+L8K7WfLSF20gM+ecC+ewbXlBOxzhebV3iau8Hnfu7aj1q8fpaMelnyceTaHFoMpAY57y4cPPbK9RbcpKOA8t3bTK0LdUvqkrzgQ6Q6s06YeUM0v9ntYyK0dOOmiYO0h2Kfqi7yI7ekqPYsdnwfC0NMrKT/+or7DHckvnZv9CHdESzrKOCJ0gI3Blm8aa5QgttRxLK57WMC1aDU6MDcOmsbmexpxJ9yMc5SmXcfDYHQMxCzintbFuasWflBmFmJZ/1vteWe4R3nqkrho36tx0OYcqPAi/KFzO9xrWMp0rR7nOc73Xso+GfAwZjOu0Yc40LwyKrw7ZIm2lJ2YGzD7kO0OjcDAuDo7MwNFJxgUt0ZtF6JI3gwdtVrb2w4dlhWXgb1H6ZsmPv/hBZmyIc48EGiCddtppja1dfZ9VN2Mfq21N3KxljJNr4lMOG+zNn+yuuNjkpJsUoslmbXsY5s07qVz3Qp86Kk2W9xwcivDENV7V/q4lGvPnpWGWkz1JRW5sEtyR6UGwT/DGTqDdLzPCweIs+J2UJnwQ4gtbZfYTvrfspvXOdxuCcnSBnvi9hCkr4AeECLp2rOPKDlgSphyP5VnO4U1iWhqHEct0LpQHROrAPCCzUchLagLqcbTPE69d4Yt8ae88ZUxK66VjRg05lD8r/XhLwbQfb/FE3CTQzXpPOYBey1NPFGLWco7WdMGe9oX/ZBA5LNpu5SiX0bHD23d7HHWEF8yMCoNT7ybhdKOXLOnLMpwfTgUaY8iVyeHgZFTMLMqH/cyPdm2wvMMpcm6mgd2NDYxdC49n1c0qK3nSac6TP3WOCtmklMWWG4jm5VSx7aPyJS55lWO2l912PkvelDEpTPlZClF2l2b5k07oviPYnVQ+PbDZXJuD62CRHPcTN8som74YmNAjdNPLnC9Df1KGethxAyB9Bdq3MNZamE2WjmpUIoRJzF/FvdAUgACFTYDXv/71hy/t4TFpoMaGiWn4IkJiyORXppGTJQJfMwxNq2j/pDqqgjgfpbTWYe2kJngHPuY3qezco7geR33JS17SeIAXAKq8RXjb513PfhLy82McGRsYt8Tokeh86Gke3ZfWKJFzYZYrsw3L0L+DjhE8wGe6wvjiDTtimSuj+OjZJoZxetg77z/xNJFNk/PYP2WwTbDFoTIbcFAOdtI0v1lfjiE5csbZP7pz0PG5KP2wzWnW/xrom8HU18DIls7IGppXLlcgAUM6800AQpcWIyVAx5wYyzgChO8nflHmpXxGArh8ydBLr7r0rJNH5EaOaKp0xfGgENYNjZLq/Xk6EOvpD3rQgxoP8KJ3LNbjGCwDz7UMBpKByGbO4AieK1bG4TsYgyWjUuu69DDOS63rWDzHB4OeOHIcDHbEo9ZmLw7CEUfi5JNPbpsb4SJ9xTz0w4iBrKX4lDlP/nWltefJR/IiwziMwmMR07XN4QWccy7s6TBLzo5sMQ42rXg9dzobYc7XJdDUGwMXMIcuz01zLrw5krLyJHlPGhnPEhgqI/Z6rjwGAvMsiXBsNvXAnxj88I7Bz6bd8A/9STepLUnDsPBIrc2H1/iyV572+dbrnDAKfmRIpt4A6kNajujaJFzkXsWTj0WZNvcuBMsWvQN65sCHQ4HPnC588Yi1d3R4IdVBOCJjAyuPpAcfOpBZj9ginY9BSq5nzb/OdDZOx+7rU+I4987FmUu1cK1/tLTKj/B5DPJtyyKe4LCu5AVLeZQpnco6hVrrDhgDdPe83c7PvhEdHmETvI6LMud8kY6MgTTtg4Eew7r0pS/dZgDmUazajmWfV350yw7PbMb0gqNKc+5183SvUz5seImRd1AY7faKtV7nYBFMyxvHQmdnml5n5w2djnl1P+kZF/pBFxmbZejfou3chPz4wMHQMRmgeDrMKwDCt67ObdJ19N97iby4DP11f8MstLI1HBKhR4k9Eq/cao9mKWddacyyWBa2kVX72T8YX9bgdRMwuggN+lr9JPvhcWhfVSbfrYDHVIbn1NPpCDdF+NVTRldoNOPifRcYkz0X6fgSLsI0eZXDUFpvNLrz0RcH3myCcQhvorxRQLRRCvR74Zg1sMjavfAw6ceFFQe+EOjd9HjBWC7K2z7/+h0UjoVXJVsLz+56WICdWfGdtLBi5oId4fAzOse6jDlxDC99EXLA7Ka3Z2xWHRynm6uIj83wPg5vdsyG0didaTR0MSSfJVovQjwI7Q+NZn+9Sdgj22yqAaewx/fftP7RPhozn153QOaW4LcCEhs6va3TEacijJ0GoP2+391RjXigF88ovvCFL2w7YnmSBM6rpMicgkWFzyjwVhkJI3ehA2/Cp/1u/yzlV1piAOTz6to4RK7xrqadpezgwBLU5S9/+ebI4W/feazfOZiG71GzB+Loih+joNOw5yr4EM6DEfgIRrxrwciUEZ5G27Fwn73AZ7piet0jeja+Gt0dpMNjyl4oFTnH6ZjWhlE4yruVUta0MtZ5PzRa6vNtH0ta5Am7ZHssYHhSG/WxBvYGKR6tNruPZ+Q+nLnwgTEeNSdjFCDWKeAAOWGIR9NTn/rUwS1ucYsmaB1epiAtYyyj88M8ezo89uo12LVzDj2bxBuyi0J4vNh0nsdn40TWTZ1JN4n+pNFWj9/qOHQgeNIr18FxLsgq8mIc6QqjYHOdR8dck3HFzyRc5F7Fhzidpr059ujQwUmG6Vi4F76zS/jhRVJm/zbNxkaeo0J0G8R5xbjDTJUjg752McMffLGfyrvOda6z46NiM2RfW5Jg3McyPTUCt/Sln709c/uBR105njYpeyIo/Bo6FyI8ZpmvfeqMNqHzDKEBdK4hDY2m6H3oymtlKTCHgkIznDGmixixGGHvxbdreFMPSutIaF3Ux8YIPDxj0KpMk3ZSm5I+xtCGLM4c5wK/F+Ftn3f/nZM6yoqzLS6jDZvrTPd2D5iJ7Lv36nUwFP10z1s+73rXuzaMHOsyZoPwPTOq1qSztyV6Wfm5iec6VI9jojc0V3lPozm2I6H0MOctjilvWhnrvB8afe3zCle4QrN75Nk7F2duWDaro0/wokb2IHajPS3iws9bM23stOnGIS4gyhs1aweVe+sWvGfG7Ycw7RgDSvgUWwc46ScNB8JSCkPI6DqXRxk6US+fsrfDmnRVsIBune1Xd2YlCJZ8EnKIbMCsstsLrQGM0BcGbdrLFzAzLYaPfnhmZOI8sjjWO5h1tt90Zd2Ey7GwiZOumOI11SsNXQ6eybnifBJmpK0YdM7hv/jFL96eQoseWlr04STYoFsMs3vr5M0y6mYr2Ax6gLe1w4lOiLdM5AvR9qTE+IZ3k/i7inuZgYj8q103W2k5mB3M/dCd60k0SiN92iyt+nRIHK18sVR8ylN/TT+p/P2+h6bQxc4afPsqNpnDMfnTJfLXj5B5ZjWcLwNj6y4j2IZjNt11bDw+eLfN+c9//sGnP/3pYf+DZ+1pkQoWyww2dwZwVcgVdPV8vwU8qXwCp7gXvOAFB29/+9ubwCkCBhDKJMfCPQAQAoQ8SY+RrjHPFN5znvOcRgam4Un1wifRt9/34lioJzJz7guVnimPYyEuNEdhIvd5aLSfw5ppNjfhF4OKf849phslA8B1K8axXj/jRx84FLDsWkcvjlNuhqEa+OBkL9iQx49t8JEk7wbwZUq4YJTgAVaccyzQcrTIB39jM7SJXdFOcfTBgM0Ma5ad02HNo3v7kbbKObYkG3vpuv1acBI7UtPPS0/NC3O3u93t2rJ23SOWupW9KX0MusMbsxcG4BnIkq0PgdGtOMvC6NtBx7f2ZSCgTdqW9sG4x9j1j2YtqrzwbLihM+A544wz2oajV7/61UPsEHh1MtKJbYKCBLCMma/XMZqMVryrOAvjQsqPSfIATDpH+Tktj3/849vTFvX16BiTjnrIpDWfRCaUILMLdmTnyIxGrucNq6w9CWAmx4uX7H7XWTGkdlADG0MKgHh+0JXroNOvQ4dl8vEjE3Gm5i984QsP39lS9Rs26FV0axpWkjcGWHry924AdiQ0oIOxQgO9Q89B5692akt+7Ij2ZdCifezIve997/Y10TzGOY2nq7wfOescYtfoO1tKz3UuOdKBROaJnxRKW+1H6sv7PmwqTr3Kqc7GpHJXcS+0hj60WWq+z33u02xfbJyQk0HezuEC3w46vtMebcsrH6LH8OFFcPTcbGX3aDMX6ZjiNTIIvjPA4YjTISOABCQAMw/AuhUv89oLtYDe64t9eEkHR7n9ZhEuwyBdRlIZ4cnPS/VKU0dtb8C2zHbspazIQ97I74EPfGBbJhKHTr8oiTjnNd8s9aa9yWf/id3BOo4AkFJF2XQi4ecsMujT7M/+Cx04Y8DY+TmHb+9Z8I6YyJXRjGyDh4r3xI0Kky8YS3jSSScNLM3pXPOuGJhAR3Bz0OVuNBenLSFnO3og5OSf73zna/YI/9J5zsrfUTxfVlxkV8uLA+QJEYMrdEamwUtNP+1cnlpP+hv57Pnx9t/wIvWER9PKXtV99KcNnCJ9jY3y+g4y1lewecEzjOf8IIexHXUg4Fx74Vwf8MxnPnPIG/IjSzJvzkUAEwETmLWlPJ6GqQFcPNdNEn4A6Xl9LwPScF6VWYhpgpUWQBI6N/L20hivM7ZD2KEOfEhdRmmVX6sCebeeyCPxwHDJS15ypCcpDZrThuSZFEah5Kl5GQjTYTx4Hi0vnXIxtjoOAKzKNk0O/f39cS505pwJuHZuhGFn9yUucYmG8a7s4Sky794bdy19zZPOwwv5DFJ8XuATn/hEM8J0Moa3GqyDKn92w09b/GAfr+mDeDvpPbHlkwGxs9HZXI/j6yriY8NiE2LXfWTMqwmsozsSX2VdZT6O1pTvfp3Zcu0ejMCidxaFHxnQhk/jyl5VfOhOqF5P/PgKsIFs7J59JNE3OD8aHGi2A5bpbHTXQMGAwWoBHvANav/gnOy24jRk1ItxzjGMd+aDRo4KrgAmYUuwpr8oRQDpFbWe29d4wuVVTvoxBIwCQ5DpfaFNnDYcKcMRg7kJbe6yOkrpTaseFeVJOhIfI4BX4Ve3jHHXNX23PJ67zV5e92ptPY6FjgI/04kc1I7jaKA7Dh7ZMH5vfetbW6fhSaJRx7z4hi15grHkD1aM2m0atVZt4yh6goujwbnQHvYFVoSceyNbbbVkaL8C5yJ8McuaIzzL9bpCnSZaouvsn/fZeCdHjU/nGrqTfhLdabc0SS+Ej9zzJV52pH7QLPcmlb2Ke2ittOQcrZaMOM4f+chHGqY5Fhnpx+E86DakOspwwdEwmLSnj8y0OXgg05yTzXBDp0g3ASgM1MHyXvMO/HTgFSSrEPCkOtAd0Eun4daAPOYUxZ/kXMQo2G9hVz1PLevR2XfCsQpP1FcZOIm2VdyL3NBnFuEGN7jBsNp4/qE3oQTaVPk2zNQ5iaxF51xd6Tye9rSntW+8RKkYVrNGOhAe7kFXroNOvw6cgSAfcuF4Hzp0qEk58nQRfFfxj4qr93NeywkuYC/5zYBaHslorjryB52/jC0Dqx34zIlzbkT7yle+sm00d10HZ+HbpoSRn0Eludm7xpZU24LWyDZ2JOG0dsBBTWtAm7JSrqURbwCOTUo4rez9vh86w6MMMtXLcfZU1Kte9arW7+hnggHOZZzOg4xxOqsd2pOlTZj3XS+vriDXOjEReZD5VhV6PU8GQvcMazoqzJaupk2B6wgrHQHku971rsE5z3nO4bsvpjkXHAqPyXFMpGUIH/rQh7bmKDPASpi4Wvc62q7OtNlI9CIXucjAy9BCZ2jqXtd8STMulNevyjxYSLnWZi2jGRlTrqPFaz/IRiG0c7A5FkZaOgxvhyTLGM3IvXYAkWvuzROO0gmdyfWvf/32rgSdLnr8jgbji7+ZgQn2LYWwQR7ZfvGLXzzkNR6H7/gU3Z2Hv8tOiw7yDl3snpegie/Sm7pHyTj35gl11KlfPjMBXrMtbll1zEPPuLRoCX+kqQMzHax9B5zKzHwbWHE42cHo4UENYbrqq9k4tt6WAbiJsxUsR6b41GYuxjFVPMNgWs+LVLozF+4HBDWMIFLhpPKXcS+GMTRoIKXmYJi61+kRNGNmmYMjYaYiws8I2z17LHzoa1W0z9v+UQpvqvvc5z53a094IJR2vw91+G6Jtzx6hBlf48wBJR5TthhexpiiUUZO3bqVLhjIVD2anaMtSpUZMNfa4b586VTW2QY0GVUI0YP3zrMk6Nw+C0bb0yFmL3Is4kSkjGlhMJhpZOu06DX6YYzx07kQ7dqAdjzPLMA6+UvOaInMXaPXT7wfmoMFbdKx+J6PJ0Sij9P4tF/3w/+uPauyz2DBF0918OylYxW0hz71waaZABvo1Z1+ZFW0tEbv4e/Wt7516zOyF8EMOBxU2wIn8F1x7nyd2FY3utgIIYxnFs65eGliS8jnbne7W3Omuk9PjmLbVOdCpiw18NIcFRA5B4aAESjiiIyqdJlxFYDOc20px9KIdSGKbzRhyp5ACZ5xiPB1JF5b7KMrxx13XPNMtSVKt0x65y0rdDAG4bUyMrNkI5QR0pve9KZWdNq/KtpDkz0XNpI+8pGPbPtdgBSv/SgdGVAu8fgNqJRw3cqlfp0YLKCLUqWjQC+lcw/dQoqWjmYTaMdfdPmFLkYB7fBupsC3d85+9rO3ayDJaGNeLO41PUzCL/5ygn2a3QgIn9EqHi+1wTW8aAter5vHoVEYXLAfaDZlbPO3tqBTHPp9mMsUf5ZC9sq3ZeSLfiorDkZsh4FjnAwvQjrPec7T2hA7nnvLoGNSGdW2sQkXvehF2x4ddKBZG0KTcpzXdk0qexX39HXeKcTJgBH7/WADJqKL+ht2Jjq6KYMrA200oRONMEwP0e88NpsdedSjHtX2IWofmU3Dx1TnIkBUuA2eOmxHDEYFhrTVqViVEauNTOeKRvRY1jEVbAZDGzAT0xhlzGQoOB5e6GIdyQgrwK3lrgKkk+qIYUgaNOqgjTTsjanKx2g4Ki+Sb79C9BjxGB0//OEPb84a/lIwsxkZhQKyTk+8c+E6f7Vjpkho9nOOPk4FxYOXdHbuy8fxWCft6o6RQqvzrPXq9E477bS28crb82zO62JiVfiu08h4ebazna19n4auhd/agufhO/7i/br5iz6yR4eQzONU4HVmYdDNlnAqbKpepe7NotOx40lb7fRb3vKWwXnPe95mF2P7VjU4qXYLHl37lIMlXi8cq44EmoLZhGnPusLIma5ZTreFII4zTMRGcDrYD3ihA7Cde+vEOHrYDv1i9A994tkTekhPffaBHYFxfVGV2zjeT3UuakaVe2zIGxrT2akkDK5pVyl89Vd6GLMoCaWy1uyd8NZBMSrLIFkaiQPCycixKuVKfePCLh+1U9t4+N5K6l0CjjpKijzCk3FlLyM+9KQs4DPysEues8GR40yIT0ctHnA3QblCA4XSkQgpezo39ymfn3hGIp2MNOs0DOpGL3rwVqjjYxgshdhs6/0Kr3/963foKEzB9yrwARfBsOUzBxrPda5ztaVWM4zoxcs4R9phMJAZgXXymPzRlhmr4BZteM8oG8mh2WO3Pv5o31Ntd7tY418dbMQ2IAcGPHLKjuC3J1mqHVnV4DC2OixCl5czwa6njNjw2pmlPUm/zrDS5XFrM9/2JMA0TOgz4Sf2hY2BJX0P7KwT26kbbTDMhugbYTt0siPeRcKma0tkVds9jv9TnYuux8sY6Kh9uz3GifEIaMUFlCFkXOXLiK+NjBFTbqVJG7xYynoeQwsEOj1MNZ1lj4XHiVJWFCxtWgadi5QRGUSpGARt8Ql0B2Xs8rryYpG6p+VNveQePFAqy1F3vvOdm5LFQOuggRaI42wE4OsK4/CgjUGg+HDBIKAxU+Hx6tEZY6GjWRfdqTezQmgSZzYL3QYAOg37cXLAz6pwkTpTX3TJew0c+AojHHu6aOkVP+FDO7KMmXauK4QLeEYvXKADr13DhNlQjr5OxX6tzAhEZ8OHdYZ435UDejyyrtPg7EU+4p1Hl1dBd+yuuuqjur7YaybU0xjSoCv2xnnNtwo6x9URmbuvbznhhBOao2lQBT9sCswESzAOUxnYrAvb6kULOugePLOBcI4+Okg/Lbu7xm/8rzIYxxPxU52LZI7D4PqjH/1om/rz2OPHP/7xlkTFAXDydK8Tv19hBVvOQ4Nrb5W0rmhE53FTyyA3utGNdrxMKEBJuF+0zlMuYcaxsKfB8pTvqDgYAW30i4HQ1gBgnnr2mlZ9ccicc3Z8etc0IefNFH2cicwWpdNep2Kpm2KTEIx/AAAgAElEQVRRfvQwskK0UjKdnvuMAuPgl2uKKN266Y8jFHrQaokPRrTHAQvegeJIp1GNeLuxj3/BZeqGEXjlCF35yldubwvVQXMwYuzQvgn8JV+8FeJ1nAp89vO4Okffp9S1kx5E9+jBuo/QUukwg3Tb2962DRKNWKttJ5vIKzpd8+7HeeqPreaAhm485mDc8573HDoTsc1Jvx80zVpm6MS3zMyx1b4M7IWO9sKZqU0HLoQlOI+zuk4bgp7YNjMW8M320UcvyNJHfuxjHxvaDXyJvLR50jHVuYggUyiBRqhmLwg+37BQWZidcFLly7qHniiEMp3HkKUO12giVGtH/+///b/2atvcFwYcob1bRk27qvMIkEdM2H51X0joiMATrop29I2qi4K556VmjO/znve85pTif5QpipbrdYQ89oyYdWYMgSlie4t8tMk9Hrx78e4zu2HWYx00d+tEjw3J9lWYVfQuC98IcgTLwZEOL51G9DgY2s8wGEFP1VXfwTl06FAbQXsxjxlEfA2Pu21d9TU64ujo6HxjweZl8d7fwY685jWvGRrctC3hfvJ0nrLZBRjgMHuyyyfUOZzBR8pCd+IS5t5+hMFgdcq69XhbMrtnoyyHdNOOtCF05ZrNO8tZzjJ44hOf2BxRtOvI2UD4WTWWR9UXB8fMhCUR+udJS4MTXxrXlgxstS+4hqW0M+3uhlOdi26GFJhpP5uBTJvw1NI5p4OLQeuWsczr0KNM591r8WGITTf2X3gxmE8f+wANhjti/FJODVuCNf5Zf9RBewadwle+1tFR4oVp8yrIrnzHx/AyoTd48uJvectbNsWKh8xYjwL8KuPSiTG6nAhTsGZbKBeM6Ky9LpvTkbShbxOcI3QbWXvE06wcQ+bA++AhGKhGonsvafYj1HGkvtphBR/qPHz4cBuo+EorXBg9ZcYg/F5HqCNACweDATZrG4zopC2p2sTH4Y9NrO3aD37OUybdRI/QF68tg3hahzwiC/fYi0r3Ku0HOmLHEqIPXcGNNvvUuS/Lwor4Su88PFlmWjSGf8pFkx9HwsvI9DGxJW984xsbTuBoE7BNn+LsWN5Dlycm9TUvetGLFubx3M5FVzBAaNrENBuiKF6Y3E0bMCeeEICk/nKvG1aQde+hoasMNb16XvrSl7aPkFkXzfvyLZPYoMow89gc0uaoZVQax8UnXzfsKgkF6vJCnlq3jsCUpU1idp/bOe1IO5V5EI6MkhloS1Beqe6RZh2zDhvATcUBuU5FfJRPyLOmiDp296Wr09Pyuy9tyqreuPTiU6Z7filHuZwd66N3uMMd2i51RizyMZpGs++omNGghPKiUzlG2eqPo+Seuvycx4g41860NTS7rvQlXTfOtV/KzCzL85///PbEkJGdmRVHDN5BwAc8ZzCifZZaOXT2A+A1Psep0z58DQ7wMPyIfF0nTjrOQZVP+J280kQmqSt8jgyFeb095+diF7vY4MEPfnCzW3BiP1c2umemN5s6I4/gybX2Ro8jIzKTptqW3BPfTZ97wlF5xMdG2LtgTwhnGS8d9DL3W8SG/oUvIc90vRkM+kj3HLX93fNuG92vcfUcn+t16uzWIY2fslJfMMzBtAHSYCovBIMFrwn3Gnwb3ckAtmGv4hYOg1Uh+1Lvw3XsQDCqDGldJy8cO1eeutxzrizpXSubbrDBbAlavdmajZbfEdtd+TDP+cLOhcoiEB2gNVRANkWb+BBEeDrWSYqStMIqvMQrw2/Uodxu+TY/8h69CMwjTjmy5syp8HxyOj1TherNGrU2KDcgkt/1qDZI61fTSu8azTXeedLGyQptpqe8rAQYfdbcjIsjAHaejXHJs8lheI3Gk08+uU3Leqvdc57znAZkXn72YmSpgSJQgCgghciP4kTphBSHolC+dBDSiJPfz7nyODmUSRzFEu/5bYrlTaPuOcgElhxGq5ZIvMfDzBcDpx40mzlQro5P/egRxlCgI/S6F7q1RTq/3Bcm3jkala2spOUI+RlZ2DiGbh/siyGAkdDdiD8gf3VWxXs5zAqwJZYc8MB+DLLDh+AAX5xH/mRZeeUcv6VxL9iK8SUzccGIc3F4nzQ6AfpoCZiNMDhRngNGMiBAm8dQbVKto77cjxiqDYhNiB1ImklhbIk8jmoL1ZXyLTehyRKZR/HZkWBEvuSfVNcm3UN7bC6smL3A65ve9KZtTxdatb+2sdrLcTZbvu69eo1Pk3gVfqvXUiobYaAdO+J+8sOxWVGzLx7thEn4khbmKrZhLNexBXDq3A+uXUuXOOcw7+dcGnXE5jhXJlywuWyXAbYXvnmlQV5ehidVH/eKg4WdizoVGOB7FbXRNgNhKsjjLDnCaNeEGOHkvmvx4w75KZSwpq3naLJudPWrX729ytY7/qPkOrpR5ROG6c28p8FG1a6jAkDVcDtXrx96Qhv6/NRT02tT0qV9rh3KMPUKmLxexoxTId4R+p0nz6h2tMQb9BdahVF8wNUhWp6y6dOTDQx4RqrpFOJ1U4iu0kRhco/ipiOWthsvvR+FpFw+lmQUykAxwHkJGdYF02Fj2qDzYcxMLdtLYrlKWXEyYMhPx6Quyhxa0JP7zkMfw+Ac7cIYDufJH4dCWdZxr3nNa7YOg4GycTZHFw/hd+5valg7gZx7AyCM4LWlB5/+hhEzCHiOP37hKb7FSYgRDj8rj/HQtV/yVl6TpTrIz14yb51leM0MVYxU3tJ1mIkOG8zQYbMv2qFNsRFVBrFjNS42wz2H6+CvpnOeeDYm9KjLC7FMb5tNefrTnz7cf5P8sUmxLYnf9BDddUYIb424DVR02jbpaxMeBEfspt84Piadtiu/2tnKp/BaOufhnf0gvnhr6ePGN75xc3Ryr+pjtSkGuR5XNQPmnUAet7Uky/7BIjsjhFU/dkAcGxHsBrPBsDB5YgddxxY5Z0/NhnOgH/e4x7VZcTaYTckAEI5Cd23zXrCxsHMRZiMEA+PxGPkbdTCEHI273/3ubWo/TI4A5NMYQu02pl7X8zQ0ZchrJG9q2+OPXsBC0ITmHkWNsiZvrpUrTcpiuEyPMygA8LrXva4Zm24+1/KkbOWkjKStYRfc0uMFUFEQowt1OrfM1D1Mt6aOZQm/W8eqr7XHKJVh4NQZ+Xm8lkIw8rxrRt41xdBpRIGE7iVMGmHtZJSTqT/PlTP4plUpFawoN0Yk2MUHciWf4ATPI1/l6diNZGHbuVm7zMCgCw3KDj3p4GIw0M0g1I7QPXHyKYuxcd9SI0fILAWcaMPpp58+FFfXKI7SpWHiDTyJHuGxtkRX4IOxe8lLXtIcDHu77Nvh1Bl1kYOfc3yLgxZDm2u8x0dyiXGOjMiHzjO6+O1dOBwZmFQfW5AlSaxDD/7mQHtwIS5YYot08EapBgwGWZltlL+WIR+cae+kQ5rofjcdzJh6N9tjKdWsYPAcx0Oecfm75W3KdWxepUdc9BLvOdhG4JwM+qHjNBswrq1VXilXnHJTX9JEntKlTrNCRvmZqfK4JgfAQa7Jq6yaz3mWzcjGMqtlQE9kmIW0J0Y5cEj/DSpgm2zhFa7zC47hmi2BdfekhWf53KMfrqX3ZJNZephUryXVtKkRuuS/hZ0LjOwKsXtNgY1OLU3oQD0qZy1bg3mO3QZGONpaz9N2Rt/TE4QAVEaR1mkZeuv5hJIyu54p2pTpfoSv3AArSm+3vRkPoybTRozNIx7xiAYI4BpFV+h1b9R9dZreVa5Hq3zM6XKXu9zgxBNPHHiNd/iGhjhhCZWd+8oOneHJJoehNzxBe+QQuimDx2wZCJ2oD+OYvTEKwxvKQ0nSoaQjd53zqpA8fSMZm9c4EWRoNEmeDC/8OIIT5zAQHocuYaXVuTx+vH2bPXUeHA3Ydu5RZ++XYBDQNOqX2Qj3tCvOFAPBoYU1M2mMpc9fw4sRRzV2wUAXx6G9ti1xmxhWOmtb0j73tZsd0YFyDPHaLBJnnD6Z9YMFzjp+Biv4GgPt3H3pxOE1jHBeLHt5ARY5MvTkajms0oN3MCyu/sSzM11bg24DBW/QZZvoumUV0+foNertll/riL50ZcYm6EQMnmCbXcUTe8fYVHwLT2sZ4afyRuG8W88mXKcdaKnYd522hYeu6YglZbPmeI4n9tuRedqvnLQ/cuy2VVkplyNPXpZibnjDGzan02ZNcjV7knQpI3hNfalDPIyE7oT6MZiAP/sW0Q3nNsLDJ9vHTug74BeO/diQ2BbnsYXBtYctfBOMnphZ4XiysXQjBxrQGX64dt5tU9LPEy7FuVAhYuKVuUZkPGZMdY2xPErG3aNQmKjBlNnTJgyqaTzrgzxDL7zihBjdYj5Gmabkdflyn7yMOQ8MY3mDFTiVEaEhcWFeDAKGdsErrXx2glNkG7eMehl7tDMUaDLS0SZg4B0aaTJY6HrsYx/bnoG3UcZeFKAHUHnsS8EzvHGoX305cs6YRPi5J0/yJW4Tw/AXbegN312H39qW9gE6T1wHHaeRnPGbQhvBczpMReKtn6lFeyEOHTrUNiSRkdEAOZk5IyNT2pQzR3iHnq7Cu0aPNOiJHJJXnuQXJ71OxF4Mm0HNeGUmCt2cSDi1mYtye4TRTxse8IAHDO5xj3s0LFkiMqqQl37YC8JYxsGs+hV+qd95eOkafV2aQ/umhfjoV9uDxtiOipfIBL8ZXB/awmu2QMdNt+gZfsKIp6s8PUMmRrN4DyecNoacI6tT1jkbfdLfuoQbHgrhoMocjaOuu9gIv8VbbuEIwXAwarnFDIdNgEaubJ9lZfbPLJ5ry0PsBUfCRkbLvfKzgxntsn3orPxynTaEn+jJFHhNGzo3MST3tAN9aVf4n9C96AFd4RCQOd1jezmk+hr4gAnOAjtthp1Dr68xGOGw0kv5yAe//cxise/ZA4d/wS0a8ktceFk7b3HyiXPIE1y7tgeQ7PWHaGbHDIws3Zp1gF9tggfYNmh3DT/wwUamX2X/2ES2lE0Nb+hPzhOGrspL6RY5FnYuVF4JxLQwzr3KaOcVJIwmhWOUrfvoBHxJkPIRrM5biNHiGVvKZjrJm0JrvaMUJcIOg6QJMGv67nmuazuUkfymN40QKH8Ey1tGK0Ph+WBOkBkJU+YcJp0b79LjupUH4V+tC5/Stpq2pqkgSPs2NURr2oPGaugm0YwPAM65M13NWdMhUzCYwG8dBV5TLsomjdkO8pHPUXmYMsfV636O5AuOXCdOmq7y5b54zgaFNnrQoZhRM4riMDESMELxtYVzZAbO9Dt9iDMROirv1IFGNKknWE1aoXvSjbpX023aOXrRnqPSr80V/+GDtPDkPR9muDj5Rn06EDpJHy2lcNZghgzIQmdiD4fZgypH9Sg7Mq/31JV7zkNfQnGRjXP0hk7n7uXgDBgRe8GcziSDEE4OPKPb0i5byI4Y2Bgpv/Od72wYkX/UgRZ1jqITrsJf7cr5qHI2NU676pFrbak8qTJxzqEyAPXyQRhJX4PXOmROKp20fA8jHAzOJh3W4dd68C7XwWT4HtrQU/ktvup18lfdVla1jerh7Fpi4/hwiDylBNtoNSORvib9oxk3GJFPWaGv0pXzhGiv6dBWsZp084YLOxchCoGVINc5usTKU9MmXUKCmRX4tR551OUnPmUkblL5Nb10KTd5U1bKmDWs+ZwrN2V3y3A/tOde0lYQxjDkXtJuYljbH16GzrQjfOm2XTptrGUkb8JJ96RRh0M6PKw8q3nhMfeSVr4uTmEXnTncTzkJc8+1+9J37yWNOmsbpfNLvHTOR/EmZYR2+Spt4+pMvk0IK73oqTQ77/JfGvyI3UkeaWvexNfQuaPyu9bfzV/rrvfq+ZEiW1DT13jpR8kPHXs5alnKVu+4doSmSnPOE+6FhlXlCY3C8Mu5duVe2oimmi5yFpe0odu9mi/xKaObflQZNU09r7ZaPaE7daSsxJNdl5ZaXs0nT+Q/Kk2lv95PvpSVdLGPrpU7Dkc136znCzsXs1bUp+s50HOg50DPgZ4DPQeODQ70zsWxIee+lT0Heg70HOg50HNgZRzonYuVsbqvqOdAz4GeAz0Heg4cGxzonYtjQ859K3sO9BzoOdBzoOfAyjjQOxcrY3VfUc+BngM9B3oO9Bw4NjjQOxfHhpz7VvYc6DnQc6DnQM+BlXGgdy5Wxuq+op4DPQd6DvQc6DlwbHCgdy6ODTn3rew50HOg50DPgZ4DK+NA71ysjNV9RT0Heg70HOg50HPg2OBA71wcG3LuW9lzoOdAz4GeAz0HVsaB3rlYGav7inoO9BzoOdBzoOfAscGB3rk4NuTct7LnQM+BngM9B3oOrIwDvXOxMlb3FfUc6DnQc6DnQM+BY4MDvXNxbMi5b2XPgZ4DPQd6DvQcWBkHeudiZazuK+o50HOg50DPgZ4DxwYHeufi2JBz38qeAz0Heg70HOg5sDIOrMy5+OY3vzn41re+NRA6vvOd7wy+/e1vt5/rb3zjGy0+9xOKlC9H4uUfdYhP2e6nXHU5kv9rX/taS5dy3Jf2KU95yuBhD3vYrqLf/e53D65whSsMvv71rw/vKSvlf/WrX23xZ5xxxuBa17rW4PWvf327rrTXvMk3LOwYPokMXv3qVw+ucpWrDF7+8pfv4AYe+pGRtB/84AcH17zmNVuaz372s43fH/7wh4eyTXnhvevIX6ZgoN4X/6UvfWlYL/nASI4qu8QJU27KFKZcZcDN1a52tcHHPvaxli20feUrX2nXyfe5z31ucJ3rXGfwqle9apguaWvd4nIdzLUMR/GfNn/+858fXPva1x584AMfGOpceE9OeBJ+YcUznvGMwVWvetXBm9/85h2cCc+SNmVIRG6RR8LI0v3EJRTXlUXSp56aL3XKr95cw90JJ5wweOlLXzqMky/3UybMnHTSSYPb3OY2w3vS5Qimuvly/2gM8dIvbWZ34eSjH/3oyObiO72UHkYe/vCHt/yJkyky7RYQOaSu1C2duGCpmy5yyf3kT/nBbvIlvqar5+5/6EMfGhx33HGD97///cO2K98PXQ7lOb/zne/c2hlMKsvPvdDUDeXv1tkKneNv350LDUqj0eWcMSDMHM4ZV8eXv/zlRLfGSVuZ9f/bu/NXUauqgeOZlakNVpY22qCZVtJAEE3UD1IOmU1qlGmhpVlmc9BkOQQmmWXaJJGgWElJVmqKmQ2SmYlUJtmAYCP1Q/0Bz8tnv/d72u/J9wevXclzzoJznmdPa++95r32c+7ViKA/+tGPVgijDiEiUAgizjwfXPPcqwXpoIMOWl7ykpcMFM37j3/8Y/nlL3+5vPWtb13+/ve/D+GrTcf26B1DCex3v/vdljGe85y9W9cG/K9MMLA77LDDcuqppy5/+MMfVngeD2c6ff3rX1922mmnISu/+93vlgc84AHLDTfcsOLU577RGr/IRwo849VWGS//9re/Ld/4xjdW5An/AVwz33uPj//85z9HP7iahzN829veNmSktRTENC6l/9CHPrR885vfXFkLHOGhF8mq/tXPe12L7xlm+ycfgrUZoml1aCP41PfTn/708uc//3nYG05HgALidfyrrA1d57I6/FpdZ96f/OQny89+9rMhL/q1ltvizSx7+s5Avt71rnct11xzzahuzwrNG++/8pWvLCeeeOJKIJwMNWeyZGx181xr9T3/8dOf/nR573vfu8Lr6GPf87vyIYccsuy3336DxtG551/+8pfly1/+8qBhfsWz9mwCPOqqj77JVnPGl+985zvDVumPP7U3R4FG/eOhdjjD6xDLH/32t78dUza+dYRX4ymnnLJ86Utf+rc1tlZj5/FwzOPrd3ufWzy4aLMRybONIGAKaeFzYDHXz23qn/vc5w6DrR6ulDGCpIjmav4Zh3f1rUM5HK973euG0DWuPsrmbh/GmGcuN782kBPZVBzj4emn+vX+RGOZh+23334EjfEvBUMfdI6eF1544XK/+91vKNqf/vSn5W53u9sI/vSLb/El/kXj+KyMnymrZ/LHqDziEY8YCpYchg9+OHNU85zNHe7mhLfx1RWIwNW8sjBA3+ZVntecjGmf5wvvWnzizV//+tdlu+22W6666qp/23c8jB6XXHLJCC4EieAHP/jB8pCHPGQRiIJZb6PzTGN9lGsLv3r0jz8HHHDAOBUmE9rxs3Ge8SvZhav2+b06a2sfxlbfuj0D7cl3MqQN3nSovmv5GY3Ratan7Ed6hQYzXV7zmteMgyR619e7wOGzn/3s8tSnPnVF9+LDTGdjZnzNk7z0TPfJ1BOe8ISRodJWe/ITL2+LV3NbsjTvtTmsM/lpzeHTv36efupjL73rH47Gbs5ziwcX86IsuM398Y9/XN7znveMk8gb3/jGxc+11147uuvjxPHRj350IQBOdBnzT37yk8s222yzPP3pT1/e/OY3D+aq+/a3vz3GYtgnPvGJcQJUIdI/7bTTlo997GMj4lcn6lM+8sgjl7e//e0r0R+hOvzww5d999134OoXwktDiYgzWL/61a9G2fo+/vGPj/qE5QMf+MBy+eWXj+HWRlCdoqQzP/e5z416AvKfYGBrvKs+0ez6669fXvnKVy73ute9RkpTVurSSy8dV1QpFf7iGQX41re+NbIV9uyEcc973nPwJ9mKFhSfo3n1q1+9HHPMMSPjpY0sSZfjG4CTnLiOcRIVvApYjLvgggtG+8033zxOCuT0jDPOWDEq5JhcnHvuucs73vGO5corr2z60ec3v/nN8u53v3tFfhkgsgD3+9///pXrEvs8/vjjl8suu2zIhfWYR18Br7XOhm29yE42g77IUKVXiPy1r31tecMb3jDswA9/+MPhIK644opln332We5xj3sMx892CALwU3pYe5C+3nTTTYN3dN8pT3YS4B3e5rxkx/CYDTj55JOX+973vsNZyCTAJWDEs6OOOmpkIroKg+/0008fp0fjP//5zw8eNz+nY54yF+YWQJNZP64L0YE8k0fpfLIuK+YaVztbJvvhJFugNDu+9rzWnmeeeeZy9tlnD1+CZuwyPcpROnygF71FJ/QvCMBvsvGpT31qOeKII4YNQGe2Yc899xx+5vWvf/3wS2UqsjH0VOYAr+lo+iiDIlNZRoEdY7eMP+6445Z73/vey7Of/exxvWUMmbFea+E3rD/+nXXWWUOeyJrr0gIgtgI+89OL+Cw7YZ9HH3300JPWZP9spjIaKcPHBpHL9qYd7mh3R2VliwcXFtwmLTaFYsQ5hWc961nDyCL4E5/4xOEsbNC92ZOe9KTlvPPOG3fWrisYV2njRz/60UMozjnnnKFkcAhUAEK7437nO985ym95y1uWu9/97qN89dVXj/kZmV122WUhmC972cuWvfbaa4VB2l760peOsdba+q+77rpl2223HYZGcOLbAE6Ig9htt91WrlIMfNSjHrV85jOfGWOl3hi2973vfcMQcqCCDZAQjcI6/uXK6aSTThonU4rplMpo+sYlgf/IRz6yPPOZzxyGgWLf//73H7xwtyrYhINSxC/klIKkzJSQ/Oy8884jCNF27LHHDv5lLBhx3zxQNIr+0Ic+dASlDD7nQObwkpN/+MMfvpI5ExhxZBya1Putt946FD5DIE1rrb/+9a8Hh33P86AHPWgYFHJKzgFZEDC7FuLMOAtygx7epfk5LjAHGaNijf9iDzgE+icLAQSCshEMN37hiSBBsIff+jpUcMYcAPo5dHDIoNMfWcNbBwo6igcHHnjgkCPXb8ahtzWwPWSIPDDkT3nKU4ajMAf+4RVbwFmxDfibPG699dajLLAgU7Pu25tMGQdgHoE0mSGT7NeDH/zgcSiBi0Ngn9imL3zhC8tWW2016siVq0KHHf3a39jsGv6FzvZNN2Q/BRqPfexjB33QQWCOvwJAPgY/XbvSezaAD0JneqifQ4RDrqtxPsLhsEChIJMfeeQjHznsAZ7vvvvuw6GbT0ApCCaneESf99hjj8FXvH/Ywx62HHzwwSMwhs/3eS94wQtGgEIG4VLPj1lDMt7Bu0DilltuWcgU+wL4FHLypje9aezZOIG4/s973vOGf7Q+AQ4fJJjiI+9zn/sMuQ9voqLvHYUtHlxY4BwJtYnf//73QzEoLHB/iViYCxgPJwWAcIxH8IxnPGNEoJV9uPXBD35wFM1FqZ1YAOVkMHIiIsuLL754nBC1+36DgDEyCMqB7L///kMYBoJNv5x4MMKp12l4xx13XIn4CBtjYE/medrTnjZONoa+/OUvH0IdDXyIyBiuF+Wfafj/vZMJfOFM3ZdTLkrp9BAILgQbQGocvdGUMxFc/OIXvxhteMhAA6cOJxP9OAjBKwfjtMCRCFaA+WQXGCrwxS9+cSUzonz++ecvD3zgA0fGS9naKDJeCxoEr4LlrjoGkk2/yLV91SZoIc/Wyck4/QpcgfXJ1gEOhKwkN4wfuUmO9WmfY8Aa/WX/9klG6B/ekxVZQAcDdGTEORi8BXTVFZtDgPYf//jHw9YYh9egcQz+4x//+JVvvgQUHH12gqPwbg7On96XveSsGHO4yCHeslvKMilk9Oc///mYD04O0D60A+/2piwI7uNTWbxXvOIVK/zlwByg9CMDL3zhC8c7R4omsneA7HBkApfmGA1r+BdbL4Bov+jPgdMT9piT9Z2OdrLjOpVjBmjJVuMB/tFj38rpi1eCC214Tw7TRZkGtkgbEOC67lCWKSkIhodfYmfqS0YcmJXZOvrfVZ+DCTkQXOIh2yXAaGzzm5O9sxdXffbKJ5KT6GCcAMJYbTL02gTa1lO2QrBK1uDWnn7Mc41NbsavLR5cWPC80AjlxCmCctpAHIRFrBtvvHFsw0lUyhPzGV3GHGB0kVj7FTxIKWV45zIBetGLXjS65tAFEqI2GYsnP/nJY17CxQExFi9+8YtHf4R2ArVmxoLQACciShwjKTdDIp1vDSJgmQtAQJw8g7333nvsS5lxWe+An4A8UEb/bT8AAAywSURBVCyRuDonjTlz8eEPf3jQXF8fW5IV9HcKERxS1NXAOTudBIJQp1p0l3FisDtB6qcMXEkkb2TXSZTh0YecOWEwEuRJ5oKB6HRj7e2JLBRAuOYTYHBWnJ82TovcCE7JnmCKbFkf58nJAGsQbKgLd+seHdbwr3TM6Z580EPAJjCS+CjVja5O7/S1YL/rDalpThi9AXpmk6SInRabhx0iT+wPpySoLAt10UUXDTz6oj9ddnhhH9gxMnnooYeOD7oFtmTm+9///piTPEnLA+PxP15ySLKdglht7UsfZRkKNsU6XAULqtgc/TlAfYBASWalcvhH4xr99ZznPGfFceKDgKugQGAnq8i2A1cO6FNwIZtJx9CLbPimh+zQP3pIxpKTaOnJGc/BnzHkxMETX7zLXMDrr3v4mZx5QaY2wSoZYdvw1Y/1CjLtxV8Q8VPec/qx0TW9ALpDlTkFxvBav6sRGREyJABz7aZNcPH85z9/4ITXnGjoXbv+AI47Cls8uGiBFm4DAQZTYgwHjLPMRUYaASiv04fUFIGJ0ZTPyTN8iIdBEURAwuiATq+1wSF1KNIU9ZVi56SAzIVsQ7jVeef0GDfvTkjSnwHhtfYyLdbqdEoQpcutwbzGyoooJ6zhWK9PcoEWDCxlKf3nmoRSAu2UtMwF5StzgPaMgnQ3XCCjTIYEiwDtcwbKnALlA8YJHAQj3p0sBA8ptEyFOVzVnHDCCYP//akxJyQzIWBNPuFMSbtOY3TsQ5al7wbINqf3ve99b6yDTDFqgPGSPg0YwVLe1dnTegHyITtBX4ErCXqPN+6N/cgeAfR0EBCQ4INgjvGVcZhp5p0dgQff9ZVaF/Ax2k6xgpYcA+Mtc8HJ6y+bJM1MTkpTO0j4bsNp1p+WZlecoI3PDo2FbvoFF/nqL2HIuROvesBhytwqw29e7+76BSX2QfZ8z+VKoHHzXuf51tK7UzkeRlfXVewvHrHHbAre0D2ZDPTBYyDjwR4bK/AXHOKBvtHSO0DT3vkHQaQ6NPadFd/ggEDG6Dh7ZA3shSt0/YwXJLrOVzYXH8gW8SnkRta0bJcrE1c2zWsdHSp8D2RvntZBvtikbJAsBvtmb+yazKw5zaXs3Q95KlPf2ObLhg0CbMavOyW4sNgE3hpTxjIX6jBe1NYX3ZzHV7/61UEAiirV1Vjp6649EICAIR5AIIGDNDriceQyF82vzgnRRzLeKTwmMf7Kr33ta1e+uUhg4ZVaJUCEkFCUjrQ3USrBTIgJt49xzCm4kD0JODhr2oB/UQDdGWEOwDUCngomfHMTUDJBI5q6SuNoyJHggoJyBquVAS/7OJeD4LwZZMApkBtgfo6cMgMGar6GcyL0nUQnYScOmRUgc4H389/Vp5yeHJ7TSWPh7aNeAaushwAFWB8DAxgwwUQgc1FQ2j571mctPxlt9+UMOR2nV1K6eAfou+tOIHjDL9kiIEig4+RFf3RLt33Y5jTr5Eq2ZDn0xS94BCl9TN71LKdhDQUX+Kw/A89mmUeZTeqwZD0ybhwQgANYi/ECGu2ga5FsFtln8+CVzXWiNY4j2nXXXVccigxHwYW+6wFkG9EZrfzIDvEd+CyIEBziozaZZXRmM5TZB5ll7wL95EvZtUhXHdESzeEVzAgYkiHfYQkatHXQlLFUdh3BjnnH5w6e5pDxYDv0BWyFf8YgvOwRfuvbGrwDnw/wl2UuZOD5xOZxdeZaxJyu76KR4IIPshegXCYDbuP/U7DFg4t5sRQy4ggiBBddgzDSnLd0D6BAPppxgpW25ExSSH+b7GTp1AIfR8HBcAL6O0lyTsDXs645EDmgrByZPgivv3QoYLAYLmsF8GOE9GbXIgzd4x73uBHxEUInbGtqDgoulQ44icMOO+z/rJ3AgARmFNb5L8EFPpS58OegytKCononNBkr4E5SpghQZnJT1ih5o6CMCgXEb46ZgZcpw1uOQpv7U6lxRscHncZzRubGJ6lw/QUF5MK1CNkRMJILJxR9+1YouclAyFw4yXA2AlPZD3LkfpyBIn+AbJP3rtPmf29Fu9OFuiA9qrxWnxlBWQin+7I8sgICM+leTkIA50t4IPgvKEAnwT8ZYWx9YxVw9PTeYUMQWkZS9tI4wZ85XUe5yxeMkpNOj6961auGXHIu+vsYnJ1SFgg7EAlqyQSZcd02g/psGhkROFmTAKcTLWdjL2ybOZy2c4iyNZyaesDm0JPWN8+1Vt/LUkcDWZ7HPOYxK7ZVUI5GMoKu09GSzQB0GN/pvOASzfv+AR4fy7IdXd1HQ0GAQIRdp8d467BK5/GTPLElgj/f85S5MJ4N8yeueGfN/Jw98GV8iqvbbJgMA9/W3oxPXgStZFPmAjjMWq+MvayF9RVUkVt/SQSPTMUcXNCJ2XcNZJuC3nSvutv73OLBhQUhSARrgYjD8XcXTanc/8hgYJLgA2NFVhwNJ9NJhANyd4QwolMnC9Eko0AoBBiMEGIqYySAF8HclWMA4+BPCBGec7BO0b+foHULLpxopL/VcYYcFoNvndafYyEQDBxgaBjC8DBgDEV9m2e9P9EVr/EfMJDo5st99GLcKTCg3O7X9THOlUYnxNFh+ljOl/wCRoZf0FAAqB9e+PAJfoZZGQgCBB2uJsgHBwG/efTXNyW3XqcTYxrrSfbMJeNF0UvFMmwMnbQquZnXbU5ZETIqw0IOkxN/2YQe4SZPs9EZDWvwV3uk4+hflsdW8YbOx9t0TB8nNfai8dLT+rILdLXgDx48EqAI4NiODhraZEPIgWvX7BDe4630NQfVXOYXPOrPXnWqNBd5NQ+Y51YmExyLLCqwZn9myz6xL7IrBQxk1TWxPTjxmsdayAybw7m0Z33WOrg+ksmM967A0Lq9C0pltcgOfRJcuGIDbIpgnn4b73ssASVw8HOQYDvYjfCn9/wBHWaf2A08CAQofBNe4BWZyneRJ36PzaDb/I5vhsyjf/YPD411heI9/mcPBDyC6w5V+K+vrJc1uTpODsiuKxNlfawXHntS7kNj5Xkf7Wdzn3dKcNHibChGVreaadVHmMo9EdEPqA+8EV197/rVxzzqK4fPE0HLIhjTh5/10U4QBRcJydxfv8o9wxsOeNtrdRvPf/Eqns2GtzoyE5SiTgnmJ9rPNK5tHg+nObSRhfonFwUJ5mst4YFfP/V+ksO5r/f66+u06oTRaakx4dbfmhit9quPsa0p/K01A9c82tcqzHSKHuqihX2jm/Kst8rRMXrh30wz5XgKT7zxbrx54knz6e8dHk9rmvu03hlX7z3hT86sTTDDtgiEARzzOpvbPNFAP2sJ2nt9W0ft6+EZbaIzGggqZSnRiiP1zUzfwcz0jIfoZFwyEz1X83rmjzHazVv/xmsL98yT+V2fgqHwtgdt83tBRllZwcgsB/oH6qOJOu+ry+qb+7bawrU5zy0eXFgwQs4Lx4AIbtEpaoyJgPpUV78IgXkxM1zmqX8MWY0jIsX8+vec+4dDKtVXvv4tjdX7qGx8/XvWlsC0h+aqX2tar080j1b4Ev/xM9pF3/ppi379FQD6VRd/Z5rOdclM7clV5bk9nOYE1hIPrad3bSm0eiek/ga+fTReWZ95noyEtpzFmHDTr9qN631uX6vv7bVnwWLlHLX9x5uZJ/Fv5sFt0RcvGj/zBV6yE85kJTnVTjbwpTW0tllmtOnTOuDzLr3uXt53XzM0VnYusBc42tO8zvC2jsqNXYvP+GVv5KC9xysBBdvt/+HwEbBvmuoz0yMbkmzpg36zzdA/miYr8aP58Cze6A+PNv0b66mPn+QkWWrsLJ+toT7kxHW7vxqa+5kn3K2/PZon3NWtlp3K0af11v/2Prd4cGFBLbbFtYkUsnYEiEkIUf1MQDikuoJwKa/uX1kbfBGr+sZWH6MrxyzjffCjXJ/VjJrnr094tAHj53HNv6l53T/QJ96kUIhStqK2jPtqguVkoit8wLjGKmdA4NWnfs0TXrwKV3g8U/J4aTxe5wziv3X61qL11j7jhK/5rRHO8M7Pef3haZ3r5YkeM+3QvPJqxxzt0sHZhsSf+IZ+s2OKJ2g+94Ez2mvzQxbUx59kA47WFn7PIFkzjoyEN1lJllv/PEfy0hMO4z2bMzzNt5af0ao9oieIpvjtH7fiN6KZOrSd+VV/NIyO8bUyu1Rdz5lH5lWe1zTbsvrq11paQ/2S1dY4NjMdwpXtMdmrvTUm+z3nOe1x9p/GNl94Wk/lzX3eKcHF5i5uY9wGBTYosEGBDQpsUGCDAnc9CmwEF3c9nm2seIMCGxTYoMAGBTYo8F9NgY3g4r+aPRuL26DABgU2KLBBgQ0K3PUo8D9aJ6m2YJoCdgAAAABJRU5ErkJggg==)"
      ]
    },
    {
      "cell_type": "code",
      "metadata": {
        "id": "5ccBrkiNKyAC"
      },
      "source": [
        "order_data = pd.read_csv('https://raw.githubusercontent.com/thimotyb/you-datascientist/master/order_leads.csv',parse_dates=[3])\n",
        "sales_team = pd.read_csv('https://raw.githubusercontent.com/thimotyb/you-datascientist/master/sales_team.csv')"
      ],
      "execution_count": 53,
      "outputs": []
    },
    {
      "cell_type": "code",
      "metadata": {
        "colab": {
          "base_uri": "https://localhost:8080/",
          "height": 172
        },
        "id": "T5TCi4OoMHFg",
        "outputId": "8aa292a4-1a4b-46c1-bb56-b465c45d18c1"
      },
      "source": [
        "invoices.head(3)"
      ],
      "execution_count": 54,
      "outputs": [
        {
          "output_type": "error",
          "ename": "NameError",
          "evalue": "ignored",
          "traceback": [
            "\u001b[0;31m---------------------------------------------------------------------------\u001b[0m",
            "\u001b[0;31mNameError\u001b[0m                                 Traceback (most recent call last)",
            "\u001b[0;32m<ipython-input-54-d69e7d6f93c4>\u001b[0m in \u001b[0;36m<module>\u001b[0;34m()\u001b[0m\n\u001b[0;32m----> 1\u001b[0;31m \u001b[0minvoices\u001b[0m\u001b[0;34m.\u001b[0m\u001b[0mhead\u001b[0m\u001b[0;34m(\u001b[0m\u001b[0;36m3\u001b[0m\u001b[0;34m)\u001b[0m\u001b[0;34m\u001b[0m\u001b[0;34m\u001b[0m\u001b[0m\n\u001b[0m",
            "\u001b[0;31mNameError\u001b[0m: name 'invoices' is not defined"
          ]
        }
      ]
    },
    {
      "cell_type": "code",
      "metadata": {
        "colab": {
          "base_uri": "https://localhost:8080/",
          "height": 142
        },
        "id": "RYEhH7QjMl4N",
        "outputId": "78652397-07ad-4fe7-c1e7-0b362ea2113b"
      },
      "source": [
        "\n",
        "order_data.head(3)"
      ],
      "execution_count": 55,
      "outputs": [
        {
          "output_type": "execute_result",
          "data": {
            "text/html": [
              "<div>\n",
              "<style scoped>\n",
              "    .dataframe tbody tr th:only-of-type {\n",
              "        vertical-align: middle;\n",
              "    }\n",
              "\n",
              "    .dataframe tbody tr th {\n",
              "        vertical-align: top;\n",
              "    }\n",
              "\n",
              "    .dataframe thead th {\n",
              "        text-align: right;\n",
              "    }\n",
              "</style>\n",
              "<table border=\"1\" class=\"dataframe\">\n",
              "  <thead>\n",
              "    <tr style=\"text-align: right;\">\n",
              "      <th></th>\n",
              "      <th>Order Id</th>\n",
              "      <th>Company Id</th>\n",
              "      <th>Company Name</th>\n",
              "      <th>Date</th>\n",
              "      <th>Order Value</th>\n",
              "      <th>Converted</th>\n",
              "    </tr>\n",
              "  </thead>\n",
              "  <tbody>\n",
              "    <tr>\n",
              "      <th>0</th>\n",
              "      <td>80EYLOKP9E762WKG</td>\n",
              "      <td>LJKS5NK6788CYMUU</td>\n",
              "      <td>Chimera-Chasing Casbah</td>\n",
              "      <td>2017-02-18</td>\n",
              "      <td>4875</td>\n",
              "      <td>1</td>\n",
              "    </tr>\n",
              "    <tr>\n",
              "      <th>1</th>\n",
              "      <td>TLEXR1HZWTUTBHPB</td>\n",
              "      <td>LJKS5NK6788CYMUU</td>\n",
              "      <td>Chimera-Chasing Casbah</td>\n",
              "      <td>2015-07-30</td>\n",
              "      <td>8425</td>\n",
              "      <td>0</td>\n",
              "    </tr>\n",
              "    <tr>\n",
              "      <th>2</th>\n",
              "      <td>839FKFW2LLX4LMBB</td>\n",
              "      <td>LJKS5NK6788CYMUU</td>\n",
              "      <td>Chimera-Chasing Casbah</td>\n",
              "      <td>2016-05-27</td>\n",
              "      <td>4837</td>\n",
              "      <td>0</td>\n",
              "    </tr>\n",
              "  </tbody>\n",
              "</table>\n",
              "</div>"
            ],
            "text/plain": [
              "           Order Id        Company Id            Company Name       Date  \\\n",
              "0  80EYLOKP9E762WKG  LJKS5NK6788CYMUU  Chimera-Chasing Casbah 2017-02-18   \n",
              "1  TLEXR1HZWTUTBHPB  LJKS5NK6788CYMUU  Chimera-Chasing Casbah 2015-07-30   \n",
              "2  839FKFW2LLX4LMBB  LJKS5NK6788CYMUU  Chimera-Chasing Casbah 2016-05-27   \n",
              "\n",
              "   Order Value  Converted  \n",
              "0         4875          1  \n",
              "1         8425          0  \n",
              "2         4837          0  "
            ]
          },
          "metadata": {
            "tags": []
          },
          "execution_count": 55
        }
      ]
    },
    {
      "cell_type": "code",
      "metadata": {
        "colab": {
          "base_uri": "https://localhost:8080/",
          "height": 142
        },
        "id": "17O0RyMLMoHR",
        "outputId": "ef18f8a4-891f-473a-cede-6a4c3ff7730e"
      },
      "source": [
        "sales_team.head(3)"
      ],
      "execution_count": 56,
      "outputs": [
        {
          "output_type": "execute_result",
          "data": {
            "text/html": [
              "<div>\n",
              "<style scoped>\n",
              "    .dataframe tbody tr th:only-of-type {\n",
              "        vertical-align: middle;\n",
              "    }\n",
              "\n",
              "    .dataframe tbody tr th {\n",
              "        vertical-align: top;\n",
              "    }\n",
              "\n",
              "    .dataframe thead th {\n",
              "        text-align: right;\n",
              "    }\n",
              "</style>\n",
              "<table border=\"1\" class=\"dataframe\">\n",
              "  <thead>\n",
              "    <tr style=\"text-align: right;\">\n",
              "      <th></th>\n",
              "      <th>Sales Rep</th>\n",
              "      <th>Sales Rep Id</th>\n",
              "      <th>Company Name</th>\n",
              "      <th>Company Id</th>\n",
              "    </tr>\n",
              "  </thead>\n",
              "  <tbody>\n",
              "    <tr>\n",
              "      <th>0</th>\n",
              "      <td>Jessie Mcallister</td>\n",
              "      <td>97UNNAT790E0WM4N</td>\n",
              "      <td>Chimera-Chasing Casbah</td>\n",
              "      <td>LJKS5NK6788CYMUU</td>\n",
              "    </tr>\n",
              "    <tr>\n",
              "      <th>1</th>\n",
              "      <td>Jessie Mcallister</td>\n",
              "      <td>97UNNAT790E0WM4N</td>\n",
              "      <td>Tangential Sheds</td>\n",
              "      <td>36MFTZOYMTAJP1RK</td>\n",
              "    </tr>\n",
              "    <tr>\n",
              "      <th>2</th>\n",
              "      <td>Jessie Mcallister</td>\n",
              "      <td>97UNNAT790E0WM4N</td>\n",
              "      <td>Two-Mile Grab</td>\n",
              "      <td>H3JRC7XX7WJAD4ZO</td>\n",
              "    </tr>\n",
              "  </tbody>\n",
              "</table>\n",
              "</div>"
            ],
            "text/plain": [
              "           Sales Rep      Sales Rep Id            Company Name  \\\n",
              "0  Jessie Mcallister  97UNNAT790E0WM4N  Chimera-Chasing Casbah   \n",
              "1  Jessie Mcallister  97UNNAT790E0WM4N        Tangential Sheds   \n",
              "2  Jessie Mcallister  97UNNAT790E0WM4N           Two-Mile Grab   \n",
              "\n",
              "         Company Id  \n",
              "0  LJKS5NK6788CYMUU  \n",
              "1  36MFTZOYMTAJP1RK  \n",
              "2  H3JRC7XX7WJAD4ZO  "
            ]
          },
          "metadata": {
            "tags": []
          },
          "execution_count": 56
        }
      ]
    },
    {
      "cell_type": "markdown",
      "metadata": {
        "id": "quV2eHnlNFmI"
      },
      "source": [
        "No parameters provided: All parameters will use their defaults.\n",
        "The merge is going to be an inner merge (equivalent to how='inner').\n",
        "The merge is going to be done on all common columns, i.e., Date, Order Id, and Company Id(equivalent to on=['Date','Order Id','Company Id]).\n",
        "Suffixes are not relevant as all common columns will be used to merge on, so there will no be duplicated columns remaining."
      ]
    },
    {
      "cell_type": "code",
      "metadata": {
        "id": "ig_agjjYMrVh"
      },
      "source": [
        "\n",
        "pd.merge(order_data,invoices)"
      ],
      "execution_count": null,
      "outputs": []
    },
    {
      "cell_type": "markdown",
      "metadata": {
        "id": "ZEncblqyNVuj"
      },
      "source": [
        "how='left' : Again, the merge is based on all common columns. Suffixes are not relevant as all common columns will be used to merge on, so there will no be duplicated columns remaining.\n",
        "However, this time around, we merge with how='left' which means that we will take all rows from the left frame and only add data from the right frame where we find some."
      ]
    },
    {
      "cell_type": "code",
      "metadata": {
        "id": "qER4foQ4Mwc6"
      },
      "source": [
        "pd.merge(order_data,invoices,how='left')"
      ],
      "execution_count": null,
      "outputs": []
    },
    {
      "cell_type": "markdown",
      "metadata": {
        "id": "Z7QaD9uqNnwS"
      },
      "source": [
        "how='right' : Again, the merge is based on all common columns. Suffixes are not relevant as all common columns will be used to merge on, so there will no be duplicated columns remaining.\n",
        "However, this time around, we merge with how='right' which means that we will take all rows from the right frame and only add data from the left frame where we find some. This case is equivalent to 'inner' in our example as every row in the left DataFrame has a corresponding row in the right DataFrame."
      ]
    },
    {
      "cell_type": "code",
      "metadata": {
        "id": "7hj9NbEvNQE-"
      },
      "source": [
        "pd.merge(order_data,invoices,how='right')"
      ],
      "execution_count": null,
      "outputs": []
    },
    {
      "cell_type": "markdown",
      "metadata": {
        "id": "IidL2Q8cN4Nn"
      },
      "source": [
        "how='outer' : Again, the merge is based on all common columns. Suffixes are not relevant as all common columns will be used to merge on, so there will no be duplicated columns remaining.\n",
        "However, this time around, we merge with how='outer'. We take all rows from either, the left or the right DataFrame and add corresponding data where we find some in the other DataFrame. This case is equivalent to 'left' in our example as every row in the left DataFrame has a corresponding row in the right DataFrame."
      ]
    },
    {
      "cell_type": "code",
      "metadata": {
        "id": "zcxtyLlhNl4l"
      },
      "source": [
        "pd.merge(order_data,invoices,how='outer')"
      ],
      "execution_count": null,
      "outputs": []
    },
    {
      "cell_type": "code",
      "metadata": {
        "id": "s9B8ftGgNzZK"
      },
      "source": [
        "pd.merge(order_data,invoices,on='Order Id',suffixes=('_base','_join'))"
      ],
      "execution_count": null,
      "outputs": []
    },
    {
      "cell_type": "markdown",
      "metadata": {
        "id": "QgJFWtdlORYK"
      },
      "source": [
        "You would typically use the left_on and right_on parameters when the columns are named differently in the two DataFrames."
      ]
    },
    {
      "cell_type": "code",
      "metadata": {
        "id": "qjcChkA6OD28"
      },
      "source": [
        "pd.merge(\n",
        "    order_data,\n",
        "    invoices.rename(columns={'Order Id':'New Id'}),\n",
        "    left_on='Order Id',\n",
        "    right_on='New Id'\n",
        ")"
      ],
      "execution_count": null,
      "outputs": []
    },
    {
      "cell_type": "markdown",
      "metadata": {
        "id": "YkH79LTHObdA"
      },
      "source": [
        "## Map"
      ]
    },
    {
      "cell_type": "code",
      "metadata": {
        "id": "R0BP-mDcOKKx",
        "colab": {
          "base_uri": "https://localhost:8080/"
        },
        "outputId": "e71ebe08-eb39-48be-ed05-a6404fa7d172"
      },
      "source": [
        "# Creating a new series from a column, contextually setting the index from another column\n",
        "lookup = sales_team.set_index(\"Company Name\")['Sales Rep']\n",
        "lookup"
      ],
      "execution_count": 60,
      "outputs": [
        {
          "output_type": "execute_result",
          "data": {
            "text/plain": [
              "Company Name\n",
              "Chimera-Chasing Casbah            Jessie Mcallister\n",
              "Tangential Sheds                  Jessie Mcallister\n",
              "Two-Mile Grab                     Jessie Mcallister\n",
              "Three-Men-And-A-Helper Congo'S    Jessie Mcallister\n",
              "Biophysical Battleground          Jessie Mcallister\n",
              "                                        ...        \n",
              "Jammed-Together Stable                Joel Woodbury\n",
              "Laureate Barbital                     Joel Woodbury\n",
              "Spotty Adoniram                     Hazel Dickerson\n",
              "Physicochemical Impatience          Hazel Dickerson\n",
              "Fierce Productivity                 Hazel Dickerson\n",
              "Name: Sales Rep, Length: 4725, dtype: object"
            ]
          },
          "metadata": {
            "tags": []
          },
          "execution_count": 60
        }
      ]
    },
    {
      "cell_type": "code",
      "metadata": {
        "colab": {
          "base_uri": "https://localhost:8080/",
          "height": 606
        },
        "id": "lpRvw7yWWO5L",
        "outputId": "11a00e27-ed4d-43ca-f2fe-b659f3e7b175"
      },
      "source": [
        "# Using an indexed series as a mapping function to create new columns\n",
        "order_data['Sales Rep'] = order_data['Company Name'].map(lookup)\n",
        "order_data"
      ],
      "execution_count": 62,
      "outputs": [
        {
          "output_type": "execute_result",
          "data": {
            "text/html": [
              "<div>\n",
              "<style scoped>\n",
              "    .dataframe tbody tr th:only-of-type {\n",
              "        vertical-align: middle;\n",
              "    }\n",
              "\n",
              "    .dataframe tbody tr th {\n",
              "        vertical-align: top;\n",
              "    }\n",
              "\n",
              "    .dataframe thead th {\n",
              "        text-align: right;\n",
              "    }\n",
              "</style>\n",
              "<table border=\"1\" class=\"dataframe\">\n",
              "  <thead>\n",
              "    <tr style=\"text-align: right;\">\n",
              "      <th></th>\n",
              "      <th>Order Id</th>\n",
              "      <th>Company Id</th>\n",
              "      <th>Company Name</th>\n",
              "      <th>Date</th>\n",
              "      <th>Order Value</th>\n",
              "      <th>Converted</th>\n",
              "      <th>Sales Rep</th>\n",
              "    </tr>\n",
              "  </thead>\n",
              "  <tbody>\n",
              "    <tr>\n",
              "      <th>0</th>\n",
              "      <td>80EYLOKP9E762WKG</td>\n",
              "      <td>LJKS5NK6788CYMUU</td>\n",
              "      <td>Chimera-Chasing Casbah</td>\n",
              "      <td>2017-02-18</td>\n",
              "      <td>4875</td>\n",
              "      <td>1</td>\n",
              "      <td>Jessie Mcallister</td>\n",
              "    </tr>\n",
              "    <tr>\n",
              "      <th>1</th>\n",
              "      <td>TLEXR1HZWTUTBHPB</td>\n",
              "      <td>LJKS5NK6788CYMUU</td>\n",
              "      <td>Chimera-Chasing Casbah</td>\n",
              "      <td>2015-07-30</td>\n",
              "      <td>8425</td>\n",
              "      <td>0</td>\n",
              "      <td>Jessie Mcallister</td>\n",
              "    </tr>\n",
              "    <tr>\n",
              "      <th>2</th>\n",
              "      <td>839FKFW2LLX4LMBB</td>\n",
              "      <td>LJKS5NK6788CYMUU</td>\n",
              "      <td>Chimera-Chasing Casbah</td>\n",
              "      <td>2016-05-27</td>\n",
              "      <td>4837</td>\n",
              "      <td>0</td>\n",
              "      <td>Jessie Mcallister</td>\n",
              "    </tr>\n",
              "    <tr>\n",
              "      <th>3</th>\n",
              "      <td>97OX39BGVMHODLJM</td>\n",
              "      <td>LJKS5NK6788CYMUU</td>\n",
              "      <td>Chimera-Chasing Casbah</td>\n",
              "      <td>2018-09-27</td>\n",
              "      <td>343</td>\n",
              "      <td>0</td>\n",
              "      <td>Jessie Mcallister</td>\n",
              "    </tr>\n",
              "    <tr>\n",
              "      <th>4</th>\n",
              "      <td>5T4LGH4XGBWOD49Z</td>\n",
              "      <td>LJKS5NK6788CYMUU</td>\n",
              "      <td>Chimera-Chasing Casbah</td>\n",
              "      <td>2016-01-14</td>\n",
              "      <td>983</td>\n",
              "      <td>0</td>\n",
              "      <td>Jessie Mcallister</td>\n",
              "    </tr>\n",
              "    <tr>\n",
              "      <th>...</th>\n",
              "      <td>...</td>\n",
              "      <td>...</td>\n",
              "      <td>...</td>\n",
              "      <td>...</td>\n",
              "      <td>...</td>\n",
              "      <td>...</td>\n",
              "      <td>...</td>\n",
              "    </tr>\n",
              "    <tr>\n",
              "      <th>99995</th>\n",
              "      <td>4MFHIAQKH0HCACJM</td>\n",
              "      <td>E4K99D4JR9E40VE1</td>\n",
              "      <td>Fierce Productivity</td>\n",
              "      <td>2015-07-25</td>\n",
              "      <td>4851</td>\n",
              "      <td>0</td>\n",
              "      <td>Hazel Dickerson</td>\n",
              "    </tr>\n",
              "    <tr>\n",
              "      <th>99996</th>\n",
              "      <td>K1UP23P8SIY1YION</td>\n",
              "      <td>E4K99D4JR9E40VE1</td>\n",
              "      <td>Fierce Productivity</td>\n",
              "      <td>2015-08-24</td>\n",
              "      <td>7868</td>\n",
              "      <td>0</td>\n",
              "      <td>Hazel Dickerson</td>\n",
              "    </tr>\n",
              "    <tr>\n",
              "      <th>99997</th>\n",
              "      <td>NKHFWT5I2J9LPAPG</td>\n",
              "      <td>E4K99D4JR9E40VE1</td>\n",
              "      <td>Fierce Productivity</td>\n",
              "      <td>2017-09-06</td>\n",
              "      <td>5138</td>\n",
              "      <td>0</td>\n",
              "      <td>Hazel Dickerson</td>\n",
              "    </tr>\n",
              "    <tr>\n",
              "      <th>99998</th>\n",
              "      <td>OF79M3H9C44UM6PO</td>\n",
              "      <td>E4K99D4JR9E40VE1</td>\n",
              "      <td>Fierce Productivity</td>\n",
              "      <td>2015-10-29</td>\n",
              "      <td>2036</td>\n",
              "      <td>0</td>\n",
              "      <td>Hazel Dickerson</td>\n",
              "    </tr>\n",
              "    <tr>\n",
              "      <th>99999</th>\n",
              "      <td>EHN2QR78K2RX0FQ9</td>\n",
              "      <td>E4K99D4JR9E40VE1</td>\n",
              "      <td>Fierce Productivity</td>\n",
              "      <td>2015-03-07</td>\n",
              "      <td>7183</td>\n",
              "      <td>0</td>\n",
              "      <td>Hazel Dickerson</td>\n",
              "    </tr>\n",
              "  </tbody>\n",
              "</table>\n",
              "<p>100000 rows × 7 columns</p>\n",
              "</div>"
            ],
            "text/plain": [
              "               Order Id        Company Id            Company Name       Date  \\\n",
              "0      80EYLOKP9E762WKG  LJKS5NK6788CYMUU  Chimera-Chasing Casbah 2017-02-18   \n",
              "1      TLEXR1HZWTUTBHPB  LJKS5NK6788CYMUU  Chimera-Chasing Casbah 2015-07-30   \n",
              "2      839FKFW2LLX4LMBB  LJKS5NK6788CYMUU  Chimera-Chasing Casbah 2016-05-27   \n",
              "3      97OX39BGVMHODLJM  LJKS5NK6788CYMUU  Chimera-Chasing Casbah 2018-09-27   \n",
              "4      5T4LGH4XGBWOD49Z  LJKS5NK6788CYMUU  Chimera-Chasing Casbah 2016-01-14   \n",
              "...                 ...               ...                     ...        ...   \n",
              "99995  4MFHIAQKH0HCACJM  E4K99D4JR9E40VE1     Fierce Productivity 2015-07-25   \n",
              "99996  K1UP23P8SIY1YION  E4K99D4JR9E40VE1     Fierce Productivity 2015-08-24   \n",
              "99997  NKHFWT5I2J9LPAPG  E4K99D4JR9E40VE1     Fierce Productivity 2017-09-06   \n",
              "99998  OF79M3H9C44UM6PO  E4K99D4JR9E40VE1     Fierce Productivity 2015-10-29   \n",
              "99999  EHN2QR78K2RX0FQ9  E4K99D4JR9E40VE1     Fierce Productivity 2015-03-07   \n",
              "\n",
              "       Order Value  Converted          Sales Rep  \n",
              "0             4875          1  Jessie Mcallister  \n",
              "1             8425          0  Jessie Mcallister  \n",
              "2             4837          0  Jessie Mcallister  \n",
              "3              343          0  Jessie Mcallister  \n",
              "4              983          0  Jessie Mcallister  \n",
              "...            ...        ...                ...  \n",
              "99995         4851          0    Hazel Dickerson  \n",
              "99996         7868          0    Hazel Dickerson  \n",
              "99997         5138          0    Hazel Dickerson  \n",
              "99998         2036          0    Hazel Dickerson  \n",
              "99999         7183          0    Hazel Dickerson  \n",
              "\n",
              "[100000 rows x 7 columns]"
            ]
          },
          "metadata": {
            "tags": []
          },
          "execution_count": 62
        }
      ]
    },
    {
      "cell_type": "markdown",
      "metadata": {
        "id": "vhd80lJqXOR6"
      },
      "source": [
        "# Reshaping Dataframes"
      ]
    },
    {
      "cell_type": "markdown",
      "metadata": {
        "id": "uy_Yq2pxZ82h"
      },
      "source": [
        "## Transpose"
      ]
    },
    {
      "cell_type": "code",
      "metadata": {
        "colab": {
          "base_uri": "https://localhost:8080/",
          "height": 343
        },
        "id": "X1IzkMDcWy_T",
        "outputId": "1a898b8e-846b-421d-d3c7-c80978bcbd00"
      },
      "source": [
        "# Transpose\n",
        "invoices.head(5)"
      ],
      "execution_count": 65,
      "outputs": [
        {
          "output_type": "execute_result",
          "data": {
            "text/html": [
              "<div>\n",
              "<style scoped>\n",
              "    .dataframe tbody tr th:only-of-type {\n",
              "        vertical-align: middle;\n",
              "    }\n",
              "\n",
              "    .dataframe tbody tr th {\n",
              "        vertical-align: top;\n",
              "    }\n",
              "\n",
              "    .dataframe thead th {\n",
              "        text-align: right;\n",
              "    }\n",
              "</style>\n",
              "<table border=\"1\" class=\"dataframe\">\n",
              "  <thead>\n",
              "    <tr style=\"text-align: right;\">\n",
              "      <th></th>\n",
              "      <th>Order Id</th>\n",
              "      <th>Date</th>\n",
              "      <th>Meal Id</th>\n",
              "      <th>Company Id</th>\n",
              "      <th>Date of Meal</th>\n",
              "      <th>Participants</th>\n",
              "      <th>Meal Price</th>\n",
              "      <th>Type of Meal</th>\n",
              "      <th>Heroes Adjustment</th>\n",
              "    </tr>\n",
              "  </thead>\n",
              "  <tbody>\n",
              "    <tr>\n",
              "      <th>0</th>\n",
              "      <td>839FKFW2LLX4LMBB</td>\n",
              "      <td>2016-05-27</td>\n",
              "      <td>INBUX904GIHI8YBD</td>\n",
              "      <td>LJKS5NK6788CYMUU</td>\n",
              "      <td>2016-05-31 07:00:00+02:00</td>\n",
              "      <td>['David Bishop']</td>\n",
              "      <td>469.0</td>\n",
              "      <td>Breakfast</td>\n",
              "      <td>False</td>\n",
              "    </tr>\n",
              "    <tr>\n",
              "      <th>1</th>\n",
              "      <td>97OX39BGVMHODLJM</td>\n",
              "      <td>2018-09-27</td>\n",
              "      <td>J0MMOOPP709DIDIE</td>\n",
              "      <td>LJKS5NK6788CYMUU</td>\n",
              "      <td>2018-10-01 20:00:00+02:00</td>\n",
              "      <td>['David Bishop']</td>\n",
              "      <td>22.0</td>\n",
              "      <td>Dinner</td>\n",
              "      <td>False</td>\n",
              "    </tr>\n",
              "    <tr>\n",
              "      <th>2</th>\n",
              "      <td>041ORQM5OIHTIU6L</td>\n",
              "      <td>2014-08-24</td>\n",
              "      <td>E4UJLQNCI16UX5CS</td>\n",
              "      <td>LJKS5NK6788CYMUU</td>\n",
              "      <td>2014-08-23 14:00:00+02:00</td>\n",
              "      <td>['Karen Stansell']</td>\n",
              "      <td>314.0</td>\n",
              "      <td>Lunch</td>\n",
              "      <td>False</td>\n",
              "    </tr>\n",
              "    <tr>\n",
              "      <th>3</th>\n",
              "      <td>YT796QI18WNGZ7ZJ</td>\n",
              "      <td>2014-04-12</td>\n",
              "      <td>C9SDFHF7553BE247</td>\n",
              "      <td>LJKS5NK6788CYMUU</td>\n",
              "      <td>2014-04-07 21:00:00+02:00</td>\n",
              "      <td>['Addie Patino']</td>\n",
              "      <td>438.0</td>\n",
              "      <td>Dinner</td>\n",
              "      <td>False</td>\n",
              "    </tr>\n",
              "    <tr>\n",
              "      <th>4</th>\n",
              "      <td>6YLROQT27B6HRF4E</td>\n",
              "      <td>2015-07-28</td>\n",
              "      <td>48EQXS6IHYNZDDZ5</td>\n",
              "      <td>LJKS5NK6788CYMUU</td>\n",
              "      <td>2015-07-27 14:00:00+02:00</td>\n",
              "      <td>['Addie Patino' 'Susan Guerrero']</td>\n",
              "      <td>690.0</td>\n",
              "      <td>Lunch</td>\n",
              "      <td>False</td>\n",
              "    </tr>\n",
              "  </tbody>\n",
              "</table>\n",
              "</div>"
            ],
            "text/plain": [
              "           Order Id        Date           Meal Id        Company Id  \\\n",
              "0  839FKFW2LLX4LMBB  2016-05-27  INBUX904GIHI8YBD  LJKS5NK6788CYMUU   \n",
              "1  97OX39BGVMHODLJM  2018-09-27  J0MMOOPP709DIDIE  LJKS5NK6788CYMUU   \n",
              "2  041ORQM5OIHTIU6L  2014-08-24  E4UJLQNCI16UX5CS  LJKS5NK6788CYMUU   \n",
              "3  YT796QI18WNGZ7ZJ  2014-04-12  C9SDFHF7553BE247  LJKS5NK6788CYMUU   \n",
              "4  6YLROQT27B6HRF4E  2015-07-28  48EQXS6IHYNZDDZ5  LJKS5NK6788CYMUU   \n",
              "\n",
              "                Date of Meal                       Participants  Meal Price  \\\n",
              "0  2016-05-31 07:00:00+02:00                   ['David Bishop']       469.0   \n",
              "1  2018-10-01 20:00:00+02:00                   ['David Bishop']        22.0   \n",
              "2  2014-08-23 14:00:00+02:00                 ['Karen Stansell']       314.0   \n",
              "3  2014-04-07 21:00:00+02:00                   ['Addie Patino']       438.0   \n",
              "4  2015-07-27 14:00:00+02:00  ['Addie Patino' 'Susan Guerrero']       690.0   \n",
              "\n",
              "  Type of Meal  Heroes Adjustment  \n",
              "0    Breakfast              False  \n",
              "1       Dinner              False  \n",
              "2        Lunch              False  \n",
              "3       Dinner              False  \n",
              "4        Lunch              False  "
            ]
          },
          "metadata": {
            "tags": []
          },
          "execution_count": 65
        }
      ]
    },
    {
      "cell_type": "code",
      "metadata": {
        "id": "TyKm0BPdZKcM",
        "outputId": "2ad34d4e-8186-49c2-93ad-8992cb161836",
        "colab": {
          "base_uri": "https://localhost:8080/",
          "height": 416
        }
      },
      "source": [
        "invoices.head(5).T"
      ],
      "execution_count": 66,
      "outputs": [
        {
          "output_type": "execute_result",
          "data": {
            "text/html": [
              "<div>\n",
              "<style scoped>\n",
              "    .dataframe tbody tr th:only-of-type {\n",
              "        vertical-align: middle;\n",
              "    }\n",
              "\n",
              "    .dataframe tbody tr th {\n",
              "        vertical-align: top;\n",
              "    }\n",
              "\n",
              "    .dataframe thead th {\n",
              "        text-align: right;\n",
              "    }\n",
              "</style>\n",
              "<table border=\"1\" class=\"dataframe\">\n",
              "  <thead>\n",
              "    <tr style=\"text-align: right;\">\n",
              "      <th></th>\n",
              "      <th>0</th>\n",
              "      <th>1</th>\n",
              "      <th>2</th>\n",
              "      <th>3</th>\n",
              "      <th>4</th>\n",
              "    </tr>\n",
              "  </thead>\n",
              "  <tbody>\n",
              "    <tr>\n",
              "      <th>Order Id</th>\n",
              "      <td>839FKFW2LLX4LMBB</td>\n",
              "      <td>97OX39BGVMHODLJM</td>\n",
              "      <td>041ORQM5OIHTIU6L</td>\n",
              "      <td>YT796QI18WNGZ7ZJ</td>\n",
              "      <td>6YLROQT27B6HRF4E</td>\n",
              "    </tr>\n",
              "    <tr>\n",
              "      <th>Date</th>\n",
              "      <td>2016-05-27</td>\n",
              "      <td>2018-09-27</td>\n",
              "      <td>2014-08-24</td>\n",
              "      <td>2014-04-12</td>\n",
              "      <td>2015-07-28</td>\n",
              "    </tr>\n",
              "    <tr>\n",
              "      <th>Meal Id</th>\n",
              "      <td>INBUX904GIHI8YBD</td>\n",
              "      <td>J0MMOOPP709DIDIE</td>\n",
              "      <td>E4UJLQNCI16UX5CS</td>\n",
              "      <td>C9SDFHF7553BE247</td>\n",
              "      <td>48EQXS6IHYNZDDZ5</td>\n",
              "    </tr>\n",
              "    <tr>\n",
              "      <th>Company Id</th>\n",
              "      <td>LJKS5NK6788CYMUU</td>\n",
              "      <td>LJKS5NK6788CYMUU</td>\n",
              "      <td>LJKS5NK6788CYMUU</td>\n",
              "      <td>LJKS5NK6788CYMUU</td>\n",
              "      <td>LJKS5NK6788CYMUU</td>\n",
              "    </tr>\n",
              "    <tr>\n",
              "      <th>Date of Meal</th>\n",
              "      <td>2016-05-31 07:00:00+02:00</td>\n",
              "      <td>2018-10-01 20:00:00+02:00</td>\n",
              "      <td>2014-08-23 14:00:00+02:00</td>\n",
              "      <td>2014-04-07 21:00:00+02:00</td>\n",
              "      <td>2015-07-27 14:00:00+02:00</td>\n",
              "    </tr>\n",
              "    <tr>\n",
              "      <th>Participants</th>\n",
              "      <td>['David Bishop']</td>\n",
              "      <td>['David Bishop']</td>\n",
              "      <td>['Karen Stansell']</td>\n",
              "      <td>['Addie Patino']</td>\n",
              "      <td>['Addie Patino' 'Susan Guerrero']</td>\n",
              "    </tr>\n",
              "    <tr>\n",
              "      <th>Meal Price</th>\n",
              "      <td>469</td>\n",
              "      <td>22</td>\n",
              "      <td>314</td>\n",
              "      <td>438</td>\n",
              "      <td>690</td>\n",
              "    </tr>\n",
              "    <tr>\n",
              "      <th>Type of Meal</th>\n",
              "      <td>Breakfast</td>\n",
              "      <td>Dinner</td>\n",
              "      <td>Lunch</td>\n",
              "      <td>Dinner</td>\n",
              "      <td>Lunch</td>\n",
              "    </tr>\n",
              "    <tr>\n",
              "      <th>Heroes Adjustment</th>\n",
              "      <td>False</td>\n",
              "      <td>False</td>\n",
              "      <td>False</td>\n",
              "      <td>False</td>\n",
              "      <td>False</td>\n",
              "    </tr>\n",
              "  </tbody>\n",
              "</table>\n",
              "</div>"
            ],
            "text/plain": [
              "                                           0                          1  \\\n",
              "Order Id                    839FKFW2LLX4LMBB           97OX39BGVMHODLJM   \n",
              "Date                              2016-05-27                 2018-09-27   \n",
              "Meal Id                     INBUX904GIHI8YBD           J0MMOOPP709DIDIE   \n",
              "Company Id                  LJKS5NK6788CYMUU           LJKS5NK6788CYMUU   \n",
              "Date of Meal       2016-05-31 07:00:00+02:00  2018-10-01 20:00:00+02:00   \n",
              "Participants                ['David Bishop']           ['David Bishop']   \n",
              "Meal Price                               469                         22   \n",
              "Type of Meal                       Breakfast                     Dinner   \n",
              "Heroes Adjustment                      False                      False   \n",
              "\n",
              "                                           2                          3  \\\n",
              "Order Id                    041ORQM5OIHTIU6L           YT796QI18WNGZ7ZJ   \n",
              "Date                              2014-08-24                 2014-04-12   \n",
              "Meal Id                     E4UJLQNCI16UX5CS           C9SDFHF7553BE247   \n",
              "Company Id                  LJKS5NK6788CYMUU           LJKS5NK6788CYMUU   \n",
              "Date of Meal       2014-08-23 14:00:00+02:00  2014-04-07 21:00:00+02:00   \n",
              "Participants              ['Karen Stansell']           ['Addie Patino']   \n",
              "Meal Price                               314                        438   \n",
              "Type of Meal                           Lunch                     Dinner   \n",
              "Heroes Adjustment                      False                      False   \n",
              "\n",
              "                                                   4  \n",
              "Order Id                            6YLROQT27B6HRF4E  \n",
              "Date                                      2015-07-28  \n",
              "Meal Id                             48EQXS6IHYNZDDZ5  \n",
              "Company Id                          LJKS5NK6788CYMUU  \n",
              "Date of Meal               2015-07-27 14:00:00+02:00  \n",
              "Participants       ['Addie Patino' 'Susan Guerrero']  \n",
              "Meal Price                                       690  \n",
              "Type of Meal                                   Lunch  \n",
              "Heroes Adjustment                              False  "
            ]
          },
          "metadata": {
            "tags": []
          },
          "execution_count": 66
        }
      ]
    },
    {
      "cell_type": "markdown",
      "metadata": {
        "id": "5Uie2SMaZ_P5"
      },
      "source": [
        "## Pivot"
      ]
    },
    {
      "cell_type": "code",
      "metadata": {
        "id": "ESyVFcn4ZSLI",
        "outputId": "e57878ef-f39d-4956-a16e-249280df169e",
        "colab": {
          "base_uri": "https://localhost:8080/",
          "height": 450
        }
      },
      "source": [
        "pd.pivot_table(\n",
        "    invoices,\n",
        "    index=['Company Id','Type of Meal'],\n",
        "    values='Meal Price',\n",
        "    aggfunc=np.mean,\n",
        "    margins=True\n",
        ")"
      ],
      "execution_count": 71,
      "outputs": [
        {
          "output_type": "execute_result",
          "data": {
            "text/html": [
              "<div>\n",
              "<style scoped>\n",
              "    .dataframe tbody tr th:only-of-type {\n",
              "        vertical-align: middle;\n",
              "    }\n",
              "\n",
              "    .dataframe tbody tr th {\n",
              "        vertical-align: top;\n",
              "    }\n",
              "\n",
              "    .dataframe thead th {\n",
              "        text-align: right;\n",
              "    }\n",
              "</style>\n",
              "<table border=\"1\" class=\"dataframe\">\n",
              "  <thead>\n",
              "    <tr style=\"text-align: right;\">\n",
              "      <th></th>\n",
              "      <th></th>\n",
              "      <th>Meal Price</th>\n",
              "    </tr>\n",
              "    <tr>\n",
              "      <th>Company Id</th>\n",
              "      <th>Type of Meal</th>\n",
              "      <th></th>\n",
              "    </tr>\n",
              "  </thead>\n",
              "  <tbody>\n",
              "    <tr>\n",
              "      <th rowspan=\"3\" valign=\"top\">007RF0BCBVMXTL80</th>\n",
              "      <th>Breakfast</th>\n",
              "      <td>301.666667</td>\n",
              "    </tr>\n",
              "    <tr>\n",
              "      <th>Dinner</th>\n",
              "      <td>453.000000</td>\n",
              "    </tr>\n",
              "    <tr>\n",
              "      <th>Lunch</th>\n",
              "      <td>112.000000</td>\n",
              "    </tr>\n",
              "    <tr>\n",
              "      <th rowspan=\"2\" valign=\"top\">00CVEIVO8C92FFBO</th>\n",
              "      <th>Breakfast</th>\n",
              "      <td>346.500000</td>\n",
              "    </tr>\n",
              "    <tr>\n",
              "      <th>Dinner</th>\n",
              "      <td>425.000000</td>\n",
              "    </tr>\n",
              "    <tr>\n",
              "      <th>...</th>\n",
              "      <th>...</th>\n",
              "      <td>...</td>\n",
              "    </tr>\n",
              "    <tr>\n",
              "      <th>ZZY3WSHGJWPKJBCV</th>\n",
              "      <th>Lunch</th>\n",
              "      <td>511.333333</td>\n",
              "    </tr>\n",
              "    <tr>\n",
              "      <th rowspan=\"3\" valign=\"top\">ZZYB9JLJKXRH7U6O</th>\n",
              "      <th>Breakfast</th>\n",
              "      <td>729.000000</td>\n",
              "    </tr>\n",
              "    <tr>\n",
              "      <th>Dinner</th>\n",
              "      <td>336.000000</td>\n",
              "    </tr>\n",
              "    <tr>\n",
              "      <th>Lunch</th>\n",
              "      <td>149.000000</td>\n",
              "    </tr>\n",
              "    <tr>\n",
              "      <th>All</th>\n",
              "      <th></th>\n",
              "      <td>403.256713</td>\n",
              "    </tr>\n",
              "  </tbody>\n",
              "</table>\n",
              "<p>13802 rows × 1 columns</p>\n",
              "</div>"
            ],
            "text/plain": [
              "                               Meal Price\n",
              "Company Id       Type of Meal            \n",
              "007RF0BCBVMXTL80 Breakfast     301.666667\n",
              "                 Dinner        453.000000\n",
              "                 Lunch         112.000000\n",
              "00CVEIVO8C92FFBO Breakfast     346.500000\n",
              "                 Dinner        425.000000\n",
              "...                                   ...\n",
              "ZZY3WSHGJWPKJBCV Lunch         511.333333\n",
              "ZZYB9JLJKXRH7U6O Breakfast     729.000000\n",
              "                 Dinner        336.000000\n",
              "                 Lunch         149.000000\n",
              "All                            403.256713\n",
              "\n",
              "[13802 rows x 1 columns]"
            ]
          },
          "metadata": {
            "tags": []
          },
          "execution_count": 71
        }
      ]
    },
    {
      "cell_type": "code",
      "metadata": {
        "id": "ZnFzokiSaa1p",
        "outputId": "6ff07586-9b3f-48bd-971a-4657d7f4508f",
        "colab": {
          "base_uri": "https://localhost:8080/",
          "height": 450
        }
      },
      "source": [
        "pd.pivot_table(\n",
        "    invoices,\n",
        "    index=['Company Id'],\n",
        "    columns=['Type of Meal'],\n",
        "    values='Meal Price',\n",
        "    aggfunc=np.mean,\n",
        "    margins=True\n",
        ")"
      ],
      "execution_count": 72,
      "outputs": [
        {
          "output_type": "execute_result",
          "data": {
            "text/html": [
              "<div>\n",
              "<style scoped>\n",
              "    .dataframe tbody tr th:only-of-type {\n",
              "        vertical-align: middle;\n",
              "    }\n",
              "\n",
              "    .dataframe tbody tr th {\n",
              "        vertical-align: top;\n",
              "    }\n",
              "\n",
              "    .dataframe thead th {\n",
              "        text-align: right;\n",
              "    }\n",
              "</style>\n",
              "<table border=\"1\" class=\"dataframe\">\n",
              "  <thead>\n",
              "    <tr style=\"text-align: right;\">\n",
              "      <th>Type of Meal</th>\n",
              "      <th>Breakfast</th>\n",
              "      <th>Dinner</th>\n",
              "      <th>Lunch</th>\n",
              "      <th>All</th>\n",
              "    </tr>\n",
              "    <tr>\n",
              "      <th>Company Id</th>\n",
              "      <th></th>\n",
              "      <th></th>\n",
              "      <th></th>\n",
              "      <th></th>\n",
              "    </tr>\n",
              "  </thead>\n",
              "  <tbody>\n",
              "    <tr>\n",
              "      <th>007RF0BCBVMXTL80</th>\n",
              "      <td>301.666667</td>\n",
              "      <td>453.000000</td>\n",
              "      <td>112.000000</td>\n",
              "      <td>373.500000</td>\n",
              "    </tr>\n",
              "    <tr>\n",
              "      <th>00CVEIVO8C92FFBO</th>\n",
              "      <td>346.500000</td>\n",
              "      <td>425.000000</td>\n",
              "      <td>426.428571</td>\n",
              "      <td>403.285714</td>\n",
              "    </tr>\n",
              "    <tr>\n",
              "      <th>00OFNRZV8983KC3L</th>\n",
              "      <td>571.500000</td>\n",
              "      <td>665.333333</td>\n",
              "      <td>357.000000</td>\n",
              "      <td>550.428571</td>\n",
              "    </tr>\n",
              "    <tr>\n",
              "      <th>00R1H0DBLAVXHOTZ</th>\n",
              "      <td>778.000000</td>\n",
              "      <td>332.333333</td>\n",
              "      <td>694.200000</td>\n",
              "      <td>582.888889</td>\n",
              "    </tr>\n",
              "    <tr>\n",
              "      <th>00WJ866YXWT58K2S</th>\n",
              "      <td>392.166667</td>\n",
              "      <td>342.666667</td>\n",
              "      <td>383.600000</td>\n",
              "      <td>378.500000</td>\n",
              "    </tr>\n",
              "    <tr>\n",
              "      <th>...</th>\n",
              "      <td>...</td>\n",
              "      <td>...</td>\n",
              "      <td>...</td>\n",
              "      <td>...</td>\n",
              "    </tr>\n",
              "    <tr>\n",
              "      <th>ZZ99YI36NDHV7ELT</th>\n",
              "      <td>672.000000</td>\n",
              "      <td>341.000000</td>\n",
              "      <td>401.200000</td>\n",
              "      <td>504.000000</td>\n",
              "    </tr>\n",
              "    <tr>\n",
              "      <th>ZZD813K8WK65MND6</th>\n",
              "      <td>339.000000</td>\n",
              "      <td>82.000000</td>\n",
              "      <td>276.333333</td>\n",
              "      <td>250.000000</td>\n",
              "    </tr>\n",
              "    <tr>\n",
              "      <th>ZZY3WSHGJWPKJBCV</th>\n",
              "      <td>448.571429</td>\n",
              "      <td>351.428571</td>\n",
              "      <td>511.333333</td>\n",
              "      <td>419.647059</td>\n",
              "    </tr>\n",
              "    <tr>\n",
              "      <th>ZZYB9JLJKXRH7U6O</th>\n",
              "      <td>729.000000</td>\n",
              "      <td>336.000000</td>\n",
              "      <td>149.000000</td>\n",
              "      <td>480.636364</td>\n",
              "    </tr>\n",
              "    <tr>\n",
              "      <th>All</th>\n",
              "      <td>404.625338</td>\n",
              "      <td>400.074528</td>\n",
              "      <td>405.087956</td>\n",
              "      <td>403.256713</td>\n",
              "    </tr>\n",
              "  </tbody>\n",
              "</table>\n",
              "<p>4726 rows × 4 columns</p>\n",
              "</div>"
            ],
            "text/plain": [
              "Type of Meal       Breakfast      Dinner       Lunch         All\n",
              "Company Id                                                      \n",
              "007RF0BCBVMXTL80  301.666667  453.000000  112.000000  373.500000\n",
              "00CVEIVO8C92FFBO  346.500000  425.000000  426.428571  403.285714\n",
              "00OFNRZV8983KC3L  571.500000  665.333333  357.000000  550.428571\n",
              "00R1H0DBLAVXHOTZ  778.000000  332.333333  694.200000  582.888889\n",
              "00WJ866YXWT58K2S  392.166667  342.666667  383.600000  378.500000\n",
              "...                      ...         ...         ...         ...\n",
              "ZZ99YI36NDHV7ELT  672.000000  341.000000  401.200000  504.000000\n",
              "ZZD813K8WK65MND6  339.000000   82.000000  276.333333  250.000000\n",
              "ZZY3WSHGJWPKJBCV  448.571429  351.428571  511.333333  419.647059\n",
              "ZZYB9JLJKXRH7U6O  729.000000  336.000000  149.000000  480.636364\n",
              "All               404.625338  400.074528  405.087956  403.256713\n",
              "\n",
              "[4726 rows x 4 columns]"
            ]
          },
          "metadata": {
            "tags": []
          },
          "execution_count": 72
        }
      ]
    },
    {
      "cell_type": "code",
      "metadata": {
        "id": "ytLcwJ-aaBqY"
      },
      "source": [
        ""
      ],
      "execution_count": null,
      "outputs": []
    }
  ]
}