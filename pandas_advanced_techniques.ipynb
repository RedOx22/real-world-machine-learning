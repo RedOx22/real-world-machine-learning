{
  "nbformat": 4,
  "nbformat_minor": 0,
  "metadata": {
    "colab": {
      "name": "pandas_advanced_techniques.ipynb",
      "provenance": [],
      "authorship_tag": "ABX9TyN/PkPiANJtPlswanY9HDkG",
      "include_colab_link": true
    },
    "kernelspec": {
      "name": "python3",
      "display_name": "Python 3"
    },
    "language_info": {
      "name": "python"
    }
  },
  "cells": [
    {
      "cell_type": "markdown",
      "metadata": {
        "id": "view-in-github",
        "colab_type": "text"
      },
      "source": [
        "<a href=\"https://colab.research.google.com/github/thimotyb/real-world-machine-learning/blob/python3/pandas_advanced_techniques.ipynb\" target=\"_parent\"><img src=\"https://colab.research.google.com/assets/colab-badge.svg\" alt=\"Open In Colab\"/></a>"
      ]
    },
    {
      "cell_type": "markdown",
      "metadata": {
        "id": "kT7eVosar9hV"
      },
      "source": [
        "# Pandas - Advanced Techniques\n",
        "\n",
        "This lesson is taken and optimized from the following web sources:\n",
        "\n",
        "1.   https://towardsdatascience.com/learn-advanced-features-for-pythons-main-data-analysis-library-in-20-minutes-d0eedd90d086\n",
        "2.   https://colab.research.google.com/github/thimotyb/real-world-machine-learning/blob/python3/Importing_data_with_pandas.ipynb\n",
        "\n",
        "\n",
        "\n",
        "\n"
      ]
    },
    {
      "cell_type": "markdown",
      "metadata": {
        "id": "pKL9o5fNs62U"
      },
      "source": [
        "## Data Types\n",
        "\n",
        "let’s quickly summarize all the available Pandas data types. In total, there are seven types:\n",
        "* object : This data type is used for strings (i.e., sequences of characters)\n",
        "* int64 : Used for integers (whole numbers, no decimals)\n",
        "* float64 : Used for floating-point numbers (i.e., figures with decimals/fractions)\n",
        "* bool : Used for values that can only be True/False\n",
        "* datetime64 : Used for date and time values\n",
        "* timedelta : Used to represent the difference between datetimes\n",
        "* category : Used for values that take one out of a limited number of available options (categories don’t have to, but can have explicit ordering)"
      ]
    },
    {
      "cell_type": "code",
      "metadata": {
        "colab": {
          "base_uri": "https://localhost:8080/",
          "height": 17
        },
        "id": "BqPRbnJsr3e5",
        "outputId": "e5c4532b-4557-4ebc-ac4a-ec3e6d8e6e88"
      },
      "source": [
        "import pandas as pd\n",
        "import numpy as np\n",
        "import datetime\n",
        "import pytz\n",
        "from IPython.core.display import display, HTML\n",
        "display(HTML(\"<style>.container {width:90% !important;}</style>\"))\n",
        "pd.set_option('display.max_columns', 50)\n",
        "pd.set_option('display.max_rows', 10)"
      ],
      "execution_count": 1,
      "outputs": [
        {
          "output_type": "display_data",
          "data": {
            "text/html": [
              "<style>.container {width:90% !important;}</style>"
            ],
            "text/plain": [
              "<IPython.core.display.HTML object>"
            ]
          },
          "metadata": {
            "tags": []
          }
        }
      ]
    },
    {
      "cell_type": "code",
      "metadata": {
        "id": "hkJk5tuytJ6w"
      },
      "source": [
        "data = pd.read_csv('https://raw.githubusercontent.com/thimotyb/you-datascientist/master/happiness_with_continent.csv')"
      ],
      "execution_count": 2,
      "outputs": []
    },
    {
      "cell_type": "code",
      "metadata": {
        "id": "_5MIgeDItSBS"
      },
      "source": [
        "invoices = pd.read_csv('https://raw.githubusercontent.com/thimotyb/you-datascientist/master/invoices.csv')"
      ],
      "execution_count": 17,
      "outputs": []
    },
    {
      "cell_type": "code",
      "metadata": {
        "colab": {
          "base_uri": "https://localhost:8080/",
          "height": 202
        },
        "id": "qNkVyNowtXld",
        "outputId": "2b954a1b-962f-4646-955a-034347b7e609"
      },
      "source": [
        "invoices.tail(5)"
      ],
      "execution_count": 12,
      "outputs": [
        {
          "output_type": "execute_result",
          "data": {
            "text/html": [
              "<div>\n",
              "<style scoped>\n",
              "    .dataframe tbody tr th:only-of-type {\n",
              "        vertical-align: middle;\n",
              "    }\n",
              "\n",
              "    .dataframe tbody tr th {\n",
              "        vertical-align: top;\n",
              "    }\n",
              "\n",
              "    .dataframe thead th {\n",
              "        text-align: right;\n",
              "    }\n",
              "</style>\n",
              "<table border=\"1\" class=\"dataframe\">\n",
              "  <thead>\n",
              "    <tr style=\"text-align: right;\">\n",
              "      <th></th>\n",
              "      <th>Order Id</th>\n",
              "      <th>Date</th>\n",
              "      <th>Meal Id</th>\n",
              "      <th>Company Id</th>\n",
              "      <th>Date of Meal</th>\n",
              "      <th>Participants</th>\n",
              "      <th>Meal Price</th>\n",
              "      <th>Type of Meal</th>\n",
              "      <th>Heroes Adjustment</th>\n",
              "    </tr>\n",
              "  </thead>\n",
              "  <tbody>\n",
              "    <tr>\n",
              "      <th>50012</th>\n",
              "      <td>4OMS8ZSA0UX8LHWI</td>\n",
              "      <td>2017-09-20</td>\n",
              "      <td>1TD5MROATV1NHZ4Y</td>\n",
              "      <td>E4K99D4JR9E40VE1</td>\n",
              "      <td>2017-09-21 08:00:00+02:00</td>\n",
              "      <td>['Regina Shirley']</td>\n",
              "      <td>9</td>\n",
              "      <td>Breakfast</td>\n",
              "      <td>False</td>\n",
              "    </tr>\n",
              "    <tr>\n",
              "      <th>50013</th>\n",
              "      <td>RR0VKJN8V0KHNKGG</td>\n",
              "      <td>2018-03-19</td>\n",
              "      <td>22EX9VZSJKHP4AIP</td>\n",
              "      <td>E4K99D4JR9E40VE1</td>\n",
              "      <td>2018-03-18 09:00:00+01:00</td>\n",
              "      <td>['Robin Ramos' 'Chester Mortimer']</td>\n",
              "      <td>25</td>\n",
              "      <td>Breakfast</td>\n",
              "      <td>False</td>\n",
              "    </tr>\n",
              "    <tr>\n",
              "      <th>50014</th>\n",
              "      <td>STJ6QJC30WPRM93H</td>\n",
              "      <td>2017-09-21</td>\n",
              "      <td>LMX18PNGWCIMG1QW</td>\n",
              "      <td>E4K99D4JR9E40VE1</td>\n",
              "      <td>2017-09-22 21:00:00+02:00</td>\n",
              "      <td>['Robin Ramos']</td>\n",
              "      <td>160</td>\n",
              "      <td>Dinner</td>\n",
              "      <td>False</td>\n",
              "    </tr>\n",
              "    <tr>\n",
              "      <th>50015</th>\n",
              "      <td>QHEUIYNC0XQX7GDR</td>\n",
              "      <td>2018-01-28</td>\n",
              "      <td>4U0VH2TGQL30X23X</td>\n",
              "      <td>E4K99D4JR9E40VE1</td>\n",
              "      <td>2018-02-01 21:00:00+01:00</td>\n",
              "      <td>['Chester Mortimer' 'Robin Ramos']</td>\n",
              "      <td>497</td>\n",
              "      <td>Dinner</td>\n",
              "      <td>False</td>\n",
              "    </tr>\n",
              "    <tr>\n",
              "      <th>50016</th>\n",
              "      <td>NKHFWT5I2J9LPAPG</td>\n",
              "      <td>2017-09-06</td>\n",
              "      <td>ORWFRT5TUSYGNYG7</td>\n",
              "      <td>E4K99D4JR9E40VE1</td>\n",
              "      <td>2017-09-09 14:00:00+02:00</td>\n",
              "      <td>['Chester Mortimer' 'Robin Ramos']</td>\n",
              "      <td>365</td>\n",
              "      <td>Lunch</td>\n",
              "      <td>False</td>\n",
              "    </tr>\n",
              "  </tbody>\n",
              "</table>\n",
              "</div>"
            ],
            "text/plain": [
              "               Order Id       Date           Meal Id        Company Id  \\\n",
              "50012  4OMS8ZSA0UX8LHWI 2017-09-20  1TD5MROATV1NHZ4Y  E4K99D4JR9E40VE1   \n",
              "50013  RR0VKJN8V0KHNKGG 2018-03-19  22EX9VZSJKHP4AIP  E4K99D4JR9E40VE1   \n",
              "50014  STJ6QJC30WPRM93H 2017-09-21  LMX18PNGWCIMG1QW  E4K99D4JR9E40VE1   \n",
              "50015  QHEUIYNC0XQX7GDR 2018-01-28  4U0VH2TGQL30X23X  E4K99D4JR9E40VE1   \n",
              "50016  NKHFWT5I2J9LPAPG 2017-09-06  ORWFRT5TUSYGNYG7  E4K99D4JR9E40VE1   \n",
              "\n",
              "                    Date of Meal                        Participants  \\\n",
              "50012  2017-09-21 08:00:00+02:00                  ['Regina Shirley']   \n",
              "50013  2018-03-18 09:00:00+01:00  ['Robin Ramos' 'Chester Mortimer']   \n",
              "50014  2017-09-22 21:00:00+02:00                     ['Robin Ramos']   \n",
              "50015  2018-02-01 21:00:00+01:00  ['Chester Mortimer' 'Robin Ramos']   \n",
              "50016  2017-09-09 14:00:00+02:00  ['Chester Mortimer' 'Robin Ramos']   \n",
              "\n",
              "      Meal Price Type of Meal  Heroes Adjustment  \n",
              "50012          9    Breakfast              False  \n",
              "50013         25    Breakfast              False  \n",
              "50014        160       Dinner              False  \n",
              "50015        497       Dinner              False  \n",
              "50016        365        Lunch              False  "
            ]
          },
          "metadata": {
            "tags": []
          },
          "execution_count": 12
        }
      ]
    },
    {
      "cell_type": "code",
      "metadata": {
        "colab": {
          "base_uri": "https://localhost:8080/"
        },
        "id": "QJHAyaRztr0o",
        "outputId": "ebea15ea-ad11-477e-bde2-fda40b7a0f04"
      },
      "source": [
        "invoices.info()"
      ],
      "execution_count": 7,
      "outputs": [
        {
          "output_type": "stream",
          "text": [
            "<class 'pandas.core.frame.DataFrame'>\n",
            "RangeIndex: 50017 entries, 0 to 50016\n",
            "Data columns (total 9 columns):\n",
            " #   Column             Non-Null Count  Dtype  \n",
            "---  ------             --------------  -----  \n",
            " 0   Order Id           50017 non-null  object \n",
            " 1   Date               50017 non-null  object \n",
            " 2   Meal Id            50017 non-null  object \n",
            " 3   Company Id         50017 non-null  object \n",
            " 4   Date of Meal       50017 non-null  object \n",
            " 5   Participants       50017 non-null  object \n",
            " 6   Meal Price         50017 non-null  float64\n",
            " 7   Type of Meal       50017 non-null  object \n",
            " 8   Heroes Adjustment  50017 non-null  bool   \n",
            "dtypes: bool(1), float64(1), object(7)\n",
            "memory usage: 3.1+ MB\n"
          ],
          "name": "stdout"
        }
      ]
    },
    {
      "cell_type": "code",
      "metadata": {
        "id": "FgTMpvgwwNbI"
      },
      "source": [
        "invoices['Type of Meal'] = invoices['Type of Meal'].astype('category')\n",
        "invoices['Date'] = invoices['Date'].astype('datetime64[ns]')\n",
        "invoices['Meal Price'] = invoices['Meal Price'].astype('int')"
      ],
      "execution_count": 18,
      "outputs": []
    },
    {
      "cell_type": "code",
      "metadata": {
        "colab": {
          "base_uri": "https://localhost:8080/"
        },
        "id": "ys5m6ZSgwPDM",
        "outputId": "54978707-4624-4877-f735-211f99ae5418"
      },
      "source": [
        "invoices.info()"
      ],
      "execution_count": 9,
      "outputs": [
        {
          "output_type": "stream",
          "text": [
            "<class 'pandas.core.frame.DataFrame'>\n",
            "RangeIndex: 50017 entries, 0 to 50016\n",
            "Data columns (total 9 columns):\n",
            " #   Column             Non-Null Count  Dtype         \n",
            "---  ------             --------------  -----         \n",
            " 0   Order Id           50017 non-null  object        \n",
            " 1   Date               50017 non-null  datetime64[ns]\n",
            " 2   Meal Id            50017 non-null  object        \n",
            " 3   Company Id         50017 non-null  object        \n",
            " 4   Date of Meal       50017 non-null  object        \n",
            " 5   Participants       50017 non-null  object        \n",
            " 6   Meal Price         50017 non-null  int64         \n",
            " 7   Type of Meal       50017 non-null  category      \n",
            " 8   Heroes Adjustment  50017 non-null  bool          \n",
            "dtypes: bool(1), category(1), datetime64[ns](1), int64(1), object(5)\n",
            "memory usage: 2.8+ MB\n"
          ],
          "name": "stdout"
        }
      ]
    },
    {
      "cell_type": "markdown",
      "metadata": {
        "id": "eVax2OSQxHK5"
      },
      "source": [
        "With conversion helpers,  it is possible to specify the behavior in case a value is encountered, that can not be converted.\n",
        "Both functions accept an additional parameter errors that defines how errors should be treated. We could choose to ignore errors by passingerrors='ignore' , or turn the offending values into np.nan values by passing errors='coerce'. The default behavior is to raise errors.\n",
        "\n",
        "We create an error and we demonstrate how to handle conversion errors."
      ]
    },
    {
      "cell_type": "code",
      "metadata": {
        "id": "2Vrpme6uxPId"
      },
      "source": [
        "invoices.loc[45612,'Meal Price'] = 'I am causing trouble'\n",
        "invoices.loc[35612,'Meal Price'] = 'Me too'"
      ],
      "execution_count": 21,
      "outputs": []
    },
    {
      "cell_type": "code",
      "metadata": {
        "colab": {
          "base_uri": "https://localhost:8080/",
          "height": 345
        },
        "id": "guNIbv7Kybhp",
        "outputId": "e3efddd0-517c-4fd1-c7d5-a6f103748b1c"
      },
      "source": [
        "invoices['Meal Price'].astype(int)"
      ],
      "execution_count": 11,
      "outputs": [
        {
          "output_type": "error",
          "ename": "ValueError",
          "evalue": "ignored",
          "traceback": [
            "\u001b[0;31m---------------------------------------------------------------------------\u001b[0m",
            "\u001b[0;31mValueError\u001b[0m                                Traceback (most recent call last)",
            "\u001b[0;32m<ipython-input-11-7a45f8f5d74c>\u001b[0m in \u001b[0;36m<module>\u001b[0;34m()\u001b[0m\n\u001b[0;32m----> 1\u001b[0;31m \u001b[0minvoices\u001b[0m\u001b[0;34m[\u001b[0m\u001b[0;34m'Meal Price'\u001b[0m\u001b[0;34m]\u001b[0m\u001b[0;34m.\u001b[0m\u001b[0mastype\u001b[0m\u001b[0;34m(\u001b[0m\u001b[0mint\u001b[0m\u001b[0;34m)\u001b[0m\u001b[0;34m\u001b[0m\u001b[0;34m\u001b[0m\u001b[0m\n\u001b[0m",
            "\u001b[0;32m/usr/local/lib/python3.7/dist-packages/pandas/core/generic.py\u001b[0m in \u001b[0;36mastype\u001b[0;34m(self, dtype, copy, errors)\u001b[0m\n\u001b[1;32m   5546\u001b[0m         \u001b[0;32melse\u001b[0m\u001b[0;34m:\u001b[0m\u001b[0;34m\u001b[0m\u001b[0;34m\u001b[0m\u001b[0m\n\u001b[1;32m   5547\u001b[0m             \u001b[0;31m# else, only a single dtype is given\u001b[0m\u001b[0;34m\u001b[0m\u001b[0;34m\u001b[0m\u001b[0;34m\u001b[0m\u001b[0m\n\u001b[0;32m-> 5548\u001b[0;31m             \u001b[0mnew_data\u001b[0m \u001b[0;34m=\u001b[0m \u001b[0mself\u001b[0m\u001b[0;34m.\u001b[0m\u001b[0m_mgr\u001b[0m\u001b[0;34m.\u001b[0m\u001b[0mastype\u001b[0m\u001b[0;34m(\u001b[0m\u001b[0mdtype\u001b[0m\u001b[0;34m=\u001b[0m\u001b[0mdtype\u001b[0m\u001b[0;34m,\u001b[0m \u001b[0mcopy\u001b[0m\u001b[0;34m=\u001b[0m\u001b[0mcopy\u001b[0m\u001b[0;34m,\u001b[0m \u001b[0merrors\u001b[0m\u001b[0;34m=\u001b[0m\u001b[0merrors\u001b[0m\u001b[0;34m,\u001b[0m\u001b[0;34m)\u001b[0m\u001b[0;34m\u001b[0m\u001b[0;34m\u001b[0m\u001b[0m\n\u001b[0m\u001b[1;32m   5549\u001b[0m             \u001b[0;32mreturn\u001b[0m \u001b[0mself\u001b[0m\u001b[0;34m.\u001b[0m\u001b[0m_constructor\u001b[0m\u001b[0;34m(\u001b[0m\u001b[0mnew_data\u001b[0m\u001b[0;34m)\u001b[0m\u001b[0;34m.\u001b[0m\u001b[0m__finalize__\u001b[0m\u001b[0;34m(\u001b[0m\u001b[0mself\u001b[0m\u001b[0;34m,\u001b[0m \u001b[0mmethod\u001b[0m\u001b[0;34m=\u001b[0m\u001b[0;34m\"astype\"\u001b[0m\u001b[0;34m)\u001b[0m\u001b[0;34m\u001b[0m\u001b[0;34m\u001b[0m\u001b[0m\n\u001b[1;32m   5550\u001b[0m \u001b[0;34m\u001b[0m\u001b[0m\n",
            "\u001b[0;32m/usr/local/lib/python3.7/dist-packages/pandas/core/internals/managers.py\u001b[0m in \u001b[0;36mastype\u001b[0;34m(self, dtype, copy, errors)\u001b[0m\n\u001b[1;32m    602\u001b[0m         \u001b[0mself\u001b[0m\u001b[0;34m,\u001b[0m \u001b[0mdtype\u001b[0m\u001b[0;34m,\u001b[0m \u001b[0mcopy\u001b[0m\u001b[0;34m:\u001b[0m \u001b[0mbool\u001b[0m \u001b[0;34m=\u001b[0m \u001b[0;32mFalse\u001b[0m\u001b[0;34m,\u001b[0m \u001b[0merrors\u001b[0m\u001b[0;34m:\u001b[0m \u001b[0mstr\u001b[0m \u001b[0;34m=\u001b[0m \u001b[0;34m\"raise\"\u001b[0m\u001b[0;34m\u001b[0m\u001b[0;34m\u001b[0m\u001b[0m\n\u001b[1;32m    603\u001b[0m     ) -> \"BlockManager\":\n\u001b[0;32m--> 604\u001b[0;31m         \u001b[0;32mreturn\u001b[0m \u001b[0mself\u001b[0m\u001b[0;34m.\u001b[0m\u001b[0mapply\u001b[0m\u001b[0;34m(\u001b[0m\u001b[0;34m\"astype\"\u001b[0m\u001b[0;34m,\u001b[0m \u001b[0mdtype\u001b[0m\u001b[0;34m=\u001b[0m\u001b[0mdtype\u001b[0m\u001b[0;34m,\u001b[0m \u001b[0mcopy\u001b[0m\u001b[0;34m=\u001b[0m\u001b[0mcopy\u001b[0m\u001b[0;34m,\u001b[0m \u001b[0merrors\u001b[0m\u001b[0;34m=\u001b[0m\u001b[0merrors\u001b[0m\u001b[0;34m)\u001b[0m\u001b[0;34m\u001b[0m\u001b[0;34m\u001b[0m\u001b[0m\n\u001b[0m\u001b[1;32m    605\u001b[0m \u001b[0;34m\u001b[0m\u001b[0m\n\u001b[1;32m    606\u001b[0m     def convert(\n",
            "\u001b[0;32m/usr/local/lib/python3.7/dist-packages/pandas/core/internals/managers.py\u001b[0m in \u001b[0;36mapply\u001b[0;34m(self, f, align_keys, **kwargs)\u001b[0m\n\u001b[1;32m    407\u001b[0m                 \u001b[0mapplied\u001b[0m \u001b[0;34m=\u001b[0m \u001b[0mb\u001b[0m\u001b[0;34m.\u001b[0m\u001b[0mapply\u001b[0m\u001b[0;34m(\u001b[0m\u001b[0mf\u001b[0m\u001b[0;34m,\u001b[0m \u001b[0;34m**\u001b[0m\u001b[0mkwargs\u001b[0m\u001b[0;34m)\u001b[0m\u001b[0;34m\u001b[0m\u001b[0;34m\u001b[0m\u001b[0m\n\u001b[1;32m    408\u001b[0m             \u001b[0;32melse\u001b[0m\u001b[0;34m:\u001b[0m\u001b[0;34m\u001b[0m\u001b[0;34m\u001b[0m\u001b[0m\n\u001b[0;32m--> 409\u001b[0;31m                 \u001b[0mapplied\u001b[0m \u001b[0;34m=\u001b[0m \u001b[0mgetattr\u001b[0m\u001b[0;34m(\u001b[0m\u001b[0mb\u001b[0m\u001b[0;34m,\u001b[0m \u001b[0mf\u001b[0m\u001b[0;34m)\u001b[0m\u001b[0;34m(\u001b[0m\u001b[0;34m**\u001b[0m\u001b[0mkwargs\u001b[0m\u001b[0;34m)\u001b[0m\u001b[0;34m\u001b[0m\u001b[0;34m\u001b[0m\u001b[0m\n\u001b[0m\u001b[1;32m    410\u001b[0m             \u001b[0mresult_blocks\u001b[0m \u001b[0;34m=\u001b[0m \u001b[0m_extend_blocks\u001b[0m\u001b[0;34m(\u001b[0m\u001b[0mapplied\u001b[0m\u001b[0;34m,\u001b[0m \u001b[0mresult_blocks\u001b[0m\u001b[0;34m)\u001b[0m\u001b[0;34m\u001b[0m\u001b[0;34m\u001b[0m\u001b[0m\n\u001b[1;32m    411\u001b[0m \u001b[0;34m\u001b[0m\u001b[0m\n",
            "\u001b[0;32m/usr/local/lib/python3.7/dist-packages/pandas/core/internals/blocks.py\u001b[0m in \u001b[0;36mastype\u001b[0;34m(self, dtype, copy, errors)\u001b[0m\n\u001b[1;32m    593\u001b[0m             \u001b[0mvals1d\u001b[0m \u001b[0;34m=\u001b[0m \u001b[0mvalues\u001b[0m\u001b[0;34m.\u001b[0m\u001b[0mravel\u001b[0m\u001b[0;34m(\u001b[0m\u001b[0;34m)\u001b[0m\u001b[0;34m\u001b[0m\u001b[0;34m\u001b[0m\u001b[0m\n\u001b[1;32m    594\u001b[0m             \u001b[0;32mtry\u001b[0m\u001b[0;34m:\u001b[0m\u001b[0;34m\u001b[0m\u001b[0;34m\u001b[0m\u001b[0m\n\u001b[0;32m--> 595\u001b[0;31m                 \u001b[0mvalues\u001b[0m \u001b[0;34m=\u001b[0m \u001b[0mastype_nansafe\u001b[0m\u001b[0;34m(\u001b[0m\u001b[0mvals1d\u001b[0m\u001b[0;34m,\u001b[0m \u001b[0mdtype\u001b[0m\u001b[0;34m,\u001b[0m \u001b[0mcopy\u001b[0m\u001b[0;34m=\u001b[0m\u001b[0;32mTrue\u001b[0m\u001b[0;34m)\u001b[0m\u001b[0;34m\u001b[0m\u001b[0;34m\u001b[0m\u001b[0m\n\u001b[0m\u001b[1;32m    596\u001b[0m             \u001b[0;32mexcept\u001b[0m \u001b[0;34m(\u001b[0m\u001b[0mValueError\u001b[0m\u001b[0;34m,\u001b[0m \u001b[0mTypeError\u001b[0m\u001b[0;34m)\u001b[0m\u001b[0;34m:\u001b[0m\u001b[0;34m\u001b[0m\u001b[0;34m\u001b[0m\u001b[0m\n\u001b[1;32m    597\u001b[0m                 \u001b[0;31m# e.g. astype_nansafe can fail on object-dtype of strings\u001b[0m\u001b[0;34m\u001b[0m\u001b[0;34m\u001b[0m\u001b[0;34m\u001b[0m\u001b[0m\n",
            "\u001b[0;32m/usr/local/lib/python3.7/dist-packages/pandas/core/dtypes/cast.py\u001b[0m in \u001b[0;36mastype_nansafe\u001b[0;34m(arr, dtype, copy, skipna)\u001b[0m\n\u001b[1;32m    972\u001b[0m         \u001b[0;31m# work around NumPy brokenness, #1987\u001b[0m\u001b[0;34m\u001b[0m\u001b[0;34m\u001b[0m\u001b[0;34m\u001b[0m\u001b[0m\n\u001b[1;32m    973\u001b[0m         \u001b[0;32mif\u001b[0m \u001b[0mnp\u001b[0m\u001b[0;34m.\u001b[0m\u001b[0missubdtype\u001b[0m\u001b[0;34m(\u001b[0m\u001b[0mdtype\u001b[0m\u001b[0;34m.\u001b[0m\u001b[0mtype\u001b[0m\u001b[0;34m,\u001b[0m \u001b[0mnp\u001b[0m\u001b[0;34m.\u001b[0m\u001b[0minteger\u001b[0m\u001b[0;34m)\u001b[0m\u001b[0;34m:\u001b[0m\u001b[0;34m\u001b[0m\u001b[0;34m\u001b[0m\u001b[0m\n\u001b[0;32m--> 974\u001b[0;31m             \u001b[0;32mreturn\u001b[0m \u001b[0mlib\u001b[0m\u001b[0;34m.\u001b[0m\u001b[0mastype_intsafe\u001b[0m\u001b[0;34m(\u001b[0m\u001b[0marr\u001b[0m\u001b[0;34m.\u001b[0m\u001b[0mravel\u001b[0m\u001b[0;34m(\u001b[0m\u001b[0;34m)\u001b[0m\u001b[0;34m,\u001b[0m \u001b[0mdtype\u001b[0m\u001b[0;34m)\u001b[0m\u001b[0;34m.\u001b[0m\u001b[0mreshape\u001b[0m\u001b[0;34m(\u001b[0m\u001b[0marr\u001b[0m\u001b[0;34m.\u001b[0m\u001b[0mshape\u001b[0m\u001b[0;34m)\u001b[0m\u001b[0;34m\u001b[0m\u001b[0;34m\u001b[0m\u001b[0m\n\u001b[0m\u001b[1;32m    975\u001b[0m \u001b[0;34m\u001b[0m\u001b[0m\n\u001b[1;32m    976\u001b[0m         \u001b[0;31m# if we have a datetime/timedelta array of objects\u001b[0m\u001b[0;34m\u001b[0m\u001b[0;34m\u001b[0m\u001b[0;34m\u001b[0m\u001b[0m\n",
            "\u001b[0;32mpandas/_libs/lib.pyx\u001b[0m in \u001b[0;36mpandas._libs.lib.astype_intsafe\u001b[0;34m()\u001b[0m\n",
            "\u001b[0;31mValueError\u001b[0m: invalid literal for int() with base 10: 'Me too'"
          ]
        }
      ]
    },
    {
      "cell_type": "code",
      "metadata": {
        "colab": {
          "base_uri": "https://localhost:8080/"
        },
        "id": "mYCcf-cVynM_",
        "outputId": "5af9a2e7-0ca6-4410-97d5-dfae8cf2b0fe"
      },
      "source": [
        "invoices['Meal Price'].apply(lambda x: type(x)).value_counts()"
      ],
      "execution_count": 13,
      "outputs": [
        {
          "output_type": "execute_result",
          "data": {
            "text/plain": [
              "<class 'int'>    50015\n",
              "<class 'str'>        2\n",
              "Name: Meal Price, dtype: int64"
            ]
          },
          "metadata": {
            "tags": []
          },
          "execution_count": 13
        }
      ]
    },
    {
      "cell_type": "code",
      "metadata": {
        "colab": {
          "base_uri": "https://localhost:8080/"
        },
        "id": "VBkd5sgmy6nU",
        "outputId": "e33d4d02-e733-47b4-ae48-e79fe19d2b4c"
      },
      "source": [
        "# Now this will not work as part is int and part str\n",
        "invoices['Meal Price'][invoices['Meal Price']<10]"
      ],
      "execution_count": 19,
      "outputs": [
        {
          "output_type": "execute_result",
          "data": {
            "text/plain": [
              "536      8\n",
              "984      7\n",
              "1041     7\n",
              "1528     9\n",
              "2294     8\n",
              "        ..\n",
              "46517    9\n",
              "47225    9\n",
              "48936    9\n",
              "48975    8\n",
              "50012    9\n",
              "Name: Meal Price, Length: 100, dtype: int64"
            ]
          },
          "metadata": {
            "tags": []
          },
          "execution_count": 19
        }
      ]
    },
    {
      "cell_type": "code",
      "metadata": {
        "colab": {
          "base_uri": "https://localhost:8080/"
        },
        "id": "CCzQZiaryuAP",
        "outputId": "a5f10c13-5eab-49d3-c9f3-4ca1a5267b53"
      },
      "source": [
        "# Conditionally filter by lambda condition\n",
        "invoices['Meal Price'][invoices['Meal Price'].apply(\n",
        "  lambda x: isinstance(x,str)\n",
        ")]"
      ],
      "execution_count": 22,
      "outputs": [
        {
          "output_type": "execute_result",
          "data": {
            "text/plain": [
              "35612                  Me too\n",
              "45612    I am causing trouble\n",
              "Name: Meal Price, dtype: object"
            ]
          },
          "metadata": {
            "tags": []
          },
          "execution_count": 22
        }
      ]
    },
    {
      "cell_type": "markdown",
      "metadata": {
        "id": "zz7kdV2WzmXq"
      },
      "source": [
        "it would be very reasonable to just convert the values into np.nan by passing errors='coerce' to pd.to_numeric() like this:"
      ]
    },
    {
      "cell_type": "code",
      "metadata": {
        "colab": {
          "base_uri": "https://localhost:8080/"
        },
        "id": "EUWSVfx8zbo2",
        "outputId": "b35f91ac-6c86-4786-b308-3689e05b932c"
      },
      "source": [
        "pd.to_numeric(invoices['Meal Price'],errors='coerce')"
      ],
      "execution_count": 23,
      "outputs": [
        {
          "output_type": "execute_result",
          "data": {
            "text/plain": [
              "0        469.0\n",
              "1         22.0\n",
              "2        314.0\n",
              "3        438.0\n",
              "4        690.0\n",
              "         ...  \n",
              "50012      9.0\n",
              "50013     25.0\n",
              "50014    160.0\n",
              "50015    497.0\n",
              "50016    365.0\n",
              "Name: Meal Price, Length: 50017, dtype: float64"
            ]
          },
          "metadata": {
            "tags": []
          },
          "execution_count": 23
        }
      ]
    },
    {
      "cell_type": "code",
      "metadata": {
        "colab": {
          "base_uri": "https://localhost:8080/"
        },
        "id": "A40mBnJWzv3g",
        "outputId": "a7c87b83-fd24-45de-81d7-e6b4d34ebd3e"
      },
      "source": [
        "invoices.iloc[45612]"
      ],
      "execution_count": 25,
      "outputs": [
        {
          "output_type": "execute_result",
          "data": {
            "text/plain": [
              "Order Id                      SJA1F92KXWZDH398\n",
              "Date                       2017-02-26 00:00:00\n",
              "Meal Id                       OOW0UEXQY5RMPPZ8\n",
              "Company Id                    ICNGUMLKEB27T1P3\n",
              "Date of Meal         2017-03-02 20:00:00+01:00\n",
              "Participants                  ['Betty Stroud']\n",
              "Meal Price                I am causing trouble\n",
              "Type of Meal                            Dinner\n",
              "Heroes Adjustment                        False\n",
              "Name: 45612, dtype: object"
            ]
          },
          "metadata": {
            "tags": []
          },
          "execution_count": 25
        }
      ]
    },
    {
      "cell_type": "code",
      "metadata": {
        "colab": {
          "base_uri": "https://localhost:8080/"
        },
        "id": "xrRxJ6mZ0ArW",
        "outputId": "34b27eec-00fa-4d0e-9bc4-798bf3154aad"
      },
      "source": [
        "pd.to_numeric(invoices['Meal Price'],errors='coerce')[45612]"
      ],
      "execution_count": 26,
      "outputs": [
        {
          "output_type": "execute_result",
          "data": {
            "text/plain": [
              "nan"
            ]
          },
          "metadata": {
            "tags": []
          },
          "execution_count": 26
        }
      ]
    },
    {
      "cell_type": "code",
      "metadata": {
        "colab": {
          "base_uri": "https://localhost:8080/"
        },
        "id": "6y7BO8g70G6D",
        "outputId": "52b8c209-a13a-4233-d14c-7097e43581de"
      },
      "source": [
        "# Fill in the gaps with fillna and median\n",
        "invoices['Meal Price'] = pd.to_numeric(invoices['Meal Price'],errors='coerce')\n",
        "invoices['Meal Price'] = invoices['Meal Price'].fillna(invoices['Meal Price'].median())\n",
        "invoices['Meal Price'].astype(int)"
      ],
      "execution_count": 27,
      "outputs": [
        {
          "output_type": "execute_result",
          "data": {
            "text/plain": [
              "0        469\n",
              "1         22\n",
              "2        314\n",
              "3        438\n",
              "4        690\n",
              "        ... \n",
              "50012      9\n",
              "50013     25\n",
              "50014    160\n",
              "50015    497\n",
              "50016    365\n",
              "Name: Meal Price, Length: 50017, dtype: int64"
            ]
          },
          "metadata": {
            "tags": []
          },
          "execution_count": 27
        }
      ]
    },
    {
      "cell_type": "code",
      "metadata": {
        "colab": {
          "base_uri": "https://localhost:8080/",
          "height": 188
        },
        "id": "rgpO4fXd3apq",
        "outputId": "9b96ffe5-d972-469a-96ef-8797c97f6e5d"
      },
      "source": [
        "print(invoices['Meal Price'].median())\n",
        "invoices.iloc[45610:45614]"
      ],
      "execution_count": 30,
      "outputs": [
        {
          "output_type": "stream",
          "text": [
            "398.0\n"
          ],
          "name": "stdout"
        },
        {
          "output_type": "execute_result",
          "data": {
            "text/html": [
              "<div>\n",
              "<style scoped>\n",
              "    .dataframe tbody tr th:only-of-type {\n",
              "        vertical-align: middle;\n",
              "    }\n",
              "\n",
              "    .dataframe tbody tr th {\n",
              "        vertical-align: top;\n",
              "    }\n",
              "\n",
              "    .dataframe thead th {\n",
              "        text-align: right;\n",
              "    }\n",
              "</style>\n",
              "<table border=\"1\" class=\"dataframe\">\n",
              "  <thead>\n",
              "    <tr style=\"text-align: right;\">\n",
              "      <th></th>\n",
              "      <th>Order Id</th>\n",
              "      <th>Date</th>\n",
              "      <th>Meal Id</th>\n",
              "      <th>Company Id</th>\n",
              "      <th>Date of Meal</th>\n",
              "      <th>Participants</th>\n",
              "      <th>Meal Price</th>\n",
              "      <th>Type of Meal</th>\n",
              "      <th>Heroes Adjustment</th>\n",
              "    </tr>\n",
              "  </thead>\n",
              "  <tbody>\n",
              "    <tr>\n",
              "      <th>45610</th>\n",
              "      <td>DMB8H3M3WT8GJSPN</td>\n",
              "      <td>2016-08-20</td>\n",
              "      <td>AOJPWQGKNVDF9UD5</td>\n",
              "      <td>ICNGUMLKEB27T1P3</td>\n",
              "      <td>2016-08-17 21:00:00+02:00</td>\n",
              "      <td>['Betty Stroud']</td>\n",
              "      <td>49.0</td>\n",
              "      <td>Dinner</td>\n",
              "      <td>False</td>\n",
              "    </tr>\n",
              "    <tr>\n",
              "      <th>45611</th>\n",
              "      <td>XEEXYOB84AHVCC1J</td>\n",
              "      <td>2018-07-17</td>\n",
              "      <td>63LLVLE72VG2J157</td>\n",
              "      <td>ICNGUMLKEB27T1P3</td>\n",
              "      <td>2018-07-19 20:00:00+02:00</td>\n",
              "      <td>['Alesha Wooten']</td>\n",
              "      <td>891.0</td>\n",
              "      <td>Dinner</td>\n",
              "      <td>False</td>\n",
              "    </tr>\n",
              "    <tr>\n",
              "      <th>45612</th>\n",
              "      <td>SJA1F92KXWZDH398</td>\n",
              "      <td>2017-02-26</td>\n",
              "      <td>OOW0UEXQY5RMPPZ8</td>\n",
              "      <td>ICNGUMLKEB27T1P3</td>\n",
              "      <td>2017-03-02 20:00:00+01:00</td>\n",
              "      <td>['Betty Stroud']</td>\n",
              "      <td>398.0</td>\n",
              "      <td>Dinner</td>\n",
              "      <td>False</td>\n",
              "    </tr>\n",
              "    <tr>\n",
              "      <th>45613</th>\n",
              "      <td>HC6MTWMXF99YEB92</td>\n",
              "      <td>2018-03-01</td>\n",
              "      <td>II205DMW5FBPTGIX</td>\n",
              "      <td>ICNGUMLKEB27T1P3</td>\n",
              "      <td>2018-03-02 13:00:00+01:00</td>\n",
              "      <td>['Betty Stroud']</td>\n",
              "      <td>245.0</td>\n",
              "      <td>Lunch</td>\n",
              "      <td>False</td>\n",
              "    </tr>\n",
              "  </tbody>\n",
              "</table>\n",
              "</div>"
            ],
            "text/plain": [
              "               Order Id       Date           Meal Id        Company Id  \\\n",
              "45610  DMB8H3M3WT8GJSPN 2016-08-20  AOJPWQGKNVDF9UD5  ICNGUMLKEB27T1P3   \n",
              "45611  XEEXYOB84AHVCC1J 2018-07-17  63LLVLE72VG2J157  ICNGUMLKEB27T1P3   \n",
              "45612  SJA1F92KXWZDH398 2017-02-26  OOW0UEXQY5RMPPZ8  ICNGUMLKEB27T1P3   \n",
              "45613  HC6MTWMXF99YEB92 2018-03-01  II205DMW5FBPTGIX  ICNGUMLKEB27T1P3   \n",
              "\n",
              "                    Date of Meal       Participants  Meal Price Type of Meal  \\\n",
              "45610  2016-08-17 21:00:00+02:00   ['Betty Stroud']        49.0       Dinner   \n",
              "45611  2018-07-19 20:00:00+02:00  ['Alesha Wooten']       891.0       Dinner   \n",
              "45612  2017-03-02 20:00:00+01:00   ['Betty Stroud']       398.0       Dinner   \n",
              "45613  2018-03-02 13:00:00+01:00   ['Betty Stroud']       245.0        Lunch   \n",
              "\n",
              "       Heroes Adjustment  \n",
              "45610              False  \n",
              "45611              False  \n",
              "45612              False  \n",
              "45613              False  "
            ]
          },
          "metadata": {
            "tags": []
          },
          "execution_count": 30
        }
      ]
    },
    {
      "cell_type": "markdown",
      "metadata": {
        "id": "zyeHlWNg31cf"
      },
      "source": [
        "## Manipulating Date and Time in Pandas"
      ]
    },
    {
      "cell_type": "markdown",
      "metadata": {
        "id": "t4EEWymF5qRr"
      },
      "source": [
        "A tutorial on basic python date time standard lib is here:\n",
        "https://colab.research.google.com/github/thimotyb/materials/blob/master/datetime/datetime_tutorial.ipynb\n"
      ]
    },
    {
      "cell_type": "markdown",
      "metadata": {
        "id": "68V6CiM162v-"
      },
      "source": [
        "pd.to_datetime()\n",
        "Does what the name implies, the method converts a string into a datetime format. To call to_datetime on a column you would do: \n",
        "pd.to_datetime(invoices['Date of Meal']). \n",
        "\n",
        "Pandas will then guess the format and try to parse the date from the Input. And it does so impressively well:\n",
        "\n",
        "\n"
      ]
    },
    {
      "cell_type": "code",
      "metadata": {
        "colab": {
          "base_uri": "https://localhost:8080/"
        },
        "id": "2mRMf8S73xEN",
        "outputId": "35e47e43-b626-4e65-9829-35ae7f7305bd"
      },
      "source": [
        "print(pd.to_datetime('2019-8-1'))\n",
        "print(pd.to_datetime('2019/8/1'))\n",
        "print(pd.to_datetime('8/1/2019'))\n",
        "print(pd.to_datetime('Aug, 1 2019'))\n",
        "print(pd.to_datetime('Aug - 1 2019'))\n",
        "print(pd.to_datetime('August - 1 2019'))\n",
        "print(pd.to_datetime('2019, August - 1'))\n",
        "print(pd.to_datetime('20190108'))"
      ],
      "execution_count": 31,
      "outputs": [
        {
          "output_type": "stream",
          "text": [
            "2019-08-01 00:00:00\n",
            "2019-08-01 00:00:00\n",
            "2019-08-01 00:00:00\n",
            "2019-08-01 00:00:00\n",
            "2019-08-01 00:00:00\n",
            "2019-08-01 00:00:00\n",
            "2019-08-01 00:00:00\n",
            "2019-01-08 00:00:00\n"
          ],
          "name": "stdout"
        }
      ]
    },
    {
      "cell_type": "code",
      "metadata": {
        "colab": {
          "base_uri": "https://localhost:8080/"
        },
        "id": "gckJoeod68as",
        "outputId": "a357febe-e02b-423c-f1e0-fe5bbf99cad5"
      },
      "source": [
        "# With an arbitrary format\n",
        "print(pd.to_datetime('yolo 20190108',format='%Y%d%m', exact=False))"
      ],
      "execution_count": 32,
      "outputs": [
        {
          "output_type": "stream",
          "text": [
            "2019-08-01 00:00:00\n"
          ],
          "name": "stdout"
        }
      ]
    },
    {
      "cell_type": "code",
      "metadata": {
        "id": "pDL6lWh37Pe1"
      },
      "source": [
        "invoices['Date of Meal'] = pd.to_datetime(invoices['Date of Meal'],utc=True)"
      ],
      "execution_count": 33,
      "outputs": []
    },
    {
      "cell_type": "markdown",
      "metadata": {
        "id": "grVFQBPF8A12"
      },
      "source": [
        "## Accessors\n",
        "\n",
        " a property that acts as an interface to methods specific to the type you are trying to access. Those methods are highly specialized. They serve one job and one job only. However, they are excellent and extremely concise for that particular job.\n",
        "There are three different accessors:\n",
        "* dt\n",
        "* str\n",
        "* cat"
      ]
    },
    {
      "cell_type": "code",
      "metadata": {
        "id": "u-3ECkjd-Y_X"
      },
      "source": [
        "pd.set_option('display.max_rows', 4)"
      ],
      "execution_count": 35,
      "outputs": []
    },
    {
      "cell_type": "markdown",
      "metadata": {
        "id": "huGqFUiM_W7d"
      },
      "source": [
        "### dt"
      ]
    },
    {
      "cell_type": "code",
      "metadata": {
        "colab": {
          "base_uri": "https://localhost:8080/"
        },
        "id": "sPQActN48Cfa",
        "outputId": "a6e14113-e789-46f3-b0ab-77da175b0060"
      },
      "source": [
        "invoices['Date of Meal'].dt.date"
      ],
      "execution_count": 36,
      "outputs": [
        {
          "output_type": "execute_result",
          "data": {
            "text/plain": [
              "0        2016-05-31\n",
              "1        2018-10-01\n",
              "            ...    \n",
              "50015    2018-02-01\n",
              "50016    2017-09-09\n",
              "Name: Date of Meal, Length: 50017, dtype: object"
            ]
          },
          "metadata": {
            "tags": []
          },
          "execution_count": 36
        }
      ]
    },
    {
      "cell_type": "code",
      "metadata": {
        "colab": {
          "base_uri": "https://localhost:8080/"
        },
        "id": "wn9Y0z-1-PUP",
        "outputId": "0a4024e7-aef8-4cd8-af91-83376d36cfa2"
      },
      "source": [
        "invoices['Date of Meal'].dt.weekday"
      ],
      "execution_count": 38,
      "outputs": [
        {
          "output_type": "execute_result",
          "data": {
            "text/plain": [
              "0        1\n",
              "1        0\n",
              "        ..\n",
              "50015    3\n",
              "50016    5\n",
              "Name: Date of Meal, Length: 50017, dtype: int64"
            ]
          },
          "metadata": {
            "tags": []
          },
          "execution_count": 38
        }
      ]
    },
    {
      "cell_type": "code",
      "metadata": {
        "colab": {
          "base_uri": "https://localhost:8080/"
        },
        "id": "ump1xuBu-ko8",
        "outputId": "77ec8edd-7e6b-47bd-e6ad-30b5e9734210"
      },
      "source": [
        "invoices['Date of Meal'].dt.month"
      ],
      "execution_count": 44,
      "outputs": [
        {
          "output_type": "execute_result",
          "data": {
            "text/plain": [
              "0         5\n",
              "1        10\n",
              "         ..\n",
              "50015     2\n",
              "50016     9\n",
              "Name: Date of Meal, Length: 50017, dtype: int64"
            ]
          },
          "metadata": {
            "tags": []
          },
          "execution_count": 44
        }
      ]
    },
    {
      "cell_type": "code",
      "metadata": {
        "colab": {
          "base_uri": "https://localhost:8080/"
        },
        "id": "j3MLSHh--utc",
        "outputId": "41438265-3d88-4ead-fd42-e1c47f90c62d"
      },
      "source": [
        "invoices['Date of Meal'].dt.isocalendar().week"
      ],
      "execution_count": 42,
      "outputs": [
        {
          "output_type": "execute_result",
          "data": {
            "text/plain": [
              "0        22\n",
              "1        40\n",
              "         ..\n",
              "50015     5\n",
              "50016    36\n",
              "Name: week, Length: 50017, dtype: UInt32"
            ]
          },
          "metadata": {
            "tags": []
          },
          "execution_count": 42
        }
      ]
    },
    {
      "cell_type": "code",
      "metadata": {
        "colab": {
          "base_uri": "https://localhost:8080/"
        },
        "id": "iahNicsA-89_",
        "outputId": "869875f2-2dbe-466c-e545-0828c28deb9e"
      },
      "source": [
        "invoices['Date of Meal'].dt.is_month_end\n",
        "# also available: is_leap_year, is_month_start, is_month_end, is_quarter_start, is_quarter_end, is_year_start, is_year_end"
      ],
      "execution_count": 45,
      "outputs": [
        {
          "output_type": "execute_result",
          "data": {
            "text/plain": [
              "0         True\n",
              "1        False\n",
              "         ...  \n",
              "50015    False\n",
              "50016    False\n",
              "Name: Date of Meal, Length: 50017, dtype: bool"
            ]
          },
          "metadata": {
            "tags": []
          },
          "execution_count": 45
        }
      ]
    },
    {
      "cell_type": "code",
      "metadata": {
        "colab": {
          "base_uri": "https://localhost:8080/",
          "height": 231
        },
        "id": "U9xScBmL_PRo",
        "outputId": "3da5c9f8-45dc-4743-9c91-6e81d3372325"
      },
      "source": [
        "invoices[invoices['Date of Meal'].dt.is_month_end]"
      ],
      "execution_count": 46,
      "outputs": [
        {
          "output_type": "execute_result",
          "data": {
            "text/html": [
              "<div>\n",
              "<style scoped>\n",
              "    .dataframe tbody tr th:only-of-type {\n",
              "        vertical-align: middle;\n",
              "    }\n",
              "\n",
              "    .dataframe tbody tr th {\n",
              "        vertical-align: top;\n",
              "    }\n",
              "\n",
              "    .dataframe thead th {\n",
              "        text-align: right;\n",
              "    }\n",
              "</style>\n",
              "<table border=\"1\" class=\"dataframe\">\n",
              "  <thead>\n",
              "    <tr style=\"text-align: right;\">\n",
              "      <th></th>\n",
              "      <th>Order Id</th>\n",
              "      <th>Date</th>\n",
              "      <th>Meal Id</th>\n",
              "      <th>Company Id</th>\n",
              "      <th>Date of Meal</th>\n",
              "      <th>Participants</th>\n",
              "      <th>Meal Price</th>\n",
              "      <th>Type of Meal</th>\n",
              "      <th>Heroes Adjustment</th>\n",
              "    </tr>\n",
              "  </thead>\n",
              "  <tbody>\n",
              "    <tr>\n",
              "      <th>0</th>\n",
              "      <td>839FKFW2LLX4LMBB</td>\n",
              "      <td>2016-05-27</td>\n",
              "      <td>INBUX904GIHI8YBD</td>\n",
              "      <td>LJKS5NK6788CYMUU</td>\n",
              "      <td>2016-05-31 05:00:00+00:00</td>\n",
              "      <td>['David Bishop']</td>\n",
              "      <td>469.0</td>\n",
              "      <td>Breakfast</td>\n",
              "      <td>False</td>\n",
              "    </tr>\n",
              "    <tr>\n",
              "      <th>6</th>\n",
              "      <td>2DDN2LHS7G85GKPQ</td>\n",
              "      <td>2014-04-29</td>\n",
              "      <td>1MKLAKBOE3SP7YUL</td>\n",
              "      <td>LJKS5NK6788CYMUU</td>\n",
              "      <td>2014-04-30 19:00:00+00:00</td>\n",
              "      <td>['Susan Guerrero' 'David Bishop']</td>\n",
              "      <td>14.0</td>\n",
              "      <td>Dinner</td>\n",
              "      <td>False</td>\n",
              "    </tr>\n",
              "    <tr>\n",
              "      <th>...</th>\n",
              "      <td>...</td>\n",
              "      <td>...</td>\n",
              "      <td>...</td>\n",
              "      <td>...</td>\n",
              "      <td>...</td>\n",
              "      <td>...</td>\n",
              "      <td>...</td>\n",
              "      <td>...</td>\n",
              "      <td>...</td>\n",
              "    </tr>\n",
              "    <tr>\n",
              "      <th>49896</th>\n",
              "      <td>G3FX5EAE2VCUFELA</td>\n",
              "      <td>2016-03-05</td>\n",
              "      <td>SZ1UUTPDNW3FCIFF</td>\n",
              "      <td>CZTLKWWDEHQ0GW0I</td>\n",
              "      <td>2016-02-29 07:00:00+00:00</td>\n",
              "      <td>['Olga Fortenberry']</td>\n",
              "      <td>288.0</td>\n",
              "      <td>Breakfast</td>\n",
              "      <td>False</td>\n",
              "    </tr>\n",
              "    <tr>\n",
              "      <th>49929</th>\n",
              "      <td>HEGJLUD58BTP2CC3</td>\n",
              "      <td>2016-02-04</td>\n",
              "      <td>C18IITWW7K615G21</td>\n",
              "      <td>DNAC0XNVYCD3J62R</td>\n",
              "      <td>2016-01-31 21:00:00+00:00</td>\n",
              "      <td>['Linda Torros']</td>\n",
              "      <td>331.0</td>\n",
              "      <td>Dinner</td>\n",
              "      <td>False</td>\n",
              "    </tr>\n",
              "  </tbody>\n",
              "</table>\n",
              "<p>1573 rows × 9 columns</p>\n",
              "</div>"
            ],
            "text/plain": [
              "               Order Id       Date           Meal Id        Company Id  \\\n",
              "0      839FKFW2LLX4LMBB 2016-05-27  INBUX904GIHI8YBD  LJKS5NK6788CYMUU   \n",
              "6      2DDN2LHS7G85GKPQ 2014-04-29  1MKLAKBOE3SP7YUL  LJKS5NK6788CYMUU   \n",
              "...                 ...        ...               ...               ...   \n",
              "49896  G3FX5EAE2VCUFELA 2016-03-05  SZ1UUTPDNW3FCIFF  CZTLKWWDEHQ0GW0I   \n",
              "49929  HEGJLUD58BTP2CC3 2016-02-04  C18IITWW7K615G21  DNAC0XNVYCD3J62R   \n",
              "\n",
              "                   Date of Meal                       Participants  \\\n",
              "0     2016-05-31 05:00:00+00:00                   ['David Bishop']   \n",
              "6     2014-04-30 19:00:00+00:00  ['Susan Guerrero' 'David Bishop']   \n",
              "...                         ...                                ...   \n",
              "49896 2016-02-29 07:00:00+00:00               ['Olga Fortenberry']   \n",
              "49929 2016-01-31 21:00:00+00:00                   ['Linda Torros']   \n",
              "\n",
              "       Meal Price Type of Meal  Heroes Adjustment  \n",
              "0           469.0    Breakfast              False  \n",
              "6            14.0       Dinner              False  \n",
              "...           ...          ...                ...  \n",
              "49896       288.0    Breakfast              False  \n",
              "49929       331.0       Dinner              False  \n",
              "\n",
              "[1573 rows x 9 columns]"
            ]
          },
          "metadata": {
            "tags": []
          },
          "execution_count": 46
        }
      ]
    },
    {
      "cell_type": "code",
      "metadata": {
        "colab": {
          "base_uri": "https://localhost:8080/"
        },
        "id": "PiyS1Hu4_Uh3",
        "outputId": "d86c80b0-3a07-42e5-f66a-a8302b494854"
      },
      "source": [
        "# converts the Pandas datetime into a regular Python datetime format \n",
        "invoices['Date of Meal'].dt.to_pydatetime()"
      ],
      "execution_count": 47,
      "outputs": [
        {
          "output_type": "execute_result",
          "data": {
            "text/plain": [
              "array([datetime.datetime(2016, 5, 31, 5, 0, tzinfo=<UTC>),\n",
              "       datetime.datetime(2018, 10, 1, 18, 0, tzinfo=<UTC>),\n",
              "       datetime.datetime(2014, 8, 23, 12, 0, tzinfo=<UTC>), ...,\n",
              "       datetime.datetime(2017, 9, 22, 19, 0, tzinfo=<UTC>),\n",
              "       datetime.datetime(2018, 2, 1, 20, 0, tzinfo=<UTC>),\n",
              "       datetime.datetime(2017, 9, 9, 12, 0, tzinfo=<UTC>)], dtype=object)"
            ]
          },
          "metadata": {
            "tags": []
          },
          "execution_count": 47
        }
      ]
    },
    {
      "cell_type": "code",
      "metadata": {
        "colab": {
          "base_uri": "https://localhost:8080/"
        },
        "id": "VaVWA1BC__Lw",
        "outputId": "7a839d71-8c6c-4dc1-d68e-f9b5751c6e6a"
      },
      "source": [
        "# to period [available periods are W, M, Q, and Y], which converts the dates into periods.\n",
        "invoices['Date of Meal'].dt.to_period('W')"
      ],
      "execution_count": 48,
      "outputs": [
        {
          "output_type": "stream",
          "text": [
            "/usr/local/lib/python3.7/dist-packages/pandas/core/arrays/datetimes.py:1092: UserWarning: Converting to PeriodArray/Index representation will drop timezone information.\n",
            "  UserWarning,\n"
          ],
          "name": "stderr"
        },
        {
          "output_type": "execute_result",
          "data": {
            "text/plain": [
              "0        2016-05-30/2016-06-05\n",
              "1        2018-10-01/2018-10-07\n",
              "                 ...          \n",
              "50015    2018-01-29/2018-02-04\n",
              "50016    2017-09-04/2017-09-10\n",
              "Name: Date of Meal, Length: 50017, dtype: period[W-SUN]"
            ]
          },
          "metadata": {
            "tags": []
          },
          "execution_count": 48
        }
      ]
    },
    {
      "cell_type": "markdown",
      "metadata": {
        "id": "Vkx5CfazE4hd"
      },
      "source": [
        "### str"
      ]
    },
    {
      "cell_type": "code",
      "metadata": {
        "colab": {
          "base_uri": "https://localhost:8080/"
        },
        "id": "9tpLV58iAh-i",
        "outputId": "b110bf1a-6ca8-42fe-a84b-5da1c4ad3c58"
      },
      "source": [
        "pd.set_option('display.max_rows', 10)\n",
        "invoices['Type of Meal'].str.lower()"
      ],
      "execution_count": 49,
      "outputs": [
        {
          "output_type": "execute_result",
          "data": {
            "text/plain": [
              "0        breakfast\n",
              "1           dinner\n",
              "2            lunch\n",
              "3           dinner\n",
              "4            lunch\n",
              "           ...    \n",
              "50012    breakfast\n",
              "50013    breakfast\n",
              "50014       dinner\n",
              "50015       dinner\n",
              "50016        lunch\n",
              "Name: Type of Meal, Length: 50017, dtype: object"
            ]
          },
          "metadata": {
            "tags": []
          },
          "execution_count": 49
        }
      ]
    },
    {
      "cell_type": "code",
      "metadata": {
        "colab": {
          "base_uri": "https://localhost:8080/"
        },
        "id": "8Jli6rySFB_M",
        "outputId": "8ea0ec54-d8cb-4256-c950-a154b28f8b4e"
      },
      "source": [
        "invoices['Type of Meal'].str.ljust(width=15)"
      ],
      "execution_count": 50,
      "outputs": [
        {
          "output_type": "execute_result",
          "data": {
            "text/plain": [
              "0        Breakfast      \n",
              "1        Dinner         \n",
              "2        Lunch          \n",
              "3        Dinner         \n",
              "4        Lunch          \n",
              "              ...       \n",
              "50012    Breakfast      \n",
              "50013    Breakfast      \n",
              "50014    Dinner         \n",
              "50015    Dinner         \n",
              "50016    Lunch          \n",
              "Name: Type of Meal, Length: 50017, dtype: object"
            ]
          },
          "metadata": {
            "tags": []
          },
          "execution_count": 50
        }
      ]
    },
    {
      "cell_type": "code",
      "metadata": {
        "colab": {
          "base_uri": "https://localhost:8080/"
        },
        "id": "uDMN_8sAFFrp",
        "outputId": "a9d8974c-8321-4282-99a1-814e998591fb"
      },
      "source": [
        "invoices['Type of Meal'].str.zfill(width=15)"
      ],
      "execution_count": 51,
      "outputs": [
        {
          "output_type": "execute_result",
          "data": {
            "text/plain": [
              "0        000000Breakfast\n",
              "1        000000000Dinner\n",
              "2        0000000000Lunch\n",
              "3        000000000Dinner\n",
              "4        0000000000Lunch\n",
              "              ...       \n",
              "50012    000000Breakfast\n",
              "50013    000000Breakfast\n",
              "50014    000000000Dinner\n",
              "50015    000000000Dinner\n",
              "50016    0000000000Lunch\n",
              "Name: Type of Meal, Length: 50017, dtype: object"
            ]
          },
          "metadata": {
            "tags": []
          },
          "execution_count": 51
        }
      ]
    },
    {
      "cell_type": "code",
      "metadata": {
        "colab": {
          "base_uri": "https://localhost:8080/"
        },
        "id": "KigzgdEPFIUy",
        "outputId": "c8519e46-a385-44e1-9575-77af4fcb5bf6"
      },
      "source": [
        "\n",
        "invoices['Type of Meal'].str.repeat(2)"
      ],
      "execution_count": 52,
      "outputs": [
        {
          "output_type": "execute_result",
          "data": {
            "text/plain": [
              "0        BreakfastBreakfast\n",
              "1              DinnerDinner\n",
              "2                LunchLunch\n",
              "3              DinnerDinner\n",
              "4                LunchLunch\n",
              "                ...        \n",
              "50012    BreakfastBreakfast\n",
              "50013    BreakfastBreakfast\n",
              "50014          DinnerDinner\n",
              "50015          DinnerDinner\n",
              "50016            LunchLunch\n",
              "Name: Type of Meal, Length: 50017, dtype: object"
            ]
          },
          "metadata": {
            "tags": []
          },
          "execution_count": 52
        }
      ]
    },
    {
      "cell_type": "code",
      "metadata": {
        "colab": {
          "base_uri": "https://localhost:8080/"
        },
        "id": "aRxCJ9Z4FLv1",
        "outputId": "d5cc3acf-e985-4c01-a564-896398ecdcef"
      },
      "source": [
        "invoices['Type of Meal'].str.endswith('ast')"
      ],
      "execution_count": 53,
      "outputs": [
        {
          "output_type": "execute_result",
          "data": {
            "text/plain": [
              "0         True\n",
              "1        False\n",
              "2        False\n",
              "3        False\n",
              "4        False\n",
              "         ...  \n",
              "50012     True\n",
              "50013     True\n",
              "50014    False\n",
              "50015    False\n",
              "50016    False\n",
              "Name: Type of Meal, Length: 50017, dtype: bool"
            ]
          },
          "metadata": {
            "tags": []
          },
          "execution_count": 53
        }
      ]
    },
    {
      "cell_type": "code",
      "metadata": {
        "colab": {
          "base_uri": "https://localhost:8080/",
          "height": 415
        },
        "id": "ihiWYISIFPPo",
        "outputId": "42a662c3-952e-41a0-fb97-9a93970ad436"
      },
      "source": [
        "invoices[invoices['Participants'].str.contains('Bruce')]"
      ],
      "execution_count": 54,
      "outputs": [
        {
          "output_type": "execute_result",
          "data": {
            "text/html": [
              "<div>\n",
              "<style scoped>\n",
              "    .dataframe tbody tr th:only-of-type {\n",
              "        vertical-align: middle;\n",
              "    }\n",
              "\n",
              "    .dataframe tbody tr th {\n",
              "        vertical-align: top;\n",
              "    }\n",
              "\n",
              "    .dataframe thead th {\n",
              "        text-align: right;\n",
              "    }\n",
              "</style>\n",
              "<table border=\"1\" class=\"dataframe\">\n",
              "  <thead>\n",
              "    <tr style=\"text-align: right;\">\n",
              "      <th></th>\n",
              "      <th>Order Id</th>\n",
              "      <th>Date</th>\n",
              "      <th>Meal Id</th>\n",
              "      <th>Company Id</th>\n",
              "      <th>Date of Meal</th>\n",
              "      <th>Participants</th>\n",
              "      <th>Meal Price</th>\n",
              "      <th>Type of Meal</th>\n",
              "      <th>Heroes Adjustment</th>\n",
              "    </tr>\n",
              "  </thead>\n",
              "  <tbody>\n",
              "    <tr>\n",
              "      <th>214</th>\n",
              "      <td>PSQXKK7KIDIRKDSG</td>\n",
              "      <td>2018-12-07</td>\n",
              "      <td>GG9MXLE8MGY8VGPD</td>\n",
              "      <td>MR6NETSKD2PSN54L</td>\n",
              "      <td>2018-12-09 06:00:00+00:00</td>\n",
              "      <td>['Jane Bruce']</td>\n",
              "      <td>400.0</td>\n",
              "      <td>Breakfast</td>\n",
              "      <td>False</td>\n",
              "    </tr>\n",
              "    <tr>\n",
              "      <th>215</th>\n",
              "      <td>Z8PYUN4L85MEW5W4</td>\n",
              "      <td>2016-07-26</td>\n",
              "      <td>MG7LI3RM8K3UKR34</td>\n",
              "      <td>MR6NETSKD2PSN54L</td>\n",
              "      <td>2016-07-30 19:00:00+00:00</td>\n",
              "      <td>['Jane Bruce' 'Jennifer Lee' 'Rosa Parramore']</td>\n",
              "      <td>503.0</td>\n",
              "      <td>Dinner</td>\n",
              "      <td>False</td>\n",
              "    </tr>\n",
              "    <tr>\n",
              "      <th>216</th>\n",
              "      <td>8XWFE5AX3D9LX5AY</td>\n",
              "      <td>2017-09-18</td>\n",
              "      <td>99NEQYAVFP9W1IHK</td>\n",
              "      <td>MR6NETSKD2PSN54L</td>\n",
              "      <td>2017-09-22 06:00:00+00:00</td>\n",
              "      <td>['Jane Bruce']</td>\n",
              "      <td>137.0</td>\n",
              "      <td>Breakfast</td>\n",
              "      <td>False</td>\n",
              "    </tr>\n",
              "    <tr>\n",
              "      <th>217</th>\n",
              "      <td>X546I8JFNVJFE7FH</td>\n",
              "      <td>2017-10-01</td>\n",
              "      <td>G2UDNGRTBYGIS90Z</td>\n",
              "      <td>MR6NETSKD2PSN54L</td>\n",
              "      <td>2017-09-26 05:00:00+00:00</td>\n",
              "      <td>['Martin Riley' 'Jane Bruce' 'Rosa Parramore']</td>\n",
              "      <td>409.0</td>\n",
              "      <td>Breakfast</td>\n",
              "      <td>False</td>\n",
              "    </tr>\n",
              "    <tr>\n",
              "      <th>219</th>\n",
              "      <td>GCB5ULGM1W8A8HPR</td>\n",
              "      <td>2017-12-14</td>\n",
              "      <td>XI16TWCYLA0F7NLZ</td>\n",
              "      <td>MR6NETSKD2PSN54L</td>\n",
              "      <td>2017-12-15 08:00:00+00:00</td>\n",
              "      <td>['Earl Sorrentino' 'Jane Bruce']</td>\n",
              "      <td>339.0</td>\n",
              "      <td>Breakfast</td>\n",
              "      <td>False</td>\n",
              "    </tr>\n",
              "    <tr>\n",
              "      <th>...</th>\n",
              "      <td>...</td>\n",
              "      <td>...</td>\n",
              "      <td>...</td>\n",
              "      <td>...</td>\n",
              "      <td>...</td>\n",
              "      <td>...</td>\n",
              "      <td>...</td>\n",
              "      <td>...</td>\n",
              "      <td>...</td>\n",
              "    </tr>\n",
              "    <tr>\n",
              "      <th>48761</th>\n",
              "      <td>W7X0DMISLLY4X9I6</td>\n",
              "      <td>2017-08-29</td>\n",
              "      <td>EDVP4TD6YCHF8N00</td>\n",
              "      <td>TXTJD46IGQWLD75D</td>\n",
              "      <td>2017-09-02 05:00:00+00:00</td>\n",
              "      <td>['John Leo' 'Judy Dammann' 'Todd Bradshaw' 'Co...</td>\n",
              "      <td>465.0</td>\n",
              "      <td>Breakfast</td>\n",
              "      <td>True</td>\n",
              "    </tr>\n",
              "    <tr>\n",
              "      <th>48764</th>\n",
              "      <td>K69T43KA9WCW9GOI</td>\n",
              "      <td>2016-06-03</td>\n",
              "      <td>16I4B1HW4T60CO8H</td>\n",
              "      <td>TXTJD46IGQWLD75D</td>\n",
              "      <td>2016-05-29 11:00:00+00:00</td>\n",
              "      <td>['Judy Dammann' 'John Leo' 'Courtney Shaw' 'Br...</td>\n",
              "      <td>112.0</td>\n",
              "      <td>Lunch</td>\n",
              "      <td>True</td>\n",
              "    </tr>\n",
              "    <tr>\n",
              "      <th>48767</th>\n",
              "      <td>66DNKN5WXDS73VUA</td>\n",
              "      <td>2018-05-20</td>\n",
              "      <td>5HLCRT0G3S9D20SQ</td>\n",
              "      <td>TXTJD46IGQWLD75D</td>\n",
              "      <td>2018-05-23 06:00:00+00:00</td>\n",
              "      <td>['Lydia Muske' 'Todd Bradshaw' 'Judy Dammann' ...</td>\n",
              "      <td>898.0</td>\n",
              "      <td>Breakfast</td>\n",
              "      <td>True</td>\n",
              "    </tr>\n",
              "    <tr>\n",
              "      <th>48770</th>\n",
              "      <td>RYN3CZCDK3TQLX5O</td>\n",
              "      <td>2015-08-11</td>\n",
              "      <td>TE9PC2623UV8XL4L</td>\n",
              "      <td>TXTJD46IGQWLD75D</td>\n",
              "      <td>2015-08-11 07:00:00+00:00</td>\n",
              "      <td>['Courtney Shaw' 'Lydia Muske' 'Bruce Duenas' ...</td>\n",
              "      <td>280.0</td>\n",
              "      <td>Breakfast</td>\n",
              "      <td>True</td>\n",
              "    </tr>\n",
              "    <tr>\n",
              "      <th>48773</th>\n",
              "      <td>YUBXH8YTFTTGT7CQ</td>\n",
              "      <td>2015-10-13</td>\n",
              "      <td>7YKRRY4LA72E03MR</td>\n",
              "      <td>TXTJD46IGQWLD75D</td>\n",
              "      <td>2015-10-11 05:00:00+00:00</td>\n",
              "      <td>['Bruce Duenas' 'Courtney Shaw' 'Todd Bradshaw...</td>\n",
              "      <td>299.0</td>\n",
              "      <td>Breakfast</td>\n",
              "      <td>True</td>\n",
              "    </tr>\n",
              "  </tbody>\n",
              "</table>\n",
              "<p>183 rows × 9 columns</p>\n",
              "</div>"
            ],
            "text/plain": [
              "               Order Id       Date           Meal Id        Company Id  \\\n",
              "214    PSQXKK7KIDIRKDSG 2018-12-07  GG9MXLE8MGY8VGPD  MR6NETSKD2PSN54L   \n",
              "215    Z8PYUN4L85MEW5W4 2016-07-26  MG7LI3RM8K3UKR34  MR6NETSKD2PSN54L   \n",
              "216    8XWFE5AX3D9LX5AY 2017-09-18  99NEQYAVFP9W1IHK  MR6NETSKD2PSN54L   \n",
              "217    X546I8JFNVJFE7FH 2017-10-01  G2UDNGRTBYGIS90Z  MR6NETSKD2PSN54L   \n",
              "219    GCB5ULGM1W8A8HPR 2017-12-14  XI16TWCYLA0F7NLZ  MR6NETSKD2PSN54L   \n",
              "...                 ...        ...               ...               ...   \n",
              "48761  W7X0DMISLLY4X9I6 2017-08-29  EDVP4TD6YCHF8N00  TXTJD46IGQWLD75D   \n",
              "48764  K69T43KA9WCW9GOI 2016-06-03  16I4B1HW4T60CO8H  TXTJD46IGQWLD75D   \n",
              "48767  66DNKN5WXDS73VUA 2018-05-20  5HLCRT0G3S9D20SQ  TXTJD46IGQWLD75D   \n",
              "48770  RYN3CZCDK3TQLX5O 2015-08-11  TE9PC2623UV8XL4L  TXTJD46IGQWLD75D   \n",
              "48773  YUBXH8YTFTTGT7CQ 2015-10-13  7YKRRY4LA72E03MR  TXTJD46IGQWLD75D   \n",
              "\n",
              "                   Date of Meal  \\\n",
              "214   2018-12-09 06:00:00+00:00   \n",
              "215   2016-07-30 19:00:00+00:00   \n",
              "216   2017-09-22 06:00:00+00:00   \n",
              "217   2017-09-26 05:00:00+00:00   \n",
              "219   2017-12-15 08:00:00+00:00   \n",
              "...                         ...   \n",
              "48761 2017-09-02 05:00:00+00:00   \n",
              "48764 2016-05-29 11:00:00+00:00   \n",
              "48767 2018-05-23 06:00:00+00:00   \n",
              "48770 2015-08-11 07:00:00+00:00   \n",
              "48773 2015-10-11 05:00:00+00:00   \n",
              "\n",
              "                                            Participants  Meal Price  \\\n",
              "214                                       ['Jane Bruce']       400.0   \n",
              "215       ['Jane Bruce' 'Jennifer Lee' 'Rosa Parramore']       503.0   \n",
              "216                                       ['Jane Bruce']       137.0   \n",
              "217       ['Martin Riley' 'Jane Bruce' 'Rosa Parramore']       409.0   \n",
              "219                     ['Earl Sorrentino' 'Jane Bruce']       339.0   \n",
              "...                                                  ...         ...   \n",
              "48761  ['John Leo' 'Judy Dammann' 'Todd Bradshaw' 'Co...       465.0   \n",
              "48764  ['Judy Dammann' 'John Leo' 'Courtney Shaw' 'Br...       112.0   \n",
              "48767  ['Lydia Muske' 'Todd Bradshaw' 'Judy Dammann' ...       898.0   \n",
              "48770  ['Courtney Shaw' 'Lydia Muske' 'Bruce Duenas' ...       280.0   \n",
              "48773  ['Bruce Duenas' 'Courtney Shaw' 'Todd Bradshaw...       299.0   \n",
              "\n",
              "      Type of Meal  Heroes Adjustment  \n",
              "214      Breakfast              False  \n",
              "215         Dinner              False  \n",
              "216      Breakfast              False  \n",
              "217      Breakfast              False  \n",
              "219      Breakfast              False  \n",
              "...            ...                ...  \n",
              "48761    Breakfast               True  \n",
              "48764        Lunch               True  \n",
              "48767    Breakfast               True  \n",
              "48770    Breakfast               True  \n",
              "48773    Breakfast               True  \n",
              "\n",
              "[183 rows x 9 columns]"
            ]
          },
          "metadata": {
            "tags": []
          },
          "execution_count": 54
        }
      ]
    },
    {
      "cell_type": "markdown",
      "metadata": {
        "id": "jw15LaQtFXcR"
      },
      "source": [
        "### cat"
      ]
    },
    {
      "cell_type": "code",
      "metadata": {
        "id": "UT35g2-JFSkG"
      },
      "source": [
        ""
      ],
      "execution_count": null,
      "outputs": []
    }
  ]
}